{
 "cells": [
  {
   "cell_type": "code",
   "execution_count": 1,
   "id": "9ef88bc4",
   "metadata": {},
   "outputs": [],
   "source": [
    "%load_ext autoreload\n",
    "%autoreload 2"
   ]
  },
  {
   "cell_type": "markdown",
   "id": "55bab0c8",
   "metadata": {},
   "source": [
    "# Experiments with WTF model"
   ]
  },
  {
   "cell_type": "code",
   "execution_count": 2,
   "id": "ec55d42c",
   "metadata": {},
   "outputs": [],
   "source": [
    "from pathlib import Path\n",
    "\n",
    "import src.io as io\n",
    "import src.evaluation as evaluation\n",
    "import src.evaluation.splits\n",
    "import src.evaluation.cars\n",
    "\n",
    "from src.algorithm.cars.wtf import WTF"
   ]
  },
  {
   "cell_type": "markdown",
   "id": "c469b253",
   "metadata": {},
   "source": [
    "## Datasets"
   ]
  },
  {
   "cell_type": "code",
   "execution_count": 3,
   "id": "e0622ed1",
   "metadata": {},
   "outputs": [],
   "source": [
    "## Uncomment corresponding directory.\n",
    "## RETARGET True for Frappe, False for the others\n",
    "\n",
    "# DATA_DIR, RETARGET = Path('../../../data/CARS/Mobile_Frappe/'), True\n",
    "# DATA_DIR, RETARGET = Path('../../../data/CARS/Food_com/'), False\n",
    "DATA_DIR, RETARGET = Path('../../../data/CARS/TripAdvisor/'), False"
   ]
  },
  {
   "cell_type": "code",
   "execution_count": 4,
   "id": "d53bce36",
   "metadata": {},
   "outputs": [],
   "source": [
    "# Shouldn't need to change this info\n",
    "INTERACTIONS = DATA_DIR / 'interactions.csv'\n",
    "\n",
    "SEED = 123456\n",
    "SEED2 = 78910\n",
    "\n",
    "ITEM_ID = 'item'\n",
    "USER_ID = 'user'"
   ]
  },
  {
   "cell_type": "markdown",
   "id": "48457625",
   "metadata": {},
   "source": [
    "## Define algorithm and hyperparameter ranges"
   ]
  },
  {
   "cell_type": "code",
   "execution_count": 5,
   "id": "11a5ac4c",
   "metadata": {},
   "outputs": [
    {
     "data": {
      "text/plain": [
       "{'k': [80],\n",
       " 'l2': [100, 1000, 10000, 100000],\n",
       " 'v': [0, 0.5, 1],\n",
       " 'alpha': [100, 1000, 10000, 100000],\n",
       " 'max_iterations': [10],\n",
       " 'default_context_1': [False]}"
      ]
     },
     "execution_count": 5,
     "metadata": {},
     "output_type": "execute_result"
    }
   ],
   "source": [
    "ALG = WTF\n",
    "\n",
    "K = [80]\n",
    "MAX_IT = [10]\n",
    "DEFAULT_CONTEXT_1 = [False]\n",
    "\n",
    "L2 = [100, 1000, 10000, 100000]\n",
    "V = [0, 0.5, 1]\n",
    "ALPHA = [100, 1000, 10000, 100000]\n",
    "\n",
    "HYPERPARAMS = {'k': K, 'l2': L2, 'v': V, 'alpha': ALPHA, 'max_iterations': MAX_IT, 'default_context_1': DEFAULT_CONTEXT_1}\n",
    "HYPERPARAMS"
   ]
  },
  {
   "cell_type": "markdown",
   "id": "32d25f41",
   "metadata": {},
   "source": [
    "## Parse data"
   ]
  },
  {
   "cell_type": "code",
   "execution_count": 6,
   "id": "ce0d0435",
   "metadata": {},
   "outputs": [
    {
     "data": {
      "text/html": [
       "<div>\n",
       "<style scoped>\n",
       "    .dataframe tbody tr th:only-of-type {\n",
       "        vertical-align: middle;\n",
       "    }\n",
       "\n",
       "    .dataframe tbody tr th {\n",
       "        vertical-align: top;\n",
       "    }\n",
       "\n",
       "    .dataframe thead th {\n",
       "        text-align: right;\n",
       "    }\n",
       "</style>\n",
       "<table border=\"1\" class=\"dataframe\">\n",
       "  <thead>\n",
       "    <tr style=\"text-align: right;\">\n",
       "      <th></th>\n",
       "      <th>userId</th>\n",
       "      <th>itemId</th>\n",
       "      <th>TripType</th>\n",
       "      <th>UserState</th>\n",
       "    </tr>\n",
       "  </thead>\n",
       "  <tbody>\n",
       "    <tr>\n",
       "      <th>0</th>\n",
       "      <td>1899</td>\n",
       "      <td>1865</td>\n",
       "      <td>1</td>\n",
       "      <td>1</td>\n",
       "    </tr>\n",
       "    <tr>\n",
       "      <th>1</th>\n",
       "      <td>466</td>\n",
       "      <td>721</td>\n",
       "      <td>1</td>\n",
       "      <td>1</td>\n",
       "    </tr>\n",
       "    <tr>\n",
       "      <th>2</th>\n",
       "      <td>1992</td>\n",
       "      <td>451</td>\n",
       "      <td>2</td>\n",
       "      <td>1</td>\n",
       "    </tr>\n",
       "    <tr>\n",
       "      <th>3</th>\n",
       "      <td>466</td>\n",
       "      <td>1016</td>\n",
       "      <td>1</td>\n",
       "      <td>1</td>\n",
       "    </tr>\n",
       "    <tr>\n",
       "      <th>4</th>\n",
       "      <td>1441</td>\n",
       "      <td>414</td>\n",
       "      <td>3</td>\n",
       "      <td>1</td>\n",
       "    </tr>\n",
       "    <tr>\n",
       "      <th>...</th>\n",
       "      <td>...</td>\n",
       "      <td>...</td>\n",
       "      <td>...</td>\n",
       "      <td>...</td>\n",
       "    </tr>\n",
       "    <tr>\n",
       "      <th>12831</th>\n",
       "      <td>936</td>\n",
       "      <td>341</td>\n",
       "      <td>3</td>\n",
       "      <td>78</td>\n",
       "    </tr>\n",
       "    <tr>\n",
       "      <th>12832</th>\n",
       "      <td>1545</td>\n",
       "      <td>1936</td>\n",
       "      <td>3</td>\n",
       "      <td>78</td>\n",
       "    </tr>\n",
       "    <tr>\n",
       "      <th>12833</th>\n",
       "      <td>399</td>\n",
       "      <td>1556</td>\n",
       "      <td>2</td>\n",
       "      <td>79</td>\n",
       "    </tr>\n",
       "    <tr>\n",
       "      <th>12834</th>\n",
       "      <td>918</td>\n",
       "      <td>1380</td>\n",
       "      <td>5</td>\n",
       "      <td>79</td>\n",
       "    </tr>\n",
       "    <tr>\n",
       "      <th>12835</th>\n",
       "      <td>399</td>\n",
       "      <td>264</td>\n",
       "      <td>2</td>\n",
       "      <td>79</td>\n",
       "    </tr>\n",
       "  </tbody>\n",
       "</table>\n",
       "<p>12836 rows × 4 columns</p>\n",
       "</div>"
      ],
      "text/plain": [
       "       userId  itemId  TripType  UserState\n",
       "0        1899    1865         1          1\n",
       "1         466     721         1          1\n",
       "2        1992     451         2          1\n",
       "3         466    1016         1          1\n",
       "4        1441     414         3          1\n",
       "...       ...     ...       ...        ...\n",
       "12831     936     341         3         78\n",
       "12832    1545    1936         3         78\n",
       "12833     399    1556         2         79\n",
       "12834     918    1380         5         79\n",
       "12835     399     264         2         79\n",
       "\n",
       "[12836 rows x 4 columns]"
      ]
     },
     "execution_count": 6,
     "metadata": {},
     "output_type": "execute_result"
    }
   ],
   "source": [
    "data = io.parse_interactions_with_context(INTERACTIONS, item_id=ITEM_ID, user_id=USER_ID)\n",
    "data.df"
   ]
  },
  {
   "cell_type": "markdown",
   "id": "4bef86fe",
   "metadata": {},
   "source": [
    "## Make train/val split for hyperparam tuning"
   ]
  },
  {
   "cell_type": "code",
   "execution_count": 7,
   "id": "95fe8671",
   "metadata": {},
   "outputs": [],
   "source": [
    "train, test = evaluation.splits.context_leave_one_out_split(data, seed=SEED)"
   ]
  },
  {
   "cell_type": "markdown",
   "id": "fc85ffb4",
   "metadata": {},
   "source": [
    "## Perform gridsearch on validation set"
   ]
  },
  {
   "cell_type": "code",
   "execution_count": 8,
   "id": "36a9347a",
   "metadata": {
    "scrolled": true
   },
   "outputs": [
    {
     "data": {
      "application/vnd.jupyter.widget-view+json": {
       "model_id": "f9d8df0a1d154caeb0f710c329306af6",
       "version_major": 2,
       "version_minor": 0
      },
      "text/plain": [
       "  0%|          | 0/48 [00:00<?, ?it/s]"
      ]
     },
     "metadata": {},
     "output_type": "display_data"
    },
    {
     "name": "stdout",
     "output_type": "stream",
     "text": [
      "Training model WTF with hyperparameters {'k': 80, 'l2': 100, 'v': 0, 'alpha': 100, 'max_iterations': 10, 'default_context_1': False}\n"
     ]
    },
    {
     "data": {
      "application/vnd.jupyter.widget-view+json": {
       "model_id": "328ab09e35934fa0b240cd45afccca8a",
       "version_major": 2,
       "version_minor": 0
      },
      "text/plain": [
       "  0%|          | 0/10 [00:00<?, ?it/s]"
      ]
     },
     "metadata": {},
     "output_type": "display_data"
    },
    {
     "name": "stdout",
     "output_type": "stream",
     "text": [
      "Evaluating with 2362 users\n",
      "MRR@5 0.016\n",
      "MRR@20 0.02\n",
      "Average Recall@5 0.03\n",
      "Average Recall@20 0.078\n",
      "Training model WTF with hyperparameters {'k': 80, 'l2': 1000, 'v': 0, 'alpha': 100, 'max_iterations': 10, 'default_context_1': False}\n"
     ]
    },
    {
     "data": {
      "application/vnd.jupyter.widget-view+json": {
       "model_id": "7a02a381750249d3ad1eef7e500a5bdc",
       "version_major": 2,
       "version_minor": 0
      },
      "text/plain": [
       "  0%|          | 0/10 [00:00<?, ?it/s]"
      ]
     },
     "metadata": {},
     "output_type": "display_data"
    },
    {
     "name": "stdout",
     "output_type": "stream",
     "text": [
      "Evaluating with 2362 users\n",
      "MRR@5 0.001\n",
      "MRR@20 0.001\n",
      "Average Recall@5 0.002\n",
      "Average Recall@20 0.005\n",
      "Training model WTF with hyperparameters {'k': 80, 'l2': 10000, 'v': 0, 'alpha': 100, 'max_iterations': 10, 'default_context_1': False}\n"
     ]
    },
    {
     "data": {
      "application/vnd.jupyter.widget-view+json": {
       "model_id": "e92cb3441edf4288924183d3ce376457",
       "version_major": 2,
       "version_minor": 0
      },
      "text/plain": [
       "  0%|          | 0/10 [00:00<?, ?it/s]"
      ]
     },
     "metadata": {},
     "output_type": "display_data"
    },
    {
     "name": "stdout",
     "output_type": "stream",
     "text": [
      "Evaluating with 2362 users\n",
      "MRR@5 0.001\n",
      "MRR@20 0.001\n",
      "Average Recall@5 0.002\n",
      "Average Recall@20 0.005\n",
      "Training model WTF with hyperparameters {'k': 80, 'l2': 100000, 'v': 0, 'alpha': 100, 'max_iterations': 10, 'default_context_1': False}\n"
     ]
    },
    {
     "data": {
      "application/vnd.jupyter.widget-view+json": {
       "model_id": "cde17d4ec5e94f2182c616fa196ad252",
       "version_major": 2,
       "version_minor": 0
      },
      "text/plain": [
       "  0%|          | 0/10 [00:00<?, ?it/s]"
      ]
     },
     "metadata": {},
     "output_type": "display_data"
    },
    {
     "name": "stdout",
     "output_type": "stream",
     "text": [
      "Evaluating with 2362 users\n",
      "MRR@5 0.001\n",
      "MRR@20 0.001\n",
      "Average Recall@5 0.002\n",
      "Average Recall@20 0.005\n",
      "Training model WTF with hyperparameters {'k': 80, 'l2': 100, 'v': 0.5, 'alpha': 100, 'max_iterations': 10, 'default_context_1': False}\n"
     ]
    },
    {
     "data": {
      "application/vnd.jupyter.widget-view+json": {
       "model_id": "34d1932ed5d74c7fbe12bef359236525",
       "version_major": 2,
       "version_minor": 0
      },
      "text/plain": [
       "  0%|          | 0/10 [00:00<?, ?it/s]"
      ]
     },
     "metadata": {},
     "output_type": "display_data"
    },
    {
     "name": "stdout",
     "output_type": "stream",
     "text": [
      "Evaluating with 2362 users\n",
      "MRR@5 0.018\n",
      "MRR@20 0.024\n",
      "Average Recall@5 0.035\n",
      "Average Recall@20 0.097\n",
      "Training model WTF with hyperparameters {'k': 80, 'l2': 1000, 'v': 0.5, 'alpha': 100, 'max_iterations': 10, 'default_context_1': False}\n"
     ]
    },
    {
     "data": {
      "application/vnd.jupyter.widget-view+json": {
       "model_id": "f28651faf77740ce8aec4fe8f9a45d3c",
       "version_major": 2,
       "version_minor": 0
      },
      "text/plain": [
       "  0%|          | 0/10 [00:00<?, ?it/s]"
      ]
     },
     "metadata": {},
     "output_type": "display_data"
    },
    {
     "name": "stdout",
     "output_type": "stream",
     "text": [
      "Evaluating with 2362 users\n",
      "MRR@5 0.001\n",
      "MRR@20 0.001\n",
      "Average Recall@5 0.002\n",
      "Average Recall@20 0.005\n",
      "Training model WTF with hyperparameters {'k': 80, 'l2': 10000, 'v': 0.5, 'alpha': 100, 'max_iterations': 10, 'default_context_1': False}\n"
     ]
    },
    {
     "data": {
      "application/vnd.jupyter.widget-view+json": {
       "model_id": "7f7d7541e70541a0821b87473c80fafa",
       "version_major": 2,
       "version_minor": 0
      },
      "text/plain": [
       "  0%|          | 0/10 [00:00<?, ?it/s]"
      ]
     },
     "metadata": {},
     "output_type": "display_data"
    },
    {
     "name": "stdout",
     "output_type": "stream",
     "text": [
      "Evaluating with 2362 users\n",
      "MRR@5 0.001\n",
      "MRR@20 0.001\n",
      "Average Recall@5 0.002\n",
      "Average Recall@20 0.005\n",
      "Training model WTF with hyperparameters {'k': 80, 'l2': 100000, 'v': 0.5, 'alpha': 100, 'max_iterations': 10, 'default_context_1': False}\n"
     ]
    },
    {
     "data": {
      "application/vnd.jupyter.widget-view+json": {
       "model_id": "204eb7bece0d401fab497e6e71fcbdaf",
       "version_major": 2,
       "version_minor": 0
      },
      "text/plain": [
       "  0%|          | 0/10 [00:00<?, ?it/s]"
      ]
     },
     "metadata": {},
     "output_type": "display_data"
    },
    {
     "name": "stdout",
     "output_type": "stream",
     "text": [
      "Evaluating with 2362 users\n",
      "MRR@5 0.001\n",
      "MRR@20 0.001\n",
      "Average Recall@5 0.002\n",
      "Average Recall@20 0.005\n",
      "Training model WTF with hyperparameters {'k': 80, 'l2': 100, 'v': 1, 'alpha': 100, 'max_iterations': 10, 'default_context_1': False}\n"
     ]
    },
    {
     "data": {
      "application/vnd.jupyter.widget-view+json": {
       "model_id": "7cc4ddcb62d040eabbdfbe69521199c5",
       "version_major": 2,
       "version_minor": 0
      },
      "text/plain": [
       "  0%|          | 0/10 [00:00<?, ?it/s]"
      ]
     },
     "metadata": {},
     "output_type": "display_data"
    },
    {
     "name": "stdout",
     "output_type": "stream",
     "text": [
      "Evaluating with 2362 users\n",
      "MRR@5 0.017\n",
      "MRR@20 0.023\n",
      "Average Recall@5 0.035\n",
      "Average Recall@20 0.097\n",
      "Training model WTF with hyperparameters {'k': 80, 'l2': 1000, 'v': 1, 'alpha': 100, 'max_iterations': 10, 'default_context_1': False}\n"
     ]
    },
    {
     "data": {
      "application/vnd.jupyter.widget-view+json": {
       "model_id": "0d3c43690f754896b752c93d69a67a3f",
       "version_major": 2,
       "version_minor": 0
      },
      "text/plain": [
       "  0%|          | 0/10 [00:00<?, ?it/s]"
      ]
     },
     "metadata": {},
     "output_type": "display_data"
    },
    {
     "name": "stdout",
     "output_type": "stream",
     "text": [
      "Evaluating with 2362 users\n",
      "MRR@5 0.001\n",
      "MRR@20 0.001\n",
      "Average Recall@5 0.002\n",
      "Average Recall@20 0.005\n",
      "Training model WTF with hyperparameters {'k': 80, 'l2': 10000, 'v': 1, 'alpha': 100, 'max_iterations': 10, 'default_context_1': False}\n"
     ]
    },
    {
     "data": {
      "application/vnd.jupyter.widget-view+json": {
       "model_id": "9b788ab7782e4c0592e6cadc7abfef80",
       "version_major": 2,
       "version_minor": 0
      },
      "text/plain": [
       "  0%|          | 0/10 [00:00<?, ?it/s]"
      ]
     },
     "metadata": {},
     "output_type": "display_data"
    },
    {
     "name": "stdout",
     "output_type": "stream",
     "text": [
      "Evaluating with 2362 users\n",
      "MRR@5 0.001\n",
      "MRR@20 0.001\n",
      "Average Recall@5 0.002\n",
      "Average Recall@20 0.005\n",
      "Training model WTF with hyperparameters {'k': 80, 'l2': 100000, 'v': 1, 'alpha': 100, 'max_iterations': 10, 'default_context_1': False}\n"
     ]
    },
    {
     "data": {
      "application/vnd.jupyter.widget-view+json": {
       "model_id": "1625d99fd98144b4b866f32a92270305",
       "version_major": 2,
       "version_minor": 0
      },
      "text/plain": [
       "  0%|          | 0/10 [00:00<?, ?it/s]"
      ]
     },
     "metadata": {},
     "output_type": "display_data"
    },
    {
     "name": "stdout",
     "output_type": "stream",
     "text": [
      "Evaluating with 2362 users\n",
      "MRR@5 0.001\n",
      "MRR@20 0.001\n",
      "Average Recall@5 0.002\n",
      "Average Recall@20 0.005\n",
      "Training model WTF with hyperparameters {'k': 80, 'l2': 100, 'v': 0, 'alpha': 1000, 'max_iterations': 10, 'default_context_1': False}\n"
     ]
    },
    {
     "data": {
      "application/vnd.jupyter.widget-view+json": {
       "model_id": "003884e56d1942c598547e195db1ebc4",
       "version_major": 2,
       "version_minor": 0
      },
      "text/plain": [
       "  0%|          | 0/10 [00:00<?, ?it/s]"
      ]
     },
     "metadata": {},
     "output_type": "display_data"
    },
    {
     "name": "stdout",
     "output_type": "stream",
     "text": [
      "Evaluating with 2362 users\n",
      "MRR@5 0.012\n",
      "MRR@20 0.015\n",
      "Average Recall@5 0.023\n",
      "Average Recall@20 0.058\n",
      "Training model WTF with hyperparameters {'k': 80, 'l2': 1000, 'v': 0, 'alpha': 1000, 'max_iterations': 10, 'default_context_1': False}\n"
     ]
    },
    {
     "data": {
      "application/vnd.jupyter.widget-view+json": {
       "model_id": "a662f56cb16141a0b4979132c8f0f27f",
       "version_major": 2,
       "version_minor": 0
      },
      "text/plain": [
       "  0%|          | 0/10 [00:00<?, ?it/s]"
      ]
     },
     "metadata": {},
     "output_type": "display_data"
    },
    {
     "name": "stdout",
     "output_type": "stream",
     "text": [
      "Evaluating with 2362 users\n",
      "MRR@5 0.014\n",
      "MRR@20 0.018\n",
      "Average Recall@5 0.029\n",
      "Average Recall@20 0.083\n",
      "Training model WTF with hyperparameters {'k': 80, 'l2': 10000, 'v': 0, 'alpha': 1000, 'max_iterations': 10, 'default_context_1': False}\n"
     ]
    },
    {
     "data": {
      "application/vnd.jupyter.widget-view+json": {
       "model_id": "e88f28244e1c44d1a6655d393b4f52a6",
       "version_major": 2,
       "version_minor": 0
      },
      "text/plain": [
       "  0%|          | 0/10 [00:00<?, ?it/s]"
      ]
     },
     "metadata": {},
     "output_type": "display_data"
    },
    {
     "name": "stdout",
     "output_type": "stream",
     "text": [
      "Evaluating with 2362 users\n",
      "MRR@5 0.001\n",
      "MRR@20 0.001\n",
      "Average Recall@5 0.002\n",
      "Average Recall@20 0.005\n",
      "Training model WTF with hyperparameters {'k': 80, 'l2': 100000, 'v': 0, 'alpha': 1000, 'max_iterations': 10, 'default_context_1': False}\n"
     ]
    },
    {
     "data": {
      "application/vnd.jupyter.widget-view+json": {
       "model_id": "df229f9e51b348e5b4084b5b5882b8e6",
       "version_major": 2,
       "version_minor": 0
      },
      "text/plain": [
       "  0%|          | 0/10 [00:00<?, ?it/s]"
      ]
     },
     "metadata": {},
     "output_type": "display_data"
    },
    {
     "name": "stdout",
     "output_type": "stream",
     "text": [
      "Evaluating with 2362 users\n",
      "MRR@5 0.001\n",
      "MRR@20 0.001\n",
      "Average Recall@5 0.002\n",
      "Average Recall@20 0.005\n",
      "Training model WTF with hyperparameters {'k': 80, 'l2': 100, 'v': 0.5, 'alpha': 1000, 'max_iterations': 10, 'default_context_1': False}\n"
     ]
    },
    {
     "data": {
      "application/vnd.jupyter.widget-view+json": {
       "model_id": "f7a4a34c11724522ab83f666bc0c8106",
       "version_major": 2,
       "version_minor": 0
      },
      "text/plain": [
       "  0%|          | 0/10 [00:00<?, ?it/s]"
      ]
     },
     "metadata": {},
     "output_type": "display_data"
    },
    {
     "name": "stdout",
     "output_type": "stream",
     "text": [
      "Evaluating with 2362 users\n",
      "MRR@5 0.012\n",
      "MRR@20 0.016\n",
      "Average Recall@5 0.022\n",
      "Average Recall@20 0.06\n",
      "Training model WTF with hyperparameters {'k': 80, 'l2': 1000, 'v': 0.5, 'alpha': 1000, 'max_iterations': 10, 'default_context_1': False}\n"
     ]
    },
    {
     "data": {
      "application/vnd.jupyter.widget-view+json": {
       "model_id": "63a2093b93c74b2aacaf4b5b37410a8f",
       "version_major": 2,
       "version_minor": 0
      },
      "text/plain": [
       "  0%|          | 0/10 [00:00<?, ?it/s]"
      ]
     },
     "metadata": {},
     "output_type": "display_data"
    },
    {
     "name": "stdout",
     "output_type": "stream",
     "text": [
      "Evaluating with 2362 users\n",
      "MRR@5 0.013\n",
      "MRR@20 0.019\n",
      "Average Recall@5 0.029\n",
      "Average Recall@20 0.092\n",
      "Training model WTF with hyperparameters {'k': 80, 'l2': 10000, 'v': 0.5, 'alpha': 1000, 'max_iterations': 10, 'default_context_1': False}\n"
     ]
    },
    {
     "data": {
      "application/vnd.jupyter.widget-view+json": {
       "model_id": "02dc6ce227094811a2b090faddcf45de",
       "version_major": 2,
       "version_minor": 0
      },
      "text/plain": [
       "  0%|          | 0/10 [00:00<?, ?it/s]"
      ]
     },
     "metadata": {},
     "output_type": "display_data"
    },
    {
     "name": "stdout",
     "output_type": "stream",
     "text": [
      "Evaluating with 2362 users\n",
      "MRR@5 0.001\n",
      "MRR@20 0.001\n",
      "Average Recall@5 0.002\n",
      "Average Recall@20 0.005\n",
      "Training model WTF with hyperparameters {'k': 80, 'l2': 100000, 'v': 0.5, 'alpha': 1000, 'max_iterations': 10, 'default_context_1': False}\n"
     ]
    },
    {
     "data": {
      "application/vnd.jupyter.widget-view+json": {
       "model_id": "34d7929fca5d4a799191ecc86e9e42bd",
       "version_major": 2,
       "version_minor": 0
      },
      "text/plain": [
       "  0%|          | 0/10 [00:00<?, ?it/s]"
      ]
     },
     "metadata": {},
     "output_type": "display_data"
    },
    {
     "name": "stdout",
     "output_type": "stream",
     "text": [
      "Evaluating with 2362 users\n",
      "MRR@5 0.001\n",
      "MRR@20 0.001\n",
      "Average Recall@5 0.002\n",
      "Average Recall@20 0.005\n",
      "Training model WTF with hyperparameters {'k': 80, 'l2': 100, 'v': 1, 'alpha': 1000, 'max_iterations': 10, 'default_context_1': False}\n"
     ]
    },
    {
     "data": {
      "application/vnd.jupyter.widget-view+json": {
       "model_id": "aa0c1908c2d54f0b927c8ac886932799",
       "version_major": 2,
       "version_minor": 0
      },
      "text/plain": [
       "  0%|          | 0/10 [00:00<?, ?it/s]"
      ]
     },
     "metadata": {},
     "output_type": "display_data"
    },
    {
     "name": "stdout",
     "output_type": "stream",
     "text": [
      "Evaluating with 2362 users\n",
      "MRR@5 0.013\n",
      "MRR@20 0.016\n",
      "Average Recall@5 0.027\n",
      "Average Recall@20 0.058\n",
      "Training model WTF with hyperparameters {'k': 80, 'l2': 1000, 'v': 1, 'alpha': 1000, 'max_iterations': 10, 'default_context_1': False}\n"
     ]
    },
    {
     "data": {
      "application/vnd.jupyter.widget-view+json": {
       "model_id": "198431303d2c4b51a7b39d07c6212007",
       "version_major": 2,
       "version_minor": 0
      },
      "text/plain": [
       "  0%|          | 0/10 [00:00<?, ?it/s]"
      ]
     },
     "metadata": {},
     "output_type": "display_data"
    },
    {
     "name": "stdout",
     "output_type": "stream",
     "text": [
      "Evaluating with 2362 users\n",
      "MRR@5 0.017\n",
      "MRR@20 0.023\n",
      "Average Recall@5 0.033\n",
      "Average Recall@20 0.095\n",
      "Training model WTF with hyperparameters {'k': 80, 'l2': 10000, 'v': 1, 'alpha': 1000, 'max_iterations': 10, 'default_context_1': False}\n"
     ]
    },
    {
     "data": {
      "application/vnd.jupyter.widget-view+json": {
       "model_id": "7952df3647cc4a2a8d4453d4008fab3c",
       "version_major": 2,
       "version_minor": 0
      },
      "text/plain": [
       "  0%|          | 0/10 [00:00<?, ?it/s]"
      ]
     },
     "metadata": {},
     "output_type": "display_data"
    },
    {
     "name": "stdout",
     "output_type": "stream",
     "text": [
      "Evaluating with 2362 users\n",
      "MRR@5 0.001\n",
      "MRR@20 0.001\n",
      "Average Recall@5 0.002\n",
      "Average Recall@20 0.005\n",
      "Training model WTF with hyperparameters {'k': 80, 'l2': 100000, 'v': 1, 'alpha': 1000, 'max_iterations': 10, 'default_context_1': False}\n"
     ]
    },
    {
     "data": {
      "application/vnd.jupyter.widget-view+json": {
       "model_id": "789f0efeca6643f3a32cd759472988d2",
       "version_major": 2,
       "version_minor": 0
      },
      "text/plain": [
       "  0%|          | 0/10 [00:00<?, ?it/s]"
      ]
     },
     "metadata": {},
     "output_type": "display_data"
    },
    {
     "name": "stdout",
     "output_type": "stream",
     "text": [
      "Evaluating with 2362 users\n",
      "MRR@5 0.001\n",
      "MRR@20 0.001\n",
      "Average Recall@5 0.002\n",
      "Average Recall@20 0.005\n",
      "Training model WTF with hyperparameters {'k': 80, 'l2': 100, 'v': 0, 'alpha': 10000, 'max_iterations': 10, 'default_context_1': False}\n"
     ]
    },
    {
     "data": {
      "application/vnd.jupyter.widget-view+json": {
       "model_id": "037b88cacd21448197fe5790a89426ae",
       "version_major": 2,
       "version_minor": 0
      },
      "text/plain": [
       "  0%|          | 0/10 [00:00<?, ?it/s]"
      ]
     },
     "metadata": {},
     "output_type": "display_data"
    },
    {
     "name": "stdout",
     "output_type": "stream",
     "text": [
      "Evaluating with 2362 users\n",
      "MRR@5 0.009\n",
      "MRR@20 0.012\n",
      "Average Recall@5 0.017\n",
      "Average Recall@20 0.049\n",
      "Training model WTF with hyperparameters {'k': 80, 'l2': 1000, 'v': 0, 'alpha': 10000, 'max_iterations': 10, 'default_context_1': False}\n"
     ]
    },
    {
     "data": {
      "application/vnd.jupyter.widget-view+json": {
       "model_id": "e7750ac714fa42d4b78df09b244e4ceb",
       "version_major": 2,
       "version_minor": 0
      },
      "text/plain": [
       "  0%|          | 0/10 [00:00<?, ?it/s]"
      ]
     },
     "metadata": {},
     "output_type": "display_data"
    },
    {
     "name": "stdout",
     "output_type": "stream",
     "text": [
      "Evaluating with 2362 users\n",
      "MRR@5 0.011\n",
      "MRR@20 0.014\n",
      "Average Recall@5 0.022\n",
      "Average Recall@20 0.058\n",
      "Training model WTF with hyperparameters {'k': 80, 'l2': 10000, 'v': 0, 'alpha': 10000, 'max_iterations': 10, 'default_context_1': False}\n"
     ]
    },
    {
     "data": {
      "application/vnd.jupyter.widget-view+json": {
       "model_id": "2f40f2cc6b0c41cf8413449be979c69c",
       "version_major": 2,
       "version_minor": 0
      },
      "text/plain": [
       "  0%|          | 0/10 [00:00<?, ?it/s]"
      ]
     },
     "metadata": {},
     "output_type": "display_data"
    },
    {
     "name": "stdout",
     "output_type": "stream",
     "text": [
      "Evaluating with 2362 users\n",
      "MRR@5 0.012\n",
      "MRR@20 0.016\n",
      "Average Recall@5 0.022\n",
      "Average Recall@20 0.072\n",
      "Training model WTF with hyperparameters {'k': 80, 'l2': 100000, 'v': 0, 'alpha': 10000, 'max_iterations': 10, 'default_context_1': False}\n"
     ]
    },
    {
     "data": {
      "application/vnd.jupyter.widget-view+json": {
       "model_id": "2241a98bcfab4259b1a8ec29270677eb",
       "version_major": 2,
       "version_minor": 0
      },
      "text/plain": [
       "  0%|          | 0/10 [00:00<?, ?it/s]"
      ]
     },
     "metadata": {},
     "output_type": "display_data"
    },
    {
     "name": "stdout",
     "output_type": "stream",
     "text": [
      "Evaluating with 2362 users\n",
      "MRR@5 0.001\n",
      "MRR@20 0.001\n",
      "Average Recall@5 0.002\n",
      "Average Recall@20 0.005\n",
      "Training model WTF with hyperparameters {'k': 80, 'l2': 100, 'v': 0.5, 'alpha': 10000, 'max_iterations': 10, 'default_context_1': False}\n"
     ]
    },
    {
     "data": {
      "application/vnd.jupyter.widget-view+json": {
       "model_id": "037d4c42423e49b79a7220bc2c8f1b9a",
       "version_major": 2,
       "version_minor": 0
      },
      "text/plain": [
       "  0%|          | 0/10 [00:00<?, ?it/s]"
      ]
     },
     "metadata": {},
     "output_type": "display_data"
    },
    {
     "name": "stdout",
     "output_type": "stream",
     "text": [
      "Evaluating with 2362 users\n",
      "MRR@5 0.008\n",
      "MRR@20 0.011\n",
      "Average Recall@5 0.015\n",
      "Average Recall@20 0.049\n",
      "Training model WTF with hyperparameters {'k': 80, 'l2': 1000, 'v': 0.5, 'alpha': 10000, 'max_iterations': 10, 'default_context_1': False}\n"
     ]
    },
    {
     "data": {
      "application/vnd.jupyter.widget-view+json": {
       "model_id": "eb02cce2de9641009157a41a46f65434",
       "version_major": 2,
       "version_minor": 0
      },
      "text/plain": [
       "  0%|          | 0/10 [00:00<?, ?it/s]"
      ]
     },
     "metadata": {},
     "output_type": "display_data"
    },
    {
     "name": "stdout",
     "output_type": "stream",
     "text": [
      "Evaluating with 2362 users\n",
      "MRR@5 0.009\n",
      "MRR@20 0.012\n",
      "Average Recall@5 0.021\n",
      "Average Recall@20 0.05\n",
      "Training model WTF with hyperparameters {'k': 80, 'l2': 10000, 'v': 0.5, 'alpha': 10000, 'max_iterations': 10, 'default_context_1': False}\n"
     ]
    },
    {
     "data": {
      "application/vnd.jupyter.widget-view+json": {
       "model_id": "c2c337c79f714fce94a8aa3ecc7006ac",
       "version_major": 2,
       "version_minor": 0
      },
      "text/plain": [
       "  0%|          | 0/10 [00:00<?, ?it/s]"
      ]
     },
     "metadata": {},
     "output_type": "display_data"
    },
    {
     "name": "stdout",
     "output_type": "stream",
     "text": [
      "Evaluating with 2362 users\n",
      "MRR@5 0.007\n",
      "MRR@20 0.012\n",
      "Average Recall@5 0.017\n",
      "Average Recall@20 0.061\n",
      "Training model WTF with hyperparameters {'k': 80, 'l2': 100000, 'v': 0.5, 'alpha': 10000, 'max_iterations': 10, 'default_context_1': False}\n"
     ]
    },
    {
     "data": {
      "application/vnd.jupyter.widget-view+json": {
       "model_id": "209bf3ad0e894b6e976532f218a511de",
       "version_major": 2,
       "version_minor": 0
      },
      "text/plain": [
       "  0%|          | 0/10 [00:00<?, ?it/s]"
      ]
     },
     "metadata": {},
     "output_type": "display_data"
    },
    {
     "name": "stdout",
     "output_type": "stream",
     "text": [
      "Evaluating with 2362 users\n",
      "MRR@5 0.001\n",
      "MRR@20 0.001\n",
      "Average Recall@5 0.002\n",
      "Average Recall@20 0.005\n",
      "Training model WTF with hyperparameters {'k': 80, 'l2': 100, 'v': 1, 'alpha': 10000, 'max_iterations': 10, 'default_context_1': False}\n"
     ]
    },
    {
     "data": {
      "application/vnd.jupyter.widget-view+json": {
       "model_id": "50c0ce80c079447096447463e93e92d8",
       "version_major": 2,
       "version_minor": 0
      },
      "text/plain": [
       "  0%|          | 0/10 [00:00<?, ?it/s]"
      ]
     },
     "metadata": {},
     "output_type": "display_data"
    },
    {
     "name": "stdout",
     "output_type": "stream",
     "text": [
      "Evaluating with 2362 users\n",
      "MRR@5 0.009\n",
      "MRR@20 0.012\n",
      "Average Recall@5 0.018\n",
      "Average Recall@20 0.05\n",
      "Training model WTF with hyperparameters {'k': 80, 'l2': 1000, 'v': 1, 'alpha': 10000, 'max_iterations': 10, 'default_context_1': False}\n"
     ]
    },
    {
     "data": {
      "application/vnd.jupyter.widget-view+json": {
       "model_id": "61483ec15e2a43b7a05c866578fe8839",
       "version_major": 2,
       "version_minor": 0
      },
      "text/plain": [
       "  0%|          | 0/10 [00:00<?, ?it/s]"
      ]
     },
     "metadata": {},
     "output_type": "display_data"
    },
    {
     "name": "stdout",
     "output_type": "stream",
     "text": [
      "Evaluating with 2362 users\n",
      "MRR@5 0.012\n",
      "MRR@20 0.017\n",
      "Average Recall@5 0.023\n",
      "Average Recall@20 0.073\n",
      "Training model WTF with hyperparameters {'k': 80, 'l2': 10000, 'v': 1, 'alpha': 10000, 'max_iterations': 10, 'default_context_1': False}\n"
     ]
    },
    {
     "data": {
      "application/vnd.jupyter.widget-view+json": {
       "model_id": "85a05467fe5e413480a3282fb7948b0c",
       "version_major": 2,
       "version_minor": 0
      },
      "text/plain": [
       "  0%|          | 0/10 [00:00<?, ?it/s]"
      ]
     },
     "metadata": {},
     "output_type": "display_data"
    },
    {
     "name": "stdout",
     "output_type": "stream",
     "text": [
      "Evaluating with 2362 users\n",
      "MRR@5 0.012\n",
      "MRR@20 0.015\n",
      "Average Recall@5 0.018\n",
      "Average Recall@20 0.063\n",
      "Training model WTF with hyperparameters {'k': 80, 'l2': 100000, 'v': 1, 'alpha': 10000, 'max_iterations': 10, 'default_context_1': False}\n"
     ]
    },
    {
     "data": {
      "application/vnd.jupyter.widget-view+json": {
       "model_id": "e7249b0819634251ac3c5cae30c48cb3",
       "version_major": 2,
       "version_minor": 0
      },
      "text/plain": [
       "  0%|          | 0/10 [00:00<?, ?it/s]"
      ]
     },
     "metadata": {},
     "output_type": "display_data"
    },
    {
     "name": "stdout",
     "output_type": "stream",
     "text": [
      "Evaluating with 2362 users\n",
      "MRR@5 0.001\n",
      "MRR@20 0.001\n",
      "Average Recall@5 0.002\n",
      "Average Recall@20 0.005\n",
      "Training model WTF with hyperparameters {'k': 80, 'l2': 100, 'v': 0, 'alpha': 100000, 'max_iterations': 10, 'default_context_1': False}\n"
     ]
    },
    {
     "data": {
      "application/vnd.jupyter.widget-view+json": {
       "model_id": "13c4a57472ea4e7da8368a2be06a6455",
       "version_major": 2,
       "version_minor": 0
      },
      "text/plain": [
       "  0%|          | 0/10 [00:00<?, ?it/s]"
      ]
     },
     "metadata": {},
     "output_type": "display_data"
    },
    {
     "name": "stdout",
     "output_type": "stream",
     "text": [
      "Evaluating with 2362 users\n",
      "MRR@5 0.006\n",
      "MRR@20 0.009\n",
      "Average Recall@5 0.014\n",
      "Average Recall@20 0.042\n",
      "Training model WTF with hyperparameters {'k': 80, 'l2': 1000, 'v': 0, 'alpha': 100000, 'max_iterations': 10, 'default_context_1': False}\n"
     ]
    },
    {
     "data": {
      "application/vnd.jupyter.widget-view+json": {
       "model_id": "51be1ca8a221497ab820728cdaff8fff",
       "version_major": 2,
       "version_minor": 0
      },
      "text/plain": [
       "  0%|          | 0/10 [00:00<?, ?it/s]"
      ]
     },
     "metadata": {},
     "output_type": "display_data"
    },
    {
     "name": "stdout",
     "output_type": "stream",
     "text": [
      "Evaluating with 2362 users\n",
      "MRR@5 0.009\n",
      "MRR@20 0.012\n",
      "Average Recall@5 0.017\n",
      "Average Recall@20 0.049\n",
      "Training model WTF with hyperparameters {'k': 80, 'l2': 10000, 'v': 0, 'alpha': 100000, 'max_iterations': 10, 'default_context_1': False}\n"
     ]
    },
    {
     "data": {
      "application/vnd.jupyter.widget-view+json": {
       "model_id": "ee75aec25ee5420399b1483689e57330",
       "version_major": 2,
       "version_minor": 0
      },
      "text/plain": [
       "  0%|          | 0/10 [00:00<?, ?it/s]"
      ]
     },
     "metadata": {},
     "output_type": "display_data"
    },
    {
     "name": "stdout",
     "output_type": "stream",
     "text": [
      "Evaluating with 2362 users\n",
      "MRR@5 0.009\n",
      "MRR@20 0.012\n",
      "Average Recall@5 0.017\n",
      "Average Recall@20 0.052\n",
      "Training model WTF with hyperparameters {'k': 80, 'l2': 100000, 'v': 0, 'alpha': 100000, 'max_iterations': 10, 'default_context_1': False}\n"
     ]
    },
    {
     "data": {
      "application/vnd.jupyter.widget-view+json": {
       "model_id": "4000c9f03b3a47f0abafd63ed554a085",
       "version_major": 2,
       "version_minor": 0
      },
      "text/plain": [
       "  0%|          | 0/10 [00:00<?, ?it/s]"
      ]
     },
     "metadata": {},
     "output_type": "display_data"
    },
    {
     "name": "stdout",
     "output_type": "stream",
     "text": [
      "Evaluating with 2362 users\n",
      "MRR@5 0.004\n",
      "MRR@20 0.008\n",
      "Average Recall@5 0.01\n",
      "Average Recall@20 0.047\n",
      "Training model WTF with hyperparameters {'k': 80, 'l2': 100, 'v': 0.5, 'alpha': 100000, 'max_iterations': 10, 'default_context_1': False}\n"
     ]
    },
    {
     "data": {
      "application/vnd.jupyter.widget-view+json": {
       "model_id": "5ff0ba3d1e1746e984177d194046c6dd",
       "version_major": 2,
       "version_minor": 0
      },
      "text/plain": [
       "  0%|          | 0/10 [00:00<?, ?it/s]"
      ]
     },
     "metadata": {},
     "output_type": "display_data"
    },
    {
     "name": "stdout",
     "output_type": "stream",
     "text": [
      "Evaluating with 2362 users\n",
      "MRR@5 0.006\n",
      "MRR@20 0.009\n",
      "Average Recall@5 0.014\n",
      "Average Recall@20 0.039\n",
      "Training model WTF with hyperparameters {'k': 80, 'l2': 1000, 'v': 0.5, 'alpha': 100000, 'max_iterations': 10, 'default_context_1': False}\n"
     ]
    },
    {
     "data": {
      "application/vnd.jupyter.widget-view+json": {
       "model_id": "d9c6a6731bd149e5ab0455a74369ac51",
       "version_major": 2,
       "version_minor": 0
      },
      "text/plain": [
       "  0%|          | 0/10 [00:00<?, ?it/s]"
      ]
     },
     "metadata": {},
     "output_type": "display_data"
    },
    {
     "name": "stdout",
     "output_type": "stream",
     "text": [
      "Evaluating with 2362 users\n",
      "MRR@5 0.006\n",
      "MRR@20 0.009\n",
      "Average Recall@5 0.015\n",
      "Average Recall@20 0.05\n",
      "Training model WTF with hyperparameters {'k': 80, 'l2': 10000, 'v': 0.5, 'alpha': 100000, 'max_iterations': 10, 'default_context_1': False}\n"
     ]
    },
    {
     "data": {
      "application/vnd.jupyter.widget-view+json": {
       "model_id": "60eed457d2fd4bb5b98fad1303489ff9",
       "version_major": 2,
       "version_minor": 0
      },
      "text/plain": [
       "  0%|          | 0/10 [00:00<?, ?it/s]"
      ]
     },
     "metadata": {},
     "output_type": "display_data"
    },
    {
     "name": "stdout",
     "output_type": "stream",
     "text": [
      "Evaluating with 2362 users\n",
      "MRR@5 0.01\n",
      "MRR@20 0.013\n",
      "Average Recall@5 0.019\n",
      "Average Recall@20 0.058\n",
      "Training model WTF with hyperparameters {'k': 80, 'l2': 100000, 'v': 0.5, 'alpha': 100000, 'max_iterations': 10, 'default_context_1': False}\n"
     ]
    },
    {
     "data": {
      "application/vnd.jupyter.widget-view+json": {
       "model_id": "b9588a7462bb4519bb25e5d2e9ab3dca",
       "version_major": 2,
       "version_minor": 0
      },
      "text/plain": [
       "  0%|          | 0/10 [00:00<?, ?it/s]"
      ]
     },
     "metadata": {},
     "output_type": "display_data"
    },
    {
     "name": "stdout",
     "output_type": "stream",
     "text": [
      "Evaluating with 2362 users\n",
      "MRR@5 0.001\n",
      "MRR@20 0.003\n",
      "Average Recall@5 0.003\n",
      "Average Recall@20 0.029\n",
      "Training model WTF with hyperparameters {'k': 80, 'l2': 100, 'v': 1, 'alpha': 100000, 'max_iterations': 10, 'default_context_1': False}\n"
     ]
    },
    {
     "data": {
      "application/vnd.jupyter.widget-view+json": {
       "model_id": "c0120dc07a514429b116b8609ec54255",
       "version_major": 2,
       "version_minor": 0
      },
      "text/plain": [
       "  0%|          | 0/10 [00:00<?, ?it/s]"
      ]
     },
     "metadata": {},
     "output_type": "display_data"
    },
    {
     "name": "stdout",
     "output_type": "stream",
     "text": [
      "Evaluating with 2362 users\n",
      "MRR@5 0.007\n",
      "MRR@20 0.01\n",
      "Average Recall@5 0.014\n",
      "Average Recall@20 0.046\n",
      "Training model WTF with hyperparameters {'k': 80, 'l2': 1000, 'v': 1, 'alpha': 100000, 'max_iterations': 10, 'default_context_1': False}\n"
     ]
    },
    {
     "data": {
      "application/vnd.jupyter.widget-view+json": {
       "model_id": "2b03eebfe2e64a3aafec8fd2aca8c212",
       "version_major": 2,
       "version_minor": 0
      },
      "text/plain": [
       "  0%|          | 0/10 [00:00<?, ?it/s]"
      ]
     },
     "metadata": {},
     "output_type": "display_data"
    },
    {
     "name": "stdout",
     "output_type": "stream",
     "text": [
      "Evaluating with 2362 users\n",
      "MRR@5 0.011\n",
      "MRR@20 0.014\n",
      "Average Recall@5 0.019\n",
      "Average Recall@20 0.052\n",
      "Training model WTF with hyperparameters {'k': 80, 'l2': 10000, 'v': 1, 'alpha': 100000, 'max_iterations': 10, 'default_context_1': False}\n"
     ]
    },
    {
     "data": {
      "application/vnd.jupyter.widget-view+json": {
       "model_id": "0617f18b76a04cab9c1a27e3d0a03f6a",
       "version_major": 2,
       "version_minor": 0
      },
      "text/plain": [
       "  0%|          | 0/10 [00:00<?, ?it/s]"
      ]
     },
     "metadata": {},
     "output_type": "display_data"
    },
    {
     "name": "stdout",
     "output_type": "stream",
     "text": [
      "Evaluating with 2362 users\n",
      "MRR@5 0.008\n",
      "MRR@20 0.012\n",
      "Average Recall@5 0.017\n",
      "Average Recall@20 0.057\n",
      "Training model WTF with hyperparameters {'k': 80, 'l2': 100000, 'v': 1, 'alpha': 100000, 'max_iterations': 10, 'default_context_1': False}\n"
     ]
    },
    {
     "data": {
      "application/vnd.jupyter.widget-view+json": {
       "model_id": "0bedcd9d7c714c56b7b2d0f70e3e6619",
       "version_major": 2,
       "version_minor": 0
      },
      "text/plain": [
       "  0%|          | 0/10 [00:00<?, ?it/s]"
      ]
     },
     "metadata": {},
     "output_type": "display_data"
    },
    {
     "name": "stdout",
     "output_type": "stream",
     "text": [
      "Evaluating with 2362 users\n",
      "MRR@5 0.001\n",
      "MRR@20 0.001\n",
      "Average Recall@5 0.002\n",
      "Average Recall@20 0.005\n",
      "CPU times: user 9min 5s, sys: 1min 50s, total: 10min 55s\n",
      "Wall time: 23min 34s\n"
     ]
    },
    {
     "data": {
      "text/plain": [
       "\"Best score of 0.023763517564669316 achieved with {'k': 80, 'l2': 100, 'v': 0.5, 'alpha': 100, 'max_iterations': 10, 'default_context_1': False}.\""
      ]
     },
     "execution_count": 8,
     "metadata": {},
     "output_type": "execute_result"
    }
   ],
   "source": [
    "%%time\n",
    "score, best_hyperparams = evaluation.cars.gridsearch(ALG, train, test, HYPERPARAMS, retarget=RETARGET)\n",
    "f\"Best score of {score} achieved with {best_hyperparams}.\""
   ]
  },
  {
   "cell_type": "markdown",
   "id": "e89dad17",
   "metadata": {},
   "source": [
    "## Evaluate model with optimal hyperparams with KFolds Cross validation"
   ]
  },
  {
   "cell_type": "code",
   "execution_count": 9,
   "id": "81674e0b",
   "metadata": {
    "scrolled": true
   },
   "outputs": [
    {
     "data": {
      "application/vnd.jupyter.widget-view+json": {
       "model_id": "2f09603e15ad454bb5769fc0fd38a27f",
       "version_major": 2,
       "version_minor": 0
      },
      "text/plain": [
       "  0%|          | 0/10 [00:00<?, ?it/s]"
      ]
     },
     "metadata": {},
     "output_type": "display_data"
    },
    {
     "name": "stdout",
     "output_type": "stream",
     "text": [
      "Evaluating with 2362 users\n"
     ]
    },
    {
     "data": {
      "application/vnd.jupyter.widget-view+json": {
       "model_id": "011ca848502c4a7cacd78b0edb4ac63b",
       "version_major": 2,
       "version_minor": 0
      },
      "text/plain": [
       "  0%|          | 0/10 [00:00<?, ?it/s]"
      ]
     },
     "metadata": {},
     "output_type": "display_data"
    },
    {
     "name": "stdout",
     "output_type": "stream",
     "text": [
      "Evaluating with 2362 users\n"
     ]
    },
    {
     "data": {
      "application/vnd.jupyter.widget-view+json": {
       "model_id": "9c6c9b11ac284ca4b6914c3349d10d1d",
       "version_major": 2,
       "version_minor": 0
      },
      "text/plain": [
       "  0%|          | 0/10 [00:00<?, ?it/s]"
      ]
     },
     "metadata": {},
     "output_type": "display_data"
    },
    {
     "name": "stdout",
     "output_type": "stream",
     "text": [
      "Evaluating with 2362 users\n"
     ]
    },
    {
     "data": {
      "application/vnd.jupyter.widget-view+json": {
       "model_id": "7a2ca749a12b4633851e11365f84de17",
       "version_major": 2,
       "version_minor": 0
      },
      "text/plain": [
       "  0%|          | 0/10 [00:00<?, ?it/s]"
      ]
     },
     "metadata": {},
     "output_type": "display_data"
    },
    {
     "name": "stdout",
     "output_type": "stream",
     "text": [
      "Evaluating with 2362 users\n"
     ]
    },
    {
     "data": {
      "application/vnd.jupyter.widget-view+json": {
       "model_id": "1d75a393aaab4d929be7d02a234badad",
       "version_major": 2,
       "version_minor": 0
      },
      "text/plain": [
       "  0%|          | 0/10 [00:00<?, ?it/s]"
      ]
     },
     "metadata": {},
     "output_type": "display_data"
    },
    {
     "name": "stdout",
     "output_type": "stream",
     "text": [
      "Evaluating with 2362 users\n",
      "MRR@5 0.019 (0.002)\n",
      "MRR@20 0.024 (0.002)\n",
      "Average Recall@5 0.036 (0.002)\n",
      "Average Recall@20 0.091 (0.004)\n",
      "CPU times: user 51.4 s, sys: 10.4 s, total: 1min 1s\n",
      "Wall time: 2min 36s\n"
     ]
    }
   ],
   "source": [
    "%%time\n",
    "alg = ALG(**best_hyperparams)\n",
    "results = evaluation.cars.contextKFoldsEval(alg, data, nr_folds=5, seed=SEED2, retarget=RETARGET)"
   ]
  }
 ],
 "metadata": {
  "kernelspec": {
   "display_name": "Python 3 (ipykernel)",
   "language": "python",
   "name": "python3"
  },
  "language_info": {
   "codemirror_mode": {
    "name": "ipython",
    "version": 3
   },
   "file_extension": ".py",
   "mimetype": "text/x-python",
   "name": "python",
   "nbconvert_exporter": "python",
   "pygments_lexer": "ipython3",
   "version": "3.10.6"
  }
 },
 "nbformat": 4,
 "nbformat_minor": 5
}
