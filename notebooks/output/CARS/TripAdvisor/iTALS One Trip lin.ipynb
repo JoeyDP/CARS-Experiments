{
 "cells": [
  {
   "cell_type": "code",
   "execution_count": 1,
   "id": "9ef88bc4",
   "metadata": {},
   "outputs": [],
   "source": [
    "%load_ext autoreload\n",
    "%autoreload 2"
   ]
  },
  {
   "cell_type": "markdown",
   "id": "55bab0c8",
   "metadata": {},
   "source": [
    "# Experiments with iTALS model"
   ]
  },
  {
   "cell_type": "code",
   "execution_count": 2,
   "id": "ec55d42c",
   "metadata": {},
   "outputs": [],
   "source": [
    "from pathlib import Path\n",
    "\n",
    "import src.io as io\n",
    "import src.evaluation as evaluation\n",
    "import src.evaluation.splits\n",
    "import src.evaluation.cars\n",
    "\n",
    "from src.algorithm.cars.itals import iTALS"
   ]
  },
  {
   "cell_type": "markdown",
   "id": "c469b253",
   "metadata": {},
   "source": [
    "## Datasets"
   ]
  },
  {
   "cell_type": "code",
   "execution_count": 3,
   "id": "e0622ed1",
   "metadata": {},
   "outputs": [],
   "source": [
    "## Uncomment corresponding directory.\n",
    "## RETARGET True for Frappe, False for the others\n",
    "\n",
    "# DATA_DIR, RETARGET = Path('../../../data/CARS/Mobile_Frappe/'), True\n",
    "# DATA_DIR, RETARGET = Path('../../../data/CARS/Food_com/'), False\n",
    "DATA_DIR, RETARGET = Path('../../../data/CARS/TripAdvisor/'), False"
   ]
  },
  {
   "cell_type": "code",
   "execution_count": 4,
   "id": "d53bce36",
   "metadata": {},
   "outputs": [],
   "source": [
    "# Shouldn't need to change this info\n",
    "INTERACTIONS = DATA_DIR / 'interactions.csv'\n",
    "\n",
    "SEED = 123456\n",
    "SEED2 = 78910\n",
    "\n",
    "ITEM_ID = 'item'\n",
    "USER_ID = 'user'"
   ]
  },
  {
   "cell_type": "markdown",
   "id": "48457625",
   "metadata": {},
   "source": [
    "## Define algorithm and hyperparameter ranges"
   ]
  },
  {
   "cell_type": "code",
   "execution_count": 5,
   "id": "11a5ac4c",
   "metadata": {},
   "outputs": [
    {
     "data": {
      "text/plain": [
       "{'k': [80],\n",
       " 'l2': [5000, 10000, 15000, 20000, 50000],\n",
       " 'v': [0.75, 1],\n",
       " 'alpha': [500, 1000, 1500, 2000, 5000],\n",
       " 'max_iterations': [10],\n",
       " 'default_context_1': [True]}"
      ]
     },
     "execution_count": 5,
     "metadata": {},
     "output_type": "execute_result"
    }
   ],
   "source": [
    "ALG = iTALS\n",
    "\n",
    "\n",
    "K = [80]\n",
    "MAX_IT = [10]\n",
    "DEFAULT_CONTEXT_1 = [True]\n",
    "\n",
    "# L2 = [100, 1000, 10000, 100000]\n",
    "# V = [0, 0.5, 1]\n",
    "# ALPHA = [100, 1000, 10000, 100000]\n",
    "\n",
    "L2 = [5000, 10000, 15000, 20000, 50000]\n",
    "V = [0.75, 1]\n",
    "ALPHA = [500, 1000, 1500, 2000, 5000]\n",
    "\n",
    "HYPERPARAMS = {'k': K, 'l2': L2, 'v': V, 'alpha': ALPHA, 'max_iterations': MAX_IT, 'default_context_1': DEFAULT_CONTEXT_1}\n",
    "HYPERPARAMS"
   ]
  },
  {
   "cell_type": "markdown",
   "id": "32d25f41",
   "metadata": {},
   "source": [
    "## Parse data"
   ]
  },
  {
   "cell_type": "code",
   "execution_count": 6,
   "id": "ce0d0435",
   "metadata": {},
   "outputs": [
    {
     "data": {
      "text/html": [
       "<div>\n",
       "<style scoped>\n",
       "    .dataframe tbody tr th:only-of-type {\n",
       "        vertical-align: middle;\n",
       "    }\n",
       "\n",
       "    .dataframe tbody tr th {\n",
       "        vertical-align: top;\n",
       "    }\n",
       "\n",
       "    .dataframe thead th {\n",
       "        text-align: right;\n",
       "    }\n",
       "</style>\n",
       "<table border=\"1\" class=\"dataframe\">\n",
       "  <thead>\n",
       "    <tr style=\"text-align: right;\">\n",
       "      <th></th>\n",
       "      <th>userId</th>\n",
       "      <th>itemId</th>\n",
       "      <th>TripType</th>\n",
       "      <th>UserState</th>\n",
       "    </tr>\n",
       "  </thead>\n",
       "  <tbody>\n",
       "    <tr>\n",
       "      <th>0</th>\n",
       "      <td>1899</td>\n",
       "      <td>1865</td>\n",
       "      <td>1</td>\n",
       "      <td>1</td>\n",
       "    </tr>\n",
       "    <tr>\n",
       "      <th>1</th>\n",
       "      <td>466</td>\n",
       "      <td>721</td>\n",
       "      <td>1</td>\n",
       "      <td>1</td>\n",
       "    </tr>\n",
       "    <tr>\n",
       "      <th>2</th>\n",
       "      <td>1992</td>\n",
       "      <td>451</td>\n",
       "      <td>2</td>\n",
       "      <td>1</td>\n",
       "    </tr>\n",
       "    <tr>\n",
       "      <th>3</th>\n",
       "      <td>466</td>\n",
       "      <td>1016</td>\n",
       "      <td>1</td>\n",
       "      <td>1</td>\n",
       "    </tr>\n",
       "    <tr>\n",
       "      <th>4</th>\n",
       "      <td>1441</td>\n",
       "      <td>414</td>\n",
       "      <td>3</td>\n",
       "      <td>1</td>\n",
       "    </tr>\n",
       "    <tr>\n",
       "      <th>...</th>\n",
       "      <td>...</td>\n",
       "      <td>...</td>\n",
       "      <td>...</td>\n",
       "      <td>...</td>\n",
       "    </tr>\n",
       "    <tr>\n",
       "      <th>12831</th>\n",
       "      <td>936</td>\n",
       "      <td>341</td>\n",
       "      <td>3</td>\n",
       "      <td>78</td>\n",
       "    </tr>\n",
       "    <tr>\n",
       "      <th>12832</th>\n",
       "      <td>1545</td>\n",
       "      <td>1936</td>\n",
       "      <td>3</td>\n",
       "      <td>78</td>\n",
       "    </tr>\n",
       "    <tr>\n",
       "      <th>12833</th>\n",
       "      <td>399</td>\n",
       "      <td>1556</td>\n",
       "      <td>2</td>\n",
       "      <td>79</td>\n",
       "    </tr>\n",
       "    <tr>\n",
       "      <th>12834</th>\n",
       "      <td>918</td>\n",
       "      <td>1380</td>\n",
       "      <td>5</td>\n",
       "      <td>79</td>\n",
       "    </tr>\n",
       "    <tr>\n",
       "      <th>12835</th>\n",
       "      <td>399</td>\n",
       "      <td>264</td>\n",
       "      <td>2</td>\n",
       "      <td>79</td>\n",
       "    </tr>\n",
       "  </tbody>\n",
       "</table>\n",
       "<p>12836 rows × 4 columns</p>\n",
       "</div>"
      ],
      "text/plain": [
       "       userId  itemId  TripType  UserState\n",
       "0        1899    1865         1          1\n",
       "1         466     721         1          1\n",
       "2        1992     451         2          1\n",
       "3         466    1016         1          1\n",
       "4        1441     414         3          1\n",
       "...       ...     ...       ...        ...\n",
       "12831     936     341         3         78\n",
       "12832    1545    1936         3         78\n",
       "12833     399    1556         2         79\n",
       "12834     918    1380         5         79\n",
       "12835     399     264         2         79\n",
       "\n",
       "[12836 rows x 4 columns]"
      ]
     },
     "execution_count": 6,
     "metadata": {},
     "output_type": "execute_result"
    }
   ],
   "source": [
    "data = io.parse_interactions_with_context(INTERACTIONS, item_id=ITEM_ID, user_id=USER_ID)\n",
    "data.df"
   ]
  },
  {
   "cell_type": "markdown",
   "id": "4bef86fe",
   "metadata": {},
   "source": [
    "## Make train/val split for hyperparam tuning"
   ]
  },
  {
   "cell_type": "code",
   "execution_count": 7,
   "id": "95fe8671",
   "metadata": {},
   "outputs": [],
   "source": [
    "train, test = evaluation.splits.context_leave_one_out_split(data, seed=SEED)"
   ]
  },
  {
   "cell_type": "markdown",
   "id": "fc85ffb4",
   "metadata": {},
   "source": [
    "## Perform gridsearch on validation set"
   ]
  },
  {
   "cell_type": "code",
   "execution_count": 8,
   "id": "36a9347a",
   "metadata": {
    "scrolled": true
   },
   "outputs": [
    {
     "data": {
      "application/vnd.jupyter.widget-view+json": {
       "model_id": "e96df82c85de46889b6705b45271a0df",
       "version_major": 2,
       "version_minor": 0
      },
      "text/plain": [
       "  0%|          | 0/50 [00:00<?, ?it/s]"
      ]
     },
     "metadata": {},
     "output_type": "display_data"
    },
    {
     "name": "stdout",
     "output_type": "stream",
     "text": [
      "Training model iTALS with hyperparameters {'k': 80, 'l2': 5000, 'v': 0.75, 'alpha': 500, 'max_iterations': 10, 'default_context_1': True}\n"
     ]
    },
    {
     "data": {
      "application/vnd.jupyter.widget-view+json": {
       "model_id": "98771733043d4ab8a03c6c3fd317fd12",
       "version_major": 2,
       "version_minor": 0
      },
      "text/plain": [
       "  0%|          | 0/10 [00:00<?, ?it/s]"
      ]
     },
     "metadata": {},
     "output_type": "display_data"
    },
    {
     "name": "stdout",
     "output_type": "stream",
     "text": [
      "Evaluating with 2362 users\n",
      "MRR@5 0.01\n",
      "MRR@20 0.015\n",
      "Average Recall@5 0.018\n",
      "Average Recall@20 0.068\n",
      "Training model iTALS with hyperparameters {'k': 80, 'l2': 10000, 'v': 0.75, 'alpha': 500, 'max_iterations': 10, 'default_context_1': True}\n"
     ]
    },
    {
     "data": {
      "application/vnd.jupyter.widget-view+json": {
       "model_id": "e1f5bec05cfb45d3afb1cb51775718c4",
       "version_major": 2,
       "version_minor": 0
      },
      "text/plain": [
       "  0%|          | 0/10 [00:00<?, ?it/s]"
      ]
     },
     "metadata": {},
     "output_type": "display_data"
    },
    {
     "name": "stdout",
     "output_type": "stream",
     "text": [
      "Evaluating with 2362 users\n",
      "MRR@5 0.01\n",
      "MRR@20 0.015\n",
      "Average Recall@5 0.018\n",
      "Average Recall@20 0.067\n",
      "Training model iTALS with hyperparameters {'k': 80, 'l2': 15000, 'v': 0.75, 'alpha': 500, 'max_iterations': 10, 'default_context_1': True}\n"
     ]
    },
    {
     "data": {
      "application/vnd.jupyter.widget-view+json": {
       "model_id": "1cc028cd963147fc831d9098c097d6db",
       "version_major": 2,
       "version_minor": 0
      },
      "text/plain": [
       "  0%|          | 0/10 [00:00<?, ?it/s]"
      ]
     },
     "metadata": {},
     "output_type": "display_data"
    },
    {
     "name": "stdout",
     "output_type": "stream",
     "text": [
      "Evaluating with 2362 users\n",
      "MRR@5 0.01\n",
      "MRR@20 0.015\n",
      "Average Recall@5 0.018\n",
      "Average Recall@20 0.067\n",
      "Training model iTALS with hyperparameters {'k': 80, 'l2': 20000, 'v': 0.75, 'alpha': 500, 'max_iterations': 10, 'default_context_1': True}\n"
     ]
    },
    {
     "data": {
      "application/vnd.jupyter.widget-view+json": {
       "model_id": "910a01d53c514e58863b0604c7bb1e40",
       "version_major": 2,
       "version_minor": 0
      },
      "text/plain": [
       "  0%|          | 0/10 [00:00<?, ?it/s]"
      ]
     },
     "metadata": {},
     "output_type": "display_data"
    },
    {
     "name": "stdout",
     "output_type": "stream",
     "text": [
      "Evaluating with 2362 users\n",
      "MRR@5 0.01\n",
      "MRR@20 0.015\n",
      "Average Recall@5 0.018\n",
      "Average Recall@20 0.067\n",
      "Training model iTALS with hyperparameters {'k': 80, 'l2': 50000, 'v': 0.75, 'alpha': 500, 'max_iterations': 10, 'default_context_1': True}\n"
     ]
    },
    {
     "data": {
      "application/vnd.jupyter.widget-view+json": {
       "model_id": "66b07aced7e3485e8729d8c4fd7dda30",
       "version_major": 2,
       "version_minor": 0
      },
      "text/plain": [
       "  0%|          | 0/10 [00:00<?, ?it/s]"
      ]
     },
     "metadata": {},
     "output_type": "display_data"
    },
    {
     "name": "stdout",
     "output_type": "stream",
     "text": [
      "Evaluating with 2362 users\n",
      "MRR@5 0.01\n",
      "MRR@20 0.015\n",
      "Average Recall@5 0.018\n",
      "Average Recall@20 0.067\n",
      "Training model iTALS with hyperparameters {'k': 80, 'l2': 5000, 'v': 1, 'alpha': 500, 'max_iterations': 10, 'default_context_1': True}\n"
     ]
    },
    {
     "data": {
      "application/vnd.jupyter.widget-view+json": {
       "model_id": "d99ddd48f057473090a2534375117864",
       "version_major": 2,
       "version_minor": 0
      },
      "text/plain": [
       "  0%|          | 0/10 [00:00<?, ?it/s]"
      ]
     },
     "metadata": {},
     "output_type": "display_data"
    },
    {
     "name": "stdout",
     "output_type": "stream",
     "text": [
      "Evaluating with 2362 users\n",
      "MRR@5 0.022\n",
      "MRR@20 0.028\n",
      "Average Recall@5 0.041\n",
      "Average Recall@20 0.097\n",
      "Training model iTALS with hyperparameters {'k': 80, 'l2': 10000, 'v': 1, 'alpha': 500, 'max_iterations': 10, 'default_context_1': True}\n"
     ]
    },
    {
     "data": {
      "application/vnd.jupyter.widget-view+json": {
       "model_id": "9df9dec789e54d339da6ca9384ab51ac",
       "version_major": 2,
       "version_minor": 0
      },
      "text/plain": [
       "  0%|          | 0/10 [00:00<?, ?it/s]"
      ]
     },
     "metadata": {},
     "output_type": "display_data"
    },
    {
     "name": "stdout",
     "output_type": "stream",
     "text": [
      "Evaluating with 2362 users\n",
      "MRR@5 0.01\n",
      "MRR@20 0.015\n",
      "Average Recall@5 0.018\n",
      "Average Recall@20 0.067\n",
      "Training model iTALS with hyperparameters {'k': 80, 'l2': 15000, 'v': 1, 'alpha': 500, 'max_iterations': 10, 'default_context_1': True}\n"
     ]
    },
    {
     "data": {
      "application/vnd.jupyter.widget-view+json": {
       "model_id": "7a17fe0f27e04089b20dd8468c54d481",
       "version_major": 2,
       "version_minor": 0
      },
      "text/plain": [
       "  0%|          | 0/10 [00:00<?, ?it/s]"
      ]
     },
     "metadata": {},
     "output_type": "display_data"
    },
    {
     "name": "stdout",
     "output_type": "stream",
     "text": [
      "Evaluating with 2362 users\n",
      "MRR@5 0.01\n",
      "MRR@20 0.015\n",
      "Average Recall@5 0.019\n",
      "Average Recall@20 0.068\n",
      "Training model iTALS with hyperparameters {'k': 80, 'l2': 20000, 'v': 1, 'alpha': 500, 'max_iterations': 10, 'default_context_1': True}\n"
     ]
    },
    {
     "data": {
      "application/vnd.jupyter.widget-view+json": {
       "model_id": "fc37c0effff640f39b37df8362720c4a",
       "version_major": 2,
       "version_minor": 0
      },
      "text/plain": [
       "  0%|          | 0/10 [00:00<?, ?it/s]"
      ]
     },
     "metadata": {},
     "output_type": "display_data"
    },
    {
     "name": "stdout",
     "output_type": "stream",
     "text": [
      "Evaluating with 2362 users\n",
      "MRR@5 0.01\n",
      "MRR@20 0.015\n",
      "Average Recall@5 0.018\n",
      "Average Recall@20 0.067\n",
      "Training model iTALS with hyperparameters {'k': 80, 'l2': 50000, 'v': 1, 'alpha': 500, 'max_iterations': 10, 'default_context_1': True}\n"
     ]
    },
    {
     "data": {
      "application/vnd.jupyter.widget-view+json": {
       "model_id": "284c1b3c92774c7d96572519dbf1256f",
       "version_major": 2,
       "version_minor": 0
      },
      "text/plain": [
       "  0%|          | 0/10 [00:00<?, ?it/s]"
      ]
     },
     "metadata": {},
     "output_type": "display_data"
    },
    {
     "name": "stdout",
     "output_type": "stream",
     "text": [
      "Evaluating with 2362 users\n",
      "MRR@5 0.01\n",
      "MRR@20 0.015\n",
      "Average Recall@5 0.018\n",
      "Average Recall@20 0.067\n",
      "Training model iTALS with hyperparameters {'k': 80, 'l2': 5000, 'v': 0.75, 'alpha': 1000, 'max_iterations': 10, 'default_context_1': True}\n"
     ]
    },
    {
     "data": {
      "application/vnd.jupyter.widget-view+json": {
       "model_id": "c65c247cf5354defa5f4e0daeb978480",
       "version_major": 2,
       "version_minor": 0
      },
      "text/plain": [
       "  0%|          | 0/10 [00:00<?, ?it/s]"
      ]
     },
     "metadata": {},
     "output_type": "display_data"
    },
    {
     "name": "stdout",
     "output_type": "stream",
     "text": [
      "Evaluating with 2362 users\n",
      "MRR@5 0.023\n",
      "MRR@20 0.028\n",
      "Average Recall@5 0.039\n",
      "Average Recall@20 0.096\n",
      "Training model iTALS with hyperparameters {'k': 80, 'l2': 10000, 'v': 0.75, 'alpha': 1000, 'max_iterations': 10, 'default_context_1': True}\n"
     ]
    },
    {
     "data": {
      "application/vnd.jupyter.widget-view+json": {
       "model_id": "b8c9ee30ac5a44f7b3a7fa3215159295",
       "version_major": 2,
       "version_minor": 0
      },
      "text/plain": [
       "  0%|          | 0/10 [00:00<?, ?it/s]"
      ]
     },
     "metadata": {},
     "output_type": "display_data"
    },
    {
     "name": "stdout",
     "output_type": "stream",
     "text": [
      "Evaluating with 2362 users\n",
      "MRR@5 0.01\n",
      "MRR@20 0.015\n",
      "Average Recall@5 0.018\n",
      "Average Recall@20 0.067\n",
      "Training model iTALS with hyperparameters {'k': 80, 'l2': 15000, 'v': 0.75, 'alpha': 1000, 'max_iterations': 10, 'default_context_1': True}\n"
     ]
    },
    {
     "data": {
      "application/vnd.jupyter.widget-view+json": {
       "model_id": "77aeccc7dc134c8fa31429066e137e24",
       "version_major": 2,
       "version_minor": 0
      },
      "text/plain": [
       "  0%|          | 0/10 [00:00<?, ?it/s]"
      ]
     },
     "metadata": {},
     "output_type": "display_data"
    },
    {
     "name": "stdout",
     "output_type": "stream",
     "text": [
      "Evaluating with 2362 users\n",
      "MRR@5 0.01\n",
      "MRR@20 0.015\n",
      "Average Recall@5 0.018\n",
      "Average Recall@20 0.067\n",
      "Training model iTALS with hyperparameters {'k': 80, 'l2': 20000, 'v': 0.75, 'alpha': 1000, 'max_iterations': 10, 'default_context_1': True}\n"
     ]
    },
    {
     "data": {
      "application/vnd.jupyter.widget-view+json": {
       "model_id": "567ad12cc5844c46b1564f65e71b60f2",
       "version_major": 2,
       "version_minor": 0
      },
      "text/plain": [
       "  0%|          | 0/10 [00:00<?, ?it/s]"
      ]
     },
     "metadata": {},
     "output_type": "display_data"
    },
    {
     "name": "stdout",
     "output_type": "stream",
     "text": [
      "Evaluating with 2362 users\n",
      "MRR@5 0.01\n",
      "MRR@20 0.015\n",
      "Average Recall@5 0.018\n",
      "Average Recall@20 0.067\n",
      "Training model iTALS with hyperparameters {'k': 80, 'l2': 50000, 'v': 0.75, 'alpha': 1000, 'max_iterations': 10, 'default_context_1': True}\n"
     ]
    },
    {
     "data": {
      "application/vnd.jupyter.widget-view+json": {
       "model_id": "5f903d80c440431c9770d4ea4ce933da",
       "version_major": 2,
       "version_minor": 0
      },
      "text/plain": [
       "  0%|          | 0/10 [00:00<?, ?it/s]"
      ]
     },
     "metadata": {},
     "output_type": "display_data"
    },
    {
     "name": "stdout",
     "output_type": "stream",
     "text": [
      "Evaluating with 2362 users\n",
      "MRR@5 0.01\n",
      "MRR@20 0.015\n",
      "Average Recall@5 0.018\n",
      "Average Recall@20 0.067\n",
      "Training model iTALS with hyperparameters {'k': 80, 'l2': 5000, 'v': 1, 'alpha': 1000, 'max_iterations': 10, 'default_context_1': True}\n"
     ]
    },
    {
     "data": {
      "application/vnd.jupyter.widget-view+json": {
       "model_id": "654954991e154ec88dc8b57f08afb526",
       "version_major": 2,
       "version_minor": 0
      },
      "text/plain": [
       "  0%|          | 0/10 [00:00<?, ?it/s]"
      ]
     },
     "metadata": {},
     "output_type": "display_data"
    },
    {
     "name": "stdout",
     "output_type": "stream",
     "text": [
      "Evaluating with 2362 users\n",
      "MRR@5 0.021\n",
      "MRR@20 0.026\n",
      "Average Recall@5 0.034\n",
      "Average Recall@20 0.088\n",
      "Training model iTALS with hyperparameters {'k': 80, 'l2': 10000, 'v': 1, 'alpha': 1000, 'max_iterations': 10, 'default_context_1': True}\n"
     ]
    },
    {
     "data": {
      "application/vnd.jupyter.widget-view+json": {
       "model_id": "98527e4ac0e64d428b1b46efab7b15a6",
       "version_major": 2,
       "version_minor": 0
      },
      "text/plain": [
       "  0%|          | 0/10 [00:00<?, ?it/s]"
      ]
     },
     "metadata": {},
     "output_type": "display_data"
    },
    {
     "name": "stdout",
     "output_type": "stream",
     "text": [
      "Evaluating with 2362 users\n",
      "MRR@5 0.022\n",
      "MRR@20 0.028\n",
      "Average Recall@5 0.04\n",
      "Average Recall@20 0.097\n",
      "Training model iTALS with hyperparameters {'k': 80, 'l2': 15000, 'v': 1, 'alpha': 1000, 'max_iterations': 10, 'default_context_1': True}\n"
     ]
    },
    {
     "data": {
      "application/vnd.jupyter.widget-view+json": {
       "model_id": "2b674696566a4d9293f3e9fb40e854b7",
       "version_major": 2,
       "version_minor": 0
      },
      "text/plain": [
       "  0%|          | 0/10 [00:00<?, ?it/s]"
      ]
     },
     "metadata": {},
     "output_type": "display_data"
    },
    {
     "name": "stdout",
     "output_type": "stream",
     "text": [
      "Evaluating with 2362 users\n",
      "MRR@5 0.01\n",
      "MRR@20 0.015\n",
      "Average Recall@5 0.018\n",
      "Average Recall@20 0.067\n",
      "Training model iTALS with hyperparameters {'k': 80, 'l2': 20000, 'v': 1, 'alpha': 1000, 'max_iterations': 10, 'default_context_1': True}\n"
     ]
    },
    {
     "data": {
      "application/vnd.jupyter.widget-view+json": {
       "model_id": "dd6b4eefd1fb43cebb2ed9746060a4f8",
       "version_major": 2,
       "version_minor": 0
      },
      "text/plain": [
       "  0%|          | 0/10 [00:00<?, ?it/s]"
      ]
     },
     "metadata": {},
     "output_type": "display_data"
    },
    {
     "name": "stdout",
     "output_type": "stream",
     "text": [
      "Evaluating with 2362 users\n",
      "MRR@5 0.01\n",
      "MRR@20 0.015\n",
      "Average Recall@5 0.018\n",
      "Average Recall@20 0.067\n",
      "Training model iTALS with hyperparameters {'k': 80, 'l2': 50000, 'v': 1, 'alpha': 1000, 'max_iterations': 10, 'default_context_1': True}\n"
     ]
    },
    {
     "data": {
      "application/vnd.jupyter.widget-view+json": {
       "model_id": "2437fc1f421a40e5914187c4fc5f9b13",
       "version_major": 2,
       "version_minor": 0
      },
      "text/plain": [
       "  0%|          | 0/10 [00:00<?, ?it/s]"
      ]
     },
     "metadata": {},
     "output_type": "display_data"
    },
    {
     "name": "stdout",
     "output_type": "stream",
     "text": [
      "Evaluating with 2362 users\n",
      "MRR@5 0.01\n",
      "MRR@20 0.015\n",
      "Average Recall@5 0.018\n",
      "Average Recall@20 0.067\n",
      "Training model iTALS with hyperparameters {'k': 80, 'l2': 5000, 'v': 0.75, 'alpha': 1500, 'max_iterations': 10, 'default_context_1': True}\n"
     ]
    },
    {
     "data": {
      "application/vnd.jupyter.widget-view+json": {
       "model_id": "3cb308dbaba54cfd95bae669a81b5530",
       "version_major": 2,
       "version_minor": 0
      },
      "text/plain": [
       "  0%|          | 0/10 [00:00<?, ?it/s]"
      ]
     },
     "metadata": {},
     "output_type": "display_data"
    },
    {
     "name": "stdout",
     "output_type": "stream",
     "text": [
      "Evaluating with 2362 users\n",
      "MRR@5 0.02\n",
      "MRR@20 0.025\n",
      "Average Recall@5 0.035\n",
      "Average Recall@20 0.087\n",
      "Training model iTALS with hyperparameters {'k': 80, 'l2': 10000, 'v': 0.75, 'alpha': 1500, 'max_iterations': 10, 'default_context_1': True}\n"
     ]
    },
    {
     "data": {
      "application/vnd.jupyter.widget-view+json": {
       "model_id": "23225c9c8b7947ecb6c56f79fbf286c5",
       "version_major": 2,
       "version_minor": 0
      },
      "text/plain": [
       "  0%|          | 0/10 [00:00<?, ?it/s]"
      ]
     },
     "metadata": {},
     "output_type": "display_data"
    },
    {
     "name": "stdout",
     "output_type": "stream",
     "text": [
      "Evaluating with 2362 users\n",
      "MRR@5 0.022\n",
      "MRR@20 0.028\n",
      "Average Recall@5 0.039\n",
      "Average Recall@20 0.1\n",
      "Training model iTALS with hyperparameters {'k': 80, 'l2': 15000, 'v': 0.75, 'alpha': 1500, 'max_iterations': 10, 'default_context_1': True}\n"
     ]
    },
    {
     "data": {
      "application/vnd.jupyter.widget-view+json": {
       "model_id": "b099c8a03fe44b4fbd32dd83e022a25a",
       "version_major": 2,
       "version_minor": 0
      },
      "text/plain": [
       "  0%|          | 0/10 [00:00<?, ?it/s]"
      ]
     },
     "metadata": {},
     "output_type": "display_data"
    },
    {
     "name": "stdout",
     "output_type": "stream",
     "text": [
      "Evaluating with 2362 users\n",
      "MRR@5 0.01\n",
      "MRR@20 0.015\n",
      "Average Recall@5 0.018\n",
      "Average Recall@20 0.067\n",
      "Training model iTALS with hyperparameters {'k': 80, 'l2': 20000, 'v': 0.75, 'alpha': 1500, 'max_iterations': 10, 'default_context_1': True}\n"
     ]
    },
    {
     "data": {
      "application/vnd.jupyter.widget-view+json": {
       "model_id": "9a8a3787412e4cd7aa604ead9e35b891",
       "version_major": 2,
       "version_minor": 0
      },
      "text/plain": [
       "  0%|          | 0/10 [00:00<?, ?it/s]"
      ]
     },
     "metadata": {},
     "output_type": "display_data"
    },
    {
     "name": "stdout",
     "output_type": "stream",
     "text": [
      "Evaluating with 2362 users\n",
      "MRR@5 0.01\n",
      "MRR@20 0.015\n",
      "Average Recall@5 0.018\n",
      "Average Recall@20 0.067\n",
      "Training model iTALS with hyperparameters {'k': 80, 'l2': 50000, 'v': 0.75, 'alpha': 1500, 'max_iterations': 10, 'default_context_1': True}\n"
     ]
    },
    {
     "data": {
      "application/vnd.jupyter.widget-view+json": {
       "model_id": "4ea7289340094784b5ae057d91cf7fea",
       "version_major": 2,
       "version_minor": 0
      },
      "text/plain": [
       "  0%|          | 0/10 [00:00<?, ?it/s]"
      ]
     },
     "metadata": {},
     "output_type": "display_data"
    },
    {
     "name": "stdout",
     "output_type": "stream",
     "text": [
      "Evaluating with 2362 users\n",
      "MRR@5 0.01\n",
      "MRR@20 0.015\n",
      "Average Recall@5 0.018\n",
      "Average Recall@20 0.067\n",
      "Training model iTALS with hyperparameters {'k': 80, 'l2': 5000, 'v': 1, 'alpha': 1500, 'max_iterations': 10, 'default_context_1': True}\n"
     ]
    },
    {
     "data": {
      "application/vnd.jupyter.widget-view+json": {
       "model_id": "7946146a19d14818965f188d606deebb",
       "version_major": 2,
       "version_minor": 0
      },
      "text/plain": [
       "  0%|          | 0/10 [00:00<?, ?it/s]"
      ]
     },
     "metadata": {},
     "output_type": "display_data"
    },
    {
     "name": "stdout",
     "output_type": "stream",
     "text": [
      "Evaluating with 2362 users\n",
      "MRR@5 0.02\n",
      "MRR@20 0.025\n",
      "Average Recall@5 0.038\n",
      "Average Recall@20 0.086\n",
      "Training model iTALS with hyperparameters {'k': 80, 'l2': 10000, 'v': 1, 'alpha': 1500, 'max_iterations': 10, 'default_context_1': True}\n"
     ]
    },
    {
     "data": {
      "application/vnd.jupyter.widget-view+json": {
       "model_id": "69e6e8a5feba489d993bb4f5ae385c0f",
       "version_major": 2,
       "version_minor": 0
      },
      "text/plain": [
       "  0%|          | 0/10 [00:00<?, ?it/s]"
      ]
     },
     "metadata": {},
     "output_type": "display_data"
    },
    {
     "name": "stdout",
     "output_type": "stream",
     "text": [
      "Evaluating with 2362 users\n",
      "MRR@5 0.022\n",
      "MRR@20 0.027\n",
      "Average Recall@5 0.039\n",
      "Average Recall@20 0.094\n",
      "Training model iTALS with hyperparameters {'k': 80, 'l2': 15000, 'v': 1, 'alpha': 1500, 'max_iterations': 10, 'default_context_1': True}\n"
     ]
    },
    {
     "data": {
      "application/vnd.jupyter.widget-view+json": {
       "model_id": "aa269434192b42bfb4d36991d641e028",
       "version_major": 2,
       "version_minor": 0
      },
      "text/plain": [
       "  0%|          | 0/10 [00:00<?, ?it/s]"
      ]
     },
     "metadata": {},
     "output_type": "display_data"
    },
    {
     "name": "stdout",
     "output_type": "stream",
     "text": [
      "Evaluating with 2362 users\n",
      "MRR@5 0.022\n",
      "MRR@20 0.027\n",
      "Average Recall@5 0.039\n",
      "Average Recall@20 0.098\n",
      "Training model iTALS with hyperparameters {'k': 80, 'l2': 20000, 'v': 1, 'alpha': 1500, 'max_iterations': 10, 'default_context_1': True}\n"
     ]
    },
    {
     "data": {
      "application/vnd.jupyter.widget-view+json": {
       "model_id": "7f0e488643314eb296ddb6b35048ab27",
       "version_major": 2,
       "version_minor": 0
      },
      "text/plain": [
       "  0%|          | 0/10 [00:00<?, ?it/s]"
      ]
     },
     "metadata": {},
     "output_type": "display_data"
    },
    {
     "name": "stdout",
     "output_type": "stream",
     "text": [
      "Evaluating with 2362 users\n",
      "MRR@5 0.01\n",
      "MRR@20 0.015\n",
      "Average Recall@5 0.017\n",
      "Average Recall@20 0.072\n",
      "Training model iTALS with hyperparameters {'k': 80, 'l2': 50000, 'v': 1, 'alpha': 1500, 'max_iterations': 10, 'default_context_1': True}\n"
     ]
    },
    {
     "data": {
      "application/vnd.jupyter.widget-view+json": {
       "model_id": "063cc82f367b4182901d783041ef7b8c",
       "version_major": 2,
       "version_minor": 0
      },
      "text/plain": [
       "  0%|          | 0/10 [00:00<?, ?it/s]"
      ]
     },
     "metadata": {},
     "output_type": "display_data"
    },
    {
     "name": "stdout",
     "output_type": "stream",
     "text": [
      "Evaluating with 2362 users\n",
      "MRR@5 0.01\n",
      "MRR@20 0.015\n",
      "Average Recall@5 0.018\n",
      "Average Recall@20 0.067\n",
      "Training model iTALS with hyperparameters {'k': 80, 'l2': 5000, 'v': 0.75, 'alpha': 2000, 'max_iterations': 10, 'default_context_1': True}\n"
     ]
    },
    {
     "data": {
      "application/vnd.jupyter.widget-view+json": {
       "model_id": "b39bbe14b2c94f848e9565e11a6cf3f8",
       "version_major": 2,
       "version_minor": 0
      },
      "text/plain": [
       "  0%|          | 0/10 [00:00<?, ?it/s]"
      ]
     },
     "metadata": {},
     "output_type": "display_data"
    },
    {
     "name": "stdout",
     "output_type": "stream",
     "text": [
      "Evaluating with 2362 users\n",
      "MRR@5 0.02\n",
      "MRR@20 0.024\n",
      "Average Recall@5 0.037\n",
      "Average Recall@20 0.089\n",
      "Training model iTALS with hyperparameters {'k': 80, 'l2': 10000, 'v': 0.75, 'alpha': 2000, 'max_iterations': 10, 'default_context_1': True}\n"
     ]
    },
    {
     "data": {
      "application/vnd.jupyter.widget-view+json": {
       "model_id": "e6db06f731cb41e2965ae422c6b5abe4",
       "version_major": 2,
       "version_minor": 0
      },
      "text/plain": [
       "  0%|          | 0/10 [00:00<?, ?it/s]"
      ]
     },
     "metadata": {},
     "output_type": "display_data"
    },
    {
     "name": "stdout",
     "output_type": "stream",
     "text": [
      "Evaluating with 2362 users\n",
      "MRR@5 0.022\n",
      "MRR@20 0.027\n",
      "Average Recall@5 0.039\n",
      "Average Recall@20 0.099\n",
      "Training model iTALS with hyperparameters {'k': 80, 'l2': 15000, 'v': 0.75, 'alpha': 2000, 'max_iterations': 10, 'default_context_1': True}\n"
     ]
    },
    {
     "data": {
      "application/vnd.jupyter.widget-view+json": {
       "model_id": "e973e568c4624dc8a6ac140d685a326c",
       "version_major": 2,
       "version_minor": 0
      },
      "text/plain": [
       "  0%|          | 0/10 [00:00<?, ?it/s]"
      ]
     },
     "metadata": {},
     "output_type": "display_data"
    },
    {
     "name": "stdout",
     "output_type": "stream",
     "text": [
      "Evaluating with 2362 users\n",
      "MRR@5 0.02\n",
      "MRR@20 0.025\n",
      "Average Recall@5 0.035\n",
      "Average Recall@20 0.093\n",
      "Training model iTALS with hyperparameters {'k': 80, 'l2': 20000, 'v': 0.75, 'alpha': 2000, 'max_iterations': 10, 'default_context_1': True}\n"
     ]
    },
    {
     "data": {
      "application/vnd.jupyter.widget-view+json": {
       "model_id": "5fb7a0e232164b61ae173deff0a7f666",
       "version_major": 2,
       "version_minor": 0
      },
      "text/plain": [
       "  0%|          | 0/10 [00:00<?, ?it/s]"
      ]
     },
     "metadata": {},
     "output_type": "display_data"
    },
    {
     "name": "stdout",
     "output_type": "stream",
     "text": [
      "Evaluating with 2362 users\n",
      "MRR@5 0.01\n",
      "MRR@20 0.015\n",
      "Average Recall@5 0.018\n",
      "Average Recall@20 0.067\n",
      "Training model iTALS with hyperparameters {'k': 80, 'l2': 50000, 'v': 0.75, 'alpha': 2000, 'max_iterations': 10, 'default_context_1': True}\n"
     ]
    },
    {
     "data": {
      "application/vnd.jupyter.widget-view+json": {
       "model_id": "2a19421d75ba4f769339aafee1e7e739",
       "version_major": 2,
       "version_minor": 0
      },
      "text/plain": [
       "  0%|          | 0/10 [00:00<?, ?it/s]"
      ]
     },
     "metadata": {},
     "output_type": "display_data"
    },
    {
     "name": "stdout",
     "output_type": "stream",
     "text": [
      "Evaluating with 2362 users\n",
      "MRR@5 0.01\n",
      "MRR@20 0.015\n",
      "Average Recall@5 0.018\n",
      "Average Recall@20 0.067\n",
      "Training model iTALS with hyperparameters {'k': 80, 'l2': 5000, 'v': 1, 'alpha': 2000, 'max_iterations': 10, 'default_context_1': True}\n"
     ]
    },
    {
     "data": {
      "application/vnd.jupyter.widget-view+json": {
       "model_id": "07b7fd2012bb46f2813054dcfa0a47a4",
       "version_major": 2,
       "version_minor": 0
      },
      "text/plain": [
       "  0%|          | 0/10 [00:00<?, ?it/s]"
      ]
     },
     "metadata": {},
     "output_type": "display_data"
    },
    {
     "name": "stdout",
     "output_type": "stream",
     "text": [
      "Evaluating with 2362 users\n",
      "MRR@5 0.018\n",
      "MRR@20 0.023\n",
      "Average Recall@5 0.035\n",
      "Average Recall@20 0.084\n",
      "Training model iTALS with hyperparameters {'k': 80, 'l2': 10000, 'v': 1, 'alpha': 2000, 'max_iterations': 10, 'default_context_1': True}\n"
     ]
    },
    {
     "data": {
      "application/vnd.jupyter.widget-view+json": {
       "model_id": "786d7befe83a4c19bfec8c2a440e6e26",
       "version_major": 2,
       "version_minor": 0
      },
      "text/plain": [
       "  0%|          | 0/10 [00:00<?, ?it/s]"
      ]
     },
     "metadata": {},
     "output_type": "display_data"
    },
    {
     "name": "stdout",
     "output_type": "stream",
     "text": [
      "Evaluating with 2362 users\n",
      "MRR@5 0.022\n",
      "MRR@20 0.027\n",
      "Average Recall@5 0.036\n",
      "Average Recall@20 0.092\n",
      "Training model iTALS with hyperparameters {'k': 80, 'l2': 15000, 'v': 1, 'alpha': 2000, 'max_iterations': 10, 'default_context_1': True}\n"
     ]
    },
    {
     "data": {
      "application/vnd.jupyter.widget-view+json": {
       "model_id": "111f541274444d22ba733dd5d68448ef",
       "version_major": 2,
       "version_minor": 0
      },
      "text/plain": [
       "  0%|          | 0/10 [00:00<?, ?it/s]"
      ]
     },
     "metadata": {},
     "output_type": "display_data"
    },
    {
     "name": "stdout",
     "output_type": "stream",
     "text": [
      "Evaluating with 2362 users\n",
      "MRR@5 0.022\n",
      "MRR@20 0.027\n",
      "Average Recall@5 0.039\n",
      "Average Recall@20 0.097\n",
      "Training model iTALS with hyperparameters {'k': 80, 'l2': 20000, 'v': 1, 'alpha': 2000, 'max_iterations': 10, 'default_context_1': True}\n"
     ]
    },
    {
     "data": {
      "application/vnd.jupyter.widget-view+json": {
       "model_id": "24df314d48bd412293ec97a0a0023adb",
       "version_major": 2,
       "version_minor": 0
      },
      "text/plain": [
       "  0%|          | 0/10 [00:00<?, ?it/s]"
      ]
     },
     "metadata": {},
     "output_type": "display_data"
    },
    {
     "name": "stdout",
     "output_type": "stream",
     "text": [
      "Evaluating with 2362 users\n",
      "MRR@5 0.023\n",
      "MRR@20 0.029\n",
      "Average Recall@5 0.042\n",
      "Average Recall@20 0.101\n",
      "Training model iTALS with hyperparameters {'k': 80, 'l2': 50000, 'v': 1, 'alpha': 2000, 'max_iterations': 10, 'default_context_1': True}\n"
     ]
    },
    {
     "data": {
      "application/vnd.jupyter.widget-view+json": {
       "model_id": "9979437da7b1452183b1ac6168894f2c",
       "version_major": 2,
       "version_minor": 0
      },
      "text/plain": [
       "  0%|          | 0/10 [00:00<?, ?it/s]"
      ]
     },
     "metadata": {},
     "output_type": "display_data"
    },
    {
     "name": "stdout",
     "output_type": "stream",
     "text": [
      "Evaluating with 2362 users\n",
      "MRR@5 0.01\n",
      "MRR@20 0.015\n",
      "Average Recall@5 0.018\n",
      "Average Recall@20 0.067\n",
      "Training model iTALS with hyperparameters {'k': 80, 'l2': 5000, 'v': 0.75, 'alpha': 5000, 'max_iterations': 10, 'default_context_1': True}\n"
     ]
    },
    {
     "data": {
      "application/vnd.jupyter.widget-view+json": {
       "model_id": "be6dc6ea855d44f38f0591607ae17f84",
       "version_major": 2,
       "version_minor": 0
      },
      "text/plain": [
       "  0%|          | 0/10 [00:00<?, ?it/s]"
      ]
     },
     "metadata": {},
     "output_type": "display_data"
    },
    {
     "name": "stdout",
     "output_type": "stream",
     "text": [
      "Evaluating with 2362 users\n",
      "MRR@5 0.019\n",
      "MRR@20 0.023\n",
      "Average Recall@5 0.036\n",
      "Average Recall@20 0.077\n",
      "Training model iTALS with hyperparameters {'k': 80, 'l2': 10000, 'v': 0.75, 'alpha': 5000, 'max_iterations': 10, 'default_context_1': True}\n"
     ]
    },
    {
     "data": {
      "application/vnd.jupyter.widget-view+json": {
       "model_id": "b44dc024b79741e59571012b1182725b",
       "version_major": 2,
       "version_minor": 0
      },
      "text/plain": [
       "  0%|          | 0/10 [00:00<?, ?it/s]"
      ]
     },
     "metadata": {},
     "output_type": "display_data"
    },
    {
     "name": "stdout",
     "output_type": "stream",
     "text": [
      "Evaluating with 2362 users\n",
      "MRR@5 0.022\n",
      "MRR@20 0.027\n",
      "Average Recall@5 0.039\n",
      "Average Recall@20 0.086\n",
      "Training model iTALS with hyperparameters {'k': 80, 'l2': 15000, 'v': 0.75, 'alpha': 5000, 'max_iterations': 10, 'default_context_1': True}\n"
     ]
    },
    {
     "data": {
      "application/vnd.jupyter.widget-view+json": {
       "model_id": "f682352a5a9b4ab2a0f48749be71d6f2",
       "version_major": 2,
       "version_minor": 0
      },
      "text/plain": [
       "  0%|          | 0/10 [00:00<?, ?it/s]"
      ]
     },
     "metadata": {},
     "output_type": "display_data"
    },
    {
     "name": "stdout",
     "output_type": "stream",
     "text": [
      "Evaluating with 2362 users\n",
      "MRR@5 0.023\n",
      "MRR@20 0.028\n",
      "Average Recall@5 0.039\n",
      "Average Recall@20 0.086\n",
      "Training model iTALS with hyperparameters {'k': 80, 'l2': 20000, 'v': 0.75, 'alpha': 5000, 'max_iterations': 10, 'default_context_1': True}\n"
     ]
    },
    {
     "data": {
      "application/vnd.jupyter.widget-view+json": {
       "model_id": "e91bc5c64ff04822a5af2d7397895192",
       "version_major": 2,
       "version_minor": 0
      },
      "text/plain": [
       "  0%|          | 0/10 [00:00<?, ?it/s]"
      ]
     },
     "metadata": {},
     "output_type": "display_data"
    },
    {
     "name": "stdout",
     "output_type": "stream",
     "text": [
      "Evaluating with 2362 users\n",
      "MRR@5 0.023\n",
      "MRR@20 0.029\n",
      "Average Recall@5 0.04\n",
      "Average Recall@20 0.094\n",
      "Training model iTALS with hyperparameters {'k': 80, 'l2': 50000, 'v': 0.75, 'alpha': 5000, 'max_iterations': 10, 'default_context_1': True}\n"
     ]
    },
    {
     "data": {
      "application/vnd.jupyter.widget-view+json": {
       "model_id": "c70ab07e08b34c698913a1bbc8d7c081",
       "version_major": 2,
       "version_minor": 0
      },
      "text/plain": [
       "  0%|          | 0/10 [00:00<?, ?it/s]"
      ]
     },
     "metadata": {},
     "output_type": "display_data"
    },
    {
     "name": "stdout",
     "output_type": "stream",
     "text": [
      "Evaluating with 2362 users\n",
      "MRR@5 0.01\n",
      "MRR@20 0.014\n",
      "Average Recall@5 0.018\n",
      "Average Recall@20 0.064\n",
      "Training model iTALS with hyperparameters {'k': 80, 'l2': 5000, 'v': 1, 'alpha': 5000, 'max_iterations': 10, 'default_context_1': True}\n"
     ]
    },
    {
     "data": {
      "application/vnd.jupyter.widget-view+json": {
       "model_id": "0b7af997a85b42338419253596a7de5f",
       "version_major": 2,
       "version_minor": 0
      },
      "text/plain": [
       "  0%|          | 0/10 [00:00<?, ?it/s]"
      ]
     },
     "metadata": {},
     "output_type": "display_data"
    },
    {
     "name": "stdout",
     "output_type": "stream",
     "text": [
      "Evaluating with 2362 users\n",
      "MRR@5 0.018\n",
      "MRR@20 0.022\n",
      "Average Recall@5 0.033\n",
      "Average Recall@20 0.075\n",
      "Training model iTALS with hyperparameters {'k': 80, 'l2': 10000, 'v': 1, 'alpha': 5000, 'max_iterations': 10, 'default_context_1': True}\n"
     ]
    },
    {
     "data": {
      "application/vnd.jupyter.widget-view+json": {
       "model_id": "eeaf91d0d9474ad796451abb371817dc",
       "version_major": 2,
       "version_minor": 0
      },
      "text/plain": [
       "  0%|          | 0/10 [00:00<?, ?it/s]"
      ]
     },
     "metadata": {},
     "output_type": "display_data"
    },
    {
     "name": "stdout",
     "output_type": "stream",
     "text": [
      "Evaluating with 2362 users\n",
      "MRR@5 0.021\n",
      "MRR@20 0.025\n",
      "Average Recall@5 0.037\n",
      "Average Recall@20 0.086\n",
      "Training model iTALS with hyperparameters {'k': 80, 'l2': 15000, 'v': 1, 'alpha': 5000, 'max_iterations': 10, 'default_context_1': True}\n"
     ]
    },
    {
     "data": {
      "application/vnd.jupyter.widget-view+json": {
       "model_id": "1397106125da4fdf80c77f2596357c8d",
       "version_major": 2,
       "version_minor": 0
      },
      "text/plain": [
       "  0%|          | 0/10 [00:00<?, ?it/s]"
      ]
     },
     "metadata": {},
     "output_type": "display_data"
    },
    {
     "name": "stdout",
     "output_type": "stream",
     "text": [
      "Evaluating with 2362 users\n",
      "MRR@5 0.021\n",
      "MRR@20 0.025\n",
      "Average Recall@5 0.036\n",
      "Average Recall@20 0.08\n",
      "Training model iTALS with hyperparameters {'k': 80, 'l2': 20000, 'v': 1, 'alpha': 5000, 'max_iterations': 10, 'default_context_1': True}\n"
     ]
    },
    {
     "data": {
      "application/vnd.jupyter.widget-view+json": {
       "model_id": "cca1d581d6dc480682e845bc51e51605",
       "version_major": 2,
       "version_minor": 0
      },
      "text/plain": [
       "  0%|          | 0/10 [00:00<?, ?it/s]"
      ]
     },
     "metadata": {},
     "output_type": "display_data"
    },
    {
     "name": "stdout",
     "output_type": "stream",
     "text": [
      "Evaluating with 2362 users\n",
      "MRR@5 0.023\n",
      "MRR@20 0.027\n",
      "Average Recall@5 0.041\n",
      "Average Recall@20 0.087\n",
      "Training model iTALS with hyperparameters {'k': 80, 'l2': 50000, 'v': 1, 'alpha': 5000, 'max_iterations': 10, 'default_context_1': True}\n"
     ]
    },
    {
     "data": {
      "application/vnd.jupyter.widget-view+json": {
       "model_id": "af0764595e6443dc8f211ac9d8cd24bc",
       "version_major": 2,
       "version_minor": 0
      },
      "text/plain": [
       "  0%|          | 0/10 [00:00<?, ?it/s]"
      ]
     },
     "metadata": {},
     "output_type": "display_data"
    },
    {
     "name": "stdout",
     "output_type": "stream",
     "text": [
      "Evaluating with 2362 users\n",
      "MRR@5 0.02\n",
      "MRR@20 0.026\n",
      "Average Recall@5 0.037\n",
      "Average Recall@20 0.1\n",
      "CPU times: user 9min 31s, sys: 2min 4s, total: 11min 36s\n",
      "Wall time: 18min 57s\n"
     ]
    },
    {
     "data": {
      "text/plain": [
       "\"Best score of 0.028613031052602524 achieved with {'k': 80, 'l2': 20000, 'v': 1, 'alpha': 2000, 'max_iterations': 10, 'default_context_1': True}.\""
      ]
     },
     "execution_count": 8,
     "metadata": {},
     "output_type": "execute_result"
    }
   ],
   "source": [
    "%%time\n",
    "score, best_hyperparams = evaluation.cars.gridsearch(ALG, train, test, HYPERPARAMS, retarget=RETARGET)\n",
    "f\"Best score of {score} achieved with {best_hyperparams}.\""
   ]
  },
  {
   "cell_type": "markdown",
   "id": "e89dad17",
   "metadata": {},
   "source": [
    "## Evaluate model with optimal hyperparams with KFolds Cross validation"
   ]
  },
  {
   "cell_type": "code",
   "execution_count": 9,
   "id": "81674e0b",
   "metadata": {
    "scrolled": true
   },
   "outputs": [
    {
     "data": {
      "application/vnd.jupyter.widget-view+json": {
       "model_id": "d68914e4f6234d678796e6fb49d549ff",
       "version_major": 2,
       "version_minor": 0
      },
      "text/plain": [
       "  0%|          | 0/10 [00:00<?, ?it/s]"
      ]
     },
     "metadata": {},
     "output_type": "display_data"
    },
    {
     "name": "stdout",
     "output_type": "stream",
     "text": [
      "Evaluating with 2362 users\n"
     ]
    },
    {
     "data": {
      "application/vnd.jupyter.widget-view+json": {
       "model_id": "0bf4c039ba174d92ae53a41b7f666973",
       "version_major": 2,
       "version_minor": 0
      },
      "text/plain": [
       "  0%|          | 0/10 [00:00<?, ?it/s]"
      ]
     },
     "metadata": {},
     "output_type": "display_data"
    },
    {
     "name": "stdout",
     "output_type": "stream",
     "text": [
      "Evaluating with 2362 users\n"
     ]
    },
    {
     "data": {
      "application/vnd.jupyter.widget-view+json": {
       "model_id": "38c2641223ec4563bce34945dc5e766e",
       "version_major": 2,
       "version_minor": 0
      },
      "text/plain": [
       "  0%|          | 0/10 [00:00<?, ?it/s]"
      ]
     },
     "metadata": {},
     "output_type": "display_data"
    },
    {
     "name": "stdout",
     "output_type": "stream",
     "text": [
      "Evaluating with 2362 users\n"
     ]
    },
    {
     "data": {
      "application/vnd.jupyter.widget-view+json": {
       "model_id": "cbfb13671dd4407a96b010456dc50910",
       "version_major": 2,
       "version_minor": 0
      },
      "text/plain": [
       "  0%|          | 0/10 [00:00<?, ?it/s]"
      ]
     },
     "metadata": {},
     "output_type": "display_data"
    },
    {
     "name": "stdout",
     "output_type": "stream",
     "text": [
      "Evaluating with 2362 users\n"
     ]
    },
    {
     "data": {
      "application/vnd.jupyter.widget-view+json": {
       "model_id": "e199a3c301ee4f30be802e095d02ef41",
       "version_major": 2,
       "version_minor": 0
      },
      "text/plain": [
       "  0%|          | 0/10 [00:00<?, ?it/s]"
      ]
     },
     "metadata": {},
     "output_type": "display_data"
    },
    {
     "name": "stdout",
     "output_type": "stream",
     "text": [
      "Evaluating with 2362 users\n",
      "MRR@5 0.021 (0.002)\n",
      "MRR@20 0.026 (0.002)\n",
      "Average Recall@5 0.039 (0.004)\n",
      "Average Recall@20 0.096 (0.002)\n",
      "CPU times: user 59 s, sys: 13 s, total: 1min 11s\n",
      "Wall time: 1min 57s\n"
     ]
    }
   ],
   "source": [
    "%%time\n",
    "alg = ALG(**best_hyperparams)\n",
    "results = evaluation.cars.contextKFoldsEval(alg, data, nr_folds=5, seed=SEED2, retarget=RETARGET)"
   ]
  }
 ],
 "metadata": {
  "kernelspec": {
   "display_name": "Python 3 (ipykernel)",
   "language": "python",
   "name": "python3"
  },
  "language_info": {
   "codemirror_mode": {
    "name": "ipython",
    "version": 3
   },
   "file_extension": ".py",
   "mimetype": "text/x-python",
   "name": "python",
   "nbconvert_exporter": "python",
   "pygments_lexer": "ipython3",
   "version": "3.10.6"
  }
 },
 "nbformat": 4,
 "nbformat_minor": 5
}
