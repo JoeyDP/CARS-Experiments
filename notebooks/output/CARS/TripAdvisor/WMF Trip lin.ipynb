{
 "cells": [
  {
   "cell_type": "code",
   "execution_count": 1,
   "id": "9ef88bc4",
   "metadata": {},
   "outputs": [],
   "source": [
    "%load_ext autoreload\n",
    "%autoreload 2"
   ]
  },
  {
   "cell_type": "markdown",
   "id": "55bab0c8",
   "metadata": {},
   "source": [
    "# Experiments with WMF model"
   ]
  },
  {
   "cell_type": "code",
   "execution_count": 2,
   "id": "ec55d42c",
   "metadata": {},
   "outputs": [],
   "source": [
    "from pathlib import Path\n",
    "\n",
    "import scipy.sparse\n",
    "import numpy as np\n",
    "\n",
    "import src.io as io\n",
    "import src.evaluation as evaluation\n",
    "import src.evaluation.splits\n",
    "import src.evaluation.base\n",
    "\n",
    "from src.algorithm.baseline.wmf import WMF"
   ]
  },
  {
   "cell_type": "markdown",
   "id": "c469b253",
   "metadata": {},
   "source": [
    "## Datasets"
   ]
  },
  {
   "cell_type": "code",
   "execution_count": 3,
   "id": "e0622ed1",
   "metadata": {},
   "outputs": [],
   "source": [
    "## Uncomment corresponding directory.\n",
    "## RETARGET True for Frappe, False for the others\n",
    "\n",
    "# DATA_DIR, RETARGET = Path('../../../data/CARS/Mobile_Frappe/'), True\n",
    "# DATA_DIR, RETARGET = Path('../../../data/CARS/Food_com/'), False\n",
    "DATA_DIR, RETARGET = Path('../../../data/CARS/TripAdvisor/'), False"
   ]
  },
  {
   "cell_type": "code",
   "execution_count": 4,
   "id": "d53bce36",
   "metadata": {},
   "outputs": [],
   "source": [
    "# Shouldn't need to change this info\n",
    "INTERACTIONS = DATA_DIR / 'interactions.csv'\n",
    "\n",
    "SEED = 123456\n",
    "SEED2 = 78910\n",
    "\n",
    "ITEM_ID = 'item'\n",
    "USER_ID = 'user'"
   ]
  },
  {
   "cell_type": "markdown",
   "id": "48457625",
   "metadata": {},
   "source": [
    "## Define algorithm and hyperparameter ranges"
   ]
  },
  {
   "cell_type": "code",
   "execution_count": 5,
   "id": "11a5ac4c",
   "metadata": {},
   "outputs": [
    {
     "data": {
      "text/plain": [
       "{'k': [80],\n",
       " 'l2': [500, 1000, 1500, 2000, 5000],\n",
       " 'v': [0.25, 0.5, 0.75],\n",
       " 'alpha': [500, 1000, 1500, 2000, 5000],\n",
       " 'max_iterations': [10]}"
      ]
     },
     "execution_count": 5,
     "metadata": {},
     "output_type": "execute_result"
    }
   ],
   "source": [
    "ALG = WMF\n",
    "\n",
    "\n",
    "K = [80]\n",
    "MAX_IT = [10]\n",
    "\n",
    "# L2 = [100, 1000, 10000, 100000]\n",
    "# V = [0, 0.5, 1]\n",
    "# ALPHA = [100, 1000, 10000, 100000]\n",
    "\n",
    "L2 = [500, 1000, 1500, 2000, 5000]\n",
    "V = [0.25, 0.5, 0.75]\n",
    "ALPHA = [500, 1000, 1500, 2000, 5000]\n",
    "\n",
    "HYPERPARAMS = {'k': K, 'l2': L2, 'v': V, 'alpha': ALPHA, 'max_iterations': MAX_IT}\n",
    "\n",
    "HYPERPARAMS"
   ]
  },
  {
   "cell_type": "markdown",
   "id": "32d25f41",
   "metadata": {},
   "source": [
    "## Parse data"
   ]
  },
  {
   "cell_type": "code",
   "execution_count": 6,
   "id": "ce0d0435",
   "metadata": {},
   "outputs": [
    {
     "data": {
      "text/html": [
       "<div>\n",
       "<style scoped>\n",
       "    .dataframe tbody tr th:only-of-type {\n",
       "        vertical-align: middle;\n",
       "    }\n",
       "\n",
       "    .dataframe tbody tr th {\n",
       "        vertical-align: top;\n",
       "    }\n",
       "\n",
       "    .dataframe thead th {\n",
       "        text-align: right;\n",
       "    }\n",
       "</style>\n",
       "<table border=\"1\" class=\"dataframe\">\n",
       "  <thead>\n",
       "    <tr style=\"text-align: right;\">\n",
       "      <th></th>\n",
       "      <th>userId</th>\n",
       "      <th>itemId</th>\n",
       "      <th>TripType</th>\n",
       "      <th>UserState</th>\n",
       "    </tr>\n",
       "  </thead>\n",
       "  <tbody>\n",
       "    <tr>\n",
       "      <th>0</th>\n",
       "      <td>1899</td>\n",
       "      <td>1865</td>\n",
       "      <td>1</td>\n",
       "      <td>1</td>\n",
       "    </tr>\n",
       "    <tr>\n",
       "      <th>1</th>\n",
       "      <td>466</td>\n",
       "      <td>721</td>\n",
       "      <td>1</td>\n",
       "      <td>1</td>\n",
       "    </tr>\n",
       "    <tr>\n",
       "      <th>2</th>\n",
       "      <td>1992</td>\n",
       "      <td>451</td>\n",
       "      <td>2</td>\n",
       "      <td>1</td>\n",
       "    </tr>\n",
       "    <tr>\n",
       "      <th>3</th>\n",
       "      <td>466</td>\n",
       "      <td>1016</td>\n",
       "      <td>1</td>\n",
       "      <td>1</td>\n",
       "    </tr>\n",
       "    <tr>\n",
       "      <th>4</th>\n",
       "      <td>1441</td>\n",
       "      <td>414</td>\n",
       "      <td>3</td>\n",
       "      <td>1</td>\n",
       "    </tr>\n",
       "    <tr>\n",
       "      <th>...</th>\n",
       "      <td>...</td>\n",
       "      <td>...</td>\n",
       "      <td>...</td>\n",
       "      <td>...</td>\n",
       "    </tr>\n",
       "    <tr>\n",
       "      <th>12831</th>\n",
       "      <td>936</td>\n",
       "      <td>341</td>\n",
       "      <td>3</td>\n",
       "      <td>78</td>\n",
       "    </tr>\n",
       "    <tr>\n",
       "      <th>12832</th>\n",
       "      <td>1545</td>\n",
       "      <td>1936</td>\n",
       "      <td>3</td>\n",
       "      <td>78</td>\n",
       "    </tr>\n",
       "    <tr>\n",
       "      <th>12833</th>\n",
       "      <td>399</td>\n",
       "      <td>1556</td>\n",
       "      <td>2</td>\n",
       "      <td>79</td>\n",
       "    </tr>\n",
       "    <tr>\n",
       "      <th>12834</th>\n",
       "      <td>918</td>\n",
       "      <td>1380</td>\n",
       "      <td>5</td>\n",
       "      <td>79</td>\n",
       "    </tr>\n",
       "    <tr>\n",
       "      <th>12835</th>\n",
       "      <td>399</td>\n",
       "      <td>264</td>\n",
       "      <td>2</td>\n",
       "      <td>79</td>\n",
       "    </tr>\n",
       "  </tbody>\n",
       "</table>\n",
       "<p>12836 rows × 4 columns</p>\n",
       "</div>"
      ],
      "text/plain": [
       "       userId  itemId  TripType  UserState\n",
       "0        1899    1865         1          1\n",
       "1         466     721         1          1\n",
       "2        1992     451         2          1\n",
       "3         466    1016         1          1\n",
       "4        1441     414         3          1\n",
       "...       ...     ...       ...        ...\n",
       "12831     936     341         3         78\n",
       "12832    1545    1936         3         78\n",
       "12833     399    1556         2         79\n",
       "12834     918    1380         5         79\n",
       "12835     399     264         2         79\n",
       "\n",
       "[12836 rows x 4 columns]"
      ]
     },
     "execution_count": 6,
     "metadata": {},
     "output_type": "execute_result"
    }
   ],
   "source": [
    "data = io.parse_interactions_with_context(INTERACTIONS, item_id=ITEM_ID, user_id=USER_ID)\n",
    "data.df"
   ]
  },
  {
   "cell_type": "markdown",
   "id": "36a367d9",
   "metadata": {},
   "source": [
    "## Make train/val split for hyperparam tuning"
   ]
  },
  {
   "cell_type": "code",
   "execution_count": 7,
   "id": "92b4e0a4",
   "metadata": {},
   "outputs": [],
   "source": [
    "Xtrain, Xval_in, Xval_out = evaluation.splits.leave_one_out_split_non_context(data, seed=SEED)"
   ]
  },
  {
   "cell_type": "markdown",
   "id": "fc85ffb4",
   "metadata": {},
   "source": [
    "## Perform gridsearch on validation set"
   ]
  },
  {
   "cell_type": "code",
   "execution_count": 8,
   "id": "36a9347a",
   "metadata": {
    "scrolled": true
   },
   "outputs": [
    {
     "data": {
      "application/vnd.jupyter.widget-view+json": {
       "model_id": "899e76bd500048348c67f0014ead2f8b",
       "version_major": 2,
       "version_minor": 0
      },
      "text/plain": [
       "  0%|          | 0/75 [00:00<?, ?it/s]"
      ]
     },
     "metadata": {},
     "output_type": "display_data"
    },
    {
     "name": "stdout",
     "output_type": "stream",
     "text": [
      "Training model WMF with hyperparameters {'k': 80, 'l2': 500, 'v': 0.25, 'alpha': 500, 'max_iterations': 10}\n"
     ]
    },
    {
     "data": {
      "application/vnd.jupyter.widget-view+json": {
       "model_id": "b834ef3d98644b2aadcb01c862816434",
       "version_major": 2,
       "version_minor": 0
      },
      "text/plain": [
       "  0%|          | 0/10 [00:00<?, ?it/s]"
      ]
     },
     "metadata": {},
     "output_type": "display_data"
    },
    {
     "name": "stdout",
     "output_type": "stream",
     "text": [
      "Evaluating with 2362 users\n",
      "MRR@5 0.024\n",
      "MRR@20 0.029\n",
      "Average Recall@5 0.041\n",
      "Average Recall@20 0.1\n",
      "Training model WMF with hyperparameters {'k': 80, 'l2': 1000, 'v': 0.25, 'alpha': 500, 'max_iterations': 10}\n"
     ]
    },
    {
     "data": {
      "application/vnd.jupyter.widget-view+json": {
       "model_id": "28c0dcf8d13b445f8b8ca11e6ef4e23d",
       "version_major": 2,
       "version_minor": 0
      },
      "text/plain": [
       "  0%|          | 0/10 [00:00<?, ?it/s]"
      ]
     },
     "metadata": {},
     "output_type": "display_data"
    },
    {
     "name": "stdout",
     "output_type": "stream",
     "text": [
      "Evaluating with 2362 users\n",
      "MRR@5 0.024\n",
      "MRR@20 0.029\n",
      "Average Recall@5 0.044\n",
      "Average Recall@20 0.106\n",
      "Training model WMF with hyperparameters {'k': 80, 'l2': 1500, 'v': 0.25, 'alpha': 500, 'max_iterations': 10}\n"
     ]
    },
    {
     "data": {
      "application/vnd.jupyter.widget-view+json": {
       "model_id": "5c786bffff61413ca10c325a2c62dd68",
       "version_major": 2,
       "version_minor": 0
      },
      "text/plain": [
       "  0%|          | 0/10 [00:00<?, ?it/s]"
      ]
     },
     "metadata": {},
     "output_type": "display_data"
    },
    {
     "name": "stdout",
     "output_type": "stream",
     "text": [
      "Evaluating with 2362 users\n",
      "MRR@5 0.013\n",
      "MRR@20 0.018\n",
      "Average Recall@5 0.022\n",
      "Average Recall@20 0.079\n",
      "Training model WMF with hyperparameters {'k': 80, 'l2': 2000, 'v': 0.25, 'alpha': 500, 'max_iterations': 10}\n"
     ]
    },
    {
     "data": {
      "application/vnd.jupyter.widget-view+json": {
       "model_id": "28329c686b0b4cbf8a4de0a5ffc79dc4",
       "version_major": 2,
       "version_minor": 0
      },
      "text/plain": [
       "  0%|          | 0/10 [00:00<?, ?it/s]"
      ]
     },
     "metadata": {},
     "output_type": "display_data"
    },
    {
     "name": "stdout",
     "output_type": "stream",
     "text": [
      "Evaluating with 2362 users\n",
      "MRR@5 0.009\n",
      "MRR@20 0.014\n",
      "Average Recall@5 0.016\n",
      "Average Recall@20 0.071\n",
      "Training model WMF with hyperparameters {'k': 80, 'l2': 5000, 'v': 0.25, 'alpha': 500, 'max_iterations': 10}\n"
     ]
    },
    {
     "data": {
      "application/vnd.jupyter.widget-view+json": {
       "model_id": "729eb87891734893b6e25ab019e0d359",
       "version_major": 2,
       "version_minor": 0
      },
      "text/plain": [
       "  0%|          | 0/10 [00:00<?, ?it/s]"
      ]
     },
     "metadata": {},
     "output_type": "display_data"
    },
    {
     "name": "stdout",
     "output_type": "stream",
     "text": [
      "Evaluating with 2362 users\n",
      "MRR@5 0.01\n",
      "MRR@20 0.014\n",
      "Average Recall@5 0.018\n",
      "Average Recall@20 0.063\n",
      "Training model WMF with hyperparameters {'k': 80, 'l2': 500, 'v': 0.5, 'alpha': 500, 'max_iterations': 10}\n"
     ]
    },
    {
     "data": {
      "application/vnd.jupyter.widget-view+json": {
       "model_id": "30dcc0d83ac14cf7b5bf30e3ebfcea90",
       "version_major": 2,
       "version_minor": 0
      },
      "text/plain": [
       "  0%|          | 0/10 [00:00<?, ?it/s]"
      ]
     },
     "metadata": {},
     "output_type": "display_data"
    },
    {
     "name": "stdout",
     "output_type": "stream",
     "text": [
      "Evaluating with 2362 users\n",
      "MRR@5 0.023\n",
      "MRR@20 0.028\n",
      "Average Recall@5 0.039\n",
      "Average Recall@20 0.1\n",
      "Training model WMF with hyperparameters {'k': 80, 'l2': 1000, 'v': 0.5, 'alpha': 500, 'max_iterations': 10}\n"
     ]
    },
    {
     "data": {
      "application/vnd.jupyter.widget-view+json": {
       "model_id": "f134e3f52070450c808ae1528dd985fb",
       "version_major": 2,
       "version_minor": 0
      },
      "text/plain": [
       "  0%|          | 0/10 [00:00<?, ?it/s]"
      ]
     },
     "metadata": {},
     "output_type": "display_data"
    },
    {
     "name": "stdout",
     "output_type": "stream",
     "text": [
      "Evaluating with 2362 users\n",
      "MRR@5 0.022\n",
      "MRR@20 0.028\n",
      "Average Recall@5 0.039\n",
      "Average Recall@20 0.109\n",
      "Training model WMF with hyperparameters {'k': 80, 'l2': 1500, 'v': 0.5, 'alpha': 500, 'max_iterations': 10}\n"
     ]
    },
    {
     "data": {
      "application/vnd.jupyter.widget-view+json": {
       "model_id": "3bfecc7e556b444ba7efe268f229b2ad",
       "version_major": 2,
       "version_minor": 0
      },
      "text/plain": [
       "  0%|          | 0/10 [00:00<?, ?it/s]"
      ]
     },
     "metadata": {},
     "output_type": "display_data"
    },
    {
     "name": "stdout",
     "output_type": "stream",
     "text": [
      "Evaluating with 2362 users\n",
      "MRR@5 0.012\n",
      "MRR@20 0.017\n",
      "Average Recall@5 0.02\n",
      "Average Recall@20 0.074\n",
      "Training model WMF with hyperparameters {'k': 80, 'l2': 2000, 'v': 0.5, 'alpha': 500, 'max_iterations': 10}\n"
     ]
    },
    {
     "data": {
      "application/vnd.jupyter.widget-view+json": {
       "model_id": "db8ef0f4e7bd408489711cd7f939f78b",
       "version_major": 2,
       "version_minor": 0
      },
      "text/plain": [
       "  0%|          | 0/10 [00:00<?, ?it/s]"
      ]
     },
     "metadata": {},
     "output_type": "display_data"
    },
    {
     "name": "stdout",
     "output_type": "stream",
     "text": [
      "Evaluating with 2362 users\n",
      "MRR@5 0.009\n",
      "MRR@20 0.014\n",
      "Average Recall@5 0.015\n",
      "Average Recall@20 0.069\n",
      "Training model WMF with hyperparameters {'k': 80, 'l2': 5000, 'v': 0.5, 'alpha': 500, 'max_iterations': 10}\n"
     ]
    },
    {
     "data": {
      "application/vnd.jupyter.widget-view+json": {
       "model_id": "c346517e08054441a09f2568816f9b9b",
       "version_major": 2,
       "version_minor": 0
      },
      "text/plain": [
       "  0%|          | 0/10 [00:00<?, ?it/s]"
      ]
     },
     "metadata": {},
     "output_type": "display_data"
    },
    {
     "name": "stdout",
     "output_type": "stream",
     "text": [
      "Evaluating with 2362 users\n",
      "MRR@5 0.01\n",
      "MRR@20 0.014\n",
      "Average Recall@5 0.019\n",
      "Average Recall@20 0.064\n",
      "Training model WMF with hyperparameters {'k': 80, 'l2': 500, 'v': 0.75, 'alpha': 500, 'max_iterations': 10}\n"
     ]
    },
    {
     "data": {
      "application/vnd.jupyter.widget-view+json": {
       "model_id": "f9ed5aec109b4158bc243fbee7eef3d1",
       "version_major": 2,
       "version_minor": 0
      },
      "text/plain": [
       "  0%|          | 0/10 [00:00<?, ?it/s]"
      ]
     },
     "metadata": {},
     "output_type": "display_data"
    },
    {
     "name": "stdout",
     "output_type": "stream",
     "text": [
      "Evaluating with 2362 users\n",
      "MRR@5 0.022\n",
      "MRR@20 0.028\n",
      "Average Recall@5 0.04\n",
      "Average Recall@20 0.106\n",
      "Training model WMF with hyperparameters {'k': 80, 'l2': 1000, 'v': 0.75, 'alpha': 500, 'max_iterations': 10}\n"
     ]
    },
    {
     "data": {
      "application/vnd.jupyter.widget-view+json": {
       "model_id": "2227280fbe4440009973a936881f36dc",
       "version_major": 2,
       "version_minor": 0
      },
      "text/plain": [
       "  0%|          | 0/10 [00:00<?, ?it/s]"
      ]
     },
     "metadata": {},
     "output_type": "display_data"
    },
    {
     "name": "stdout",
     "output_type": "stream",
     "text": [
      "Evaluating with 2362 users\n",
      "MRR@5 0.021\n",
      "MRR@20 0.028\n",
      "Average Recall@5 0.041\n",
      "Average Recall@20 0.11\n",
      "Training model WMF with hyperparameters {'k': 80, 'l2': 1500, 'v': 0.75, 'alpha': 500, 'max_iterations': 10}\n"
     ]
    },
    {
     "data": {
      "application/vnd.jupyter.widget-view+json": {
       "model_id": "1ab1f722299d4dcd9ccf0930ee3463ab",
       "version_major": 2,
       "version_minor": 0
      },
      "text/plain": [
       "  0%|          | 0/10 [00:00<?, ?it/s]"
      ]
     },
     "metadata": {},
     "output_type": "display_data"
    },
    {
     "name": "stdout",
     "output_type": "stream",
     "text": [
      "Evaluating with 2362 users\n",
      "MRR@5 0.011\n",
      "MRR@20 0.016\n",
      "Average Recall@5 0.019\n",
      "Average Recall@20 0.072\n",
      "Training model WMF with hyperparameters {'k': 80, 'l2': 2000, 'v': 0.75, 'alpha': 500, 'max_iterations': 10}\n"
     ]
    },
    {
     "data": {
      "application/vnd.jupyter.widget-view+json": {
       "model_id": "7e5a1075e93345c098bd368e391b16df",
       "version_major": 2,
       "version_minor": 0
      },
      "text/plain": [
       "  0%|          | 0/10 [00:00<?, ?it/s]"
      ]
     },
     "metadata": {},
     "output_type": "display_data"
    },
    {
     "name": "stdout",
     "output_type": "stream",
     "text": [
      "Evaluating with 2362 users\n",
      "MRR@5 0.009\n",
      "MRR@20 0.014\n",
      "Average Recall@5 0.015\n",
      "Average Recall@20 0.072\n",
      "Training model WMF with hyperparameters {'k': 80, 'l2': 5000, 'v': 0.75, 'alpha': 500, 'max_iterations': 10}\n"
     ]
    },
    {
     "data": {
      "application/vnd.jupyter.widget-view+json": {
       "model_id": "3269fb42e60f4077863fb0cc9779cfb3",
       "version_major": 2,
       "version_minor": 0
      },
      "text/plain": [
       "  0%|          | 0/10 [00:00<?, ?it/s]"
      ]
     },
     "metadata": {},
     "output_type": "display_data"
    },
    {
     "name": "stdout",
     "output_type": "stream",
     "text": [
      "Evaluating with 2362 users\n",
      "MRR@5 0.011\n",
      "MRR@20 0.015\n",
      "Average Recall@5 0.021\n",
      "Average Recall@20 0.062\n",
      "Training model WMF with hyperparameters {'k': 80, 'l2': 500, 'v': 0.25, 'alpha': 1000, 'max_iterations': 10}\n"
     ]
    },
    {
     "data": {
      "application/vnd.jupyter.widget-view+json": {
       "model_id": "2d92170382df4f0890a39a2c3e163055",
       "version_major": 2,
       "version_minor": 0
      },
      "text/plain": [
       "  0%|          | 0/10 [00:00<?, ?it/s]"
      ]
     },
     "metadata": {},
     "output_type": "display_data"
    },
    {
     "name": "stdout",
     "output_type": "stream",
     "text": [
      "Evaluating with 2362 users\n",
      "MRR@5 0.021\n",
      "MRR@20 0.027\n",
      "Average Recall@5 0.037\n",
      "Average Recall@20 0.102\n",
      "Training model WMF with hyperparameters {'k': 80, 'l2': 1000, 'v': 0.25, 'alpha': 1000, 'max_iterations': 10}\n"
     ]
    },
    {
     "data": {
      "application/vnd.jupyter.widget-view+json": {
       "model_id": "c0ab0f56c2604a65bbb52c4247143e90",
       "version_major": 2,
       "version_minor": 0
      },
      "text/plain": [
       "  0%|          | 0/10 [00:00<?, ?it/s]"
      ]
     },
     "metadata": {},
     "output_type": "display_data"
    },
    {
     "name": "stdout",
     "output_type": "stream",
     "text": [
      "Evaluating with 2362 users\n",
      "MRR@5 0.022\n",
      "MRR@20 0.028\n",
      "Average Recall@5 0.04\n",
      "Average Recall@20 0.104\n",
      "Training model WMF with hyperparameters {'k': 80, 'l2': 1500, 'v': 0.25, 'alpha': 1000, 'max_iterations': 10}\n"
     ]
    },
    {
     "data": {
      "application/vnd.jupyter.widget-view+json": {
       "model_id": "07af78047b1d460195ce33095e3265b5",
       "version_major": 2,
       "version_minor": 0
      },
      "text/plain": [
       "  0%|          | 0/10 [00:00<?, ?it/s]"
      ]
     },
     "metadata": {},
     "output_type": "display_data"
    },
    {
     "name": "stdout",
     "output_type": "stream",
     "text": [
      "Evaluating with 2362 users\n",
      "MRR@5 0.021\n",
      "MRR@20 0.027\n",
      "Average Recall@5 0.038\n",
      "Average Recall@20 0.102\n",
      "Training model WMF with hyperparameters {'k': 80, 'l2': 2000, 'v': 0.25, 'alpha': 1000, 'max_iterations': 10}\n"
     ]
    },
    {
     "data": {
      "application/vnd.jupyter.widget-view+json": {
       "model_id": "3c63f30235c34ca29d036153d2cdfcfd",
       "version_major": 2,
       "version_minor": 0
      },
      "text/plain": [
       "  0%|          | 0/10 [00:00<?, ?it/s]"
      ]
     },
     "metadata": {},
     "output_type": "display_data"
    },
    {
     "name": "stdout",
     "output_type": "stream",
     "text": [
      "Evaluating with 2362 users\n",
      "MRR@5 0.017\n",
      "MRR@20 0.022\n",
      "Average Recall@5 0.03\n",
      "Average Recall@20 0.095\n",
      "Training model WMF with hyperparameters {'k': 80, 'l2': 5000, 'v': 0.25, 'alpha': 1000, 'max_iterations': 10}\n"
     ]
    },
    {
     "data": {
      "application/vnd.jupyter.widget-view+json": {
       "model_id": "d47bbc145a434870b8ca169884ccebb4",
       "version_major": 2,
       "version_minor": 0
      },
      "text/plain": [
       "  0%|          | 0/10 [00:00<?, ?it/s]"
      ]
     },
     "metadata": {},
     "output_type": "display_data"
    },
    {
     "name": "stdout",
     "output_type": "stream",
     "text": [
      "Evaluating with 2362 users\n",
      "MRR@5 0.009\n",
      "MRR@20 0.014\n",
      "Average Recall@5 0.015\n",
      "Average Recall@20 0.069\n",
      "Training model WMF with hyperparameters {'k': 80, 'l2': 500, 'v': 0.5, 'alpha': 1000, 'max_iterations': 10}\n"
     ]
    },
    {
     "data": {
      "application/vnd.jupyter.widget-view+json": {
       "model_id": "f64b3c7f4f134e60b2877f143854c0b5",
       "version_major": 2,
       "version_minor": 0
      },
      "text/plain": [
       "  0%|          | 0/10 [00:00<?, ?it/s]"
      ]
     },
     "metadata": {},
     "output_type": "display_data"
    },
    {
     "name": "stdout",
     "output_type": "stream",
     "text": [
      "Evaluating with 2362 users\n",
      "MRR@5 0.02\n",
      "MRR@20 0.025\n",
      "Average Recall@5 0.035\n",
      "Average Recall@20 0.094\n",
      "Training model WMF with hyperparameters {'k': 80, 'l2': 1000, 'v': 0.5, 'alpha': 1000, 'max_iterations': 10}\n"
     ]
    },
    {
     "data": {
      "application/vnd.jupyter.widget-view+json": {
       "model_id": "f4d14c8d2c864ffca176b93ac3cac175",
       "version_major": 2,
       "version_minor": 0
      },
      "text/plain": [
       "  0%|          | 0/10 [00:00<?, ?it/s]"
      ]
     },
     "metadata": {},
     "output_type": "display_data"
    },
    {
     "name": "stdout",
     "output_type": "stream",
     "text": [
      "Evaluating with 2362 users\n",
      "MRR@5 0.022\n",
      "MRR@20 0.028\n",
      "Average Recall@5 0.038\n",
      "Average Recall@20 0.109\n",
      "Training model WMF with hyperparameters {'k': 80, 'l2': 1500, 'v': 0.5, 'alpha': 1000, 'max_iterations': 10}\n"
     ]
    },
    {
     "data": {
      "application/vnd.jupyter.widget-view+json": {
       "model_id": "0f0a78affd3242179f36b945c8d796b1",
       "version_major": 2,
       "version_minor": 0
      },
      "text/plain": [
       "  0%|          | 0/10 [00:00<?, ?it/s]"
      ]
     },
     "metadata": {},
     "output_type": "display_data"
    },
    {
     "name": "stdout",
     "output_type": "stream",
     "text": [
      "Evaluating with 2362 users\n",
      "MRR@5 0.021\n",
      "MRR@20 0.027\n",
      "Average Recall@5 0.038\n",
      "Average Recall@20 0.104\n",
      "Training model WMF with hyperparameters {'k': 80, 'l2': 2000, 'v': 0.5, 'alpha': 1000, 'max_iterations': 10}\n"
     ]
    },
    {
     "data": {
      "application/vnd.jupyter.widget-view+json": {
       "model_id": "36dbd431060646808f545d4de01c9cff",
       "version_major": 2,
       "version_minor": 0
      },
      "text/plain": [
       "  0%|          | 0/10 [00:00<?, ?it/s]"
      ]
     },
     "metadata": {},
     "output_type": "display_data"
    },
    {
     "name": "stdout",
     "output_type": "stream",
     "text": [
      "Evaluating with 2362 users\n",
      "MRR@5 0.014\n",
      "MRR@20 0.02\n",
      "Average Recall@5 0.026\n",
      "Average Recall@20 0.088\n",
      "Training model WMF with hyperparameters {'k': 80, 'l2': 5000, 'v': 0.5, 'alpha': 1000, 'max_iterations': 10}\n"
     ]
    },
    {
     "data": {
      "application/vnd.jupyter.widget-view+json": {
       "model_id": "abedd335bf9a417ba14308eeea857895",
       "version_major": 2,
       "version_minor": 0
      },
      "text/plain": [
       "  0%|          | 0/10 [00:00<?, ?it/s]"
      ]
     },
     "metadata": {},
     "output_type": "display_data"
    },
    {
     "name": "stdout",
     "output_type": "stream",
     "text": [
      "Evaluating with 2362 users\n",
      "MRR@5 0.01\n",
      "MRR@20 0.014\n",
      "Average Recall@5 0.018\n",
      "Average Recall@20 0.066\n",
      "Training model WMF with hyperparameters {'k': 80, 'l2': 500, 'v': 0.75, 'alpha': 1000, 'max_iterations': 10}\n"
     ]
    },
    {
     "data": {
      "application/vnd.jupyter.widget-view+json": {
       "model_id": "808dbe91d05149e1ab7a3c77ae968bb9",
       "version_major": 2,
       "version_minor": 0
      },
      "text/plain": [
       "  0%|          | 0/10 [00:00<?, ?it/s]"
      ]
     },
     "metadata": {},
     "output_type": "display_data"
    },
    {
     "name": "stdout",
     "output_type": "stream",
     "text": [
      "Evaluating with 2362 users\n",
      "MRR@5 0.019\n",
      "MRR@20 0.024\n",
      "Average Recall@5 0.036\n",
      "Average Recall@20 0.097\n",
      "Training model WMF with hyperparameters {'k': 80, 'l2': 1000, 'v': 0.75, 'alpha': 1000, 'max_iterations': 10}\n"
     ]
    },
    {
     "data": {
      "application/vnd.jupyter.widget-view+json": {
       "model_id": "44f0641834f04a82b7cc3cfd637ed05c",
       "version_major": 2,
       "version_minor": 0
      },
      "text/plain": [
       "  0%|          | 0/10 [00:00<?, ?it/s]"
      ]
     },
     "metadata": {},
     "output_type": "display_data"
    },
    {
     "name": "stdout",
     "output_type": "stream",
     "text": [
      "Evaluating with 2362 users\n",
      "MRR@5 0.022\n",
      "MRR@20 0.028\n",
      "Average Recall@5 0.037\n",
      "Average Recall@20 0.108\n",
      "Training model WMF with hyperparameters {'k': 80, 'l2': 1500, 'v': 0.75, 'alpha': 1000, 'max_iterations': 10}\n"
     ]
    },
    {
     "data": {
      "application/vnd.jupyter.widget-view+json": {
       "model_id": "8b4f4b2a59b745ddbb891e98c5697680",
       "version_major": 2,
       "version_minor": 0
      },
      "text/plain": [
       "  0%|          | 0/10 [00:00<?, ?it/s]"
      ]
     },
     "metadata": {},
     "output_type": "display_data"
    },
    {
     "name": "stdout",
     "output_type": "stream",
     "text": [
      "Evaluating with 2362 users\n",
      "MRR@5 0.019\n",
      "MRR@20 0.026\n",
      "Average Recall@5 0.032\n",
      "Average Recall@20 0.102\n",
      "Training model WMF with hyperparameters {'k': 80, 'l2': 2000, 'v': 0.75, 'alpha': 1000, 'max_iterations': 10}\n"
     ]
    },
    {
     "data": {
      "application/vnd.jupyter.widget-view+json": {
       "model_id": "d955498d74684d05ba8c9590373d414c",
       "version_major": 2,
       "version_minor": 0
      },
      "text/plain": [
       "  0%|          | 0/10 [00:00<?, ?it/s]"
      ]
     },
     "metadata": {},
     "output_type": "display_data"
    },
    {
     "name": "stdout",
     "output_type": "stream",
     "text": [
      "Evaluating with 2362 users\n",
      "MRR@5 0.015\n",
      "MRR@20 0.021\n",
      "Average Recall@5 0.028\n",
      "Average Recall@20 0.088\n",
      "Training model WMF with hyperparameters {'k': 80, 'l2': 5000, 'v': 0.75, 'alpha': 1000, 'max_iterations': 10}\n"
     ]
    },
    {
     "data": {
      "application/vnd.jupyter.widget-view+json": {
       "model_id": "0f0a39042d4748fea6060da1ac0ef968",
       "version_major": 2,
       "version_minor": 0
      },
      "text/plain": [
       "  0%|          | 0/10 [00:00<?, ?it/s]"
      ]
     },
     "metadata": {},
     "output_type": "display_data"
    },
    {
     "name": "stdout",
     "output_type": "stream",
     "text": [
      "Evaluating with 2362 users\n",
      "MRR@5 0.01\n",
      "MRR@20 0.014\n",
      "Average Recall@5 0.021\n",
      "Average Recall@20 0.063\n",
      "Training model WMF with hyperparameters {'k': 80, 'l2': 500, 'v': 0.25, 'alpha': 1500, 'max_iterations': 10}\n"
     ]
    },
    {
     "data": {
      "application/vnd.jupyter.widget-view+json": {
       "model_id": "fcedc3c8634b4fd5bef2623a22543dd6",
       "version_major": 2,
       "version_minor": 0
      },
      "text/plain": [
       "  0%|          | 0/10 [00:00<?, ?it/s]"
      ]
     },
     "metadata": {},
     "output_type": "display_data"
    },
    {
     "name": "stdout",
     "output_type": "stream",
     "text": [
      "Evaluating with 2362 users\n",
      "MRR@5 0.021\n",
      "MRR@20 0.026\n",
      "Average Recall@5 0.039\n",
      "Average Recall@20 0.091\n",
      "Training model WMF with hyperparameters {'k': 80, 'l2': 1000, 'v': 0.25, 'alpha': 1500, 'max_iterations': 10}\n"
     ]
    },
    {
     "data": {
      "application/vnd.jupyter.widget-view+json": {
       "model_id": "165ca11485d04f47b65eded0353cee7d",
       "version_major": 2,
       "version_minor": 0
      },
      "text/plain": [
       "  0%|          | 0/10 [00:00<?, ?it/s]"
      ]
     },
     "metadata": {},
     "output_type": "display_data"
    },
    {
     "name": "stdout",
     "output_type": "stream",
     "text": [
      "Evaluating with 2362 users\n",
      "MRR@5 0.021\n",
      "MRR@20 0.027\n",
      "Average Recall@5 0.035\n",
      "Average Recall@20 0.105\n",
      "Training model WMF with hyperparameters {'k': 80, 'l2': 1500, 'v': 0.25, 'alpha': 1500, 'max_iterations': 10}\n"
     ]
    },
    {
     "data": {
      "application/vnd.jupyter.widget-view+json": {
       "model_id": "599f6375c7ca4fdb93ea5473f3b57ab4",
       "version_major": 2,
       "version_minor": 0
      },
      "text/plain": [
       "  0%|          | 0/10 [00:00<?, ?it/s]"
      ]
     },
     "metadata": {},
     "output_type": "display_data"
    },
    {
     "name": "stdout",
     "output_type": "stream",
     "text": [
      "Evaluating with 2362 users\n",
      "MRR@5 0.019\n",
      "MRR@20 0.026\n",
      "Average Recall@5 0.033\n",
      "Average Recall@20 0.102\n",
      "Training model WMF with hyperparameters {'k': 80, 'l2': 2000, 'v': 0.25, 'alpha': 1500, 'max_iterations': 10}\n"
     ]
    },
    {
     "data": {
      "application/vnd.jupyter.widget-view+json": {
       "model_id": "fb991fed9859471fafcb44758dc976a7",
       "version_major": 2,
       "version_minor": 0
      },
      "text/plain": [
       "  0%|          | 0/10 [00:00<?, ?it/s]"
      ]
     },
     "metadata": {},
     "output_type": "display_data"
    },
    {
     "name": "stdout",
     "output_type": "stream",
     "text": [
      "Evaluating with 2362 users\n",
      "MRR@5 0.02\n",
      "MRR@20 0.026\n",
      "Average Recall@5 0.038\n",
      "Average Recall@20 0.099\n",
      "Training model WMF with hyperparameters {'k': 80, 'l2': 5000, 'v': 0.25, 'alpha': 1500, 'max_iterations': 10}\n"
     ]
    },
    {
     "data": {
      "application/vnd.jupyter.widget-view+json": {
       "model_id": "3ce64b6def814cc28a80f034e2ab4cd0",
       "version_major": 2,
       "version_minor": 0
      },
      "text/plain": [
       "  0%|          | 0/10 [00:00<?, ?it/s]"
      ]
     },
     "metadata": {},
     "output_type": "display_data"
    },
    {
     "name": "stdout",
     "output_type": "stream",
     "text": [
      "Evaluating with 2362 users\n",
      "MRR@5 0.009\n",
      "MRR@20 0.014\n",
      "Average Recall@5 0.017\n",
      "Average Recall@20 0.066\n",
      "Training model WMF with hyperparameters {'k': 80, 'l2': 500, 'v': 0.5, 'alpha': 1500, 'max_iterations': 10}\n"
     ]
    },
    {
     "data": {
      "application/vnd.jupyter.widget-view+json": {
       "model_id": "d6c348c45266484c9a185064cd4cfcb6",
       "version_major": 2,
       "version_minor": 0
      },
      "text/plain": [
       "  0%|          | 0/10 [00:00<?, ?it/s]"
      ]
     },
     "metadata": {},
     "output_type": "display_data"
    },
    {
     "name": "stdout",
     "output_type": "stream",
     "text": [
      "Evaluating with 2362 users\n",
      "MRR@5 0.018\n",
      "MRR@20 0.023\n",
      "Average Recall@5 0.036\n",
      "Average Recall@20 0.089\n",
      "Training model WMF with hyperparameters {'k': 80, 'l2': 1000, 'v': 0.5, 'alpha': 1500, 'max_iterations': 10}\n"
     ]
    },
    {
     "data": {
      "application/vnd.jupyter.widget-view+json": {
       "model_id": "17d2050672ce46d38a75a3b690f8964b",
       "version_major": 2,
       "version_minor": 0
      },
      "text/plain": [
       "  0%|          | 0/10 [00:00<?, ?it/s]"
      ]
     },
     "metadata": {},
     "output_type": "display_data"
    },
    {
     "name": "stdout",
     "output_type": "stream",
     "text": [
      "Evaluating with 2362 users\n",
      "MRR@5 0.021\n",
      "MRR@20 0.027\n",
      "Average Recall@5 0.037\n",
      "Average Recall@20 0.1\n",
      "Training model WMF with hyperparameters {'k': 80, 'l2': 1500, 'v': 0.5, 'alpha': 1500, 'max_iterations': 10}\n"
     ]
    },
    {
     "data": {
      "application/vnd.jupyter.widget-view+json": {
       "model_id": "54b0ff93685b4174a295a2b4e54c01ad",
       "version_major": 2,
       "version_minor": 0
      },
      "text/plain": [
       "  0%|          | 0/10 [00:00<?, ?it/s]"
      ]
     },
     "metadata": {},
     "output_type": "display_data"
    },
    {
     "name": "stdout",
     "output_type": "stream",
     "text": [
      "Evaluating with 2362 users\n",
      "MRR@5 0.023\n",
      "MRR@20 0.029\n",
      "Average Recall@5 0.039\n",
      "Average Recall@20 0.103\n",
      "Training model WMF with hyperparameters {'k': 80, 'l2': 2000, 'v': 0.5, 'alpha': 1500, 'max_iterations': 10}\n"
     ]
    },
    {
     "data": {
      "application/vnd.jupyter.widget-view+json": {
       "model_id": "12b30c662fbc451cb0c8c4db05ca1dde",
       "version_major": 2,
       "version_minor": 0
      },
      "text/plain": [
       "  0%|          | 0/10 [00:00<?, ?it/s]"
      ]
     },
     "metadata": {},
     "output_type": "display_data"
    },
    {
     "name": "stdout",
     "output_type": "stream",
     "text": [
      "Evaluating with 2362 users\n",
      "MRR@5 0.018\n",
      "MRR@20 0.024\n",
      "Average Recall@5 0.033\n",
      "Average Recall@20 0.1\n",
      "Training model WMF with hyperparameters {'k': 80, 'l2': 5000, 'v': 0.5, 'alpha': 1500, 'max_iterations': 10}\n"
     ]
    },
    {
     "data": {
      "application/vnd.jupyter.widget-view+json": {
       "model_id": "d7c22c665e614c0ea13da27bce0e41d6",
       "version_major": 2,
       "version_minor": 0
      },
      "text/plain": [
       "  0%|          | 0/10 [00:00<?, ?it/s]"
      ]
     },
     "metadata": {},
     "output_type": "display_data"
    },
    {
     "name": "stdout",
     "output_type": "stream",
     "text": [
      "Evaluating with 2362 users\n",
      "MRR@5 0.009\n",
      "MRR@20 0.014\n",
      "Average Recall@5 0.015\n",
      "Average Recall@20 0.069\n",
      "Training model WMF with hyperparameters {'k': 80, 'l2': 500, 'v': 0.75, 'alpha': 1500, 'max_iterations': 10}\n"
     ]
    },
    {
     "data": {
      "application/vnd.jupyter.widget-view+json": {
       "model_id": "043f568c42aa45b8b223f4dfc7a864fc",
       "version_major": 2,
       "version_minor": 0
      },
      "text/plain": [
       "  0%|          | 0/10 [00:00<?, ?it/s]"
      ]
     },
     "metadata": {},
     "output_type": "display_data"
    },
    {
     "name": "stdout",
     "output_type": "stream",
     "text": [
      "Evaluating with 2362 users\n",
      "MRR@5 0.019\n",
      "MRR@20 0.025\n",
      "Average Recall@5 0.038\n",
      "Average Recall@20 0.092\n",
      "Training model WMF with hyperparameters {'k': 80, 'l2': 1000, 'v': 0.75, 'alpha': 1500, 'max_iterations': 10}\n"
     ]
    },
    {
     "data": {
      "application/vnd.jupyter.widget-view+json": {
       "model_id": "644ff7856b6f4cfba207f045bbadec68",
       "version_major": 2,
       "version_minor": 0
      },
      "text/plain": [
       "  0%|          | 0/10 [00:00<?, ?it/s]"
      ]
     },
     "metadata": {},
     "output_type": "display_data"
    },
    {
     "name": "stdout",
     "output_type": "stream",
     "text": [
      "Evaluating with 2362 users\n",
      "MRR@5 0.02\n",
      "MRR@20 0.026\n",
      "Average Recall@5 0.035\n",
      "Average Recall@20 0.107\n",
      "Training model WMF with hyperparameters {'k': 80, 'l2': 1500, 'v': 0.75, 'alpha': 1500, 'max_iterations': 10}\n"
     ]
    },
    {
     "data": {
      "application/vnd.jupyter.widget-view+json": {
       "model_id": "ea0b80a29dc14f15a49fa08c032d76bc",
       "version_major": 2,
       "version_minor": 0
      },
      "text/plain": [
       "  0%|          | 0/10 [00:00<?, ?it/s]"
      ]
     },
     "metadata": {},
     "output_type": "display_data"
    },
    {
     "name": "stdout",
     "output_type": "stream",
     "text": [
      "Evaluating with 2362 users\n",
      "MRR@5 0.022\n",
      "MRR@20 0.028\n",
      "Average Recall@5 0.037\n",
      "Average Recall@20 0.104\n",
      "Training model WMF with hyperparameters {'k': 80, 'l2': 2000, 'v': 0.75, 'alpha': 1500, 'max_iterations': 10}\n"
     ]
    },
    {
     "data": {
      "application/vnd.jupyter.widget-view+json": {
       "model_id": "c7762ec43c4b47b3932c060c029cb16f",
       "version_major": 2,
       "version_minor": 0
      },
      "text/plain": [
       "  0%|          | 0/10 [00:00<?, ?it/s]"
      ]
     },
     "metadata": {},
     "output_type": "display_data"
    },
    {
     "name": "stdout",
     "output_type": "stream",
     "text": [
      "Evaluating with 2362 users\n",
      "MRR@5 0.019\n",
      "MRR@20 0.025\n",
      "Average Recall@5 0.036\n",
      "Average Recall@20 0.1\n",
      "Training model WMF with hyperparameters {'k': 80, 'l2': 5000, 'v': 0.75, 'alpha': 1500, 'max_iterations': 10}\n"
     ]
    },
    {
     "data": {
      "application/vnd.jupyter.widget-view+json": {
       "model_id": "054aa9510cb4421083e7398d362b3c31",
       "version_major": 2,
       "version_minor": 0
      },
      "text/plain": [
       "  0%|          | 0/10 [00:00<?, ?it/s]"
      ]
     },
     "metadata": {},
     "output_type": "display_data"
    },
    {
     "name": "stdout",
     "output_type": "stream",
     "text": [
      "Evaluating with 2362 users\n",
      "MRR@5 0.009\n",
      "MRR@20 0.014\n",
      "Average Recall@5 0.015\n",
      "Average Recall@20 0.071\n",
      "Training model WMF with hyperparameters {'k': 80, 'l2': 500, 'v': 0.25, 'alpha': 2000, 'max_iterations': 10}\n"
     ]
    },
    {
     "data": {
      "application/vnd.jupyter.widget-view+json": {
       "model_id": "4975096c47a54fc391f694093ccf83a6",
       "version_major": 2,
       "version_minor": 0
      },
      "text/plain": [
       "  0%|          | 0/10 [00:00<?, ?it/s]"
      ]
     },
     "metadata": {},
     "output_type": "display_data"
    },
    {
     "name": "stdout",
     "output_type": "stream",
     "text": [
      "Evaluating with 2362 users\n",
      "MRR@5 0.019\n",
      "MRR@20 0.024\n",
      "Average Recall@5 0.036\n",
      "Average Recall@20 0.09\n",
      "Training model WMF with hyperparameters {'k': 80, 'l2': 1000, 'v': 0.25, 'alpha': 2000, 'max_iterations': 10}\n"
     ]
    },
    {
     "data": {
      "application/vnd.jupyter.widget-view+json": {
       "model_id": "c5276ae035fc4e44a04b2f53b4708f8d",
       "version_major": 2,
       "version_minor": 0
      },
      "text/plain": [
       "  0%|          | 0/10 [00:00<?, ?it/s]"
      ]
     },
     "metadata": {},
     "output_type": "display_data"
    },
    {
     "name": "stdout",
     "output_type": "stream",
     "text": [
      "Evaluating with 2362 users\n",
      "MRR@5 0.019\n",
      "MRR@20 0.025\n",
      "Average Recall@5 0.036\n",
      "Average Recall@20 0.094\n",
      "Training model WMF with hyperparameters {'k': 80, 'l2': 1500, 'v': 0.25, 'alpha': 2000, 'max_iterations': 10}\n"
     ]
    },
    {
     "data": {
      "application/vnd.jupyter.widget-view+json": {
       "model_id": "33cea8556bbd4c5293273591d86e2434",
       "version_major": 2,
       "version_minor": 0
      },
      "text/plain": [
       "  0%|          | 0/10 [00:00<?, ?it/s]"
      ]
     },
     "metadata": {},
     "output_type": "display_data"
    },
    {
     "name": "stdout",
     "output_type": "stream",
     "text": [
      "Evaluating with 2362 users\n",
      "MRR@5 0.022\n",
      "MRR@20 0.027\n",
      "Average Recall@5 0.037\n",
      "Average Recall@20 0.102\n",
      "Training model WMF with hyperparameters {'k': 80, 'l2': 2000, 'v': 0.25, 'alpha': 2000, 'max_iterations': 10}\n"
     ]
    },
    {
     "data": {
      "application/vnd.jupyter.widget-view+json": {
       "model_id": "6f003bd8e3b447348ca358a2903d0e6c",
       "version_major": 2,
       "version_minor": 0
      },
      "text/plain": [
       "  0%|          | 0/10 [00:00<?, ?it/s]"
      ]
     },
     "metadata": {},
     "output_type": "display_data"
    },
    {
     "name": "stdout",
     "output_type": "stream",
     "text": [
      "Evaluating with 2362 users\n",
      "MRR@5 0.016\n",
      "MRR@20 0.022\n",
      "Average Recall@5 0.029\n",
      "Average Recall@20 0.095\n",
      "Training model WMF with hyperparameters {'k': 80, 'l2': 5000, 'v': 0.25, 'alpha': 2000, 'max_iterations': 10}\n"
     ]
    },
    {
     "data": {
      "application/vnd.jupyter.widget-view+json": {
       "model_id": "5c554a37214b470eb4dceb67915f3066",
       "version_major": 2,
       "version_minor": 0
      },
      "text/plain": [
       "  0%|          | 0/10 [00:00<?, ?it/s]"
      ]
     },
     "metadata": {},
     "output_type": "display_data"
    },
    {
     "name": "stdout",
     "output_type": "stream",
     "text": [
      "Evaluating with 2362 users\n",
      "MRR@5 0.01\n",
      "MRR@20 0.014\n",
      "Average Recall@5 0.02\n",
      "Average Recall@20 0.063\n",
      "Training model WMF with hyperparameters {'k': 80, 'l2': 500, 'v': 0.5, 'alpha': 2000, 'max_iterations': 10}\n"
     ]
    },
    {
     "data": {
      "application/vnd.jupyter.widget-view+json": {
       "model_id": "f7a4df4710a347d7998457ec27745900",
       "version_major": 2,
       "version_minor": 0
      },
      "text/plain": [
       "  0%|          | 0/10 [00:00<?, ?it/s]"
      ]
     },
     "metadata": {},
     "output_type": "display_data"
    },
    {
     "name": "stdout",
     "output_type": "stream",
     "text": [
      "Evaluating with 2362 users\n",
      "MRR@5 0.017\n",
      "MRR@20 0.023\n",
      "Average Recall@5 0.032\n",
      "Average Recall@20 0.092\n",
      "Training model WMF with hyperparameters {'k': 80, 'l2': 1000, 'v': 0.5, 'alpha': 2000, 'max_iterations': 10}\n"
     ]
    },
    {
     "data": {
      "application/vnd.jupyter.widget-view+json": {
       "model_id": "ff1af835a65742119a82a7929360bf74",
       "version_major": 2,
       "version_minor": 0
      },
      "text/plain": [
       "  0%|          | 0/10 [00:00<?, ?it/s]"
      ]
     },
     "metadata": {},
     "output_type": "display_data"
    },
    {
     "name": "stdout",
     "output_type": "stream",
     "text": [
      "Evaluating with 2362 users\n",
      "MRR@5 0.021\n",
      "MRR@20 0.027\n",
      "Average Recall@5 0.039\n",
      "Average Recall@20 0.099\n",
      "Training model WMF with hyperparameters {'k': 80, 'l2': 1500, 'v': 0.5, 'alpha': 2000, 'max_iterations': 10}\n"
     ]
    },
    {
     "data": {
      "application/vnd.jupyter.widget-view+json": {
       "model_id": "c3c0477efd3242b59a8018072ce25593",
       "version_major": 2,
       "version_minor": 0
      },
      "text/plain": [
       "  0%|          | 0/10 [00:00<?, ?it/s]"
      ]
     },
     "metadata": {},
     "output_type": "display_data"
    },
    {
     "name": "stdout",
     "output_type": "stream",
     "text": [
      "Evaluating with 2362 users\n",
      "MRR@5 0.023\n",
      "MRR@20 0.029\n",
      "Average Recall@5 0.039\n",
      "Average Recall@20 0.105\n",
      "Training model WMF with hyperparameters {'k': 80, 'l2': 2000, 'v': 0.5, 'alpha': 2000, 'max_iterations': 10}\n"
     ]
    },
    {
     "data": {
      "application/vnd.jupyter.widget-view+json": {
       "model_id": "03f02c57091541f89c8ea778afa08564",
       "version_major": 2,
       "version_minor": 0
      },
      "text/plain": [
       "  0%|          | 0/10 [00:00<?, ?it/s]"
      ]
     },
     "metadata": {},
     "output_type": "display_data"
    },
    {
     "name": "stdout",
     "output_type": "stream",
     "text": [
      "Evaluating with 2362 users\n",
      "MRR@5 0.018\n",
      "MRR@20 0.024\n",
      "Average Recall@5 0.033\n",
      "Average Recall@20 0.103\n",
      "Training model WMF with hyperparameters {'k': 80, 'l2': 5000, 'v': 0.5, 'alpha': 2000, 'max_iterations': 10}\n"
     ]
    },
    {
     "data": {
      "application/vnd.jupyter.widget-view+json": {
       "model_id": "3656a22a224f43099353be4eb893d3ec",
       "version_major": 2,
       "version_minor": 0
      },
      "text/plain": [
       "  0%|          | 0/10 [00:00<?, ?it/s]"
      ]
     },
     "metadata": {},
     "output_type": "display_data"
    },
    {
     "name": "stdout",
     "output_type": "stream",
     "text": [
      "Evaluating with 2362 users\n",
      "MRR@5 0.01\n",
      "MRR@20 0.014\n",
      "Average Recall@5 0.018\n",
      "Average Recall@20 0.068\n",
      "Training model WMF with hyperparameters {'k': 80, 'l2': 500, 'v': 0.75, 'alpha': 2000, 'max_iterations': 10}\n"
     ]
    },
    {
     "data": {
      "application/vnd.jupyter.widget-view+json": {
       "model_id": "51f08cec2c4d4566bb783b4a818f9130",
       "version_major": 2,
       "version_minor": 0
      },
      "text/plain": [
       "  0%|          | 0/10 [00:00<?, ?it/s]"
      ]
     },
     "metadata": {},
     "output_type": "display_data"
    },
    {
     "name": "stdout",
     "output_type": "stream",
     "text": [
      "Evaluating with 2362 users\n",
      "MRR@5 0.019\n",
      "MRR@20 0.024\n",
      "Average Recall@5 0.03\n",
      "Average Recall@20 0.089\n",
      "Training model WMF with hyperparameters {'k': 80, 'l2': 1000, 'v': 0.75, 'alpha': 2000, 'max_iterations': 10}\n"
     ]
    },
    {
     "data": {
      "application/vnd.jupyter.widget-view+json": {
       "model_id": "fd83956e86e645d7a4dd7866f72715e8",
       "version_major": 2,
       "version_minor": 0
      },
      "text/plain": [
       "  0%|          | 0/10 [00:00<?, ?it/s]"
      ]
     },
     "metadata": {},
     "output_type": "display_data"
    },
    {
     "name": "stdout",
     "output_type": "stream",
     "text": [
      "Evaluating with 2362 users\n",
      "MRR@5 0.019\n",
      "MRR@20 0.025\n",
      "Average Recall@5 0.038\n",
      "Average Recall@20 0.104\n",
      "Training model WMF with hyperparameters {'k': 80, 'l2': 1500, 'v': 0.75, 'alpha': 2000, 'max_iterations': 10}\n"
     ]
    },
    {
     "data": {
      "application/vnd.jupyter.widget-view+json": {
       "model_id": "dae704c604924cf7a376287af0021ba7",
       "version_major": 2,
       "version_minor": 0
      },
      "text/plain": [
       "  0%|          | 0/10 [00:00<?, ?it/s]"
      ]
     },
     "metadata": {},
     "output_type": "display_data"
    },
    {
     "name": "stdout",
     "output_type": "stream",
     "text": [
      "Evaluating with 2362 users\n",
      "MRR@5 0.021\n",
      "MRR@20 0.027\n",
      "Average Recall@5 0.035\n",
      "Average Recall@20 0.102\n",
      "Training model WMF with hyperparameters {'k': 80, 'l2': 2000, 'v': 0.75, 'alpha': 2000, 'max_iterations': 10}\n"
     ]
    },
    {
     "data": {
      "application/vnd.jupyter.widget-view+json": {
       "model_id": "c93438b45f9a4a5091b3cef3fd41a081",
       "version_major": 2,
       "version_minor": 0
      },
      "text/plain": [
       "  0%|          | 0/10 [00:00<?, ?it/s]"
      ]
     },
     "metadata": {},
     "output_type": "display_data"
    },
    {
     "name": "stdout",
     "output_type": "stream",
     "text": [
      "Evaluating with 2362 users\n",
      "MRR@5 0.021\n",
      "MRR@20 0.027\n",
      "Average Recall@5 0.037\n",
      "Average Recall@20 0.103\n",
      "Training model WMF with hyperparameters {'k': 80, 'l2': 5000, 'v': 0.75, 'alpha': 2000, 'max_iterations': 10}\n"
     ]
    },
    {
     "data": {
      "application/vnd.jupyter.widget-view+json": {
       "model_id": "623869bd04584baa94ace15fc779f338",
       "version_major": 2,
       "version_minor": 0
      },
      "text/plain": [
       "  0%|          | 0/10 [00:00<?, ?it/s]"
      ]
     },
     "metadata": {},
     "output_type": "display_data"
    },
    {
     "name": "stdout",
     "output_type": "stream",
     "text": [
      "Evaluating with 2362 users\n",
      "MRR@5 0.01\n",
      "MRR@20 0.015\n",
      "Average Recall@5 0.018\n",
      "Average Recall@20 0.069\n",
      "Training model WMF with hyperparameters {'k': 80, 'l2': 500, 'v': 0.25, 'alpha': 5000, 'max_iterations': 10}\n"
     ]
    },
    {
     "data": {
      "application/vnd.jupyter.widget-view+json": {
       "model_id": "49f46c3b769b4d2c9937a0f490439341",
       "version_major": 2,
       "version_minor": 0
      },
      "text/plain": [
       "  0%|          | 0/10 [00:00<?, ?it/s]"
      ]
     },
     "metadata": {},
     "output_type": "display_data"
    },
    {
     "name": "stdout",
     "output_type": "stream",
     "text": [
      "Evaluating with 2362 users\n",
      "MRR@5 0.012\n",
      "MRR@20 0.016\n",
      "Average Recall@5 0.022\n",
      "Average Recall@20 0.072\n",
      "Training model WMF with hyperparameters {'k': 80, 'l2': 1000, 'v': 0.25, 'alpha': 5000, 'max_iterations': 10}\n"
     ]
    },
    {
     "data": {
      "application/vnd.jupyter.widget-view+json": {
       "model_id": "9edbf24bc4c6402f83bf48632bd15fea",
       "version_major": 2,
       "version_minor": 0
      },
      "text/plain": [
       "  0%|          | 0/10 [00:00<?, ?it/s]"
      ]
     },
     "metadata": {},
     "output_type": "display_data"
    },
    {
     "name": "stdout",
     "output_type": "stream",
     "text": [
      "Evaluating with 2362 users\n",
      "MRR@5 0.02\n",
      "MRR@20 0.025\n",
      "Average Recall@5 0.034\n",
      "Average Recall@20 0.091\n",
      "Training model WMF with hyperparameters {'k': 80, 'l2': 1500, 'v': 0.25, 'alpha': 5000, 'max_iterations': 10}\n"
     ]
    },
    {
     "data": {
      "application/vnd.jupyter.widget-view+json": {
       "model_id": "621adee2ba4a4071af8d507dd5739252",
       "version_major": 2,
       "version_minor": 0
      },
      "text/plain": [
       "  0%|          | 0/10 [00:00<?, ?it/s]"
      ]
     },
     "metadata": {},
     "output_type": "display_data"
    },
    {
     "name": "stdout",
     "output_type": "stream",
     "text": [
      "Evaluating with 2362 users\n",
      "MRR@5 0.02\n",
      "MRR@20 0.025\n",
      "Average Recall@5 0.037\n",
      "Average Recall@20 0.102\n",
      "Training model WMF with hyperparameters {'k': 80, 'l2': 2000, 'v': 0.25, 'alpha': 5000, 'max_iterations': 10}\n"
     ]
    },
    {
     "data": {
      "application/vnd.jupyter.widget-view+json": {
       "model_id": "a217c468bb604738b78caa65a067b245",
       "version_major": 2,
       "version_minor": 0
      },
      "text/plain": [
       "  0%|          | 0/10 [00:00<?, ?it/s]"
      ]
     },
     "metadata": {},
     "output_type": "display_data"
    },
    {
     "name": "stdout",
     "output_type": "stream",
     "text": [
      "Evaluating with 2362 users\n",
      "MRR@5 0.018\n",
      "MRR@20 0.024\n",
      "Average Recall@5 0.033\n",
      "Average Recall@20 0.096\n",
      "Training model WMF with hyperparameters {'k': 80, 'l2': 5000, 'v': 0.25, 'alpha': 5000, 'max_iterations': 10}\n"
     ]
    },
    {
     "data": {
      "application/vnd.jupyter.widget-view+json": {
       "model_id": "e3c7acea8c72481586c53aa457f366aa",
       "version_major": 2,
       "version_minor": 0
      },
      "text/plain": [
       "  0%|          | 0/10 [00:00<?, ?it/s]"
      ]
     },
     "metadata": {},
     "output_type": "display_data"
    },
    {
     "name": "stdout",
     "output_type": "stream",
     "text": [
      "Evaluating with 2362 users\n",
      "MRR@5 0.015\n",
      "MRR@20 0.02\n",
      "Average Recall@5 0.028\n",
      "Average Recall@20 0.084\n",
      "Training model WMF with hyperparameters {'k': 80, 'l2': 500, 'v': 0.5, 'alpha': 5000, 'max_iterations': 10}\n"
     ]
    },
    {
     "data": {
      "application/vnd.jupyter.widget-view+json": {
       "model_id": "e4ee137f50e543ecbde6bf7c33ac9452",
       "version_major": 2,
       "version_minor": 0
      },
      "text/plain": [
       "  0%|          | 0/10 [00:00<?, ?it/s]"
      ]
     },
     "metadata": {},
     "output_type": "display_data"
    },
    {
     "name": "stdout",
     "output_type": "stream",
     "text": [
      "Evaluating with 2362 users\n",
      "MRR@5 0.017\n",
      "MRR@20 0.022\n",
      "Average Recall@5 0.036\n",
      "Average Recall@20 0.084\n",
      "Training model WMF with hyperparameters {'k': 80, 'l2': 1000, 'v': 0.5, 'alpha': 5000, 'max_iterations': 10}\n"
     ]
    },
    {
     "data": {
      "application/vnd.jupyter.widget-view+json": {
       "model_id": "68de7904574d404eb60ceeff7c17cd7a",
       "version_major": 2,
       "version_minor": 0
      },
      "text/plain": [
       "  0%|          | 0/10 [00:00<?, ?it/s]"
      ]
     },
     "metadata": {},
     "output_type": "display_data"
    },
    {
     "name": "stdout",
     "output_type": "stream",
     "text": [
      "Evaluating with 2362 users\n",
      "MRR@5 0.018\n",
      "MRR@20 0.024\n",
      "Average Recall@5 0.036\n",
      "Average Recall@20 0.1\n",
      "Training model WMF with hyperparameters {'k': 80, 'l2': 1500, 'v': 0.5, 'alpha': 5000, 'max_iterations': 10}\n"
     ]
    },
    {
     "data": {
      "application/vnd.jupyter.widget-view+json": {
       "model_id": "70d72eda4f9e4eed8e1b7aef53e3ec0c",
       "version_major": 2,
       "version_minor": 0
      },
      "text/plain": [
       "  0%|          | 0/10 [00:00<?, ?it/s]"
      ]
     },
     "metadata": {},
     "output_type": "display_data"
    },
    {
     "name": "stdout",
     "output_type": "stream",
     "text": [
      "Evaluating with 2362 users\n",
      "MRR@5 0.018\n",
      "MRR@20 0.024\n",
      "Average Recall@5 0.036\n",
      "Average Recall@20 0.099\n",
      "Training model WMF with hyperparameters {'k': 80, 'l2': 2000, 'v': 0.5, 'alpha': 5000, 'max_iterations': 10}\n"
     ]
    },
    {
     "data": {
      "application/vnd.jupyter.widget-view+json": {
       "model_id": "63917d68e06f4919aabefa4c0d58a545",
       "version_major": 2,
       "version_minor": 0
      },
      "text/plain": [
       "  0%|          | 0/10 [00:00<?, ?it/s]"
      ]
     },
     "metadata": {},
     "output_type": "display_data"
    },
    {
     "name": "stdout",
     "output_type": "stream",
     "text": [
      "Evaluating with 2362 users\n",
      "MRR@5 0.018\n",
      "MRR@20 0.024\n",
      "Average Recall@5 0.036\n",
      "Average Recall@20 0.101\n",
      "Training model WMF with hyperparameters {'k': 80, 'l2': 5000, 'v': 0.5, 'alpha': 5000, 'max_iterations': 10}\n"
     ]
    },
    {
     "data": {
      "application/vnd.jupyter.widget-view+json": {
       "model_id": "43384b909d9f43bca06ac0af93b50a8b",
       "version_major": 2,
       "version_minor": 0
      },
      "text/plain": [
       "  0%|          | 0/10 [00:00<?, ?it/s]"
      ]
     },
     "metadata": {},
     "output_type": "display_data"
    },
    {
     "name": "stdout",
     "output_type": "stream",
     "text": [
      "Evaluating with 2362 users\n",
      "MRR@5 0.015\n",
      "MRR@20 0.02\n",
      "Average Recall@5 0.025\n",
      "Average Recall@20 0.085\n",
      "Training model WMF with hyperparameters {'k': 80, 'l2': 500, 'v': 0.75, 'alpha': 5000, 'max_iterations': 10}\n"
     ]
    },
    {
     "data": {
      "application/vnd.jupyter.widget-view+json": {
       "model_id": "947564e7c0cd44eeb4f87ccff334571f",
       "version_major": 2,
       "version_minor": 0
      },
      "text/plain": [
       "  0%|          | 0/10 [00:00<?, ?it/s]"
      ]
     },
     "metadata": {},
     "output_type": "display_data"
    },
    {
     "name": "stdout",
     "output_type": "stream",
     "text": [
      "Evaluating with 2362 users\n",
      "MRR@5 0.018\n",
      "MRR@20 0.023\n",
      "Average Recall@5 0.027\n",
      "Average Recall@20 0.088\n",
      "Training model WMF with hyperparameters {'k': 80, 'l2': 1000, 'v': 0.75, 'alpha': 5000, 'max_iterations': 10}\n"
     ]
    },
    {
     "data": {
      "application/vnd.jupyter.widget-view+json": {
       "model_id": "4652743c470e4b57941f2f51c2ee7e90",
       "version_major": 2,
       "version_minor": 0
      },
      "text/plain": [
       "  0%|          | 0/10 [00:00<?, ?it/s]"
      ]
     },
     "metadata": {},
     "output_type": "display_data"
    },
    {
     "name": "stdout",
     "output_type": "stream",
     "text": [
      "Evaluating with 2362 users\n",
      "MRR@5 0.017\n",
      "MRR@20 0.024\n",
      "Average Recall@5 0.033\n",
      "Average Recall@20 0.102\n",
      "Training model WMF with hyperparameters {'k': 80, 'l2': 1500, 'v': 0.75, 'alpha': 5000, 'max_iterations': 10}\n"
     ]
    },
    {
     "data": {
      "application/vnd.jupyter.widget-view+json": {
       "model_id": "b927ba0835694a3f813d26ef3129dd7c",
       "version_major": 2,
       "version_minor": 0
      },
      "text/plain": [
       "  0%|          | 0/10 [00:00<?, ?it/s]"
      ]
     },
     "metadata": {},
     "output_type": "display_data"
    },
    {
     "name": "stdout",
     "output_type": "stream",
     "text": [
      "Evaluating with 2362 users\n",
      "MRR@5 0.019\n",
      "MRR@20 0.025\n",
      "Average Recall@5 0.036\n",
      "Average Recall@20 0.102\n",
      "Training model WMF with hyperparameters {'k': 80, 'l2': 2000, 'v': 0.75, 'alpha': 5000, 'max_iterations': 10}\n"
     ]
    },
    {
     "data": {
      "application/vnd.jupyter.widget-view+json": {
       "model_id": "52ef4bd5a4604be8bf11bfa3bf8e2ab9",
       "version_major": 2,
       "version_minor": 0
      },
      "text/plain": [
       "  0%|          | 0/10 [00:00<?, ?it/s]"
      ]
     },
     "metadata": {},
     "output_type": "display_data"
    },
    {
     "name": "stdout",
     "output_type": "stream",
     "text": [
      "Evaluating with 2362 users\n",
      "MRR@5 0.02\n",
      "MRR@20 0.026\n",
      "Average Recall@5 0.036\n",
      "Average Recall@20 0.102\n",
      "Training model WMF with hyperparameters {'k': 80, 'l2': 5000, 'v': 0.75, 'alpha': 5000, 'max_iterations': 10}\n"
     ]
    },
    {
     "data": {
      "application/vnd.jupyter.widget-view+json": {
       "model_id": "53d3c8fc71414a8583d990020c366ffd",
       "version_major": 2,
       "version_minor": 0
      },
      "text/plain": [
       "  0%|          | 0/10 [00:00<?, ?it/s]"
      ]
     },
     "metadata": {},
     "output_type": "display_data"
    },
    {
     "name": "stdout",
     "output_type": "stream",
     "text": [
      "Evaluating with 2362 users\n",
      "MRR@5 0.014\n",
      "MRR@20 0.02\n",
      "Average Recall@5 0.025\n",
      "Average Recall@20 0.085\n",
      "CPU times: user 11min 26s, sys: 2min 4s, total: 13min 30s\n",
      "Wall time: 16min 19s\n"
     ]
    },
    {
     "data": {
      "text/plain": [
       "\"Best score of 0.029483592935602036 achieved with {'k': 80, 'l2': 1000, 'v': 0.25, 'alpha': 500, 'max_iterations': 10}.\""
      ]
     },
     "execution_count": 8,
     "metadata": {},
     "output_type": "execute_result"
    }
   ],
   "source": [
    "%%time\n",
    "score, best_hyperparams = evaluation.base.gridsearch(ALG, Xtrain, Xval_in, Xval_out, HYPERPARAMS, retarget=RETARGET)\n",
    "f\"Best score of {score} achieved with {best_hyperparams}.\""
   ]
  },
  {
   "cell_type": "markdown",
   "id": "e89dad17",
   "metadata": {},
   "source": [
    "## Evaluate model with optimal hyperparams with KFolds Cross validation"
   ]
  },
  {
   "cell_type": "code",
   "execution_count": 9,
   "id": "81674e0b",
   "metadata": {
    "scrolled": true
   },
   "outputs": [
    {
     "data": {
      "application/vnd.jupyter.widget-view+json": {
       "model_id": "2d9def73f909447ca3ebf5e9ef84f1b0",
       "version_major": 2,
       "version_minor": 0
      },
      "text/plain": [
       "  0%|          | 0/10 [00:00<?, ?it/s]"
      ]
     },
     "metadata": {},
     "output_type": "display_data"
    },
    {
     "name": "stdout",
     "output_type": "stream",
     "text": [
      "Evaluating with 2362 users\n"
     ]
    },
    {
     "data": {
      "application/vnd.jupyter.widget-view+json": {
       "model_id": "f06cf06bf96b4818991137c316eb4db9",
       "version_major": 2,
       "version_minor": 0
      },
      "text/plain": [
       "  0%|          | 0/10 [00:00<?, ?it/s]"
      ]
     },
     "metadata": {},
     "output_type": "display_data"
    },
    {
     "name": "stdout",
     "output_type": "stream",
     "text": [
      "Evaluating with 2362 users\n"
     ]
    },
    {
     "data": {
      "application/vnd.jupyter.widget-view+json": {
       "model_id": "972fadf41dd34668b6f9b79bfa3e0b6f",
       "version_major": 2,
       "version_minor": 0
      },
      "text/plain": [
       "  0%|          | 0/10 [00:00<?, ?it/s]"
      ]
     },
     "metadata": {},
     "output_type": "display_data"
    },
    {
     "name": "stdout",
     "output_type": "stream",
     "text": [
      "Evaluating with 2362 users\n"
     ]
    },
    {
     "data": {
      "application/vnd.jupyter.widget-view+json": {
       "model_id": "d5f27935426a45449258373d0dc64dec",
       "version_major": 2,
       "version_minor": 0
      },
      "text/plain": [
       "  0%|          | 0/10 [00:00<?, ?it/s]"
      ]
     },
     "metadata": {},
     "output_type": "display_data"
    },
    {
     "name": "stdout",
     "output_type": "stream",
     "text": [
      "Evaluating with 2362 users\n"
     ]
    },
    {
     "data": {
      "application/vnd.jupyter.widget-view+json": {
       "model_id": "037fccc25468405d8009a59635e8cace",
       "version_major": 2,
       "version_minor": 0
      },
      "text/plain": [
       "  0%|          | 0/10 [00:00<?, ?it/s]"
      ]
     },
     "metadata": {},
     "output_type": "display_data"
    },
    {
     "name": "stdout",
     "output_type": "stream",
     "text": [
      "Evaluating with 2362 users\n",
      "MRR@5 0.022 (0.002)\n",
      "MRR@20 0.028 (0.002)\n",
      "Average Recall@5 0.04 (0.004)\n",
      "Average Recall@20 0.102 (0.002)\n",
      "CPU times: user 47.8 s, sys: 8.53 s, total: 56.3 s\n",
      "Wall time: 1min 7s\n"
     ]
    }
   ],
   "source": [
    "%%time\n",
    "alg = ALG(**best_hyperparams)\n",
    "results = evaluation.base.kFoldsEval(alg, data, nr_folds=5, seed=SEED2, retarget=RETARGET)"
   ]
  }
 ],
 "metadata": {
  "kernelspec": {
   "display_name": "Python 3 (ipykernel)",
   "language": "python",
   "name": "python3"
  },
  "language_info": {
   "codemirror_mode": {
    "name": "ipython",
    "version": 3
   },
   "file_extension": ".py",
   "mimetype": "text/x-python",
   "name": "python",
   "nbconvert_exporter": "python",
   "pygments_lexer": "ipython3",
   "version": "3.10.6"
  }
 },
 "nbformat": 4,
 "nbformat_minor": 5
}
