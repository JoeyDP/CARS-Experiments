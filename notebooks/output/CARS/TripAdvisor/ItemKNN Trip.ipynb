{
 "cells": [
  {
   "cell_type": "code",
   "execution_count": 1,
   "id": "9ef88bc4",
   "metadata": {},
   "outputs": [],
   "source": [
    "%load_ext autoreload\n",
    "%autoreload 2"
   ]
  },
  {
   "cell_type": "markdown",
   "id": "55bab0c8",
   "metadata": {},
   "source": [
    "# Experiments with ItemKNN model"
   ]
  },
  {
   "cell_type": "code",
   "execution_count": 2,
   "id": "ec55d42c",
   "metadata": {},
   "outputs": [],
   "source": [
    "from pathlib import Path\n",
    "\n",
    "import scipy.sparse\n",
    "import numpy as np\n",
    "\n",
    "import src.io as io\n",
    "import src.evaluation as evaluation\n",
    "import src.evaluation.splits\n",
    "import src.evaluation.base\n",
    "\n",
    "from src.algorithm.baseline.iknn import ItemKNN"
   ]
  },
  {
   "cell_type": "markdown",
   "id": "c469b253",
   "metadata": {},
   "source": [
    "## Datasets"
   ]
  },
  {
   "cell_type": "code",
   "execution_count": 3,
   "id": "e0622ed1",
   "metadata": {},
   "outputs": [],
   "source": [
    "## Uncomment corresponding directory.\n",
    "## RETARGET True for Frappe, False for the others\n",
    "\n",
    "# DATA_DIR, RETARGET = Path('../../../data/CARS/Mobile_Frappe/'), True\n",
    "# DATA_DIR, RETARGET = Path('../../../data/CARS/Food_com/'), False\n",
    "DATA_DIR, RETARGET = Path('../../../data/CARS/TripAdvisor/'), False"
   ]
  },
  {
   "cell_type": "code",
   "execution_count": 4,
   "id": "d53bce36",
   "metadata": {},
   "outputs": [],
   "source": [
    "# Shouldn't need to change this info\n",
    "INTERACTIONS = DATA_DIR / 'interactions.csv'\n",
    "\n",
    "SEED = 123456\n",
    "SEED2 = 78910\n",
    "\n",
    "ITEM_ID = 'item'\n",
    "USER_ID = 'user'"
   ]
  },
  {
   "cell_type": "markdown",
   "id": "48457625",
   "metadata": {},
   "source": [
    "## Define algorithm and hyperparameter ranges"
   ]
  },
  {
   "cell_type": "code",
   "execution_count": 5,
   "id": "11a5ac4c",
   "metadata": {},
   "outputs": [
    {
     "data": {
      "text/plain": [
       "{'k': [1, 10, 20, 50, 100, 200, 500, 1000, None], 'normalize': [True, False]}"
      ]
     },
     "execution_count": 5,
     "metadata": {},
     "output_type": "execute_result"
    }
   ],
   "source": [
    "ALG = ItemKNN\n",
    "\n",
    "K = [1, 10, 20, 50, 100, 200, 500, 1000, None]\n",
    "NORMALIZE = [True, False]\n",
    "\n",
    "HYPERPARAMS = {'k': K, 'normalize': NORMALIZE}\n",
    "HYPERPARAMS"
   ]
  },
  {
   "cell_type": "markdown",
   "id": "32d25f41",
   "metadata": {},
   "source": [
    "## Parse data"
   ]
  },
  {
   "cell_type": "code",
   "execution_count": 6,
   "id": "ce0d0435",
   "metadata": {},
   "outputs": [
    {
     "data": {
      "text/html": [
       "<div>\n",
       "<style scoped>\n",
       "    .dataframe tbody tr th:only-of-type {\n",
       "        vertical-align: middle;\n",
       "    }\n",
       "\n",
       "    .dataframe tbody tr th {\n",
       "        vertical-align: top;\n",
       "    }\n",
       "\n",
       "    .dataframe thead th {\n",
       "        text-align: right;\n",
       "    }\n",
       "</style>\n",
       "<table border=\"1\" class=\"dataframe\">\n",
       "  <thead>\n",
       "    <tr style=\"text-align: right;\">\n",
       "      <th></th>\n",
       "      <th>userId</th>\n",
       "      <th>itemId</th>\n",
       "      <th>TripType</th>\n",
       "      <th>UserState</th>\n",
       "    </tr>\n",
       "  </thead>\n",
       "  <tbody>\n",
       "    <tr>\n",
       "      <th>0</th>\n",
       "      <td>1899</td>\n",
       "      <td>1865</td>\n",
       "      <td>1</td>\n",
       "      <td>1</td>\n",
       "    </tr>\n",
       "    <tr>\n",
       "      <th>1</th>\n",
       "      <td>466</td>\n",
       "      <td>721</td>\n",
       "      <td>1</td>\n",
       "      <td>1</td>\n",
       "    </tr>\n",
       "    <tr>\n",
       "      <th>2</th>\n",
       "      <td>1992</td>\n",
       "      <td>451</td>\n",
       "      <td>2</td>\n",
       "      <td>1</td>\n",
       "    </tr>\n",
       "    <tr>\n",
       "      <th>3</th>\n",
       "      <td>466</td>\n",
       "      <td>1016</td>\n",
       "      <td>1</td>\n",
       "      <td>1</td>\n",
       "    </tr>\n",
       "    <tr>\n",
       "      <th>4</th>\n",
       "      <td>1441</td>\n",
       "      <td>414</td>\n",
       "      <td>3</td>\n",
       "      <td>1</td>\n",
       "    </tr>\n",
       "    <tr>\n",
       "      <th>...</th>\n",
       "      <td>...</td>\n",
       "      <td>...</td>\n",
       "      <td>...</td>\n",
       "      <td>...</td>\n",
       "    </tr>\n",
       "    <tr>\n",
       "      <th>12831</th>\n",
       "      <td>936</td>\n",
       "      <td>341</td>\n",
       "      <td>3</td>\n",
       "      <td>78</td>\n",
       "    </tr>\n",
       "    <tr>\n",
       "      <th>12832</th>\n",
       "      <td>1545</td>\n",
       "      <td>1936</td>\n",
       "      <td>3</td>\n",
       "      <td>78</td>\n",
       "    </tr>\n",
       "    <tr>\n",
       "      <th>12833</th>\n",
       "      <td>399</td>\n",
       "      <td>1556</td>\n",
       "      <td>2</td>\n",
       "      <td>79</td>\n",
       "    </tr>\n",
       "    <tr>\n",
       "      <th>12834</th>\n",
       "      <td>918</td>\n",
       "      <td>1380</td>\n",
       "      <td>5</td>\n",
       "      <td>79</td>\n",
       "    </tr>\n",
       "    <tr>\n",
       "      <th>12835</th>\n",
       "      <td>399</td>\n",
       "      <td>264</td>\n",
       "      <td>2</td>\n",
       "      <td>79</td>\n",
       "    </tr>\n",
       "  </tbody>\n",
       "</table>\n",
       "<p>12836 rows × 4 columns</p>\n",
       "</div>"
      ],
      "text/plain": [
       "       userId  itemId  TripType  UserState\n",
       "0        1899    1865         1          1\n",
       "1         466     721         1          1\n",
       "2        1992     451         2          1\n",
       "3         466    1016         1          1\n",
       "4        1441     414         3          1\n",
       "...       ...     ...       ...        ...\n",
       "12831     936     341         3         78\n",
       "12832    1545    1936         3         78\n",
       "12833     399    1556         2         79\n",
       "12834     918    1380         5         79\n",
       "12835     399     264         2         79\n",
       "\n",
       "[12836 rows x 4 columns]"
      ]
     },
     "execution_count": 6,
     "metadata": {},
     "output_type": "execute_result"
    }
   ],
   "source": [
    "data = io.parse_interactions_with_context(INTERACTIONS, item_id=ITEM_ID, user_id=USER_ID)\n",
    "data.df"
   ]
  },
  {
   "cell_type": "markdown",
   "id": "36a367d9",
   "metadata": {},
   "source": [
    "## Make train/val split for hyperparam tuning"
   ]
  },
  {
   "cell_type": "code",
   "execution_count": 7,
   "id": "92b4e0a4",
   "metadata": {},
   "outputs": [],
   "source": [
    "Xtrain, Xval_in, Xval_out = evaluation.splits.leave_one_out_split_non_context(data, seed=SEED)"
   ]
  },
  {
   "cell_type": "markdown",
   "id": "fc85ffb4",
   "metadata": {},
   "source": [
    "## Perform gridsearch on validation set"
   ]
  },
  {
   "cell_type": "code",
   "execution_count": 8,
   "id": "36a9347a",
   "metadata": {
    "scrolled": true
   },
   "outputs": [
    {
     "data": {
      "application/vnd.jupyter.widget-view+json": {
       "model_id": "cc5673cd3340468ea785abdd1872db3b",
       "version_major": 2,
       "version_minor": 0
      },
      "text/plain": [
       "  0%|          | 0/18 [00:00<?, ?it/s]"
      ]
     },
     "metadata": {},
     "output_type": "display_data"
    },
    {
     "name": "stdout",
     "output_type": "stream",
     "text": [
      "Training model ItemKNN with hyperparameters {'k': 1, 'normalize': True}\n",
      "density of model 0.0004271372217348988\n",
      "Evaluating with 2362 users\n",
      "MRR@5 0.003\n",
      "MRR@20 0.004\n",
      "Average Recall@5 0.006\n",
      "Average Recall@20 0.01\n",
      "Training model ItemKNN with hyperparameters {'k': 10, 'normalize': True}\n",
      "density of model 0.003299315749281195\n",
      "Evaluating with 2362 users\n",
      "MRR@5 0.004\n",
      "MRR@20 0.005\n",
      "Average Recall@5 0.008\n",
      "Average Recall@20 0.022\n",
      "Training model ItemKNN with hyperparameters {'k': 20, 'normalize': True}\n",
      "density of model 0.005144499893671821\n",
      "Evaluating with 2362 users\n",
      "MRR@5 0.003\n",
      "MRR@20 0.005\n",
      "Average Recall@5 0.009\n",
      "Average Recall@20 0.029\n",
      "Training model ItemKNN with hyperparameters {'k': 50, 'normalize': True}\n",
      "density of model 0.007851864675954485\n",
      "Evaluating with 2362 users\n",
      "MRR@5 0.004\n",
      "MRR@20 0.006\n",
      "Average Recall@5 0.011\n",
      "Average Recall@20 0.036\n",
      "Training model ItemKNN with hyperparameters {'k': 100, 'normalize': True}\n",
      "density of model 0.009150507790540989\n",
      "Evaluating with 2362 users\n",
      "MRR@5 0.004\n",
      "MRR@20 0.006\n",
      "Average Recall@5 0.011\n",
      "Average Recall@20 0.039\n",
      "Training model ItemKNN with hyperparameters {'k': 200, 'normalize': True}\n",
      "density of model 0.009432292668667002\n",
      "Evaluating with 2362 users\n",
      "MRR@5 0.004\n",
      "MRR@20 0.007\n",
      "Average Recall@5 0.012\n",
      "Average Recall@20 0.039\n",
      "Training model ItemKNN with hyperparameters {'k': 500, 'normalize': True}\n",
      "density of model 0.009432292668667002\n",
      "Evaluating with 2362 users\n",
      "MRR@5 0.004\n",
      "MRR@20 0.007\n",
      "Average Recall@5 0.012\n",
      "Average Recall@20 0.039\n",
      "Training model ItemKNN with hyperparameters {'k': 1000, 'normalize': True}\n",
      "density of model 0.009432292668667002\n",
      "Evaluating with 2362 users\n",
      "MRR@5 0.004\n",
      "MRR@20 0.007\n",
      "Average Recall@5 0.012\n",
      "Average Recall@20 0.039\n",
      "Training model ItemKNN with hyperparameters {'k': None, 'normalize': True}\n",
      "density of model 0.009432292668667002\n",
      "Evaluating with 2362 users\n",
      "MRR@5 0.004\n",
      "MRR@20 0.007\n",
      "Average Recall@5 0.012\n",
      "Average Recall@20 0.039\n",
      "Training model ItemKNN with hyperparameters {'k': 1, 'normalize': False}\n",
      "density of model 0.0004271372217348988\n",
      "Evaluating with 2362 users\n",
      "MRR@5 0.003\n",
      "MRR@20 0.003\n",
      "Average Recall@5 0.007\n",
      "Average Recall@20 0.01\n",
      "Training model ItemKNN with hyperparameters {'k': 10, 'normalize': False}\n",
      "density of model 0.003299315749281195\n",
      "Evaluating with 2362 users\n",
      "MRR@5 0.004\n",
      "MRR@20 0.005\n",
      "Average Recall@5 0.008\n",
      "Average Recall@20 0.023\n",
      "Training model ItemKNN with hyperparameters {'k': 20, 'normalize': False}\n",
      "density of model 0.005144499893671821\n",
      "Evaluating with 2362 users\n",
      "MRR@5 0.004\n",
      "MRR@20 0.006\n",
      "Average Recall@5 0.009\n",
      "Average Recall@20 0.028\n",
      "Training model ItemKNN with hyperparameters {'k': 50, 'normalize': False}\n",
      "density of model 0.007851864675954485\n",
      "Evaluating with 2362 users\n",
      "MRR@5 0.005\n",
      "MRR@20 0.007\n",
      "Average Recall@5 0.011\n",
      "Average Recall@20 0.033\n",
      "Training model ItemKNN with hyperparameters {'k': 100, 'normalize': False}\n",
      "density of model 0.009150507790540989\n",
      "Evaluating with 2362 users\n",
      "MRR@5 0.006\n",
      "MRR@20 0.008\n",
      "Average Recall@5 0.013\n",
      "Average Recall@20 0.038\n",
      "Training model ItemKNN with hyperparameters {'k': 200, 'normalize': False}\n",
      "density of model 0.009432292668667002\n",
      "Evaluating with 2362 users\n",
      "MRR@5 0.006\n",
      "MRR@20 0.008\n",
      "Average Recall@5 0.013\n",
      "Average Recall@20 0.038\n",
      "Training model ItemKNN with hyperparameters {'k': 500, 'normalize': False}\n",
      "density of model 0.009432292668667002\n",
      "Evaluating with 2362 users\n",
      "MRR@5 0.006\n",
      "MRR@20 0.008\n",
      "Average Recall@5 0.013\n",
      "Average Recall@20 0.038\n",
      "Training model ItemKNN with hyperparameters {'k': 1000, 'normalize': False}\n",
      "density of model 0.009432292668667002\n",
      "Evaluating with 2362 users\n",
      "MRR@5 0.006\n",
      "MRR@20 0.008\n",
      "Average Recall@5 0.013\n",
      "Average Recall@20 0.038\n",
      "Training model ItemKNN with hyperparameters {'k': None, 'normalize': False}\n",
      "density of model 0.009432292668667002\n",
      "Evaluating with 2362 users\n",
      "MRR@5 0.006\n",
      "MRR@20 0.008\n",
      "Average Recall@5 0.013\n",
      "Average Recall@20 0.038\n",
      "CPU times: user 2.43 s, sys: 748 ms, total: 3.17 s\n",
      "Wall time: 3.16 s\n"
     ]
    },
    {
     "data": {
      "text/plain": [
       "\"Best score of 0.008447168406440341 achieved with {'k': 200, 'normalize': False}.\""
      ]
     },
     "execution_count": 8,
     "metadata": {},
     "output_type": "execute_result"
    }
   ],
   "source": [
    "%%time\n",
    "score, best_hyperparams = evaluation.base.gridsearch(ALG, Xtrain, Xval_in, Xval_out, HYPERPARAMS, retarget=RETARGET)\n",
    "f\"Best score of {score} achieved with {best_hyperparams}.\""
   ]
  },
  {
   "cell_type": "markdown",
   "id": "e89dad17",
   "metadata": {},
   "source": [
    "## Evaluate model with optimal hyperparams with KFolds Cross validation"
   ]
  },
  {
   "cell_type": "code",
   "execution_count": 9,
   "id": "81674e0b",
   "metadata": {
    "scrolled": true
   },
   "outputs": [
    {
     "name": "stdout",
     "output_type": "stream",
     "text": [
      "density of model 0.009422967413707435\n",
      "Evaluating with 2362 users\n",
      "density of model 0.00941648027982252\n",
      "Evaluating with 2362 users\n",
      "density of model 0.009408371362466375\n",
      "Evaluating with 2362 users\n",
      "density of model 0.009427832764121123\n",
      "Evaluating with 2362 users\n",
      "density of model 0.00942945454759235\n",
      "Evaluating with 2362 users\n",
      "MRR@5 0.006 (0.001)\n",
      "MRR@20 0.008 (0.001)\n",
      "Average Recall@5 0.011 (0.001)\n",
      "Average Recall@20 0.04 (0.002)\n",
      "CPU times: user 1.1 s, sys: 198 ms, total: 1.29 s\n",
      "Wall time: 1.28 s\n"
     ]
    }
   ],
   "source": [
    "%%time\n",
    "alg = ALG(**best_hyperparams)\n",
    "results = evaluation.base.kFoldsEval(alg, data, nr_folds=5, seed=SEED2, retarget=RETARGET)"
   ]
  }
 ],
 "metadata": {
  "kernelspec": {
   "display_name": "Python 3 (ipykernel)",
   "language": "python",
   "name": "python3"
  },
  "language_info": {
   "codemirror_mode": {
    "name": "ipython",
    "version": 3
   },
   "file_extension": ".py",
   "mimetype": "text/x-python",
   "name": "python",
   "nbconvert_exporter": "python",
   "pygments_lexer": "ipython3",
   "version": "3.10.6"
  }
 },
 "nbformat": 4,
 "nbformat_minor": 5
}
