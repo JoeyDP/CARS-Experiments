{
 "cells": [
  {
   "cell_type": "code",
   "execution_count": 1,
   "id": "9ef88bc4",
   "metadata": {},
   "outputs": [],
   "source": [
    "%load_ext autoreload\n",
    "%autoreload 2"
   ]
  },
  {
   "cell_type": "markdown",
   "id": "55bab0c8",
   "metadata": {},
   "source": [
    "# Experiments with iTALS model"
   ]
  },
  {
   "cell_type": "code",
   "execution_count": 2,
   "id": "ec55d42c",
   "metadata": {},
   "outputs": [],
   "source": [
    "from pathlib import Path\n",
    "\n",
    "import src.io as io\n",
    "import src.evaluation as evaluation\n",
    "import src.evaluation.splits\n",
    "import src.evaluation.cars\n",
    "\n",
    "from src.algorithm.cars.itals import iTALS"
   ]
  },
  {
   "cell_type": "markdown",
   "id": "c469b253",
   "metadata": {},
   "source": [
    "## Datasets"
   ]
  },
  {
   "cell_type": "code",
   "execution_count": 3,
   "id": "e0622ed1",
   "metadata": {},
   "outputs": [],
   "source": [
    "## Uncomment corresponding directory.\n",
    "## RETARGET True for Frappe, False for the others\n",
    "\n",
    "# DATA_DIR, RETARGET = Path('../../../data/CARS/Mobile_Frappe/'), True\n",
    "# DATA_DIR, RETARGET = Path('../../../data/CARS/Food_com/'), False\n",
    "DATA_DIR, RETARGET = Path('../../../data/CARS/TripAdvisor/'), False"
   ]
  },
  {
   "cell_type": "code",
   "execution_count": 4,
   "id": "d53bce36",
   "metadata": {},
   "outputs": [],
   "source": [
    "# Shouldn't need to change this info\n",
    "INTERACTIONS = DATA_DIR / 'interactions.csv'\n",
    "\n",
    "SEED = 123456\n",
    "SEED2 = 78910\n",
    "\n",
    "ITEM_ID = 'item'\n",
    "USER_ID = 'user'"
   ]
  },
  {
   "cell_type": "markdown",
   "id": "48457625",
   "metadata": {},
   "source": [
    "## Define algorithm and hyperparameter ranges"
   ]
  },
  {
   "cell_type": "code",
   "execution_count": 5,
   "id": "11a5ac4c",
   "metadata": {},
   "outputs": [
    {
     "data": {
      "text/plain": [
       "{'k': [80],\n",
       " 'l2': [500, 1000, 2000, 5000],\n",
       " 'v': [0.25, 0.5, 0.75],\n",
       " 'alpha': [50000, 100000, 200000, 500000],\n",
       " 'max_iterations': [10],\n",
       " 'default_context_1': [False]}"
      ]
     },
     "execution_count": 5,
     "metadata": {},
     "output_type": "execute_result"
    }
   ],
   "source": [
    "ALG = iTALS\n",
    "\n",
    "\n",
    "K = [80]\n",
    "MAX_IT = [10]\n",
    "DEFAULT_CONTEXT_1 = [False]\n",
    "\n",
    "# L2 = [100, 1000, 10000, 100000]\n",
    "# V = [0, 0.5, 1]\n",
    "# ALPHA = [100, 1000, 10000, 100000]\n",
    "\n",
    "L2 = [500, 1000, 2000, 5000]\n",
    "V = [0.25, 0.5, 0.75]\n",
    "ALPHA = [50000, 100000, 200000, 500000]\n",
    "\n",
    "HYPERPARAMS = {'k': K, 'l2': L2, 'v': V, 'alpha': ALPHA, 'max_iterations': MAX_IT, 'default_context_1': DEFAULT_CONTEXT_1}\n",
    "HYPERPARAMS"
   ]
  },
  {
   "cell_type": "markdown",
   "id": "32d25f41",
   "metadata": {},
   "source": [
    "## Parse data"
   ]
  },
  {
   "cell_type": "code",
   "execution_count": 6,
   "id": "ce0d0435",
   "metadata": {},
   "outputs": [
    {
     "data": {
      "text/html": [
       "<div>\n",
       "<style scoped>\n",
       "    .dataframe tbody tr th:only-of-type {\n",
       "        vertical-align: middle;\n",
       "    }\n",
       "\n",
       "    .dataframe tbody tr th {\n",
       "        vertical-align: top;\n",
       "    }\n",
       "\n",
       "    .dataframe thead th {\n",
       "        text-align: right;\n",
       "    }\n",
       "</style>\n",
       "<table border=\"1\" class=\"dataframe\">\n",
       "  <thead>\n",
       "    <tr style=\"text-align: right;\">\n",
       "      <th></th>\n",
       "      <th>userId</th>\n",
       "      <th>itemId</th>\n",
       "      <th>TripType</th>\n",
       "      <th>UserState</th>\n",
       "    </tr>\n",
       "  </thead>\n",
       "  <tbody>\n",
       "    <tr>\n",
       "      <th>0</th>\n",
       "      <td>1899</td>\n",
       "      <td>1865</td>\n",
       "      <td>1</td>\n",
       "      <td>1</td>\n",
       "    </tr>\n",
       "    <tr>\n",
       "      <th>1</th>\n",
       "      <td>466</td>\n",
       "      <td>721</td>\n",
       "      <td>1</td>\n",
       "      <td>1</td>\n",
       "    </tr>\n",
       "    <tr>\n",
       "      <th>2</th>\n",
       "      <td>1992</td>\n",
       "      <td>451</td>\n",
       "      <td>2</td>\n",
       "      <td>1</td>\n",
       "    </tr>\n",
       "    <tr>\n",
       "      <th>3</th>\n",
       "      <td>466</td>\n",
       "      <td>1016</td>\n",
       "      <td>1</td>\n",
       "      <td>1</td>\n",
       "    </tr>\n",
       "    <tr>\n",
       "      <th>4</th>\n",
       "      <td>1441</td>\n",
       "      <td>414</td>\n",
       "      <td>3</td>\n",
       "      <td>1</td>\n",
       "    </tr>\n",
       "    <tr>\n",
       "      <th>...</th>\n",
       "      <td>...</td>\n",
       "      <td>...</td>\n",
       "      <td>...</td>\n",
       "      <td>...</td>\n",
       "    </tr>\n",
       "    <tr>\n",
       "      <th>12831</th>\n",
       "      <td>936</td>\n",
       "      <td>341</td>\n",
       "      <td>3</td>\n",
       "      <td>78</td>\n",
       "    </tr>\n",
       "    <tr>\n",
       "      <th>12832</th>\n",
       "      <td>1545</td>\n",
       "      <td>1936</td>\n",
       "      <td>3</td>\n",
       "      <td>78</td>\n",
       "    </tr>\n",
       "    <tr>\n",
       "      <th>12833</th>\n",
       "      <td>399</td>\n",
       "      <td>1556</td>\n",
       "      <td>2</td>\n",
       "      <td>79</td>\n",
       "    </tr>\n",
       "    <tr>\n",
       "      <th>12834</th>\n",
       "      <td>918</td>\n",
       "      <td>1380</td>\n",
       "      <td>5</td>\n",
       "      <td>79</td>\n",
       "    </tr>\n",
       "    <tr>\n",
       "      <th>12835</th>\n",
       "      <td>399</td>\n",
       "      <td>264</td>\n",
       "      <td>2</td>\n",
       "      <td>79</td>\n",
       "    </tr>\n",
       "  </tbody>\n",
       "</table>\n",
       "<p>12836 rows × 4 columns</p>\n",
       "</div>"
      ],
      "text/plain": [
       "       userId  itemId  TripType  UserState\n",
       "0        1899    1865         1          1\n",
       "1         466     721         1          1\n",
       "2        1992     451         2          1\n",
       "3         466    1016         1          1\n",
       "4        1441     414         3          1\n",
       "...       ...     ...       ...        ...\n",
       "12831     936     341         3         78\n",
       "12832    1545    1936         3         78\n",
       "12833     399    1556         2         79\n",
       "12834     918    1380         5         79\n",
       "12835     399     264         2         79\n",
       "\n",
       "[12836 rows x 4 columns]"
      ]
     },
     "execution_count": 6,
     "metadata": {},
     "output_type": "execute_result"
    }
   ],
   "source": [
    "data = io.parse_interactions_with_context(INTERACTIONS, item_id=ITEM_ID, user_id=USER_ID)\n",
    "data.df"
   ]
  },
  {
   "cell_type": "markdown",
   "id": "4bef86fe",
   "metadata": {},
   "source": [
    "## Make train/val split for hyperparam tuning"
   ]
  },
  {
   "cell_type": "code",
   "execution_count": 7,
   "id": "95fe8671",
   "metadata": {},
   "outputs": [],
   "source": [
    "train, test = evaluation.splits.context_leave_one_out_split(data, seed=SEED)"
   ]
  },
  {
   "cell_type": "markdown",
   "id": "fc85ffb4",
   "metadata": {},
   "source": [
    "## Perform gridsearch on validation set"
   ]
  },
  {
   "cell_type": "code",
   "execution_count": 8,
   "id": "36a9347a",
   "metadata": {
    "scrolled": true
   },
   "outputs": [
    {
     "data": {
      "application/vnd.jupyter.widget-view+json": {
       "model_id": "324d60024edc4883bb7ebe09f9fc434b",
       "version_major": 2,
       "version_minor": 0
      },
      "text/plain": [
       "  0%|          | 0/48 [00:00<?, ?it/s]"
      ]
     },
     "metadata": {},
     "output_type": "display_data"
    },
    {
     "name": "stdout",
     "output_type": "stream",
     "text": [
      "Training model iTALS with hyperparameters {'k': 80, 'l2': 500, 'v': 0.25, 'alpha': 50000, 'max_iterations': 10, 'default_context_1': False}\n"
     ]
    },
    {
     "data": {
      "application/vnd.jupyter.widget-view+json": {
       "model_id": "9b580db827124168aeb229ba275aec0e",
       "version_major": 2,
       "version_minor": 0
      },
      "text/plain": [
       "  0%|          | 0/10 [00:00<?, ?it/s]"
      ]
     },
     "metadata": {},
     "output_type": "display_data"
    },
    {
     "name": "stdout",
     "output_type": "stream",
     "text": [
      "Evaluating with 2362 users\n",
      "MRR@5 0.003\n",
      "MRR@20 0.005\n",
      "Average Recall@5 0.007\n",
      "Average Recall@20 0.025\n",
      "Training model iTALS with hyperparameters {'k': 80, 'l2': 1000, 'v': 0.25, 'alpha': 50000, 'max_iterations': 10, 'default_context_1': False}\n"
     ]
    },
    {
     "data": {
      "application/vnd.jupyter.widget-view+json": {
       "model_id": "ace7f0339eb041a88ed02ae53ec9aaaf",
       "version_major": 2,
       "version_minor": 0
      },
      "text/plain": [
       "  0%|          | 0/10 [00:00<?, ?it/s]"
      ]
     },
     "metadata": {},
     "output_type": "display_data"
    },
    {
     "name": "stdout",
     "output_type": "stream",
     "text": [
      "Evaluating with 2362 users\n",
      "MRR@5 0.001\n",
      "MRR@20 0.001\n",
      "Average Recall@5 0.002\n",
      "Average Recall@20 0.005\n",
      "Training model iTALS with hyperparameters {'k': 80, 'l2': 2000, 'v': 0.25, 'alpha': 50000, 'max_iterations': 10, 'default_context_1': False}\n"
     ]
    },
    {
     "data": {
      "application/vnd.jupyter.widget-view+json": {
       "model_id": "58a07ce4af05451995334cfe4c8a0a4c",
       "version_major": 2,
       "version_minor": 0
      },
      "text/plain": [
       "  0%|          | 0/10 [00:00<?, ?it/s]"
      ]
     },
     "metadata": {},
     "output_type": "display_data"
    },
    {
     "name": "stdout",
     "output_type": "stream",
     "text": [
      "Evaluating with 2362 users\n",
      "MRR@5 0.001\n",
      "MRR@20 0.001\n",
      "Average Recall@5 0.002\n",
      "Average Recall@20 0.005\n",
      "Training model iTALS with hyperparameters {'k': 80, 'l2': 5000, 'v': 0.25, 'alpha': 50000, 'max_iterations': 10, 'default_context_1': False}\n"
     ]
    },
    {
     "data": {
      "application/vnd.jupyter.widget-view+json": {
       "model_id": "6eb59330b09f454fab0c241a447d5141",
       "version_major": 2,
       "version_minor": 0
      },
      "text/plain": [
       "  0%|          | 0/10 [00:00<?, ?it/s]"
      ]
     },
     "metadata": {},
     "output_type": "display_data"
    },
    {
     "name": "stdout",
     "output_type": "stream",
     "text": [
      "Evaluating with 2362 users\n",
      "MRR@5 0.001\n",
      "MRR@20 0.001\n",
      "Average Recall@5 0.002\n",
      "Average Recall@20 0.005\n",
      "Training model iTALS with hyperparameters {'k': 80, 'l2': 500, 'v': 0.5, 'alpha': 50000, 'max_iterations': 10, 'default_context_1': False}\n"
     ]
    },
    {
     "data": {
      "application/vnd.jupyter.widget-view+json": {
       "model_id": "e25a692b5e4d4f53be2e4df32c07ba70",
       "version_major": 2,
       "version_minor": 0
      },
      "text/plain": [
       "  0%|          | 0/10 [00:00<?, ?it/s]"
      ]
     },
     "metadata": {},
     "output_type": "display_data"
    },
    {
     "name": "stdout",
     "output_type": "stream",
     "text": [
      "Evaluating with 2362 users\n",
      "MRR@5 0.005\n",
      "MRR@20 0.007\n",
      "Average Recall@5 0.012\n",
      "Average Recall@20 0.037\n",
      "Training model iTALS with hyperparameters {'k': 80, 'l2': 1000, 'v': 0.5, 'alpha': 50000, 'max_iterations': 10, 'default_context_1': False}\n"
     ]
    },
    {
     "data": {
      "application/vnd.jupyter.widget-view+json": {
       "model_id": "25850f8065f147bd893bcbf492918873",
       "version_major": 2,
       "version_minor": 0
      },
      "text/plain": [
       "  0%|          | 0/10 [00:00<?, ?it/s]"
      ]
     },
     "metadata": {},
     "output_type": "display_data"
    },
    {
     "name": "stdout",
     "output_type": "stream",
     "text": [
      "Evaluating with 2362 users\n",
      "MRR@5 0.001\n",
      "MRR@20 0.001\n",
      "Average Recall@5 0.002\n",
      "Average Recall@20 0.005\n",
      "Training model iTALS with hyperparameters {'k': 80, 'l2': 2000, 'v': 0.5, 'alpha': 50000, 'max_iterations': 10, 'default_context_1': False}\n"
     ]
    },
    {
     "data": {
      "application/vnd.jupyter.widget-view+json": {
       "model_id": "07b1baa38db94fdd8f8a6f91b453d495",
       "version_major": 2,
       "version_minor": 0
      },
      "text/plain": [
       "  0%|          | 0/10 [00:00<?, ?it/s]"
      ]
     },
     "metadata": {},
     "output_type": "display_data"
    },
    {
     "name": "stdout",
     "output_type": "stream",
     "text": [
      "Evaluating with 2362 users\n",
      "MRR@5 0.001\n",
      "MRR@20 0.001\n",
      "Average Recall@5 0.002\n",
      "Average Recall@20 0.005\n",
      "Training model iTALS with hyperparameters {'k': 80, 'l2': 5000, 'v': 0.5, 'alpha': 50000, 'max_iterations': 10, 'default_context_1': False}\n"
     ]
    },
    {
     "data": {
      "application/vnd.jupyter.widget-view+json": {
       "model_id": "3c132030bd6d46e0bbcdec2bb3ecf24f",
       "version_major": 2,
       "version_minor": 0
      },
      "text/plain": [
       "  0%|          | 0/10 [00:00<?, ?it/s]"
      ]
     },
     "metadata": {},
     "output_type": "display_data"
    },
    {
     "name": "stdout",
     "output_type": "stream",
     "text": [
      "Evaluating with 2362 users\n",
      "MRR@5 0.001\n",
      "MRR@20 0.001\n",
      "Average Recall@5 0.002\n",
      "Average Recall@20 0.005\n",
      "Training model iTALS with hyperparameters {'k': 80, 'l2': 500, 'v': 0.75, 'alpha': 50000, 'max_iterations': 10, 'default_context_1': False}\n"
     ]
    },
    {
     "data": {
      "application/vnd.jupyter.widget-view+json": {
       "model_id": "27fbce4459aa471590b050b84140d0fb",
       "version_major": 2,
       "version_minor": 0
      },
      "text/plain": [
       "  0%|          | 0/10 [00:00<?, ?it/s]"
      ]
     },
     "metadata": {},
     "output_type": "display_data"
    },
    {
     "name": "stdout",
     "output_type": "stream",
     "text": [
      "Evaluating with 2362 users\n",
      "MRR@5 0.004\n",
      "MRR@20 0.006\n",
      "Average Recall@5 0.009\n",
      "Average Recall@20 0.033\n",
      "Training model iTALS with hyperparameters {'k': 80, 'l2': 1000, 'v': 0.75, 'alpha': 50000, 'max_iterations': 10, 'default_context_1': False}\n"
     ]
    },
    {
     "data": {
      "application/vnd.jupyter.widget-view+json": {
       "model_id": "3e7a7aea56f74fed92cb96661d215072",
       "version_major": 2,
       "version_minor": 0
      },
      "text/plain": [
       "  0%|          | 0/10 [00:00<?, ?it/s]"
      ]
     },
     "metadata": {},
     "output_type": "display_data"
    },
    {
     "name": "stdout",
     "output_type": "stream",
     "text": [
      "Evaluating with 2362 users\n",
      "MRR@5 0.001\n",
      "MRR@20 0.001\n",
      "Average Recall@5 0.002\n",
      "Average Recall@20 0.005\n",
      "Training model iTALS with hyperparameters {'k': 80, 'l2': 2000, 'v': 0.75, 'alpha': 50000, 'max_iterations': 10, 'default_context_1': False}\n"
     ]
    },
    {
     "data": {
      "application/vnd.jupyter.widget-view+json": {
       "model_id": "e45ed0513c514b96818efea5852e5d08",
       "version_major": 2,
       "version_minor": 0
      },
      "text/plain": [
       "  0%|          | 0/10 [00:00<?, ?it/s]"
      ]
     },
     "metadata": {},
     "output_type": "display_data"
    },
    {
     "name": "stdout",
     "output_type": "stream",
     "text": [
      "Evaluating with 2362 users\n",
      "MRR@5 0.001\n",
      "MRR@20 0.001\n",
      "Average Recall@5 0.002\n",
      "Average Recall@20 0.005\n",
      "Training model iTALS with hyperparameters {'k': 80, 'l2': 5000, 'v': 0.75, 'alpha': 50000, 'max_iterations': 10, 'default_context_1': False}\n"
     ]
    },
    {
     "data": {
      "application/vnd.jupyter.widget-view+json": {
       "model_id": "29b051c53d76429b8bbde88b0f3a8529",
       "version_major": 2,
       "version_minor": 0
      },
      "text/plain": [
       "  0%|          | 0/10 [00:00<?, ?it/s]"
      ]
     },
     "metadata": {},
     "output_type": "display_data"
    },
    {
     "name": "stdout",
     "output_type": "stream",
     "text": [
      "Evaluating with 2362 users\n",
      "MRR@5 0.001\n",
      "MRR@20 0.001\n",
      "Average Recall@5 0.002\n",
      "Average Recall@20 0.005\n",
      "Training model iTALS with hyperparameters {'k': 80, 'l2': 500, 'v': 0.25, 'alpha': 100000, 'max_iterations': 10, 'default_context_1': False}\n"
     ]
    },
    {
     "data": {
      "application/vnd.jupyter.widget-view+json": {
       "model_id": "d49ce929aa1b41fbaa1c54624df6700f",
       "version_major": 2,
       "version_minor": 0
      },
      "text/plain": [
       "  0%|          | 0/10 [00:00<?, ?it/s]"
      ]
     },
     "metadata": {},
     "output_type": "display_data"
    },
    {
     "name": "stdout",
     "output_type": "stream",
     "text": [
      "Evaluating with 2362 users\n",
      "MRR@5 0.007\n",
      "MRR@20 0.009\n",
      "Average Recall@5 0.013\n",
      "Average Recall@20 0.039\n",
      "Training model iTALS with hyperparameters {'k': 80, 'l2': 1000, 'v': 0.25, 'alpha': 100000, 'max_iterations': 10, 'default_context_1': False}\n"
     ]
    },
    {
     "data": {
      "application/vnd.jupyter.widget-view+json": {
       "model_id": "65b2f4bc4d434afb9037e20908cc09cc",
       "version_major": 2,
       "version_minor": 0
      },
      "text/plain": [
       "  0%|          | 0/10 [00:00<?, ?it/s]"
      ]
     },
     "metadata": {},
     "output_type": "display_data"
    },
    {
     "name": "stdout",
     "output_type": "stream",
     "text": [
      "Evaluating with 2362 users\n",
      "MRR@5 0.003\n",
      "MRR@20 0.005\n",
      "Average Recall@5 0.007\n",
      "Average Recall@20 0.03\n",
      "Training model iTALS with hyperparameters {'k': 80, 'l2': 2000, 'v': 0.25, 'alpha': 100000, 'max_iterations': 10, 'default_context_1': False}\n"
     ]
    },
    {
     "data": {
      "application/vnd.jupyter.widget-view+json": {
       "model_id": "ab0edf820faf42b09a2637a22784c3ec",
       "version_major": 2,
       "version_minor": 0
      },
      "text/plain": [
       "  0%|          | 0/10 [00:00<?, ?it/s]"
      ]
     },
     "metadata": {},
     "output_type": "display_data"
    },
    {
     "name": "stdout",
     "output_type": "stream",
     "text": [
      "Evaluating with 2362 users\n",
      "MRR@5 0.004\n",
      "MRR@20 0.007\n",
      "Average Recall@5 0.008\n",
      "Average Recall@20 0.038\n",
      "Training model iTALS with hyperparameters {'k': 80, 'l2': 5000, 'v': 0.25, 'alpha': 100000, 'max_iterations': 10, 'default_context_1': False}\n"
     ]
    },
    {
     "data": {
      "application/vnd.jupyter.widget-view+json": {
       "model_id": "d32f4bbe13824eeda88258688fc29816",
       "version_major": 2,
       "version_minor": 0
      },
      "text/plain": [
       "  0%|          | 0/10 [00:00<?, ?it/s]"
      ]
     },
     "metadata": {},
     "output_type": "display_data"
    },
    {
     "name": "stdout",
     "output_type": "stream",
     "text": [
      "Evaluating with 2362 users\n",
      "MRR@5 0.001\n",
      "MRR@20 0.001\n",
      "Average Recall@5 0.002\n",
      "Average Recall@20 0.005\n",
      "Training model iTALS with hyperparameters {'k': 80, 'l2': 500, 'v': 0.5, 'alpha': 100000, 'max_iterations': 10, 'default_context_1': False}\n"
     ]
    },
    {
     "data": {
      "application/vnd.jupyter.widget-view+json": {
       "model_id": "4c4c3fa98194432a84b243c0997a4a49",
       "version_major": 2,
       "version_minor": 0
      },
      "text/plain": [
       "  0%|          | 0/10 [00:00<?, ?it/s]"
      ]
     },
     "metadata": {},
     "output_type": "display_data"
    },
    {
     "name": "stdout",
     "output_type": "stream",
     "text": [
      "Evaluating with 2362 users\n",
      "MRR@5 0.003\n",
      "MRR@20 0.005\n",
      "Average Recall@5 0.007\n",
      "Average Recall@20 0.03\n",
      "Training model iTALS with hyperparameters {'k': 80, 'l2': 1000, 'v': 0.5, 'alpha': 100000, 'max_iterations': 10, 'default_context_1': False}\n"
     ]
    },
    {
     "data": {
      "application/vnd.jupyter.widget-view+json": {
       "model_id": "fb63ee6a7841415e9dbe852a8204b2eb",
       "version_major": 2,
       "version_minor": 0
      },
      "text/plain": [
       "  0%|          | 0/10 [00:00<?, ?it/s]"
      ]
     },
     "metadata": {},
     "output_type": "display_data"
    },
    {
     "name": "stdout",
     "output_type": "stream",
     "text": [
      "Evaluating with 2362 users\n",
      "MRR@5 0.004\n",
      "MRR@20 0.006\n",
      "Average Recall@5 0.01\n",
      "Average Recall@20 0.03\n",
      "Training model iTALS with hyperparameters {'k': 80, 'l2': 2000, 'v': 0.5, 'alpha': 100000, 'max_iterations': 10, 'default_context_1': False}\n"
     ]
    },
    {
     "data": {
      "application/vnd.jupyter.widget-view+json": {
       "model_id": "06e6a90da0f143408229ce47d05f0d6c",
       "version_major": 2,
       "version_minor": 0
      },
      "text/plain": [
       "  0%|          | 0/10 [00:00<?, ?it/s]"
      ]
     },
     "metadata": {},
     "output_type": "display_data"
    },
    {
     "name": "stdout",
     "output_type": "stream",
     "text": [
      "Evaluating with 2362 users\n",
      "MRR@5 0.001\n",
      "MRR@20 0.001\n",
      "Average Recall@5 0.002\n",
      "Average Recall@20 0.005\n",
      "Training model iTALS with hyperparameters {'k': 80, 'l2': 5000, 'v': 0.5, 'alpha': 100000, 'max_iterations': 10, 'default_context_1': False}\n"
     ]
    },
    {
     "data": {
      "application/vnd.jupyter.widget-view+json": {
       "model_id": "087d1169b77945e2891a943533770e81",
       "version_major": 2,
       "version_minor": 0
      },
      "text/plain": [
       "  0%|          | 0/10 [00:00<?, ?it/s]"
      ]
     },
     "metadata": {},
     "output_type": "display_data"
    },
    {
     "name": "stdout",
     "output_type": "stream",
     "text": [
      "Evaluating with 2362 users\n",
      "MRR@5 0.001\n",
      "MRR@20 0.001\n",
      "Average Recall@5 0.002\n",
      "Average Recall@20 0.005\n",
      "Training model iTALS with hyperparameters {'k': 80, 'l2': 500, 'v': 0.75, 'alpha': 100000, 'max_iterations': 10, 'default_context_1': False}\n"
     ]
    },
    {
     "data": {
      "application/vnd.jupyter.widget-view+json": {
       "model_id": "6e2e7c4c11db43119176ce5a4cd1165c",
       "version_major": 2,
       "version_minor": 0
      },
      "text/plain": [
       "  0%|          | 0/10 [00:00<?, ?it/s]"
      ]
     },
     "metadata": {},
     "output_type": "display_data"
    },
    {
     "name": "stdout",
     "output_type": "stream",
     "text": [
      "Evaluating with 2362 users\n",
      "MRR@5 0.006\n",
      "MRR@20 0.007\n",
      "Average Recall@5 0.009\n",
      "Average Recall@20 0.032\n",
      "Training model iTALS with hyperparameters {'k': 80, 'l2': 1000, 'v': 0.75, 'alpha': 100000, 'max_iterations': 10, 'default_context_1': False}\n"
     ]
    },
    {
     "data": {
      "application/vnd.jupyter.widget-view+json": {
       "model_id": "8365de4c22bc46c7822d3055a47d1376",
       "version_major": 2,
       "version_minor": 0
      },
      "text/plain": [
       "  0%|          | 0/10 [00:00<?, ?it/s]"
      ]
     },
     "metadata": {},
     "output_type": "display_data"
    },
    {
     "name": "stdout",
     "output_type": "stream",
     "text": [
      "Evaluating with 2362 users\n",
      "MRR@5 0.005\n",
      "MRR@20 0.007\n",
      "Average Recall@5 0.011\n",
      "Average Recall@20 0.034\n",
      "Training model iTALS with hyperparameters {'k': 80, 'l2': 2000, 'v': 0.75, 'alpha': 100000, 'max_iterations': 10, 'default_context_1': False}\n"
     ]
    },
    {
     "data": {
      "application/vnd.jupyter.widget-view+json": {
       "model_id": "59c7ac43ad494d26bc1b6071527f08b9",
       "version_major": 2,
       "version_minor": 0
      },
      "text/plain": [
       "  0%|          | 0/10 [00:00<?, ?it/s]"
      ]
     },
     "metadata": {},
     "output_type": "display_data"
    },
    {
     "name": "stdout",
     "output_type": "stream",
     "text": [
      "Evaluating with 2362 users\n",
      "MRR@5 0.001\n",
      "MRR@20 0.001\n",
      "Average Recall@5 0.002\n",
      "Average Recall@20 0.005\n",
      "Training model iTALS with hyperparameters {'k': 80, 'l2': 5000, 'v': 0.75, 'alpha': 100000, 'max_iterations': 10, 'default_context_1': False}\n"
     ]
    },
    {
     "data": {
      "application/vnd.jupyter.widget-view+json": {
       "model_id": "d2d6a12b71284f3180f5030a31260158",
       "version_major": 2,
       "version_minor": 0
      },
      "text/plain": [
       "  0%|          | 0/10 [00:00<?, ?it/s]"
      ]
     },
     "metadata": {},
     "output_type": "display_data"
    },
    {
     "name": "stdout",
     "output_type": "stream",
     "text": [
      "Evaluating with 2362 users\n",
      "MRR@5 0.001\n",
      "MRR@20 0.001\n",
      "Average Recall@5 0.002\n",
      "Average Recall@20 0.005\n",
      "Training model iTALS with hyperparameters {'k': 80, 'l2': 500, 'v': 0.25, 'alpha': 200000, 'max_iterations': 10, 'default_context_1': False}\n"
     ]
    },
    {
     "data": {
      "application/vnd.jupyter.widget-view+json": {
       "model_id": "3ac27d8e78eb4efeb487a5fa65c462b4",
       "version_major": 2,
       "version_minor": 0
      },
      "text/plain": [
       "  0%|          | 0/10 [00:00<?, ?it/s]"
      ]
     },
     "metadata": {},
     "output_type": "display_data"
    },
    {
     "name": "stdout",
     "output_type": "stream",
     "text": [
      "Evaluating with 2362 users\n",
      "MRR@5 0.007\n",
      "MRR@20 0.01\n",
      "Average Recall@5 0.013\n",
      "Average Recall@20 0.045\n",
      "Training model iTALS with hyperparameters {'k': 80, 'l2': 1000, 'v': 0.25, 'alpha': 200000, 'max_iterations': 10, 'default_context_1': False}\n"
     ]
    },
    {
     "data": {
      "application/vnd.jupyter.widget-view+json": {
       "model_id": "30cc2e6488b643b98078b6388a0ef859",
       "version_major": 2,
       "version_minor": 0
      },
      "text/plain": [
       "  0%|          | 0/10 [00:00<?, ?it/s]"
      ]
     },
     "metadata": {},
     "output_type": "display_data"
    },
    {
     "name": "stdout",
     "output_type": "stream",
     "text": [
      "Evaluating with 2362 users\n",
      "MRR@5 0.006\n",
      "MRR@20 0.008\n",
      "Average Recall@5 0.012\n",
      "Average Recall@20 0.041\n",
      "Training model iTALS with hyperparameters {'k': 80, 'l2': 2000, 'v': 0.25, 'alpha': 200000, 'max_iterations': 10, 'default_context_1': False}\n"
     ]
    },
    {
     "data": {
      "application/vnd.jupyter.widget-view+json": {
       "model_id": "8da98f1928c1472b826e45401d9056bc",
       "version_major": 2,
       "version_minor": 0
      },
      "text/plain": [
       "  0%|          | 0/10 [00:00<?, ?it/s]"
      ]
     },
     "metadata": {},
     "output_type": "display_data"
    },
    {
     "name": "stdout",
     "output_type": "stream",
     "text": [
      "Evaluating with 2362 users\n",
      "MRR@5 0.003\n",
      "MRR@20 0.005\n",
      "Average Recall@5 0.006\n",
      "Average Recall@20 0.03\n",
      "Training model iTALS with hyperparameters {'k': 80, 'l2': 5000, 'v': 0.25, 'alpha': 200000, 'max_iterations': 10, 'default_context_1': False}\n"
     ]
    },
    {
     "data": {
      "application/vnd.jupyter.widget-view+json": {
       "model_id": "430159d297944c049332f5abef664eb2",
       "version_major": 2,
       "version_minor": 0
      },
      "text/plain": [
       "  0%|          | 0/10 [00:00<?, ?it/s]"
      ]
     },
     "metadata": {},
     "output_type": "display_data"
    },
    {
     "name": "stdout",
     "output_type": "stream",
     "text": [
      "Evaluating with 2362 users\n",
      "MRR@5 0.001\n",
      "MRR@20 0.001\n",
      "Average Recall@5 0.002\n",
      "Average Recall@20 0.005\n",
      "Training model iTALS with hyperparameters {'k': 80, 'l2': 500, 'v': 0.5, 'alpha': 200000, 'max_iterations': 10, 'default_context_1': False}\n"
     ]
    },
    {
     "data": {
      "application/vnd.jupyter.widget-view+json": {
       "model_id": "4a9ba1743a4b440bbb55476fd594fe04",
       "version_major": 2,
       "version_minor": 0
      },
      "text/plain": [
       "  0%|          | 0/10 [00:00<?, ?it/s]"
      ]
     },
     "metadata": {},
     "output_type": "display_data"
    },
    {
     "name": "stdout",
     "output_type": "stream",
     "text": [
      "Evaluating with 2362 users\n",
      "MRR@5 0.006\n",
      "MRR@20 0.008\n",
      "Average Recall@5 0.013\n",
      "Average Recall@20 0.031\n",
      "Training model iTALS with hyperparameters {'k': 80, 'l2': 1000, 'v': 0.5, 'alpha': 200000, 'max_iterations': 10, 'default_context_1': False}\n"
     ]
    },
    {
     "data": {
      "application/vnd.jupyter.widget-view+json": {
       "model_id": "8f0f9692706d408784e9d05b09ca9c9a",
       "version_major": 2,
       "version_minor": 0
      },
      "text/plain": [
       "  0%|          | 0/10 [00:00<?, ?it/s]"
      ]
     },
     "metadata": {},
     "output_type": "display_data"
    },
    {
     "name": "stdout",
     "output_type": "stream",
     "text": [
      "Evaluating with 2362 users\n",
      "MRR@5 0.007\n",
      "MRR@20 0.008\n",
      "Average Recall@5 0.013\n",
      "Average Recall@20 0.033\n",
      "Training model iTALS with hyperparameters {'k': 80, 'l2': 2000, 'v': 0.5, 'alpha': 200000, 'max_iterations': 10, 'default_context_1': False}\n"
     ]
    },
    {
     "data": {
      "application/vnd.jupyter.widget-view+json": {
       "model_id": "46f5e761a6ee44a7979e52b565bb0471",
       "version_major": 2,
       "version_minor": 0
      },
      "text/plain": [
       "  0%|          | 0/10 [00:00<?, ?it/s]"
      ]
     },
     "metadata": {},
     "output_type": "display_data"
    },
    {
     "name": "stdout",
     "output_type": "stream",
     "text": [
      "Evaluating with 2362 users\n",
      "MRR@5 0.004\n",
      "MRR@20 0.006\n",
      "Average Recall@5 0.007\n",
      "Average Recall@20 0.028\n",
      "Training model iTALS with hyperparameters {'k': 80, 'l2': 5000, 'v': 0.5, 'alpha': 200000, 'max_iterations': 10, 'default_context_1': False}\n"
     ]
    },
    {
     "data": {
      "application/vnd.jupyter.widget-view+json": {
       "model_id": "770c0b4aed2441aab2fb060d61afeda5",
       "version_major": 2,
       "version_minor": 0
      },
      "text/plain": [
       "  0%|          | 0/10 [00:00<?, ?it/s]"
      ]
     },
     "metadata": {},
     "output_type": "display_data"
    },
    {
     "name": "stdout",
     "output_type": "stream",
     "text": [
      "Evaluating with 2362 users\n",
      "MRR@5 0.001\n",
      "MRR@20 0.001\n",
      "Average Recall@5 0.002\n",
      "Average Recall@20 0.005\n",
      "Training model iTALS with hyperparameters {'k': 80, 'l2': 500, 'v': 0.75, 'alpha': 200000, 'max_iterations': 10, 'default_context_1': False}\n"
     ]
    },
    {
     "data": {
      "application/vnd.jupyter.widget-view+json": {
       "model_id": "7d872dfe9ff546b0824a1c19f7061460",
       "version_major": 2,
       "version_minor": 0
      },
      "text/plain": [
       "  0%|          | 0/10 [00:00<?, ?it/s]"
      ]
     },
     "metadata": {},
     "output_type": "display_data"
    },
    {
     "name": "stdout",
     "output_type": "stream",
     "text": [
      "Evaluating with 2362 users\n",
      "MRR@5 0.006\n",
      "MRR@20 0.008\n",
      "Average Recall@5 0.013\n",
      "Average Recall@20 0.033\n",
      "Training model iTALS with hyperparameters {'k': 80, 'l2': 1000, 'v': 0.75, 'alpha': 200000, 'max_iterations': 10, 'default_context_1': False}\n"
     ]
    },
    {
     "data": {
      "application/vnd.jupyter.widget-view+json": {
       "model_id": "ed95420a5ed04d33a05ad146051ab701",
       "version_major": 2,
       "version_minor": 0
      },
      "text/plain": [
       "  0%|          | 0/10 [00:00<?, ?it/s]"
      ]
     },
     "metadata": {},
     "output_type": "display_data"
    },
    {
     "name": "stdout",
     "output_type": "stream",
     "text": [
      "Evaluating with 2362 users\n",
      "MRR@5 0.006\n",
      "MRR@20 0.008\n",
      "Average Recall@5 0.013\n",
      "Average Recall@20 0.032\n",
      "Training model iTALS with hyperparameters {'k': 80, 'l2': 2000, 'v': 0.75, 'alpha': 200000, 'max_iterations': 10, 'default_context_1': False}\n"
     ]
    },
    {
     "data": {
      "application/vnd.jupyter.widget-view+json": {
       "model_id": "ccf77e152f0945c3bc2b5bc99f31f4dc",
       "version_major": 2,
       "version_minor": 0
      },
      "text/plain": [
       "  0%|          | 0/10 [00:00<?, ?it/s]"
      ]
     },
     "metadata": {},
     "output_type": "display_data"
    },
    {
     "name": "stdout",
     "output_type": "stream",
     "text": [
      "Evaluating with 2362 users\n",
      "MRR@5 0.006\n",
      "MRR@20 0.008\n",
      "Average Recall@5 0.01\n",
      "Average Recall@20 0.03\n",
      "Training model iTALS with hyperparameters {'k': 80, 'l2': 5000, 'v': 0.75, 'alpha': 200000, 'max_iterations': 10, 'default_context_1': False}\n"
     ]
    },
    {
     "data": {
      "application/vnd.jupyter.widget-view+json": {
       "model_id": "b0a836573b8543f8aa4dd2738f6f8ae3",
       "version_major": 2,
       "version_minor": 0
      },
      "text/plain": [
       "  0%|          | 0/10 [00:00<?, ?it/s]"
      ]
     },
     "metadata": {},
     "output_type": "display_data"
    },
    {
     "name": "stdout",
     "output_type": "stream",
     "text": [
      "Evaluating with 2362 users\n",
      "MRR@5 0.001\n",
      "MRR@20 0.001\n",
      "Average Recall@5 0.002\n",
      "Average Recall@20 0.005\n",
      "Training model iTALS with hyperparameters {'k': 80, 'l2': 500, 'v': 0.25, 'alpha': 500000, 'max_iterations': 10, 'default_context_1': False}\n"
     ]
    },
    {
     "data": {
      "application/vnd.jupyter.widget-view+json": {
       "model_id": "5470bfcd1b2944569a463a66fcd27f02",
       "version_major": 2,
       "version_minor": 0
      },
      "text/plain": [
       "  0%|          | 0/10 [00:00<?, ?it/s]"
      ]
     },
     "metadata": {},
     "output_type": "display_data"
    },
    {
     "name": "stdout",
     "output_type": "stream",
     "text": [
      "Evaluating with 2362 users\n",
      "MRR@5 0.008\n",
      "MRR@20 0.011\n",
      "Average Recall@5 0.015\n",
      "Average Recall@20 0.047\n",
      "Training model iTALS with hyperparameters {'k': 80, 'l2': 1000, 'v': 0.25, 'alpha': 500000, 'max_iterations': 10, 'default_context_1': False}\n"
     ]
    },
    {
     "data": {
      "application/vnd.jupyter.widget-view+json": {
       "model_id": "3b47e6067e2f4a88bce118377aebc982",
       "version_major": 2,
       "version_minor": 0
      },
      "text/plain": [
       "  0%|          | 0/10 [00:00<?, ?it/s]"
      ]
     },
     "metadata": {},
     "output_type": "display_data"
    },
    {
     "name": "stdout",
     "output_type": "stream",
     "text": [
      "Evaluating with 2362 users\n",
      "MRR@5 0.006\n",
      "MRR@20 0.009\n",
      "Average Recall@5 0.013\n",
      "Average Recall@20 0.04\n",
      "Training model iTALS with hyperparameters {'k': 80, 'l2': 2000, 'v': 0.25, 'alpha': 500000, 'max_iterations': 10, 'default_context_1': False}\n"
     ]
    },
    {
     "data": {
      "application/vnd.jupyter.widget-view+json": {
       "model_id": "f4e00b9bcb0a42c4a51dffd447218ec8",
       "version_major": 2,
       "version_minor": 0
      },
      "text/plain": [
       "  0%|          | 0/10 [00:00<?, ?it/s]"
      ]
     },
     "metadata": {},
     "output_type": "display_data"
    },
    {
     "name": "stdout",
     "output_type": "stream",
     "text": [
      "Evaluating with 2362 users\n",
      "MRR@5 0.004\n",
      "MRR@20 0.006\n",
      "Average Recall@5 0.009\n",
      "Average Recall@20 0.039\n",
      "Training model iTALS with hyperparameters {'k': 80, 'l2': 5000, 'v': 0.25, 'alpha': 500000, 'max_iterations': 10, 'default_context_1': False}\n"
     ]
    },
    {
     "data": {
      "application/vnd.jupyter.widget-view+json": {
       "model_id": "33c12ab42ae64cecb8a307bd59e98806",
       "version_major": 2,
       "version_minor": 0
      },
      "text/plain": [
       "  0%|          | 0/10 [00:00<?, ?it/s]"
      ]
     },
     "metadata": {},
     "output_type": "display_data"
    },
    {
     "name": "stdout",
     "output_type": "stream",
     "text": [
      "Evaluating with 2362 users\n",
      "MRR@5 0.006\n",
      "MRR@20 0.007\n",
      "Average Recall@5 0.011\n",
      "Average Recall@20 0.034\n",
      "Training model iTALS with hyperparameters {'k': 80, 'l2': 500, 'v': 0.5, 'alpha': 500000, 'max_iterations': 10, 'default_context_1': False}\n"
     ]
    },
    {
     "data": {
      "application/vnd.jupyter.widget-view+json": {
       "model_id": "f34965c0b4b94789ba3ff5d36e0332e2",
       "version_major": 2,
       "version_minor": 0
      },
      "text/plain": [
       "  0%|          | 0/10 [00:00<?, ?it/s]"
      ]
     },
     "metadata": {},
     "output_type": "display_data"
    },
    {
     "name": "stdout",
     "output_type": "stream",
     "text": [
      "Evaluating with 2362 users\n",
      "MRR@5 0.007\n",
      "MRR@20 0.01\n",
      "Average Recall@5 0.017\n",
      "Average Recall@20 0.043\n",
      "Training model iTALS with hyperparameters {'k': 80, 'l2': 1000, 'v': 0.5, 'alpha': 500000, 'max_iterations': 10, 'default_context_1': False}\n"
     ]
    },
    {
     "data": {
      "application/vnd.jupyter.widget-view+json": {
       "model_id": "39a73967339346eea3cfb6a5299fbf74",
       "version_major": 2,
       "version_minor": 0
      },
      "text/plain": [
       "  0%|          | 0/10 [00:00<?, ?it/s]"
      ]
     },
     "metadata": {},
     "output_type": "display_data"
    },
    {
     "name": "stdout",
     "output_type": "stream",
     "text": [
      "Evaluating with 2362 users\n",
      "MRR@5 0.005\n",
      "MRR@20 0.008\n",
      "Average Recall@5 0.012\n",
      "Average Recall@20 0.043\n",
      "Training model iTALS with hyperparameters {'k': 80, 'l2': 2000, 'v': 0.5, 'alpha': 500000, 'max_iterations': 10, 'default_context_1': False}\n"
     ]
    },
    {
     "data": {
      "application/vnd.jupyter.widget-view+json": {
       "model_id": "728d719a77724f0a9c6d95251408119c",
       "version_major": 2,
       "version_minor": 0
      },
      "text/plain": [
       "  0%|          | 0/10 [00:00<?, ?it/s]"
      ]
     },
     "metadata": {},
     "output_type": "display_data"
    },
    {
     "name": "stdout",
     "output_type": "stream",
     "text": [
      "Evaluating with 2362 users\n",
      "MRR@5 0.007\n",
      "MRR@20 0.008\n",
      "Average Recall@5 0.013\n",
      "Average Recall@20 0.032\n",
      "Training model iTALS with hyperparameters {'k': 80, 'l2': 5000, 'v': 0.5, 'alpha': 500000, 'max_iterations': 10, 'default_context_1': False}\n"
     ]
    },
    {
     "data": {
      "application/vnd.jupyter.widget-view+json": {
       "model_id": "ebf7ce98e8154318a1425478ecda9660",
       "version_major": 2,
       "version_minor": 0
      },
      "text/plain": [
       "  0%|          | 0/10 [00:00<?, ?it/s]"
      ]
     },
     "metadata": {},
     "output_type": "display_data"
    },
    {
     "name": "stdout",
     "output_type": "stream",
     "text": [
      "Evaluating with 2362 users\n",
      "MRR@5 0.003\n",
      "MRR@20 0.005\n",
      "Average Recall@5 0.008\n",
      "Average Recall@20 0.027\n",
      "Training model iTALS with hyperparameters {'k': 80, 'l2': 500, 'v': 0.75, 'alpha': 500000, 'max_iterations': 10, 'default_context_1': False}\n"
     ]
    },
    {
     "data": {
      "application/vnd.jupyter.widget-view+json": {
       "model_id": "24aaf4d00d6749ec99d99d5f2217728c",
       "version_major": 2,
       "version_minor": 0
      },
      "text/plain": [
       "  0%|          | 0/10 [00:00<?, ?it/s]"
      ]
     },
     "metadata": {},
     "output_type": "display_data"
    },
    {
     "name": "stdout",
     "output_type": "stream",
     "text": [
      "Evaluating with 2362 users\n",
      "MRR@5 0.007\n",
      "MRR@20 0.01\n",
      "Average Recall@5 0.014\n",
      "Average Recall@20 0.041\n",
      "Training model iTALS with hyperparameters {'k': 80, 'l2': 1000, 'v': 0.75, 'alpha': 500000, 'max_iterations': 10, 'default_context_1': False}\n"
     ]
    },
    {
     "data": {
      "application/vnd.jupyter.widget-view+json": {
       "model_id": "c9e7daa0c622494cb5e2b27ea55af4b2",
       "version_major": 2,
       "version_minor": 0
      },
      "text/plain": [
       "  0%|          | 0/10 [00:00<?, ?it/s]"
      ]
     },
     "metadata": {},
     "output_type": "display_data"
    },
    {
     "name": "stdout",
     "output_type": "stream",
     "text": [
      "Evaluating with 2362 users\n",
      "MRR@5 0.004\n",
      "MRR@20 0.006\n",
      "Average Recall@5 0.009\n",
      "Average Recall@20 0.033\n",
      "Training model iTALS with hyperparameters {'k': 80, 'l2': 2000, 'v': 0.75, 'alpha': 500000, 'max_iterations': 10, 'default_context_1': False}\n"
     ]
    },
    {
     "data": {
      "application/vnd.jupyter.widget-view+json": {
       "model_id": "4d2ceb83aca14801b3f411629863d859",
       "version_major": 2,
       "version_minor": 0
      },
      "text/plain": [
       "  0%|          | 0/10 [00:00<?, ?it/s]"
      ]
     },
     "metadata": {},
     "output_type": "display_data"
    },
    {
     "name": "stdout",
     "output_type": "stream",
     "text": [
      "Evaluating with 2362 users\n",
      "MRR@5 0.004\n",
      "MRR@20 0.006\n",
      "Average Recall@5 0.011\n",
      "Average Recall@20 0.033\n",
      "Training model iTALS with hyperparameters {'k': 80, 'l2': 5000, 'v': 0.75, 'alpha': 500000, 'max_iterations': 10, 'default_context_1': False}\n"
     ]
    },
    {
     "data": {
      "application/vnd.jupyter.widget-view+json": {
       "model_id": "eaa4d831a11041858bf74da603602270",
       "version_major": 2,
       "version_minor": 0
      },
      "text/plain": [
       "  0%|          | 0/10 [00:00<?, ?it/s]"
      ]
     },
     "metadata": {},
     "output_type": "display_data"
    },
    {
     "name": "stdout",
     "output_type": "stream",
     "text": [
      "Evaluating with 2362 users\n",
      "MRR@5 0.004\n",
      "MRR@20 0.006\n",
      "Average Recall@5 0.008\n",
      "Average Recall@20 0.028\n",
      "CPU times: user 4min 10s, sys: 46.6 s, total: 4min 56s\n",
      "Wall time: 12min 21s\n"
     ]
    },
    {
     "data": {
      "text/plain": [
       "\"Best score of 0.011000171485035024 achieved with {'k': 80, 'l2': 500, 'v': 0.25, 'alpha': 500000, 'max_iterations': 10, 'default_context_1': False}.\""
      ]
     },
     "execution_count": 8,
     "metadata": {},
     "output_type": "execute_result"
    }
   ],
   "source": [
    "%%time\n",
    "score, best_hyperparams = evaluation.cars.gridsearch(ALG, train, test, HYPERPARAMS, retarget=RETARGET)\n",
    "f\"Best score of {score} achieved with {best_hyperparams}.\""
   ]
  },
  {
   "cell_type": "markdown",
   "id": "e89dad17",
   "metadata": {},
   "source": [
    "## Evaluate model with optimal hyperparams with KFolds Cross validation"
   ]
  },
  {
   "cell_type": "code",
   "execution_count": 9,
   "id": "81674e0b",
   "metadata": {
    "scrolled": true
   },
   "outputs": [
    {
     "data": {
      "application/vnd.jupyter.widget-view+json": {
       "model_id": "d3059c077eb6404b8057dffcd63b4958",
       "version_major": 2,
       "version_minor": 0
      },
      "text/plain": [
       "  0%|          | 0/10 [00:00<?, ?it/s]"
      ]
     },
     "metadata": {},
     "output_type": "display_data"
    },
    {
     "name": "stdout",
     "output_type": "stream",
     "text": [
      "Evaluating with 2362 users\n"
     ]
    },
    {
     "data": {
      "application/vnd.jupyter.widget-view+json": {
       "model_id": "f4405fad746f47e497a76138297458d2",
       "version_major": 2,
       "version_minor": 0
      },
      "text/plain": [
       "  0%|          | 0/10 [00:00<?, ?it/s]"
      ]
     },
     "metadata": {},
     "output_type": "display_data"
    },
    {
     "name": "stdout",
     "output_type": "stream",
     "text": [
      "Evaluating with 2362 users\n"
     ]
    },
    {
     "data": {
      "application/vnd.jupyter.widget-view+json": {
       "model_id": "e9c5d16f560444c7b77398b4b6fd7d38",
       "version_major": 2,
       "version_minor": 0
      },
      "text/plain": [
       "  0%|          | 0/10 [00:00<?, ?it/s]"
      ]
     },
     "metadata": {},
     "output_type": "display_data"
    },
    {
     "name": "stdout",
     "output_type": "stream",
     "text": [
      "Evaluating with 2362 users\n"
     ]
    },
    {
     "data": {
      "application/vnd.jupyter.widget-view+json": {
       "model_id": "ae75e11a917b463f98c6dfeb4cdf00ad",
       "version_major": 2,
       "version_minor": 0
      },
      "text/plain": [
       "  0%|          | 0/10 [00:00<?, ?it/s]"
      ]
     },
     "metadata": {},
     "output_type": "display_data"
    },
    {
     "name": "stdout",
     "output_type": "stream",
     "text": [
      "Evaluating with 2362 users\n"
     ]
    },
    {
     "data": {
      "application/vnd.jupyter.widget-view+json": {
       "model_id": "33036b854f8548e0b6479b237c7fac89",
       "version_major": 2,
       "version_minor": 0
      },
      "text/plain": [
       "  0%|          | 0/10 [00:00<?, ?it/s]"
      ]
     },
     "metadata": {},
     "output_type": "display_data"
    },
    {
     "name": "stdout",
     "output_type": "stream",
     "text": [
      "Evaluating with 2362 users\n",
      "MRR@5 0.006 (0.002)\n",
      "MRR@20 0.009 (0.002)\n",
      "Average Recall@5 0.014 (0.002)\n",
      "Average Recall@20 0.043 (0.003)\n",
      "CPU times: user 29.8 s, sys: 5.77 s, total: 35.6 s\n",
      "Wall time: 1min 26s\n"
     ]
    }
   ],
   "source": [
    "%%time\n",
    "alg = ALG(**best_hyperparams)\n",
    "results = evaluation.cars.contextKFoldsEval(alg, data, nr_folds=5, seed=SEED2, retarget=RETARGET)"
   ]
  }
 ],
 "metadata": {
  "kernelspec": {
   "display_name": "Python 3 (ipykernel)",
   "language": "python",
   "name": "python3"
  },
  "language_info": {
   "codemirror_mode": {
    "name": "ipython",
    "version": 3
   },
   "file_extension": ".py",
   "mimetype": "text/x-python",
   "name": "python",
   "nbconvert_exporter": "python",
   "pygments_lexer": "ipython3",
   "version": "3.10.6"
  }
 },
 "nbformat": 4,
 "nbformat_minor": 5
}
