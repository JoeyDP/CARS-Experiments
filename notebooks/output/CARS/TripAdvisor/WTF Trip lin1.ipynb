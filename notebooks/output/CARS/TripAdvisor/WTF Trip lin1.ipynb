{
 "cells": [
  {
   "cell_type": "code",
   "execution_count": 1,
   "id": "9ef88bc4",
   "metadata": {},
   "outputs": [],
   "source": [
    "%load_ext autoreload\n",
    "%autoreload 2"
   ]
  },
  {
   "cell_type": "markdown",
   "id": "55bab0c8",
   "metadata": {},
   "source": [
    "# Experiments with WTF model"
   ]
  },
  {
   "cell_type": "code",
   "execution_count": 2,
   "id": "ec55d42c",
   "metadata": {},
   "outputs": [],
   "source": [
    "from pathlib import Path\n",
    "\n",
    "import src.io as io\n",
    "import src.evaluation as evaluation\n",
    "import src.evaluation.splits\n",
    "import src.evaluation.cars\n",
    "\n",
    "from src.algorithm.cars.wtf import WTF"
   ]
  },
  {
   "cell_type": "markdown",
   "id": "c469b253",
   "metadata": {},
   "source": [
    "## Datasets"
   ]
  },
  {
   "cell_type": "code",
   "execution_count": 3,
   "id": "e0622ed1",
   "metadata": {},
   "outputs": [],
   "source": [
    "## Uncomment corresponding directory.\n",
    "## RETARGET True for Frappe, False for the others\n",
    "\n",
    "# DATA_DIR, RETARGET = Path('../../../data/CARS/Mobile_Frappe/'), True\n",
    "# DATA_DIR, RETARGET = Path('../../../data/CARS/Food_com/'), False\n",
    "DATA_DIR, RETARGET = Path('../../../data/CARS/TripAdvisor/'), False"
   ]
  },
  {
   "cell_type": "code",
   "execution_count": 4,
   "id": "d53bce36",
   "metadata": {},
   "outputs": [],
   "source": [
    "# Shouldn't need to change this info\n",
    "INTERACTIONS = DATA_DIR / 'interactions.csv'\n",
    "\n",
    "SEED = 123456\n",
    "SEED2 = 78910\n",
    "\n",
    "ITEM_ID = 'item'\n",
    "USER_ID = 'user'"
   ]
  },
  {
   "cell_type": "markdown",
   "id": "48457625",
   "metadata": {},
   "source": [
    "## Define algorithm and hyperparameter ranges"
   ]
  },
  {
   "cell_type": "code",
   "execution_count": 5,
   "id": "11a5ac4c",
   "metadata": {},
   "outputs": [
    {
     "data": {
      "text/plain": [
       "{'k': [80],\n",
       " 'l2': [10, 50, 100, 150, 200],\n",
       " 'v': [0.25, 0.5, 0.75],\n",
       " 'alpha': [10, 50, 100, 150, 200],\n",
       " 'max_iterations': [10],\n",
       " 'default_context_1': [False]}"
      ]
     },
     "execution_count": 5,
     "metadata": {},
     "output_type": "execute_result"
    }
   ],
   "source": [
    "ALG = WTF\n",
    "\n",
    "K = [80]\n",
    "MAX_IT = [10]\n",
    "DEFAULT_CONTEXT_1 = [False]\n",
    "\n",
    "# L2 = [100, 1000, 10000, 100000]\n",
    "# V = [0, 0.5, 1]\n",
    "# ALPHA = [100, 1000, 10000, 100000]\n",
    "\n",
    "L2 = [10, 50, 100, 150, 200]\n",
    "V = [0.25, 0.5, 0.75]\n",
    "ALPHA = [10, 50, 100, 150, 200]\n",
    "\n",
    "HYPERPARAMS = {'k': K, 'l2': L2, 'v': V, 'alpha': ALPHA, 'max_iterations': MAX_IT, 'default_context_1': DEFAULT_CONTEXT_1}\n",
    "HYPERPARAMS"
   ]
  },
  {
   "cell_type": "markdown",
   "id": "32d25f41",
   "metadata": {},
   "source": [
    "## Parse data"
   ]
  },
  {
   "cell_type": "code",
   "execution_count": 6,
   "id": "ce0d0435",
   "metadata": {},
   "outputs": [
    {
     "data": {
      "text/html": [
       "<div>\n",
       "<style scoped>\n",
       "    .dataframe tbody tr th:only-of-type {\n",
       "        vertical-align: middle;\n",
       "    }\n",
       "\n",
       "    .dataframe tbody tr th {\n",
       "        vertical-align: top;\n",
       "    }\n",
       "\n",
       "    .dataframe thead th {\n",
       "        text-align: right;\n",
       "    }\n",
       "</style>\n",
       "<table border=\"1\" class=\"dataframe\">\n",
       "  <thead>\n",
       "    <tr style=\"text-align: right;\">\n",
       "      <th></th>\n",
       "      <th>userId</th>\n",
       "      <th>itemId</th>\n",
       "      <th>TripType</th>\n",
       "      <th>UserState</th>\n",
       "    </tr>\n",
       "  </thead>\n",
       "  <tbody>\n",
       "    <tr>\n",
       "      <th>0</th>\n",
       "      <td>1899</td>\n",
       "      <td>1865</td>\n",
       "      <td>1</td>\n",
       "      <td>1</td>\n",
       "    </tr>\n",
       "    <tr>\n",
       "      <th>1</th>\n",
       "      <td>466</td>\n",
       "      <td>721</td>\n",
       "      <td>1</td>\n",
       "      <td>1</td>\n",
       "    </tr>\n",
       "    <tr>\n",
       "      <th>2</th>\n",
       "      <td>1992</td>\n",
       "      <td>451</td>\n",
       "      <td>2</td>\n",
       "      <td>1</td>\n",
       "    </tr>\n",
       "    <tr>\n",
       "      <th>3</th>\n",
       "      <td>466</td>\n",
       "      <td>1016</td>\n",
       "      <td>1</td>\n",
       "      <td>1</td>\n",
       "    </tr>\n",
       "    <tr>\n",
       "      <th>4</th>\n",
       "      <td>1441</td>\n",
       "      <td>414</td>\n",
       "      <td>3</td>\n",
       "      <td>1</td>\n",
       "    </tr>\n",
       "    <tr>\n",
       "      <th>...</th>\n",
       "      <td>...</td>\n",
       "      <td>...</td>\n",
       "      <td>...</td>\n",
       "      <td>...</td>\n",
       "    </tr>\n",
       "    <tr>\n",
       "      <th>12831</th>\n",
       "      <td>936</td>\n",
       "      <td>341</td>\n",
       "      <td>3</td>\n",
       "      <td>78</td>\n",
       "    </tr>\n",
       "    <tr>\n",
       "      <th>12832</th>\n",
       "      <td>1545</td>\n",
       "      <td>1936</td>\n",
       "      <td>3</td>\n",
       "      <td>78</td>\n",
       "    </tr>\n",
       "    <tr>\n",
       "      <th>12833</th>\n",
       "      <td>399</td>\n",
       "      <td>1556</td>\n",
       "      <td>2</td>\n",
       "      <td>79</td>\n",
       "    </tr>\n",
       "    <tr>\n",
       "      <th>12834</th>\n",
       "      <td>918</td>\n",
       "      <td>1380</td>\n",
       "      <td>5</td>\n",
       "      <td>79</td>\n",
       "    </tr>\n",
       "    <tr>\n",
       "      <th>12835</th>\n",
       "      <td>399</td>\n",
       "      <td>264</td>\n",
       "      <td>2</td>\n",
       "      <td>79</td>\n",
       "    </tr>\n",
       "  </tbody>\n",
       "</table>\n",
       "<p>12836 rows × 4 columns</p>\n",
       "</div>"
      ],
      "text/plain": [
       "       userId  itemId  TripType  UserState\n",
       "0        1899    1865         1          1\n",
       "1         466     721         1          1\n",
       "2        1992     451         2          1\n",
       "3         466    1016         1          1\n",
       "4        1441     414         3          1\n",
       "...       ...     ...       ...        ...\n",
       "12831     936     341         3         78\n",
       "12832    1545    1936         3         78\n",
       "12833     399    1556         2         79\n",
       "12834     918    1380         5         79\n",
       "12835     399     264         2         79\n",
       "\n",
       "[12836 rows x 4 columns]"
      ]
     },
     "execution_count": 6,
     "metadata": {},
     "output_type": "execute_result"
    }
   ],
   "source": [
    "data = io.parse_interactions_with_context(INTERACTIONS, item_id=ITEM_ID, user_id=USER_ID)\n",
    "data.df"
   ]
  },
  {
   "cell_type": "markdown",
   "id": "4bef86fe",
   "metadata": {},
   "source": [
    "## Make train/val split for hyperparam tuning"
   ]
  },
  {
   "cell_type": "code",
   "execution_count": 7,
   "id": "95fe8671",
   "metadata": {},
   "outputs": [],
   "source": [
    "train, test = evaluation.splits.context_leave_one_out_split(data, seed=SEED)"
   ]
  },
  {
   "cell_type": "markdown",
   "id": "fc85ffb4",
   "metadata": {},
   "source": [
    "## Perform gridsearch on validation set"
   ]
  },
  {
   "cell_type": "code",
   "execution_count": 8,
   "id": "36a9347a",
   "metadata": {
    "scrolled": true
   },
   "outputs": [
    {
     "data": {
      "application/vnd.jupyter.widget-view+json": {
       "model_id": "cfb905a82fe149a99833c6e2aa8e3957",
       "version_major": 2,
       "version_minor": 0
      },
      "text/plain": [
       "  0%|          | 0/75 [00:00<?, ?it/s]"
      ]
     },
     "metadata": {},
     "output_type": "display_data"
    },
    {
     "name": "stdout",
     "output_type": "stream",
     "text": [
      "Training model WTF with hyperparameters {'k': 80, 'l2': 10, 'v': 0.25, 'alpha': 10, 'max_iterations': 10, 'default_context_1': False}\n"
     ]
    },
    {
     "data": {
      "application/vnd.jupyter.widget-view+json": {
       "model_id": "bc693becf3984de3835d203cef95a1a6",
       "version_major": 2,
       "version_minor": 0
      },
      "text/plain": [
       "  0%|          | 0/10 [00:00<?, ?it/s]"
      ]
     },
     "metadata": {},
     "output_type": "display_data"
    },
    {
     "name": "stdout",
     "output_type": "stream",
     "text": [
      "Evaluating with 2362 users\n",
      "MRR@5 0.021\n",
      "MRR@20 0.027\n",
      "Average Recall@5 0.041\n",
      "Average Recall@20 0.103\n",
      "Training model WTF with hyperparameters {'k': 80, 'l2': 50, 'v': 0.25, 'alpha': 10, 'max_iterations': 10, 'default_context_1': False}\n"
     ]
    },
    {
     "data": {
      "application/vnd.jupyter.widget-view+json": {
       "model_id": "1a1c3124a7e64b70bf146e58c504b957",
       "version_major": 2,
       "version_minor": 0
      },
      "text/plain": [
       "  0%|          | 0/10 [00:00<?, ?it/s]"
      ]
     },
     "metadata": {},
     "output_type": "display_data"
    },
    {
     "name": "stdout",
     "output_type": "stream",
     "text": [
      "Evaluating with 2362 users\n",
      "MRR@5 0.006\n",
      "MRR@20 0.011\n",
      "Average Recall@5 0.016\n",
      "Average Recall@20 0.065\n",
      "Training model WTF with hyperparameters {'k': 80, 'l2': 100, 'v': 0.25, 'alpha': 10, 'max_iterations': 10, 'default_context_1': False}\n"
     ]
    },
    {
     "data": {
      "application/vnd.jupyter.widget-view+json": {
       "model_id": "b18170f4e82e4cd7990d869a6bb5fbb8",
       "version_major": 2,
       "version_minor": 0
      },
      "text/plain": [
       "  0%|          | 0/10 [00:00<?, ?it/s]"
      ]
     },
     "metadata": {},
     "output_type": "display_data"
    },
    {
     "name": "stdout",
     "output_type": "stream",
     "text": [
      "Evaluating with 2362 users\n",
      "MRR@5 0.001\n",
      "MRR@20 0.001\n",
      "Average Recall@5 0.002\n",
      "Average Recall@20 0.005\n",
      "Training model WTF with hyperparameters {'k': 80, 'l2': 150, 'v': 0.25, 'alpha': 10, 'max_iterations': 10, 'default_context_1': False}\n"
     ]
    },
    {
     "data": {
      "application/vnd.jupyter.widget-view+json": {
       "model_id": "3cdbffe08ed241e7978efe9721093155",
       "version_major": 2,
       "version_minor": 0
      },
      "text/plain": [
       "  0%|          | 0/10 [00:00<?, ?it/s]"
      ]
     },
     "metadata": {},
     "output_type": "display_data"
    },
    {
     "name": "stdout",
     "output_type": "stream",
     "text": [
      "Evaluating with 2362 users\n",
      "MRR@5 0.001\n",
      "MRR@20 0.001\n",
      "Average Recall@5 0.002\n",
      "Average Recall@20 0.005\n",
      "Training model WTF with hyperparameters {'k': 80, 'l2': 200, 'v': 0.25, 'alpha': 10, 'max_iterations': 10, 'default_context_1': False}\n"
     ]
    },
    {
     "data": {
      "application/vnd.jupyter.widget-view+json": {
       "model_id": "10477bd32b8645ef9f739bc0e5d5a5de",
       "version_major": 2,
       "version_minor": 0
      },
      "text/plain": [
       "  0%|          | 0/10 [00:00<?, ?it/s]"
      ]
     },
     "metadata": {},
     "output_type": "display_data"
    },
    {
     "name": "stdout",
     "output_type": "stream",
     "text": [
      "Evaluating with 2362 users\n",
      "MRR@5 0.001\n",
      "MRR@20 0.001\n",
      "Average Recall@5 0.002\n",
      "Average Recall@20 0.005\n",
      "Training model WTF with hyperparameters {'k': 80, 'l2': 10, 'v': 0.5, 'alpha': 10, 'max_iterations': 10, 'default_context_1': False}\n"
     ]
    },
    {
     "data": {
      "application/vnd.jupyter.widget-view+json": {
       "model_id": "aa9e613b5b3341da9b0328ee7b6ab675",
       "version_major": 2,
       "version_minor": 0
      },
      "text/plain": [
       "  0%|          | 0/10 [00:00<?, ?it/s]"
      ]
     },
     "metadata": {},
     "output_type": "display_data"
    },
    {
     "name": "stdout",
     "output_type": "stream",
     "text": [
      "Evaluating with 2362 users\n",
      "MRR@5 0.021\n",
      "MRR@20 0.026\n",
      "Average Recall@5 0.041\n",
      "Average Recall@20 0.097\n",
      "Training model WTF with hyperparameters {'k': 80, 'l2': 50, 'v': 0.5, 'alpha': 10, 'max_iterations': 10, 'default_context_1': False}\n"
     ]
    },
    {
     "data": {
      "application/vnd.jupyter.widget-view+json": {
       "model_id": "93e0322d87b545548a3aefcb74002064",
       "version_major": 2,
       "version_minor": 0
      },
      "text/plain": [
       "  0%|          | 0/10 [00:00<?, ?it/s]"
      ]
     },
     "metadata": {},
     "output_type": "display_data"
    },
    {
     "name": "stdout",
     "output_type": "stream",
     "text": [
      "Evaluating with 2362 users\n",
      "MRR@5 0.001\n",
      "MRR@20 0.001\n",
      "Average Recall@5 0.002\n",
      "Average Recall@20 0.005\n",
      "Training model WTF with hyperparameters {'k': 80, 'l2': 100, 'v': 0.5, 'alpha': 10, 'max_iterations': 10, 'default_context_1': False}\n"
     ]
    },
    {
     "data": {
      "application/vnd.jupyter.widget-view+json": {
       "model_id": "c6996d2dda82445dad37f5fb6950ac56",
       "version_major": 2,
       "version_minor": 0
      },
      "text/plain": [
       "  0%|          | 0/10 [00:00<?, ?it/s]"
      ]
     },
     "metadata": {},
     "output_type": "display_data"
    },
    {
     "name": "stdout",
     "output_type": "stream",
     "text": [
      "Evaluating with 2362 users\n",
      "MRR@5 0.001\n",
      "MRR@20 0.001\n",
      "Average Recall@5 0.002\n",
      "Average Recall@20 0.005\n",
      "Training model WTF with hyperparameters {'k': 80, 'l2': 150, 'v': 0.5, 'alpha': 10, 'max_iterations': 10, 'default_context_1': False}\n"
     ]
    },
    {
     "data": {
      "application/vnd.jupyter.widget-view+json": {
       "model_id": "c17b3a6990eb453395acaea09376fe2b",
       "version_major": 2,
       "version_minor": 0
      },
      "text/plain": [
       "  0%|          | 0/10 [00:00<?, ?it/s]"
      ]
     },
     "metadata": {},
     "output_type": "display_data"
    },
    {
     "name": "stdout",
     "output_type": "stream",
     "text": [
      "Evaluating with 2362 users\n",
      "MRR@5 0.001\n",
      "MRR@20 0.001\n",
      "Average Recall@5 0.002\n",
      "Average Recall@20 0.005\n",
      "Training model WTF with hyperparameters {'k': 80, 'l2': 200, 'v': 0.5, 'alpha': 10, 'max_iterations': 10, 'default_context_1': False}\n"
     ]
    },
    {
     "data": {
      "application/vnd.jupyter.widget-view+json": {
       "model_id": "6e5f6838098f4c16be29e28e10b5b20b",
       "version_major": 2,
       "version_minor": 0
      },
      "text/plain": [
       "  0%|          | 0/10 [00:00<?, ?it/s]"
      ]
     },
     "metadata": {},
     "output_type": "display_data"
    },
    {
     "name": "stdout",
     "output_type": "stream",
     "text": [
      "Evaluating with 2362 users\n",
      "MRR@5 0.001\n",
      "MRR@20 0.001\n",
      "Average Recall@5 0.002\n",
      "Average Recall@20 0.005\n",
      "Training model WTF with hyperparameters {'k': 80, 'l2': 10, 'v': 0.75, 'alpha': 10, 'max_iterations': 10, 'default_context_1': False}\n"
     ]
    },
    {
     "data": {
      "application/vnd.jupyter.widget-view+json": {
       "model_id": "89fb18f28c854fb498652ff8caae2ffa",
       "version_major": 2,
       "version_minor": 0
      },
      "text/plain": [
       "  0%|          | 0/10 [00:00<?, ?it/s]"
      ]
     },
     "metadata": {},
     "output_type": "display_data"
    },
    {
     "name": "stdout",
     "output_type": "stream",
     "text": [
      "Evaluating with 2362 users\n",
      "MRR@5 0.023\n",
      "MRR@20 0.029\n",
      "Average Recall@5 0.044\n",
      "Average Recall@20 0.106\n",
      "Training model WTF with hyperparameters {'k': 80, 'l2': 50, 'v': 0.75, 'alpha': 10, 'max_iterations': 10, 'default_context_1': False}\n"
     ]
    },
    {
     "data": {
      "application/vnd.jupyter.widget-view+json": {
       "model_id": "55fb487220a544c5b70f6572b2fe10a3",
       "version_major": 2,
       "version_minor": 0
      },
      "text/plain": [
       "  0%|          | 0/10 [00:00<?, ?it/s]"
      ]
     },
     "metadata": {},
     "output_type": "display_data"
    },
    {
     "name": "stdout",
     "output_type": "stream",
     "text": [
      "Evaluating with 2362 users\n",
      "MRR@5 0.001\n",
      "MRR@20 0.001\n",
      "Average Recall@5 0.002\n",
      "Average Recall@20 0.005\n",
      "Training model WTF with hyperparameters {'k': 80, 'l2': 100, 'v': 0.75, 'alpha': 10, 'max_iterations': 10, 'default_context_1': False}\n"
     ]
    },
    {
     "data": {
      "application/vnd.jupyter.widget-view+json": {
       "model_id": "fec28292bef241f4970c4a2069320a42",
       "version_major": 2,
       "version_minor": 0
      },
      "text/plain": [
       "  0%|          | 0/10 [00:00<?, ?it/s]"
      ]
     },
     "metadata": {},
     "output_type": "display_data"
    },
    {
     "name": "stdout",
     "output_type": "stream",
     "text": [
      "Evaluating with 2362 users\n",
      "MRR@5 0.001\n",
      "MRR@20 0.001\n",
      "Average Recall@5 0.002\n",
      "Average Recall@20 0.005\n",
      "Training model WTF with hyperparameters {'k': 80, 'l2': 150, 'v': 0.75, 'alpha': 10, 'max_iterations': 10, 'default_context_1': False}\n"
     ]
    },
    {
     "data": {
      "application/vnd.jupyter.widget-view+json": {
       "model_id": "46ce3b6a44d548fc8512dc6994926e75",
       "version_major": 2,
       "version_minor": 0
      },
      "text/plain": [
       "  0%|          | 0/10 [00:00<?, ?it/s]"
      ]
     },
     "metadata": {},
     "output_type": "display_data"
    },
    {
     "name": "stdout",
     "output_type": "stream",
     "text": [
      "Evaluating with 2362 users\n",
      "MRR@5 0.001\n",
      "MRR@20 0.001\n",
      "Average Recall@5 0.002\n",
      "Average Recall@20 0.005\n",
      "Training model WTF with hyperparameters {'k': 80, 'l2': 200, 'v': 0.75, 'alpha': 10, 'max_iterations': 10, 'default_context_1': False}\n"
     ]
    },
    {
     "data": {
      "application/vnd.jupyter.widget-view+json": {
       "model_id": "68910dff77ed4095a89a245a5c7f4666",
       "version_major": 2,
       "version_minor": 0
      },
      "text/plain": [
       "  0%|          | 0/10 [00:00<?, ?it/s]"
      ]
     },
     "metadata": {},
     "output_type": "display_data"
    },
    {
     "name": "stdout",
     "output_type": "stream",
     "text": [
      "Evaluating with 2362 users\n",
      "MRR@5 0.001\n",
      "MRR@20 0.001\n",
      "Average Recall@5 0.002\n",
      "Average Recall@20 0.005\n",
      "Training model WTF with hyperparameters {'k': 80, 'l2': 10, 'v': 0.25, 'alpha': 50, 'max_iterations': 10, 'default_context_1': False}\n"
     ]
    },
    {
     "data": {
      "application/vnd.jupyter.widget-view+json": {
       "model_id": "d2a9534d2217493c95cbbc866474725b",
       "version_major": 2,
       "version_minor": 0
      },
      "text/plain": [
       "  0%|          | 0/10 [00:00<?, ?it/s]"
      ]
     },
     "metadata": {},
     "output_type": "display_data"
    },
    {
     "name": "stdout",
     "output_type": "stream",
     "text": [
      "Evaluating with 2362 users\n",
      "MRR@5 0.014\n",
      "MRR@20 0.018\n",
      "Average Recall@5 0.028\n",
      "Average Recall@20 0.071\n",
      "Training model WTF with hyperparameters {'k': 80, 'l2': 50, 'v': 0.25, 'alpha': 50, 'max_iterations': 10, 'default_context_1': False}\n"
     ]
    },
    {
     "data": {
      "application/vnd.jupyter.widget-view+json": {
       "model_id": "ea022d5c4fb9486f9bc5dc1261d39a82",
       "version_major": 2,
       "version_minor": 0
      },
      "text/plain": [
       "  0%|          | 0/10 [00:00<?, ?it/s]"
      ]
     },
     "metadata": {},
     "output_type": "display_data"
    },
    {
     "name": "stdout",
     "output_type": "stream",
     "text": [
      "Evaluating with 2362 users\n",
      "MRR@5 0.019\n",
      "MRR@20 0.024\n",
      "Average Recall@5 0.036\n",
      "Average Recall@20 0.091\n",
      "Training model WTF with hyperparameters {'k': 80, 'l2': 100, 'v': 0.25, 'alpha': 50, 'max_iterations': 10, 'default_context_1': False}\n"
     ]
    },
    {
     "data": {
      "application/vnd.jupyter.widget-view+json": {
       "model_id": "85083ceb9cfd4696b6975f072170f3b8",
       "version_major": 2,
       "version_minor": 0
      },
      "text/plain": [
       "  0%|          | 0/10 [00:00<?, ?it/s]"
      ]
     },
     "metadata": {},
     "output_type": "display_data"
    },
    {
     "name": "stdout",
     "output_type": "stream",
     "text": [
      "Evaluating with 2362 users\n",
      "MRR@5 0.007\n",
      "MRR@20 0.009\n",
      "Average Recall@5 0.016\n",
      "Average Recall@20 0.04\n",
      "Training model WTF with hyperparameters {'k': 80, 'l2': 150, 'v': 0.25, 'alpha': 50, 'max_iterations': 10, 'default_context_1': False}\n"
     ]
    },
    {
     "data": {
      "application/vnd.jupyter.widget-view+json": {
       "model_id": "6aa66a02f2694adf96c466cb29e3b477",
       "version_major": 2,
       "version_minor": 0
      },
      "text/plain": [
       "  0%|          | 0/10 [00:00<?, ?it/s]"
      ]
     },
     "metadata": {},
     "output_type": "display_data"
    },
    {
     "name": "stdout",
     "output_type": "stream",
     "text": [
      "Evaluating with 2362 users\n",
      "MRR@5 0.002\n",
      "MRR@20 0.003\n",
      "Average Recall@5 0.003\n",
      "Average Recall@20 0.017\n",
      "Training model WTF with hyperparameters {'k': 80, 'l2': 200, 'v': 0.25, 'alpha': 50, 'max_iterations': 10, 'default_context_1': False}\n"
     ]
    },
    {
     "data": {
      "application/vnd.jupyter.widget-view+json": {
       "model_id": "792312174780452591284db54b672bcc",
       "version_major": 2,
       "version_minor": 0
      },
      "text/plain": [
       "  0%|          | 0/10 [00:00<?, ?it/s]"
      ]
     },
     "metadata": {},
     "output_type": "display_data"
    },
    {
     "name": "stdout",
     "output_type": "stream",
     "text": [
      "Evaluating with 2362 users\n",
      "MRR@5 0.006\n",
      "MRR@20 0.007\n",
      "Average Recall@5 0.009\n",
      "Average Recall@20 0.023\n",
      "Training model WTF with hyperparameters {'k': 80, 'l2': 10, 'v': 0.5, 'alpha': 50, 'max_iterations': 10, 'default_context_1': False}\n"
     ]
    },
    {
     "data": {
      "application/vnd.jupyter.widget-view+json": {
       "model_id": "cbc0cb192f604ca8b501629b3d055c3d",
       "version_major": 2,
       "version_minor": 0
      },
      "text/plain": [
       "  0%|          | 0/10 [00:00<?, ?it/s]"
      ]
     },
     "metadata": {},
     "output_type": "display_data"
    },
    {
     "name": "stdout",
     "output_type": "stream",
     "text": [
      "Evaluating with 2362 users\n",
      "MRR@5 0.017\n",
      "MRR@20 0.02\n",
      "Average Recall@5 0.03\n",
      "Average Recall@20 0.07\n",
      "Training model WTF with hyperparameters {'k': 80, 'l2': 50, 'v': 0.5, 'alpha': 50, 'max_iterations': 10, 'default_context_1': False}\n"
     ]
    },
    {
     "data": {
      "application/vnd.jupyter.widget-view+json": {
       "model_id": "aa6fefc0c1014ba1b455e9ef39e17c76",
       "version_major": 2,
       "version_minor": 0
      },
      "text/plain": [
       "  0%|          | 0/10 [00:00<?, ?it/s]"
      ]
     },
     "metadata": {},
     "output_type": "display_data"
    },
    {
     "name": "stdout",
     "output_type": "stream",
     "text": [
      "Evaluating with 2362 users\n",
      "MRR@5 0.019\n",
      "MRR@20 0.024\n",
      "Average Recall@5 0.035\n",
      "Average Recall@20 0.091\n",
      "Training model WTF with hyperparameters {'k': 80, 'l2': 100, 'v': 0.5, 'alpha': 50, 'max_iterations': 10, 'default_context_1': False}\n"
     ]
    },
    {
     "data": {
      "application/vnd.jupyter.widget-view+json": {
       "model_id": "686f9c650c5b4e86ad3ba267142998eb",
       "version_major": 2,
       "version_minor": 0
      },
      "text/plain": [
       "  0%|          | 0/10 [00:00<?, ?it/s]"
      ]
     },
     "metadata": {},
     "output_type": "display_data"
    },
    {
     "name": "stdout",
     "output_type": "stream",
     "text": [
      "Evaluating with 2362 users\n",
      "MRR@5 0.001\n",
      "MRR@20 0.001\n",
      "Average Recall@5 0.002\n",
      "Average Recall@20 0.005\n",
      "Training model WTF with hyperparameters {'k': 80, 'l2': 150, 'v': 0.5, 'alpha': 50, 'max_iterations': 10, 'default_context_1': False}\n"
     ]
    },
    {
     "data": {
      "application/vnd.jupyter.widget-view+json": {
       "model_id": "a8ae0c2a7dbe42e0b9f604336adf42e3",
       "version_major": 2,
       "version_minor": 0
      },
      "text/plain": [
       "  0%|          | 0/10 [00:00<?, ?it/s]"
      ]
     },
     "metadata": {},
     "output_type": "display_data"
    },
    {
     "name": "stdout",
     "output_type": "stream",
     "text": [
      "Evaluating with 2362 users\n",
      "MRR@5 0.003\n",
      "MRR@20 0.006\n",
      "Average Recall@5 0.01\n",
      "Average Recall@20 0.04\n",
      "Training model WTF with hyperparameters {'k': 80, 'l2': 200, 'v': 0.5, 'alpha': 50, 'max_iterations': 10, 'default_context_1': False}\n"
     ]
    },
    {
     "data": {
      "application/vnd.jupyter.widget-view+json": {
       "model_id": "24412dc68c9940cf977588930899bd20",
       "version_major": 2,
       "version_minor": 0
      },
      "text/plain": [
       "  0%|          | 0/10 [00:00<?, ?it/s]"
      ]
     },
     "metadata": {},
     "output_type": "display_data"
    },
    {
     "name": "stdout",
     "output_type": "stream",
     "text": [
      "Evaluating with 2362 users\n",
      "MRR@5 0.005\n",
      "MRR@20 0.007\n",
      "Average Recall@5 0.014\n",
      "Average Recall@20 0.027\n",
      "Training model WTF with hyperparameters {'k': 80, 'l2': 10, 'v': 0.75, 'alpha': 50, 'max_iterations': 10, 'default_context_1': False}\n"
     ]
    },
    {
     "data": {
      "application/vnd.jupyter.widget-view+json": {
       "model_id": "0a429254b12248af8c3ce05dad4ad8a3",
       "version_major": 2,
       "version_minor": 0
      },
      "text/plain": [
       "  0%|          | 0/10 [00:00<?, ?it/s]"
      ]
     },
     "metadata": {},
     "output_type": "display_data"
    },
    {
     "name": "stdout",
     "output_type": "stream",
     "text": [
      "Evaluating with 2362 users\n",
      "MRR@5 0.014\n",
      "MRR@20 0.019\n",
      "Average Recall@5 0.031\n",
      "Average Recall@20 0.079\n",
      "Training model WTF with hyperparameters {'k': 80, 'l2': 50, 'v': 0.75, 'alpha': 50, 'max_iterations': 10, 'default_context_1': False}\n"
     ]
    },
    {
     "data": {
      "application/vnd.jupyter.widget-view+json": {
       "model_id": "a7da91c877ea4f7eae826b790548602c",
       "version_major": 2,
       "version_minor": 0
      },
      "text/plain": [
       "  0%|          | 0/10 [00:00<?, ?it/s]"
      ]
     },
     "metadata": {},
     "output_type": "display_data"
    },
    {
     "name": "stdout",
     "output_type": "stream",
     "text": [
      "Evaluating with 2362 users\n",
      "MRR@5 0.021\n",
      "MRR@20 0.026\n",
      "Average Recall@5 0.041\n",
      "Average Recall@20 0.094\n",
      "Training model WTF with hyperparameters {'k': 80, 'l2': 100, 'v': 0.75, 'alpha': 50, 'max_iterations': 10, 'default_context_1': False}\n"
     ]
    },
    {
     "data": {
      "application/vnd.jupyter.widget-view+json": {
       "model_id": "aeb4a152c3dc41b38852c765ad0099d2",
       "version_major": 2,
       "version_minor": 0
      },
      "text/plain": [
       "  0%|          | 0/10 [00:00<?, ?it/s]"
      ]
     },
     "metadata": {},
     "output_type": "display_data"
    },
    {
     "name": "stdout",
     "output_type": "stream",
     "text": [
      "Evaluating with 2362 users\n",
      "MRR@5 0.001\n",
      "MRR@20 0.001\n",
      "Average Recall@5 0.002\n",
      "Average Recall@20 0.005\n",
      "Training model WTF with hyperparameters {'k': 80, 'l2': 150, 'v': 0.75, 'alpha': 50, 'max_iterations': 10, 'default_context_1': False}\n"
     ]
    },
    {
     "data": {
      "application/vnd.jupyter.widget-view+json": {
       "model_id": "38e7be2fb9d54b24a6892a1f61b2cdd0",
       "version_major": 2,
       "version_minor": 0
      },
      "text/plain": [
       "  0%|          | 0/10 [00:00<?, ?it/s]"
      ]
     },
     "metadata": {},
     "output_type": "display_data"
    },
    {
     "name": "stdout",
     "output_type": "stream",
     "text": [
      "Evaluating with 2362 users\n",
      "MRR@5 0.009\n",
      "MRR@20 0.011\n",
      "Average Recall@5 0.015\n",
      "Average Recall@20 0.038\n",
      "Training model WTF with hyperparameters {'k': 80, 'l2': 200, 'v': 0.75, 'alpha': 50, 'max_iterations': 10, 'default_context_1': False}\n"
     ]
    },
    {
     "data": {
      "application/vnd.jupyter.widget-view+json": {
       "model_id": "c08e205f88ef47abb786eb6317e8d859",
       "version_major": 2,
       "version_minor": 0
      },
      "text/plain": [
       "  0%|          | 0/10 [00:00<?, ?it/s]"
      ]
     },
     "metadata": {},
     "output_type": "display_data"
    },
    {
     "name": "stdout",
     "output_type": "stream",
     "text": [
      "Evaluating with 2362 users\n",
      "MRR@5 0.005\n",
      "MRR@20 0.009\n",
      "Average Recall@5 0.016\n",
      "Average Recall@20 0.061\n",
      "Training model WTF with hyperparameters {'k': 80, 'l2': 10, 'v': 0.25, 'alpha': 100, 'max_iterations': 10, 'default_context_1': False}\n"
     ]
    },
    {
     "data": {
      "application/vnd.jupyter.widget-view+json": {
       "model_id": "243dae5d8a474feab50e0005a4dd65d2",
       "version_major": 2,
       "version_minor": 0
      },
      "text/plain": [
       "  0%|          | 0/10 [00:00<?, ?it/s]"
      ]
     },
     "metadata": {},
     "output_type": "display_data"
    },
    {
     "name": "stdout",
     "output_type": "stream",
     "text": [
      "Evaluating with 2362 users\n",
      "MRR@5 0.015\n",
      "MRR@20 0.018\n",
      "Average Recall@5 0.029\n",
      "Average Recall@20 0.068\n",
      "Training model WTF with hyperparameters {'k': 80, 'l2': 50, 'v': 0.25, 'alpha': 100, 'max_iterations': 10, 'default_context_1': False}\n"
     ]
    },
    {
     "data": {
      "application/vnd.jupyter.widget-view+json": {
       "model_id": "d5c1182538e44df189e0f6e08bd17459",
       "version_major": 2,
       "version_minor": 0
      },
      "text/plain": [
       "  0%|          | 0/10 [00:00<?, ?it/s]"
      ]
     },
     "metadata": {},
     "output_type": "display_data"
    },
    {
     "name": "stdout",
     "output_type": "stream",
     "text": [
      "Evaluating with 2362 users\n",
      "MRR@5 0.016\n",
      "MRR@20 0.02\n",
      "Average Recall@5 0.03\n",
      "Average Recall@20 0.069\n",
      "Training model WTF with hyperparameters {'k': 80, 'l2': 100, 'v': 0.25, 'alpha': 100, 'max_iterations': 10, 'default_context_1': False}\n"
     ]
    },
    {
     "data": {
      "application/vnd.jupyter.widget-view+json": {
       "model_id": "602bdc7ccb8a46d3b320d12a4eb90996",
       "version_major": 2,
       "version_minor": 0
      },
      "text/plain": [
       "  0%|          | 0/10 [00:00<?, ?it/s]"
      ]
     },
     "metadata": {},
     "output_type": "display_data"
    },
    {
     "name": "stdout",
     "output_type": "stream",
     "text": [
      "Evaluating with 2362 users\n",
      "MRR@5 0.016\n",
      "MRR@20 0.021\n",
      "Average Recall@5 0.03\n",
      "Average Recall@20 0.081\n",
      "Training model WTF with hyperparameters {'k': 80, 'l2': 150, 'v': 0.25, 'alpha': 100, 'max_iterations': 10, 'default_context_1': False}\n"
     ]
    },
    {
     "data": {
      "application/vnd.jupyter.widget-view+json": {
       "model_id": "5fa704a14e6f48a5aa84d4930eeb1fc3",
       "version_major": 2,
       "version_minor": 0
      },
      "text/plain": [
       "  0%|          | 0/10 [00:00<?, ?it/s]"
      ]
     },
     "metadata": {},
     "output_type": "display_data"
    },
    {
     "name": "stdout",
     "output_type": "stream",
     "text": [
      "Evaluating with 2362 users\n",
      "MRR@5 0.016\n",
      "MRR@20 0.022\n",
      "Average Recall@5 0.033\n",
      "Average Recall@20 0.102\n",
      "Training model WTF with hyperparameters {'k': 80, 'l2': 200, 'v': 0.25, 'alpha': 100, 'max_iterations': 10, 'default_context_1': False}\n"
     ]
    },
    {
     "data": {
      "application/vnd.jupyter.widget-view+json": {
       "model_id": "25132efda34343c2b71ea6978169bc09",
       "version_major": 2,
       "version_minor": 0
      },
      "text/plain": [
       "  0%|          | 0/10 [00:00<?, ?it/s]"
      ]
     },
     "metadata": {},
     "output_type": "display_data"
    },
    {
     "name": "stdout",
     "output_type": "stream",
     "text": [
      "Evaluating with 2362 users\n",
      "MRR@5 0.008\n",
      "MRR@20 0.011\n",
      "Average Recall@5 0.021\n",
      "Average Recall@20 0.058\n",
      "Training model WTF with hyperparameters {'k': 80, 'l2': 10, 'v': 0.5, 'alpha': 100, 'max_iterations': 10, 'default_context_1': False}\n"
     ]
    },
    {
     "data": {
      "application/vnd.jupyter.widget-view+json": {
       "model_id": "749379d433d443ba8ad0ba68221cbd81",
       "version_major": 2,
       "version_minor": 0
      },
      "text/plain": [
       "  0%|          | 0/10 [00:00<?, ?it/s]"
      ]
     },
     "metadata": {},
     "output_type": "display_data"
    },
    {
     "name": "stdout",
     "output_type": "stream",
     "text": [
      "Evaluating with 2362 users\n",
      "MRR@5 0.014\n",
      "MRR@20 0.017\n",
      "Average Recall@5 0.029\n",
      "Average Recall@20 0.062\n",
      "Training model WTF with hyperparameters {'k': 80, 'l2': 50, 'v': 0.5, 'alpha': 100, 'max_iterations': 10, 'default_context_1': False}\n"
     ]
    },
    {
     "data": {
      "application/vnd.jupyter.widget-view+json": {
       "model_id": "556b22a4fe48420a9edcabb348b11694",
       "version_major": 2,
       "version_minor": 0
      },
      "text/plain": [
       "  0%|          | 0/10 [00:00<?, ?it/s]"
      ]
     },
     "metadata": {},
     "output_type": "display_data"
    },
    {
     "name": "stdout",
     "output_type": "stream",
     "text": [
      "Evaluating with 2362 users\n",
      "MRR@5 0.015\n",
      "MRR@20 0.019\n",
      "Average Recall@5 0.026\n",
      "Average Recall@20 0.077\n",
      "Training model WTF with hyperparameters {'k': 80, 'l2': 100, 'v': 0.5, 'alpha': 100, 'max_iterations': 10, 'default_context_1': False}\n"
     ]
    },
    {
     "data": {
      "application/vnd.jupyter.widget-view+json": {
       "model_id": "086382a249a04468ae688d6d713f671c",
       "version_major": 2,
       "version_minor": 0
      },
      "text/plain": [
       "  0%|          | 0/10 [00:00<?, ?it/s]"
      ]
     },
     "metadata": {},
     "output_type": "display_data"
    },
    {
     "name": "stdout",
     "output_type": "stream",
     "text": [
      "Evaluating with 2362 users\n",
      "MRR@5 0.02\n",
      "MRR@20 0.025\n",
      "Average Recall@5 0.033\n",
      "Average Recall@20 0.093\n",
      "Training model WTF with hyperparameters {'k': 80, 'l2': 150, 'v': 0.5, 'alpha': 100, 'max_iterations': 10, 'default_context_1': False}\n"
     ]
    },
    {
     "data": {
      "application/vnd.jupyter.widget-view+json": {
       "model_id": "6340ebb7d7e6424d9e6ffb8038cfc579",
       "version_major": 2,
       "version_minor": 0
      },
      "text/plain": [
       "  0%|          | 0/10 [00:00<?, ?it/s]"
      ]
     },
     "metadata": {},
     "output_type": "display_data"
    },
    {
     "name": "stdout",
     "output_type": "stream",
     "text": [
      "Evaluating with 2362 users\n",
      "MRR@5 0.006\n",
      "MRR@20 0.01\n",
      "Average Recall@5 0.016\n",
      "Average Recall@20 0.059\n",
      "Training model WTF with hyperparameters {'k': 80, 'l2': 200, 'v': 0.5, 'alpha': 100, 'max_iterations': 10, 'default_context_1': False}\n"
     ]
    },
    {
     "data": {
      "application/vnd.jupyter.widget-view+json": {
       "model_id": "e499c1786dc14a96911b0c62be6ac58f",
       "version_major": 2,
       "version_minor": 0
      },
      "text/plain": [
       "  0%|          | 0/10 [00:00<?, ?it/s]"
      ]
     },
     "metadata": {},
     "output_type": "display_data"
    },
    {
     "name": "stdout",
     "output_type": "stream",
     "text": [
      "Evaluating with 2362 users\n",
      "MRR@5 0.006\n",
      "MRR@20 0.01\n",
      "Average Recall@5 0.016\n",
      "Average Recall@20 0.063\n",
      "Training model WTF with hyperparameters {'k': 80, 'l2': 10, 'v': 0.75, 'alpha': 100, 'max_iterations': 10, 'default_context_1': False}\n"
     ]
    },
    {
     "data": {
      "application/vnd.jupyter.widget-view+json": {
       "model_id": "a64e6393fd2a4cf79f8d12e818630b0b",
       "version_major": 2,
       "version_minor": 0
      },
      "text/plain": [
       "  0%|          | 0/10 [00:00<?, ?it/s]"
      ]
     },
     "metadata": {},
     "output_type": "display_data"
    },
    {
     "name": "stdout",
     "output_type": "stream",
     "text": [
      "Evaluating with 2362 users\n",
      "MRR@5 0.019\n",
      "MRR@20 0.023\n",
      "Average Recall@5 0.031\n",
      "Average Recall@20 0.071\n",
      "Training model WTF with hyperparameters {'k': 80, 'l2': 50, 'v': 0.75, 'alpha': 100, 'max_iterations': 10, 'default_context_1': False}\n"
     ]
    },
    {
     "data": {
      "application/vnd.jupyter.widget-view+json": {
       "model_id": "30bdf661c7e94edfb71b2822ee3cf007",
       "version_major": 2,
       "version_minor": 0
      },
      "text/plain": [
       "  0%|          | 0/10 [00:00<?, ?it/s]"
      ]
     },
     "metadata": {},
     "output_type": "display_data"
    },
    {
     "name": "stdout",
     "output_type": "stream",
     "text": [
      "Evaluating with 2362 users\n",
      "MRR@5 0.015\n",
      "MRR@20 0.019\n",
      "Average Recall@5 0.03\n",
      "Average Recall@20 0.075\n",
      "Training model WTF with hyperparameters {'k': 80, 'l2': 100, 'v': 0.75, 'alpha': 100, 'max_iterations': 10, 'default_context_1': False}\n"
     ]
    },
    {
     "data": {
      "application/vnd.jupyter.widget-view+json": {
       "model_id": "14fa676ae3174ea4b3c60a6d52c34a43",
       "version_major": 2,
       "version_minor": 0
      },
      "text/plain": [
       "  0%|          | 0/10 [00:00<?, ?it/s]"
      ]
     },
     "metadata": {},
     "output_type": "display_data"
    },
    {
     "name": "stdout",
     "output_type": "stream",
     "text": [
      "Evaluating with 2362 users\n",
      "MRR@5 0.02\n",
      "MRR@20 0.025\n",
      "Average Recall@5 0.037\n",
      "Average Recall@20 0.094\n",
      "Training model WTF with hyperparameters {'k': 80, 'l2': 150, 'v': 0.75, 'alpha': 100, 'max_iterations': 10, 'default_context_1': False}\n"
     ]
    },
    {
     "data": {
      "application/vnd.jupyter.widget-view+json": {
       "model_id": "d4629dc363d34db99c47ec648f1f0fbf",
       "version_major": 2,
       "version_minor": 0
      },
      "text/plain": [
       "  0%|          | 0/10 [00:00<?, ?it/s]"
      ]
     },
     "metadata": {},
     "output_type": "display_data"
    },
    {
     "name": "stdout",
     "output_type": "stream",
     "text": [
      "Evaluating with 2362 users\n",
      "MRR@5 0.0\n",
      "MRR@20 0.001\n",
      "Average Recall@5 0.001\n",
      "Average Recall@20 0.012\n",
      "Training model WTF with hyperparameters {'k': 80, 'l2': 200, 'v': 0.75, 'alpha': 100, 'max_iterations': 10, 'default_context_1': False}\n"
     ]
    },
    {
     "data": {
      "application/vnd.jupyter.widget-view+json": {
       "model_id": "0b10ff50cc2542288cda0566fc6b2ae5",
       "version_major": 2,
       "version_minor": 0
      },
      "text/plain": [
       "  0%|          | 0/10 [00:00<?, ?it/s]"
      ]
     },
     "metadata": {},
     "output_type": "display_data"
    },
    {
     "name": "stdout",
     "output_type": "stream",
     "text": [
      "Evaluating with 2362 users\n",
      "MRR@5 0.001\n",
      "MRR@20 0.001\n",
      "Average Recall@5 0.002\n",
      "Average Recall@20 0.005\n",
      "Training model WTF with hyperparameters {'k': 80, 'l2': 10, 'v': 0.25, 'alpha': 150, 'max_iterations': 10, 'default_context_1': False}\n"
     ]
    },
    {
     "data": {
      "application/vnd.jupyter.widget-view+json": {
       "model_id": "0ce78ce59e494e2d933f047be7111c9e",
       "version_major": 2,
       "version_minor": 0
      },
      "text/plain": [
       "  0%|          | 0/10 [00:00<?, ?it/s]"
      ]
     },
     "metadata": {},
     "output_type": "display_data"
    },
    {
     "name": "stdout",
     "output_type": "stream",
     "text": [
      "Evaluating with 2362 users\n",
      "MRR@5 0.013\n",
      "MRR@20 0.017\n",
      "Average Recall@5 0.022\n",
      "Average Recall@20 0.063\n",
      "Training model WTF with hyperparameters {'k': 80, 'l2': 50, 'v': 0.25, 'alpha': 150, 'max_iterations': 10, 'default_context_1': False}\n"
     ]
    },
    {
     "data": {
      "application/vnd.jupyter.widget-view+json": {
       "model_id": "4d1213680ef54e6ea524da78b7b8ee83",
       "version_major": 2,
       "version_minor": 0
      },
      "text/plain": [
       "  0%|          | 0/10 [00:00<?, ?it/s]"
      ]
     },
     "metadata": {},
     "output_type": "display_data"
    },
    {
     "name": "stdout",
     "output_type": "stream",
     "text": [
      "Evaluating with 2362 users\n",
      "MRR@5 0.016\n",
      "MRR@20 0.019\n",
      "Average Recall@5 0.029\n",
      "Average Recall@20 0.062\n",
      "Training model WTF with hyperparameters {'k': 80, 'l2': 100, 'v': 0.25, 'alpha': 150, 'max_iterations': 10, 'default_context_1': False}\n"
     ]
    },
    {
     "data": {
      "application/vnd.jupyter.widget-view+json": {
       "model_id": "2e4c37bb89f24599a50c44bbdb789ae9",
       "version_major": 2,
       "version_minor": 0
      },
      "text/plain": [
       "  0%|          | 0/10 [00:00<?, ?it/s]"
      ]
     },
     "metadata": {},
     "output_type": "display_data"
    },
    {
     "name": "stdout",
     "output_type": "stream",
     "text": [
      "Evaluating with 2362 users\n",
      "MRR@5 0.015\n",
      "MRR@20 0.018\n",
      "Average Recall@5 0.028\n",
      "Average Recall@20 0.066\n",
      "Training model WTF with hyperparameters {'k': 80, 'l2': 150, 'v': 0.25, 'alpha': 150, 'max_iterations': 10, 'default_context_1': False}\n"
     ]
    },
    {
     "data": {
      "application/vnd.jupyter.widget-view+json": {
       "model_id": "568c6e3548884d8b80e68ea3a2546809",
       "version_major": 2,
       "version_minor": 0
      },
      "text/plain": [
       "  0%|          | 0/10 [00:00<?, ?it/s]"
      ]
     },
     "metadata": {},
     "output_type": "display_data"
    },
    {
     "name": "stdout",
     "output_type": "stream",
     "text": [
      "Evaluating with 2362 users\n",
      "MRR@5 0.016\n",
      "MRR@20 0.021\n",
      "Average Recall@5 0.032\n",
      "Average Recall@20 0.084\n",
      "Training model WTF with hyperparameters {'k': 80, 'l2': 200, 'v': 0.25, 'alpha': 150, 'max_iterations': 10, 'default_context_1': False}\n"
     ]
    },
    {
     "data": {
      "application/vnd.jupyter.widget-view+json": {
       "model_id": "d3597a9a0e3b46e89af08946e075e381",
       "version_major": 2,
       "version_minor": 0
      },
      "text/plain": [
       "  0%|          | 0/10 [00:00<?, ?it/s]"
      ]
     },
     "metadata": {},
     "output_type": "display_data"
    },
    {
     "name": "stdout",
     "output_type": "stream",
     "text": [
      "Evaluating with 2362 users\n",
      "MRR@5 0.016\n",
      "MRR@20 0.022\n",
      "Average Recall@5 0.033\n",
      "Average Recall@20 0.095\n",
      "Training model WTF with hyperparameters {'k': 80, 'l2': 10, 'v': 0.5, 'alpha': 150, 'max_iterations': 10, 'default_context_1': False}\n"
     ]
    },
    {
     "data": {
      "application/vnd.jupyter.widget-view+json": {
       "model_id": "4c87bea244bf4e4fad2ce53fb37f7cd9",
       "version_major": 2,
       "version_minor": 0
      },
      "text/plain": [
       "  0%|          | 0/10 [00:00<?, ?it/s]"
      ]
     },
     "metadata": {},
     "output_type": "display_data"
    },
    {
     "name": "stdout",
     "output_type": "stream",
     "text": [
      "Evaluating with 2362 users\n",
      "MRR@5 0.01\n",
      "MRR@20 0.014\n",
      "Average Recall@5 0.021\n",
      "Average Recall@20 0.061\n",
      "Training model WTF with hyperparameters {'k': 80, 'l2': 50, 'v': 0.5, 'alpha': 150, 'max_iterations': 10, 'default_context_1': False}\n"
     ]
    },
    {
     "data": {
      "application/vnd.jupyter.widget-view+json": {
       "model_id": "80bc794dfb8a4c49a1ea5712debe790a",
       "version_major": 2,
       "version_minor": 0
      },
      "text/plain": [
       "  0%|          | 0/10 [00:00<?, ?it/s]"
      ]
     },
     "metadata": {},
     "output_type": "display_data"
    },
    {
     "name": "stdout",
     "output_type": "stream",
     "text": [
      "Evaluating with 2362 users\n",
      "MRR@5 0.015\n",
      "MRR@20 0.019\n",
      "Average Recall@5 0.029\n",
      "Average Recall@20 0.07\n",
      "Training model WTF with hyperparameters {'k': 80, 'l2': 100, 'v': 0.5, 'alpha': 150, 'max_iterations': 10, 'default_context_1': False}\n"
     ]
    },
    {
     "data": {
      "application/vnd.jupyter.widget-view+json": {
       "model_id": "2055994bf95e4b08b864b4cceec8b8ad",
       "version_major": 2,
       "version_minor": 0
      },
      "text/plain": [
       "  0%|          | 0/10 [00:00<?, ?it/s]"
      ]
     },
     "metadata": {},
     "output_type": "display_data"
    },
    {
     "name": "stdout",
     "output_type": "stream",
     "text": [
      "Evaluating with 2362 users\n",
      "MRR@5 0.015\n",
      "MRR@20 0.019\n",
      "Average Recall@5 0.027\n",
      "Average Recall@20 0.076\n",
      "Training model WTF with hyperparameters {'k': 80, 'l2': 150, 'v': 0.5, 'alpha': 150, 'max_iterations': 10, 'default_context_1': False}\n"
     ]
    },
    {
     "data": {
      "application/vnd.jupyter.widget-view+json": {
       "model_id": "92203c4b35fd44beacd00f2d02504b8d",
       "version_major": 2,
       "version_minor": 0
      },
      "text/plain": [
       "  0%|          | 0/10 [00:00<?, ?it/s]"
      ]
     },
     "metadata": {},
     "output_type": "display_data"
    },
    {
     "name": "stdout",
     "output_type": "stream",
     "text": [
      "Evaluating with 2362 users\n",
      "MRR@5 0.015\n",
      "MRR@20 0.021\n",
      "Average Recall@5 0.033\n",
      "Average Recall@20 0.094\n",
      "Training model WTF with hyperparameters {'k': 80, 'l2': 200, 'v': 0.5, 'alpha': 150, 'max_iterations': 10, 'default_context_1': False}\n"
     ]
    },
    {
     "data": {
      "application/vnd.jupyter.widget-view+json": {
       "model_id": "827e48728de54361af77db1d07e34592",
       "version_major": 2,
       "version_minor": 0
      },
      "text/plain": [
       "  0%|          | 0/10 [00:00<?, ?it/s]"
      ]
     },
     "metadata": {},
     "output_type": "display_data"
    },
    {
     "name": "stdout",
     "output_type": "stream",
     "text": [
      "Evaluating with 2362 users\n",
      "MRR@5 0.015\n",
      "MRR@20 0.021\n",
      "Average Recall@5 0.033\n",
      "Average Recall@20 0.095\n",
      "Training model WTF with hyperparameters {'k': 80, 'l2': 10, 'v': 0.75, 'alpha': 150, 'max_iterations': 10, 'default_context_1': False}\n"
     ]
    },
    {
     "data": {
      "application/vnd.jupyter.widget-view+json": {
       "model_id": "95bb479b15fc4ec8be474c0e162de07b",
       "version_major": 2,
       "version_minor": 0
      },
      "text/plain": [
       "  0%|          | 0/10 [00:00<?, ?it/s]"
      ]
     },
     "metadata": {},
     "output_type": "display_data"
    },
    {
     "name": "stdout",
     "output_type": "stream",
     "text": [
      "Evaluating with 2362 users\n",
      "MRR@5 0.016\n",
      "MRR@20 0.019\n",
      "Average Recall@5 0.027\n",
      "Average Recall@20 0.069\n",
      "Training model WTF with hyperparameters {'k': 80, 'l2': 50, 'v': 0.75, 'alpha': 150, 'max_iterations': 10, 'default_context_1': False}\n"
     ]
    },
    {
     "data": {
      "application/vnd.jupyter.widget-view+json": {
       "model_id": "2265621db65e407684842c80631626aa",
       "version_major": 2,
       "version_minor": 0
      },
      "text/plain": [
       "  0%|          | 0/10 [00:00<?, ?it/s]"
      ]
     },
     "metadata": {},
     "output_type": "display_data"
    },
    {
     "name": "stdout",
     "output_type": "stream",
     "text": [
      "Evaluating with 2362 users\n",
      "MRR@5 0.015\n",
      "MRR@20 0.019\n",
      "Average Recall@5 0.027\n",
      "Average Recall@20 0.068\n",
      "Training model WTF with hyperparameters {'k': 80, 'l2': 100, 'v': 0.75, 'alpha': 150, 'max_iterations': 10, 'default_context_1': False}\n"
     ]
    },
    {
     "data": {
      "application/vnd.jupyter.widget-view+json": {
       "model_id": "ec396f5599b6487f96024bda7282106e",
       "version_major": 2,
       "version_minor": 0
      },
      "text/plain": [
       "  0%|          | 0/10 [00:00<?, ?it/s]"
      ]
     },
     "metadata": {},
     "output_type": "display_data"
    },
    {
     "name": "stdout",
     "output_type": "stream",
     "text": [
      "Evaluating with 2362 users\n",
      "MRR@5 0.019\n",
      "MRR@20 0.023\n",
      "Average Recall@5 0.037\n",
      "Average Recall@20 0.084\n",
      "Training model WTF with hyperparameters {'k': 80, 'l2': 150, 'v': 0.75, 'alpha': 150, 'max_iterations': 10, 'default_context_1': False}\n"
     ]
    },
    {
     "data": {
      "application/vnd.jupyter.widget-view+json": {
       "model_id": "203ec17b01dd43ed8f2631d066cfbc13",
       "version_major": 2,
       "version_minor": 0
      },
      "text/plain": [
       "  0%|          | 0/10 [00:00<?, ?it/s]"
      ]
     },
     "metadata": {},
     "output_type": "display_data"
    },
    {
     "name": "stdout",
     "output_type": "stream",
     "text": [
      "Evaluating with 2362 users\n",
      "MRR@5 0.02\n",
      "MRR@20 0.026\n",
      "Average Recall@5 0.041\n",
      "Average Recall@20 0.101\n",
      "Training model WTF with hyperparameters {'k': 80, 'l2': 200, 'v': 0.75, 'alpha': 150, 'max_iterations': 10, 'default_context_1': False}\n"
     ]
    },
    {
     "data": {
      "application/vnd.jupyter.widget-view+json": {
       "model_id": "4723ba024c9740aaba6bdfd325f73a63",
       "version_major": 2,
       "version_minor": 0
      },
      "text/plain": [
       "  0%|          | 0/10 [00:00<?, ?it/s]"
      ]
     },
     "metadata": {},
     "output_type": "display_data"
    },
    {
     "name": "stdout",
     "output_type": "stream",
     "text": [
      "Evaluating with 2362 users\n",
      "MRR@5 0.016\n",
      "MRR@20 0.022\n",
      "Average Recall@5 0.029\n",
      "Average Recall@20 0.098\n",
      "Training model WTF with hyperparameters {'k': 80, 'l2': 10, 'v': 0.25, 'alpha': 200, 'max_iterations': 10, 'default_context_1': False}\n"
     ]
    },
    {
     "data": {
      "application/vnd.jupyter.widget-view+json": {
       "model_id": "6c5e6a2d94e8448399272cd2f4700874",
       "version_major": 2,
       "version_minor": 0
      },
      "text/plain": [
       "  0%|          | 0/10 [00:00<?, ?it/s]"
      ]
     },
     "metadata": {},
     "output_type": "display_data"
    },
    {
     "name": "stdout",
     "output_type": "stream",
     "text": [
      "Evaluating with 2362 users\n",
      "MRR@5 0.012\n",
      "MRR@20 0.015\n",
      "Average Recall@5 0.023\n",
      "Average Recall@20 0.057\n",
      "Training model WTF with hyperparameters {'k': 80, 'l2': 50, 'v': 0.25, 'alpha': 200, 'max_iterations': 10, 'default_context_1': False}\n"
     ]
    },
    {
     "data": {
      "application/vnd.jupyter.widget-view+json": {
       "model_id": "6605cd38d7a74169b3e111af77d84ebe",
       "version_major": 2,
       "version_minor": 0
      },
      "text/plain": [
       "  0%|          | 0/10 [00:00<?, ?it/s]"
      ]
     },
     "metadata": {},
     "output_type": "display_data"
    },
    {
     "name": "stdout",
     "output_type": "stream",
     "text": [
      "Evaluating with 2362 users\n",
      "MRR@5 0.016\n",
      "MRR@20 0.019\n",
      "Average Recall@5 0.026\n",
      "Average Recall@20 0.064\n",
      "Training model WTF with hyperparameters {'k': 80, 'l2': 100, 'v': 0.25, 'alpha': 200, 'max_iterations': 10, 'default_context_1': False}\n"
     ]
    },
    {
     "data": {
      "application/vnd.jupyter.widget-view+json": {
       "model_id": "0b8001176c5241109a89ad14a2ca719c",
       "version_major": 2,
       "version_minor": 0
      },
      "text/plain": [
       "  0%|          | 0/10 [00:00<?, ?it/s]"
      ]
     },
     "metadata": {},
     "output_type": "display_data"
    },
    {
     "name": "stdout",
     "output_type": "stream",
     "text": [
      "Evaluating with 2362 users\n",
      "MRR@5 0.016\n",
      "MRR@20 0.02\n",
      "Average Recall@5 0.03\n",
      "Average Recall@20 0.072\n",
      "Training model WTF with hyperparameters {'k': 80, 'l2': 150, 'v': 0.25, 'alpha': 200, 'max_iterations': 10, 'default_context_1': False}\n"
     ]
    },
    {
     "data": {
      "application/vnd.jupyter.widget-view+json": {
       "model_id": "1aa86f3ebe7f4d34acba5459c67a8b47",
       "version_major": 2,
       "version_minor": 0
      },
      "text/plain": [
       "  0%|          | 0/10 [00:00<?, ?it/s]"
      ]
     },
     "metadata": {},
     "output_type": "display_data"
    },
    {
     "name": "stdout",
     "output_type": "stream",
     "text": [
      "Evaluating with 2362 users\n",
      "MRR@5 0.016\n",
      "MRR@20 0.02\n",
      "Average Recall@5 0.03\n",
      "Average Recall@20 0.077\n",
      "Training model WTF with hyperparameters {'k': 80, 'l2': 200, 'v': 0.25, 'alpha': 200, 'max_iterations': 10, 'default_context_1': False}\n"
     ]
    },
    {
     "data": {
      "application/vnd.jupyter.widget-view+json": {
       "model_id": "408ec9b1e7904185a78f28c99c98999c",
       "version_major": 2,
       "version_minor": 0
      },
      "text/plain": [
       "  0%|          | 0/10 [00:00<?, ?it/s]"
      ]
     },
     "metadata": {},
     "output_type": "display_data"
    },
    {
     "name": "stdout",
     "output_type": "stream",
     "text": [
      "Evaluating with 2362 users\n",
      "MRR@5 0.018\n",
      "MRR@20 0.023\n",
      "Average Recall@5 0.035\n",
      "Average Recall@20 0.086\n",
      "Training model WTF with hyperparameters {'k': 80, 'l2': 10, 'v': 0.5, 'alpha': 200, 'max_iterations': 10, 'default_context_1': False}\n"
     ]
    },
    {
     "data": {
      "application/vnd.jupyter.widget-view+json": {
       "model_id": "97f31a963b98404c9d7a2750c7c91f9c",
       "version_major": 2,
       "version_minor": 0
      },
      "text/plain": [
       "  0%|          | 0/10 [00:00<?, ?it/s]"
      ]
     },
     "metadata": {},
     "output_type": "display_data"
    },
    {
     "name": "stdout",
     "output_type": "stream",
     "text": [
      "Evaluating with 2362 users\n",
      "MRR@5 0.011\n",
      "MRR@20 0.014\n",
      "Average Recall@5 0.022\n",
      "Average Recall@20 0.056\n",
      "Training model WTF with hyperparameters {'k': 80, 'l2': 50, 'v': 0.5, 'alpha': 200, 'max_iterations': 10, 'default_context_1': False}\n"
     ]
    },
    {
     "data": {
      "application/vnd.jupyter.widget-view+json": {
       "model_id": "be58fc53bb0b459b8da11f4a01102740",
       "version_major": 2,
       "version_minor": 0
      },
      "text/plain": [
       "  0%|          | 0/10 [00:00<?, ?it/s]"
      ]
     },
     "metadata": {},
     "output_type": "display_data"
    },
    {
     "name": "stdout",
     "output_type": "stream",
     "text": [
      "Evaluating with 2362 users\n",
      "MRR@5 0.015\n",
      "MRR@20 0.018\n",
      "Average Recall@5 0.028\n",
      "Average Recall@20 0.058\n",
      "Training model WTF with hyperparameters {'k': 80, 'l2': 100, 'v': 0.5, 'alpha': 200, 'max_iterations': 10, 'default_context_1': False}\n"
     ]
    },
    {
     "data": {
      "application/vnd.jupyter.widget-view+json": {
       "model_id": "91d41b4930a34c67bf4d8e4a04d3d82a",
       "version_major": 2,
       "version_minor": 0
      },
      "text/plain": [
       "  0%|          | 0/10 [00:00<?, ?it/s]"
      ]
     },
     "metadata": {},
     "output_type": "display_data"
    },
    {
     "name": "stdout",
     "output_type": "stream",
     "text": [
      "Evaluating with 2362 users\n",
      "MRR@5 0.017\n",
      "MRR@20 0.022\n",
      "Average Recall@5 0.029\n",
      "Average Recall@20 0.078\n",
      "Training model WTF with hyperparameters {'k': 80, 'l2': 150, 'v': 0.5, 'alpha': 200, 'max_iterations': 10, 'default_context_1': False}\n"
     ]
    },
    {
     "data": {
      "application/vnd.jupyter.widget-view+json": {
       "model_id": "181a631926ef4d78b4abc7a825ae1da6",
       "version_major": 2,
       "version_minor": 0
      },
      "text/plain": [
       "  0%|          | 0/10 [00:00<?, ?it/s]"
      ]
     },
     "metadata": {},
     "output_type": "display_data"
    },
    {
     "name": "stdout",
     "output_type": "stream",
     "text": [
      "Evaluating with 2362 users\n",
      "MRR@5 0.015\n",
      "MRR@20 0.02\n",
      "Average Recall@5 0.028\n",
      "Average Recall@20 0.08\n",
      "Training model WTF with hyperparameters {'k': 80, 'l2': 200, 'v': 0.5, 'alpha': 200, 'max_iterations': 10, 'default_context_1': False}\n"
     ]
    },
    {
     "data": {
      "application/vnd.jupyter.widget-view+json": {
       "model_id": "a54a665abcd94117b8c51f07ae3d6dae",
       "version_major": 2,
       "version_minor": 0
      },
      "text/plain": [
       "  0%|          | 0/10 [00:00<?, ?it/s]"
      ]
     },
     "metadata": {},
     "output_type": "display_data"
    },
    {
     "name": "stdout",
     "output_type": "stream",
     "text": [
      "Evaluating with 2362 users\n",
      "MRR@5 0.02\n",
      "MRR@20 0.025\n",
      "Average Recall@5 0.036\n",
      "Average Recall@20 0.09\n",
      "Training model WTF with hyperparameters {'k': 80, 'l2': 10, 'v': 0.75, 'alpha': 200, 'max_iterations': 10, 'default_context_1': False}\n"
     ]
    },
    {
     "data": {
      "application/vnd.jupyter.widget-view+json": {
       "model_id": "15679420098945afb94f7755c2c7c7f5",
       "version_major": 2,
       "version_minor": 0
      },
      "text/plain": [
       "  0%|          | 0/10 [00:00<?, ?it/s]"
      ]
     },
     "metadata": {},
     "output_type": "display_data"
    },
    {
     "name": "stdout",
     "output_type": "stream",
     "text": [
      "Evaluating with 2362 users\n",
      "MRR@5 0.013\n",
      "MRR@20 0.017\n",
      "Average Recall@5 0.025\n",
      "Average Recall@20 0.063\n",
      "Training model WTF with hyperparameters {'k': 80, 'l2': 50, 'v': 0.75, 'alpha': 200, 'max_iterations': 10, 'default_context_1': False}\n"
     ]
    },
    {
     "data": {
      "application/vnd.jupyter.widget-view+json": {
       "model_id": "6bae924ec3ed41488d8f3c85743194ee",
       "version_major": 2,
       "version_minor": 0
      },
      "text/plain": [
       "  0%|          | 0/10 [00:00<?, ?it/s]"
      ]
     },
     "metadata": {},
     "output_type": "display_data"
    },
    {
     "name": "stdout",
     "output_type": "stream",
     "text": [
      "Evaluating with 2362 users\n",
      "MRR@5 0.011\n",
      "MRR@20 0.015\n",
      "Average Recall@5 0.025\n",
      "Average Recall@20 0.069\n",
      "Training model WTF with hyperparameters {'k': 80, 'l2': 100, 'v': 0.75, 'alpha': 200, 'max_iterations': 10, 'default_context_1': False}\n"
     ]
    },
    {
     "data": {
      "application/vnd.jupyter.widget-view+json": {
       "model_id": "f9b892006ddd4c86971cea6accc22934",
       "version_major": 2,
       "version_minor": 0
      },
      "text/plain": [
       "  0%|          | 0/10 [00:00<?, ?it/s]"
      ]
     },
     "metadata": {},
     "output_type": "display_data"
    },
    {
     "name": "stdout",
     "output_type": "stream",
     "text": [
      "Evaluating with 2362 users\n",
      "MRR@5 0.017\n",
      "MRR@20 0.021\n",
      "Average Recall@5 0.032\n",
      "Average Recall@20 0.077\n",
      "Training model WTF with hyperparameters {'k': 80, 'l2': 150, 'v': 0.75, 'alpha': 200, 'max_iterations': 10, 'default_context_1': False}\n"
     ]
    },
    {
     "data": {
      "application/vnd.jupyter.widget-view+json": {
       "model_id": "e1201a6888fa428586599e44c334ddff",
       "version_major": 2,
       "version_minor": 0
      },
      "text/plain": [
       "  0%|          | 0/10 [00:00<?, ?it/s]"
      ]
     },
     "metadata": {},
     "output_type": "display_data"
    },
    {
     "name": "stdout",
     "output_type": "stream",
     "text": [
      "Evaluating with 2362 users\n",
      "MRR@5 0.017\n",
      "MRR@20 0.022\n",
      "Average Recall@5 0.032\n",
      "Average Recall@20 0.081\n",
      "Training model WTF with hyperparameters {'k': 80, 'l2': 200, 'v': 0.75, 'alpha': 200, 'max_iterations': 10, 'default_context_1': False}\n"
     ]
    },
    {
     "data": {
      "application/vnd.jupyter.widget-view+json": {
       "model_id": "e35c8cd93ae04d32bb8f1706d82fa8d7",
       "version_major": 2,
       "version_minor": 0
      },
      "text/plain": [
       "  0%|          | 0/10 [00:00<?, ?it/s]"
      ]
     },
     "metadata": {},
     "output_type": "display_data"
    },
    {
     "name": "stdout",
     "output_type": "stream",
     "text": [
      "Evaluating with 2362 users\n",
      "MRR@5 0.019\n",
      "MRR@20 0.024\n",
      "Average Recall@5 0.04\n",
      "Average Recall@20 0.097\n",
      "CPU times: user 13min 58s, sys: 2min 51s, total: 16min 49s\n",
      "Wall time: 36min 47s\n"
     ]
    },
    {
     "data": {
      "text/plain": [
       "\"Best score of 0.029102269203914056 achieved with {'k': 80, 'l2': 10, 'v': 0.75, 'alpha': 10, 'max_iterations': 10, 'default_context_1': False}.\""
      ]
     },
     "execution_count": 8,
     "metadata": {},
     "output_type": "execute_result"
    }
   ],
   "source": [
    "%%time\n",
    "score, best_hyperparams = evaluation.cars.gridsearch(ALG, train, test, HYPERPARAMS, retarget=RETARGET)\n",
    "f\"Best score of {score} achieved with {best_hyperparams}.\""
   ]
  },
  {
   "cell_type": "markdown",
   "id": "e89dad17",
   "metadata": {},
   "source": [
    "## Evaluate model with optimal hyperparams with KFolds Cross validation"
   ]
  },
  {
   "cell_type": "code",
   "execution_count": 9,
   "id": "81674e0b",
   "metadata": {
    "scrolled": true
   },
   "outputs": [
    {
     "data": {
      "application/vnd.jupyter.widget-view+json": {
       "model_id": "64c53a6a19a14c3e911a122e28a405b3",
       "version_major": 2,
       "version_minor": 0
      },
      "text/plain": [
       "  0%|          | 0/10 [00:00<?, ?it/s]"
      ]
     },
     "metadata": {},
     "output_type": "display_data"
    },
    {
     "name": "stdout",
     "output_type": "stream",
     "text": [
      "Evaluating with 2362 users\n"
     ]
    },
    {
     "data": {
      "application/vnd.jupyter.widget-view+json": {
       "model_id": "d6429b0272674c3c8b10f5bfdbf6fa7d",
       "version_major": 2,
       "version_minor": 0
      },
      "text/plain": [
       "  0%|          | 0/10 [00:00<?, ?it/s]"
      ]
     },
     "metadata": {},
     "output_type": "display_data"
    },
    {
     "name": "stdout",
     "output_type": "stream",
     "text": [
      "Evaluating with 2362 users\n"
     ]
    },
    {
     "data": {
      "application/vnd.jupyter.widget-view+json": {
       "model_id": "2bd1d9057cce4027ba73bf9578af9916",
       "version_major": 2,
       "version_minor": 0
      },
      "text/plain": [
       "  0%|          | 0/10 [00:00<?, ?it/s]"
      ]
     },
     "metadata": {},
     "output_type": "display_data"
    },
    {
     "name": "stdout",
     "output_type": "stream",
     "text": [
      "Evaluating with 2362 users\n"
     ]
    },
    {
     "data": {
      "application/vnd.jupyter.widget-view+json": {
       "model_id": "e2475d48a5dd4956b6738172d9fa48d2",
       "version_major": 2,
       "version_minor": 0
      },
      "text/plain": [
       "  0%|          | 0/10 [00:00<?, ?it/s]"
      ]
     },
     "metadata": {},
     "output_type": "display_data"
    },
    {
     "name": "stdout",
     "output_type": "stream",
     "text": [
      "Evaluating with 2362 users\n"
     ]
    },
    {
     "data": {
      "application/vnd.jupyter.widget-view+json": {
       "model_id": "1021d32330ec4219b1a56660b3403343",
       "version_major": 2,
       "version_minor": 0
      },
      "text/plain": [
       "  0%|          | 0/10 [00:00<?, ?it/s]"
      ]
     },
     "metadata": {},
     "output_type": "display_data"
    },
    {
     "name": "stdout",
     "output_type": "stream",
     "text": [
      "Evaluating with 2362 users\n",
      "MRR@5 0.022 (0.002)\n",
      "MRR@20 0.027 (0.002)\n",
      "Average Recall@5 0.041 (0.003)\n",
      "Average Recall@20 0.103 (0.003)\n",
      "CPU times: user 55.3 s, sys: 11.6 s, total: 1min 6s\n",
      "Wall time: 2min 34s\n"
     ]
    }
   ],
   "source": [
    "%%time\n",
    "alg = ALG(**best_hyperparams)\n",
    "results = evaluation.cars.contextKFoldsEval(alg, data, nr_folds=5, seed=SEED2, retarget=RETARGET)"
   ]
  }
 ],
 "metadata": {
  "kernelspec": {
   "display_name": "Python 3 (ipykernel)",
   "language": "python",
   "name": "python3"
  },
  "language_info": {
   "codemirror_mode": {
    "name": "ipython",
    "version": 3
   },
   "file_extension": ".py",
   "mimetype": "text/x-python",
   "name": "python",
   "nbconvert_exporter": "python",
   "pygments_lexer": "ipython3",
   "version": "3.10.6"
  }
 },
 "nbformat": 4,
 "nbformat_minor": 5
}
