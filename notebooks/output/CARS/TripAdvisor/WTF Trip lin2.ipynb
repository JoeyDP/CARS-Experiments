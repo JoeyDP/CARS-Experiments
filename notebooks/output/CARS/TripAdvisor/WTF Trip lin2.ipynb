{
 "cells": [
  {
   "cell_type": "code",
   "execution_count": 1,
   "id": "9ef88bc4",
   "metadata": {},
   "outputs": [],
   "source": [
    "%load_ext autoreload\n",
    "%autoreload 2"
   ]
  },
  {
   "cell_type": "markdown",
   "id": "55bab0c8",
   "metadata": {},
   "source": [
    "# Experiments with WTF model"
   ]
  },
  {
   "cell_type": "code",
   "execution_count": 2,
   "id": "ec55d42c",
   "metadata": {},
   "outputs": [],
   "source": [
    "from pathlib import Path\n",
    "\n",
    "import src.io as io\n",
    "import src.evaluation as evaluation\n",
    "import src.evaluation.splits\n",
    "import src.evaluation.cars\n",
    "\n",
    "from src.algorithm.cars.wtf import WTF"
   ]
  },
  {
   "cell_type": "markdown",
   "id": "c469b253",
   "metadata": {},
   "source": [
    "## Datasets"
   ]
  },
  {
   "cell_type": "code",
   "execution_count": 3,
   "id": "e0622ed1",
   "metadata": {},
   "outputs": [],
   "source": [
    "## Uncomment corresponding directory.\n",
    "## RETARGET True for Frappe, False for the others\n",
    "\n",
    "# DATA_DIR, RETARGET = Path('../../../data/CARS/Mobile_Frappe/'), True\n",
    "# DATA_DIR, RETARGET = Path('../../../data/CARS/Food_com/'), False\n",
    "DATA_DIR, RETARGET = Path('../../../data/CARS/TripAdvisor/'), False"
   ]
  },
  {
   "cell_type": "code",
   "execution_count": 4,
   "id": "d53bce36",
   "metadata": {},
   "outputs": [],
   "source": [
    "# Shouldn't need to change this info\n",
    "INTERACTIONS = DATA_DIR / 'interactions.csv'\n",
    "\n",
    "SEED = 123456\n",
    "SEED2 = 78910\n",
    "\n",
    "ITEM_ID = 'item'\n",
    "USER_ID = 'user'"
   ]
  },
  {
   "cell_type": "markdown",
   "id": "48457625",
   "metadata": {},
   "source": [
    "## Define algorithm and hyperparameter ranges"
   ]
  },
  {
   "cell_type": "code",
   "execution_count": 5,
   "id": "11a5ac4c",
   "metadata": {},
   "outputs": [
    {
     "data": {
      "text/plain": [
       "{'k': [80],\n",
       " 'l2': [1, 5, 10, 20, 50],\n",
       " 'v': [0.5, 0.75, 1],\n",
       " 'alpha': [1, 5, 10, 20, 50],\n",
       " 'max_iterations': [10],\n",
       " 'default_context_1': [False]}"
      ]
     },
     "execution_count": 5,
     "metadata": {},
     "output_type": "execute_result"
    }
   ],
   "source": [
    "ALG = WTF\n",
    "\n",
    "K = [80]\n",
    "MAX_IT = [10]\n",
    "DEFAULT_CONTEXT_1 = [False]\n",
    "\n",
    "# L2 = [100, 1000, 10000, 100000]\n",
    "# V = [0, 0.5, 1]\n",
    "# ALPHA = [100, 1000, 10000, 100000]\n",
    "\n",
    "# L2 = [10, 50, 100, 150, 200]\n",
    "# V = [0.25, 0.5, 0.75]\n",
    "# ALPHA = [10, 50, 100, 150, 200]\n",
    "\n",
    "L2 = [1, 5, 10, 20, 50]\n",
    "V = [0.5, 0.75, 1]\n",
    "ALPHA = [1, 5, 10, 20, 50]\n",
    "\n",
    "HYPERPARAMS = {'k': K, 'l2': L2, 'v': V, 'alpha': ALPHA, 'max_iterations': MAX_IT, 'default_context_1': DEFAULT_CONTEXT_1}\n",
    "HYPERPARAMS"
   ]
  },
  {
   "cell_type": "markdown",
   "id": "32d25f41",
   "metadata": {},
   "source": [
    "## Parse data"
   ]
  },
  {
   "cell_type": "code",
   "execution_count": 6,
   "id": "ce0d0435",
   "metadata": {},
   "outputs": [
    {
     "data": {
      "text/html": [
       "<div>\n",
       "<style scoped>\n",
       "    .dataframe tbody tr th:only-of-type {\n",
       "        vertical-align: middle;\n",
       "    }\n",
       "\n",
       "    .dataframe tbody tr th {\n",
       "        vertical-align: top;\n",
       "    }\n",
       "\n",
       "    .dataframe thead th {\n",
       "        text-align: right;\n",
       "    }\n",
       "</style>\n",
       "<table border=\"1\" class=\"dataframe\">\n",
       "  <thead>\n",
       "    <tr style=\"text-align: right;\">\n",
       "      <th></th>\n",
       "      <th>userId</th>\n",
       "      <th>itemId</th>\n",
       "      <th>TripType</th>\n",
       "      <th>UserState</th>\n",
       "    </tr>\n",
       "  </thead>\n",
       "  <tbody>\n",
       "    <tr>\n",
       "      <th>0</th>\n",
       "      <td>1899</td>\n",
       "      <td>1865</td>\n",
       "      <td>1</td>\n",
       "      <td>1</td>\n",
       "    </tr>\n",
       "    <tr>\n",
       "      <th>1</th>\n",
       "      <td>466</td>\n",
       "      <td>721</td>\n",
       "      <td>1</td>\n",
       "      <td>1</td>\n",
       "    </tr>\n",
       "    <tr>\n",
       "      <th>2</th>\n",
       "      <td>1992</td>\n",
       "      <td>451</td>\n",
       "      <td>2</td>\n",
       "      <td>1</td>\n",
       "    </tr>\n",
       "    <tr>\n",
       "      <th>3</th>\n",
       "      <td>466</td>\n",
       "      <td>1016</td>\n",
       "      <td>1</td>\n",
       "      <td>1</td>\n",
       "    </tr>\n",
       "    <tr>\n",
       "      <th>4</th>\n",
       "      <td>1441</td>\n",
       "      <td>414</td>\n",
       "      <td>3</td>\n",
       "      <td>1</td>\n",
       "    </tr>\n",
       "    <tr>\n",
       "      <th>...</th>\n",
       "      <td>...</td>\n",
       "      <td>...</td>\n",
       "      <td>...</td>\n",
       "      <td>...</td>\n",
       "    </tr>\n",
       "    <tr>\n",
       "      <th>12831</th>\n",
       "      <td>936</td>\n",
       "      <td>341</td>\n",
       "      <td>3</td>\n",
       "      <td>78</td>\n",
       "    </tr>\n",
       "    <tr>\n",
       "      <th>12832</th>\n",
       "      <td>1545</td>\n",
       "      <td>1936</td>\n",
       "      <td>3</td>\n",
       "      <td>78</td>\n",
       "    </tr>\n",
       "    <tr>\n",
       "      <th>12833</th>\n",
       "      <td>399</td>\n",
       "      <td>1556</td>\n",
       "      <td>2</td>\n",
       "      <td>79</td>\n",
       "    </tr>\n",
       "    <tr>\n",
       "      <th>12834</th>\n",
       "      <td>918</td>\n",
       "      <td>1380</td>\n",
       "      <td>5</td>\n",
       "      <td>79</td>\n",
       "    </tr>\n",
       "    <tr>\n",
       "      <th>12835</th>\n",
       "      <td>399</td>\n",
       "      <td>264</td>\n",
       "      <td>2</td>\n",
       "      <td>79</td>\n",
       "    </tr>\n",
       "  </tbody>\n",
       "</table>\n",
       "<p>12836 rows × 4 columns</p>\n",
       "</div>"
      ],
      "text/plain": [
       "       userId  itemId  TripType  UserState\n",
       "0        1899    1865         1          1\n",
       "1         466     721         1          1\n",
       "2        1992     451         2          1\n",
       "3         466    1016         1          1\n",
       "4        1441     414         3          1\n",
       "...       ...     ...       ...        ...\n",
       "12831     936     341         3         78\n",
       "12832    1545    1936         3         78\n",
       "12833     399    1556         2         79\n",
       "12834     918    1380         5         79\n",
       "12835     399     264         2         79\n",
       "\n",
       "[12836 rows x 4 columns]"
      ]
     },
     "execution_count": 6,
     "metadata": {},
     "output_type": "execute_result"
    }
   ],
   "source": [
    "data = io.parse_interactions_with_context(INTERACTIONS, item_id=ITEM_ID, user_id=USER_ID)\n",
    "data.df"
   ]
  },
  {
   "cell_type": "markdown",
   "id": "4bef86fe",
   "metadata": {},
   "source": [
    "## Make train/val split for hyperparam tuning"
   ]
  },
  {
   "cell_type": "code",
   "execution_count": 7,
   "id": "95fe8671",
   "metadata": {},
   "outputs": [],
   "source": [
    "train, test = evaluation.splits.context_leave_one_out_split(data, seed=SEED)"
   ]
  },
  {
   "cell_type": "markdown",
   "id": "fc85ffb4",
   "metadata": {},
   "source": [
    "## Perform gridsearch on validation set"
   ]
  },
  {
   "cell_type": "code",
   "execution_count": 8,
   "id": "36a9347a",
   "metadata": {
    "scrolled": true
   },
   "outputs": [
    {
     "data": {
      "application/vnd.jupyter.widget-view+json": {
       "model_id": "8e3530cdcdf640ea860173644ca44fc9",
       "version_major": 2,
       "version_minor": 0
      },
      "text/plain": [
       "  0%|          | 0/75 [00:00<?, ?it/s]"
      ]
     },
     "metadata": {},
     "output_type": "display_data"
    },
    {
     "name": "stdout",
     "output_type": "stream",
     "text": [
      "Training model WTF with hyperparameters {'k': 80, 'l2': 1, 'v': 0.5, 'alpha': 1, 'max_iterations': 10, 'default_context_1': False}\n"
     ]
    },
    {
     "data": {
      "application/vnd.jupyter.widget-view+json": {
       "model_id": "3c460c044625409f97e0ee43c2210b4f",
       "version_major": 2,
       "version_minor": 0
      },
      "text/plain": [
       "  0%|          | 0/10 [00:00<?, ?it/s]"
      ]
     },
     "metadata": {},
     "output_type": "display_data"
    },
    {
     "name": "stdout",
     "output_type": "stream",
     "text": [
      "Evaluating with 2362 users\n",
      "MRR@5 0.022\n",
      "MRR@20 0.027\n",
      "Average Recall@5 0.041\n",
      "Average Recall@20 0.095\n",
      "Training model WTF with hyperparameters {'k': 80, 'l2': 5, 'v': 0.5, 'alpha': 1, 'max_iterations': 10, 'default_context_1': False}\n"
     ]
    },
    {
     "data": {
      "application/vnd.jupyter.widget-view+json": {
       "model_id": "5e9029c096be4add944abb803571b1d1",
       "version_major": 2,
       "version_minor": 0
      },
      "text/plain": [
       "  0%|          | 0/10 [00:00<?, ?it/s]"
      ]
     },
     "metadata": {},
     "output_type": "display_data"
    },
    {
     "name": "stdout",
     "output_type": "stream",
     "text": [
      "Evaluating with 2362 users\n",
      "MRR@5 0.006\n",
      "MRR@20 0.011\n",
      "Average Recall@5 0.016\n",
      "Average Recall@20 0.065\n",
      "Training model WTF with hyperparameters {'k': 80, 'l2': 10, 'v': 0.5, 'alpha': 1, 'max_iterations': 10, 'default_context_1': False}\n"
     ]
    },
    {
     "data": {
      "application/vnd.jupyter.widget-view+json": {
       "model_id": "85e95562afa84c91a7239cc6cc2ac3a1",
       "version_major": 2,
       "version_minor": 0
      },
      "text/plain": [
       "  0%|          | 0/10 [00:00<?, ?it/s]"
      ]
     },
     "metadata": {},
     "output_type": "display_data"
    },
    {
     "name": "stdout",
     "output_type": "stream",
     "text": [
      "Evaluating with 2362 users\n",
      "MRR@5 0.001\n",
      "MRR@20 0.001\n",
      "Average Recall@5 0.002\n",
      "Average Recall@20 0.005\n",
      "Training model WTF with hyperparameters {'k': 80, 'l2': 20, 'v': 0.5, 'alpha': 1, 'max_iterations': 10, 'default_context_1': False}\n"
     ]
    },
    {
     "data": {
      "application/vnd.jupyter.widget-view+json": {
       "model_id": "5a43a003a0fa4f92b3f156d8796c14f5",
       "version_major": 2,
       "version_minor": 0
      },
      "text/plain": [
       "  0%|          | 0/10 [00:00<?, ?it/s]"
      ]
     },
     "metadata": {},
     "output_type": "display_data"
    },
    {
     "name": "stdout",
     "output_type": "stream",
     "text": [
      "Evaluating with 2362 users\n",
      "MRR@5 0.001\n",
      "MRR@20 0.001\n",
      "Average Recall@5 0.002\n",
      "Average Recall@20 0.005\n",
      "Training model WTF with hyperparameters {'k': 80, 'l2': 50, 'v': 0.5, 'alpha': 1, 'max_iterations': 10, 'default_context_1': False}\n"
     ]
    },
    {
     "data": {
      "application/vnd.jupyter.widget-view+json": {
       "model_id": "abaac15a5ef3467f885d66541c6c3f3c",
       "version_major": 2,
       "version_minor": 0
      },
      "text/plain": [
       "  0%|          | 0/10 [00:00<?, ?it/s]"
      ]
     },
     "metadata": {},
     "output_type": "display_data"
    },
    {
     "name": "stdout",
     "output_type": "stream",
     "text": [
      "Evaluating with 2362 users\n",
      "MRR@5 0.001\n",
      "MRR@20 0.001\n",
      "Average Recall@5 0.002\n",
      "Average Recall@20 0.005\n",
      "Training model WTF with hyperparameters {'k': 80, 'l2': 1, 'v': 0.75, 'alpha': 1, 'max_iterations': 10, 'default_context_1': False}\n"
     ]
    },
    {
     "data": {
      "application/vnd.jupyter.widget-view+json": {
       "model_id": "cd766c2fd47244a0bd5aa39091ff7a44",
       "version_major": 2,
       "version_minor": 0
      },
      "text/plain": [
       "  0%|          | 0/10 [00:00<?, ?it/s]"
      ]
     },
     "metadata": {},
     "output_type": "display_data"
    },
    {
     "name": "stdout",
     "output_type": "stream",
     "text": [
      "Evaluating with 2362 users\n",
      "MRR@5 0.025\n",
      "MRR@20 0.03\n",
      "Average Recall@5 0.044\n",
      "Average Recall@20 0.094\n",
      "Training model WTF with hyperparameters {'k': 80, 'l2': 5, 'v': 0.75, 'alpha': 1, 'max_iterations': 10, 'default_context_1': False}\n"
     ]
    },
    {
     "data": {
      "application/vnd.jupyter.widget-view+json": {
       "model_id": "f00883043bb14efb97f42645d737f404",
       "version_major": 2,
       "version_minor": 0
      },
      "text/plain": [
       "  0%|          | 0/10 [00:00<?, ?it/s]"
      ]
     },
     "metadata": {},
     "output_type": "display_data"
    },
    {
     "name": "stdout",
     "output_type": "stream",
     "text": [
      "Evaluating with 2362 users\n",
      "MRR@5 0.005\n",
      "MRR@20 0.008\n",
      "Average Recall@5 0.011\n",
      "Average Recall@20 0.053\n",
      "Training model WTF with hyperparameters {'k': 80, 'l2': 10, 'v': 0.75, 'alpha': 1, 'max_iterations': 10, 'default_context_1': False}\n"
     ]
    },
    {
     "data": {
      "application/vnd.jupyter.widget-view+json": {
       "model_id": "fc715afcb7284d4ebaf92924ba5891e5",
       "version_major": 2,
       "version_minor": 0
      },
      "text/plain": [
       "  0%|          | 0/10 [00:00<?, ?it/s]"
      ]
     },
     "metadata": {},
     "output_type": "display_data"
    },
    {
     "name": "stdout",
     "output_type": "stream",
     "text": [
      "Evaluating with 2362 users\n",
      "MRR@5 0.001\n",
      "MRR@20 0.001\n",
      "Average Recall@5 0.002\n",
      "Average Recall@20 0.005\n",
      "Training model WTF with hyperparameters {'k': 80, 'l2': 20, 'v': 0.75, 'alpha': 1, 'max_iterations': 10, 'default_context_1': False}\n"
     ]
    },
    {
     "data": {
      "application/vnd.jupyter.widget-view+json": {
       "model_id": "87ee3920839a4087ab0faf8d0faa0326",
       "version_major": 2,
       "version_minor": 0
      },
      "text/plain": [
       "  0%|          | 0/10 [00:00<?, ?it/s]"
      ]
     },
     "metadata": {},
     "output_type": "display_data"
    },
    {
     "name": "stdout",
     "output_type": "stream",
     "text": [
      "Evaluating with 2362 users\n",
      "MRR@5 0.001\n",
      "MRR@20 0.001\n",
      "Average Recall@5 0.002\n",
      "Average Recall@20 0.005\n",
      "Training model WTF with hyperparameters {'k': 80, 'l2': 50, 'v': 0.75, 'alpha': 1, 'max_iterations': 10, 'default_context_1': False}\n"
     ]
    },
    {
     "data": {
      "application/vnd.jupyter.widget-view+json": {
       "model_id": "0fd3fcaa864a40b780e0035a10211411",
       "version_major": 2,
       "version_minor": 0
      },
      "text/plain": [
       "  0%|          | 0/10 [00:00<?, ?it/s]"
      ]
     },
     "metadata": {},
     "output_type": "display_data"
    },
    {
     "name": "stdout",
     "output_type": "stream",
     "text": [
      "Evaluating with 2362 users\n",
      "MRR@5 0.001\n",
      "MRR@20 0.001\n",
      "Average Recall@5 0.002\n",
      "Average Recall@20 0.005\n",
      "Training model WTF with hyperparameters {'k': 80, 'l2': 1, 'v': 1, 'alpha': 1, 'max_iterations': 10, 'default_context_1': False}\n"
     ]
    },
    {
     "data": {
      "application/vnd.jupyter.widget-view+json": {
       "model_id": "13679a9ca4cd4ac4820b01ca82ae069d",
       "version_major": 2,
       "version_minor": 0
      },
      "text/plain": [
       "  0%|          | 0/10 [00:00<?, ?it/s]"
      ]
     },
     "metadata": {},
     "output_type": "display_data"
    },
    {
     "name": "stdout",
     "output_type": "stream",
     "text": [
      "Evaluating with 2362 users\n",
      "MRR@5 0.024\n",
      "MRR@20 0.029\n",
      "Average Recall@5 0.044\n",
      "Average Recall@20 0.094\n",
      "Training model WTF with hyperparameters {'k': 80, 'l2': 5, 'v': 1, 'alpha': 1, 'max_iterations': 10, 'default_context_1': False}\n"
     ]
    },
    {
     "data": {
      "application/vnd.jupyter.widget-view+json": {
       "model_id": "11d059d7d47940188a63480ec8ced33d",
       "version_major": 2,
       "version_minor": 0
      },
      "text/plain": [
       "  0%|          | 0/10 [00:00<?, ?it/s]"
      ]
     },
     "metadata": {},
     "output_type": "display_data"
    },
    {
     "name": "stdout",
     "output_type": "stream",
     "text": [
      "Evaluating with 2362 users\n",
      "MRR@5 0.007\n",
      "MRR@20 0.011\n",
      "Average Recall@5 0.02\n",
      "Average Recall@20 0.063\n",
      "Training model WTF with hyperparameters {'k': 80, 'l2': 10, 'v': 1, 'alpha': 1, 'max_iterations': 10, 'default_context_1': False}\n"
     ]
    },
    {
     "data": {
      "application/vnd.jupyter.widget-view+json": {
       "model_id": "28b272d6cf134e4f94a79efa31aa304d",
       "version_major": 2,
       "version_minor": 0
      },
      "text/plain": [
       "  0%|          | 0/10 [00:00<?, ?it/s]"
      ]
     },
     "metadata": {},
     "output_type": "display_data"
    },
    {
     "name": "stdout",
     "output_type": "stream",
     "text": [
      "Evaluating with 2362 users\n",
      "MRR@5 0.001\n",
      "MRR@20 0.001\n",
      "Average Recall@5 0.002\n",
      "Average Recall@20 0.005\n",
      "Training model WTF with hyperparameters {'k': 80, 'l2': 20, 'v': 1, 'alpha': 1, 'max_iterations': 10, 'default_context_1': False}\n"
     ]
    },
    {
     "data": {
      "application/vnd.jupyter.widget-view+json": {
       "model_id": "52006c7845ac4eb08635b7335b079264",
       "version_major": 2,
       "version_minor": 0
      },
      "text/plain": [
       "  0%|          | 0/10 [00:00<?, ?it/s]"
      ]
     },
     "metadata": {},
     "output_type": "display_data"
    },
    {
     "name": "stdout",
     "output_type": "stream",
     "text": [
      "Evaluating with 2362 users\n",
      "MRR@5 0.001\n",
      "MRR@20 0.001\n",
      "Average Recall@5 0.002\n",
      "Average Recall@20 0.005\n",
      "Training model WTF with hyperparameters {'k': 80, 'l2': 50, 'v': 1, 'alpha': 1, 'max_iterations': 10, 'default_context_1': False}\n"
     ]
    },
    {
     "data": {
      "application/vnd.jupyter.widget-view+json": {
       "model_id": "3627a5f4bdf44cc9b9a3dd63696b48b1",
       "version_major": 2,
       "version_minor": 0
      },
      "text/plain": [
       "  0%|          | 0/10 [00:00<?, ?it/s]"
      ]
     },
     "metadata": {},
     "output_type": "display_data"
    },
    {
     "name": "stdout",
     "output_type": "stream",
     "text": [
      "Evaluating with 2362 users\n",
      "MRR@5 0.001\n",
      "MRR@20 0.001\n",
      "Average Recall@5 0.002\n",
      "Average Recall@20 0.005\n",
      "Training model WTF with hyperparameters {'k': 80, 'l2': 1, 'v': 0.5, 'alpha': 5, 'max_iterations': 10, 'default_context_1': False}\n"
     ]
    },
    {
     "data": {
      "application/vnd.jupyter.widget-view+json": {
       "model_id": "7b1e21f5aedf44498f0af8a6cb544d8e",
       "version_major": 2,
       "version_minor": 0
      },
      "text/plain": [
       "  0%|          | 0/10 [00:00<?, ?it/s]"
      ]
     },
     "metadata": {},
     "output_type": "display_data"
    },
    {
     "name": "stdout",
     "output_type": "stream",
     "text": [
      "Evaluating with 2362 users\n",
      "MRR@5 0.021\n",
      "MRR@20 0.026\n",
      "Average Recall@5 0.039\n",
      "Average Recall@20 0.096\n",
      "Training model WTF with hyperparameters {'k': 80, 'l2': 5, 'v': 0.5, 'alpha': 5, 'max_iterations': 10, 'default_context_1': False}\n"
     ]
    },
    {
     "data": {
      "application/vnd.jupyter.widget-view+json": {
       "model_id": "53344c257b454ca49ed2fb55fe9fe8bd",
       "version_major": 2,
       "version_minor": 0
      },
      "text/plain": [
       "  0%|          | 0/10 [00:00<?, ?it/s]"
      ]
     },
     "metadata": {},
     "output_type": "display_data"
    },
    {
     "name": "stdout",
     "output_type": "stream",
     "text": [
      "Evaluating with 2362 users\n",
      "MRR@5 0.021\n",
      "MRR@20 0.027\n",
      "Average Recall@5 0.041\n",
      "Average Recall@20 0.105\n",
      "Training model WTF with hyperparameters {'k': 80, 'l2': 10, 'v': 0.5, 'alpha': 5, 'max_iterations': 10, 'default_context_1': False}\n"
     ]
    },
    {
     "data": {
      "application/vnd.jupyter.widget-view+json": {
       "model_id": "371ba4b86cc84ae3bfd2e34250c2acbf",
       "version_major": 2,
       "version_minor": 0
      },
      "text/plain": [
       "  0%|          | 0/10 [00:00<?, ?it/s]"
      ]
     },
     "metadata": {},
     "output_type": "display_data"
    },
    {
     "name": "stdout",
     "output_type": "stream",
     "text": [
      "Evaluating with 2362 users\n",
      "MRR@5 0.001\n",
      "MRR@20 0.003\n",
      "Average Recall@5 0.003\n",
      "Average Recall@20 0.019\n",
      "Training model WTF with hyperparameters {'k': 80, 'l2': 20, 'v': 0.5, 'alpha': 5, 'max_iterations': 10, 'default_context_1': False}\n"
     ]
    },
    {
     "data": {
      "application/vnd.jupyter.widget-view+json": {
       "model_id": "3726f182a01044be9fed4f09fc077299",
       "version_major": 2,
       "version_minor": 0
      },
      "text/plain": [
       "  0%|          | 0/10 [00:00<?, ?it/s]"
      ]
     },
     "metadata": {},
     "output_type": "display_data"
    },
    {
     "name": "stdout",
     "output_type": "stream",
     "text": [
      "Evaluating with 2362 users\n",
      "MRR@5 0.006\n",
      "MRR@20 0.01\n",
      "Average Recall@5 0.015\n",
      "Average Recall@20 0.064\n",
      "Training model WTF with hyperparameters {'k': 80, 'l2': 50, 'v': 0.5, 'alpha': 5, 'max_iterations': 10, 'default_context_1': False}\n"
     ]
    },
    {
     "data": {
      "application/vnd.jupyter.widget-view+json": {
       "model_id": "898cf23849a7441ab6fba0b4bb56cd08",
       "version_major": 2,
       "version_minor": 0
      },
      "text/plain": [
       "  0%|          | 0/10 [00:00<?, ?it/s]"
      ]
     },
     "metadata": {},
     "output_type": "display_data"
    },
    {
     "name": "stdout",
     "output_type": "stream",
     "text": [
      "Evaluating with 2362 users\n",
      "MRR@5 0.001\n",
      "MRR@20 0.001\n",
      "Average Recall@5 0.002\n",
      "Average Recall@20 0.005\n",
      "Training model WTF with hyperparameters {'k': 80, 'l2': 1, 'v': 0.75, 'alpha': 5, 'max_iterations': 10, 'default_context_1': False}\n"
     ]
    },
    {
     "data": {
      "application/vnd.jupyter.widget-view+json": {
       "model_id": "ed78cae9ccc44f4f8d0bec32007af8be",
       "version_major": 2,
       "version_minor": 0
      },
      "text/plain": [
       "  0%|          | 0/10 [00:00<?, ?it/s]"
      ]
     },
     "metadata": {},
     "output_type": "display_data"
    },
    {
     "name": "stdout",
     "output_type": "stream",
     "text": [
      "Evaluating with 2362 users\n",
      "MRR@5 0.023\n",
      "MRR@20 0.028\n",
      "Average Recall@5 0.041\n",
      "Average Recall@20 0.098\n",
      "Training model WTF with hyperparameters {'k': 80, 'l2': 5, 'v': 0.75, 'alpha': 5, 'max_iterations': 10, 'default_context_1': False}\n"
     ]
    },
    {
     "data": {
      "application/vnd.jupyter.widget-view+json": {
       "model_id": "2e36df73046846cc90bb6741f89aa62b",
       "version_major": 2,
       "version_minor": 0
      },
      "text/plain": [
       "  0%|          | 0/10 [00:00<?, ?it/s]"
      ]
     },
     "metadata": {},
     "output_type": "display_data"
    },
    {
     "name": "stdout",
     "output_type": "stream",
     "text": [
      "Evaluating with 2362 users\n",
      "MRR@5 0.02\n",
      "MRR@20 0.026\n",
      "Average Recall@5 0.04\n",
      "Average Recall@20 0.1\n",
      "Training model WTF with hyperparameters {'k': 80, 'l2': 10, 'v': 0.75, 'alpha': 5, 'max_iterations': 10, 'default_context_1': False}\n"
     ]
    },
    {
     "data": {
      "application/vnd.jupyter.widget-view+json": {
       "model_id": "7821bc1e7444438dba12b508f16b243a",
       "version_major": 2,
       "version_minor": 0
      },
      "text/plain": [
       "  0%|          | 0/10 [00:00<?, ?it/s]"
      ]
     },
     "metadata": {},
     "output_type": "display_data"
    },
    {
     "name": "stdout",
     "output_type": "stream",
     "text": [
      "Evaluating with 2362 users\n",
      "MRR@5 0.003\n",
      "MRR@20 0.003\n",
      "Average Recall@5 0.004\n",
      "Average Recall@20 0.011\n",
      "Training model WTF with hyperparameters {'k': 80, 'l2': 20, 'v': 0.75, 'alpha': 5, 'max_iterations': 10, 'default_context_1': False}\n"
     ]
    },
    {
     "data": {
      "application/vnd.jupyter.widget-view+json": {
       "model_id": "60aed99d977f4bc9ba74ee5524f1b0dd",
       "version_major": 2,
       "version_minor": 0
      },
      "text/plain": [
       "  0%|          | 0/10 [00:00<?, ?it/s]"
      ]
     },
     "metadata": {},
     "output_type": "display_data"
    },
    {
     "name": "stdout",
     "output_type": "stream",
     "text": [
      "Evaluating with 2362 users\n",
      "MRR@5 0.006\n",
      "MRR@20 0.01\n",
      "Average Recall@5 0.016\n",
      "Average Recall@20 0.064\n",
      "Training model WTF with hyperparameters {'k': 80, 'l2': 50, 'v': 0.75, 'alpha': 5, 'max_iterations': 10, 'default_context_1': False}\n"
     ]
    },
    {
     "data": {
      "application/vnd.jupyter.widget-view+json": {
       "model_id": "2b025d6cf728437daa322e7bdac547f2",
       "version_major": 2,
       "version_minor": 0
      },
      "text/plain": [
       "  0%|          | 0/10 [00:00<?, ?it/s]"
      ]
     },
     "metadata": {},
     "output_type": "display_data"
    },
    {
     "name": "stdout",
     "output_type": "stream",
     "text": [
      "Evaluating with 2362 users\n",
      "MRR@5 0.001\n",
      "MRR@20 0.001\n",
      "Average Recall@5 0.002\n",
      "Average Recall@20 0.005\n",
      "Training model WTF with hyperparameters {'k': 80, 'l2': 1, 'v': 1, 'alpha': 5, 'max_iterations': 10, 'default_context_1': False}\n"
     ]
    },
    {
     "data": {
      "application/vnd.jupyter.widget-view+json": {
       "model_id": "87e75c8831f946ca8753bc7a0aac8ce6",
       "version_major": 2,
       "version_minor": 0
      },
      "text/plain": [
       "  0%|          | 0/10 [00:00<?, ?it/s]"
      ]
     },
     "metadata": {},
     "output_type": "display_data"
    },
    {
     "name": "stdout",
     "output_type": "stream",
     "text": [
      "Evaluating with 2362 users\n",
      "MRR@5 0.02\n",
      "MRR@20 0.025\n",
      "Average Recall@5 0.04\n",
      "Average Recall@20 0.094\n",
      "Training model WTF with hyperparameters {'k': 80, 'l2': 5, 'v': 1, 'alpha': 5, 'max_iterations': 10, 'default_context_1': False}\n"
     ]
    },
    {
     "data": {
      "application/vnd.jupyter.widget-view+json": {
       "model_id": "7388aa6e8ede42b6a7d0d067d557f135",
       "version_major": 2,
       "version_minor": 0
      },
      "text/plain": [
       "  0%|          | 0/10 [00:00<?, ?it/s]"
      ]
     },
     "metadata": {},
     "output_type": "display_data"
    },
    {
     "name": "stdout",
     "output_type": "stream",
     "text": [
      "Evaluating with 2362 users\n",
      "MRR@5 0.022\n",
      "MRR@20 0.027\n",
      "Average Recall@5 0.041\n",
      "Average Recall@20 0.1\n",
      "Training model WTF with hyperparameters {'k': 80, 'l2': 10, 'v': 1, 'alpha': 5, 'max_iterations': 10, 'default_context_1': False}\n"
     ]
    },
    {
     "data": {
      "application/vnd.jupyter.widget-view+json": {
       "model_id": "7c4f52af22c041b1b767dc1b03ab0657",
       "version_major": 2,
       "version_minor": 0
      },
      "text/plain": [
       "  0%|          | 0/10 [00:00<?, ?it/s]"
      ]
     },
     "metadata": {},
     "output_type": "display_data"
    },
    {
     "name": "stdout",
     "output_type": "stream",
     "text": [
      "Evaluating with 2362 users\n",
      "MRR@5 0.001\n",
      "MRR@20 0.002\n",
      "Average Recall@5 0.003\n",
      "Average Recall@20 0.011\n",
      "Training model WTF with hyperparameters {'k': 80, 'l2': 20, 'v': 1, 'alpha': 5, 'max_iterations': 10, 'default_context_1': False}\n"
     ]
    },
    {
     "data": {
      "application/vnd.jupyter.widget-view+json": {
       "model_id": "082e034e40294897915547465c172226",
       "version_major": 2,
       "version_minor": 0
      },
      "text/plain": [
       "  0%|          | 0/10 [00:00<?, ?it/s]"
      ]
     },
     "metadata": {},
     "output_type": "display_data"
    },
    {
     "name": "stdout",
     "output_type": "stream",
     "text": [
      "Evaluating with 2362 users\n",
      "MRR@5 0.005\n",
      "MRR@20 0.008\n",
      "Average Recall@5 0.014\n",
      "Average Recall@20 0.053\n",
      "Training model WTF with hyperparameters {'k': 80, 'l2': 50, 'v': 1, 'alpha': 5, 'max_iterations': 10, 'default_context_1': False}\n"
     ]
    },
    {
     "data": {
      "application/vnd.jupyter.widget-view+json": {
       "model_id": "d3806b8f2609490fb2746ae9e0cdb60e",
       "version_major": 2,
       "version_minor": 0
      },
      "text/plain": [
       "  0%|          | 0/10 [00:00<?, ?it/s]"
      ]
     },
     "metadata": {},
     "output_type": "display_data"
    },
    {
     "name": "stdout",
     "output_type": "stream",
     "text": [
      "Evaluating with 2362 users\n",
      "MRR@5 0.001\n",
      "MRR@20 0.001\n",
      "Average Recall@5 0.002\n",
      "Average Recall@20 0.005\n",
      "Training model WTF with hyperparameters {'k': 80, 'l2': 1, 'v': 0.5, 'alpha': 10, 'max_iterations': 10, 'default_context_1': False}\n"
     ]
    },
    {
     "data": {
      "application/vnd.jupyter.widget-view+json": {
       "model_id": "70a9ca8f81e44ed39103c81dea30e168",
       "version_major": 2,
       "version_minor": 0
      },
      "text/plain": [
       "  0%|          | 0/10 [00:00<?, ?it/s]"
      ]
     },
     "metadata": {},
     "output_type": "display_data"
    },
    {
     "name": "stdout",
     "output_type": "stream",
     "text": [
      "Evaluating with 2362 users\n",
      "MRR@5 0.02\n",
      "MRR@20 0.025\n",
      "Average Recall@5 0.041\n",
      "Average Recall@20 0.092\n",
      "Training model WTF with hyperparameters {'k': 80, 'l2': 5, 'v': 0.5, 'alpha': 10, 'max_iterations': 10, 'default_context_1': False}\n"
     ]
    },
    {
     "data": {
      "application/vnd.jupyter.widget-view+json": {
       "model_id": "2b9a2ccde5c54f0aac4d015572579587",
       "version_major": 2,
       "version_minor": 0
      },
      "text/plain": [
       "  0%|          | 0/10 [00:00<?, ?it/s]"
      ]
     },
     "metadata": {},
     "output_type": "display_data"
    },
    {
     "name": "stdout",
     "output_type": "stream",
     "text": [
      "Evaluating with 2362 users\n",
      "MRR@5 0.02\n",
      "MRR@20 0.025\n",
      "Average Recall@5 0.041\n",
      "Average Recall@20 0.096\n",
      "Training model WTF with hyperparameters {'k': 80, 'l2': 10, 'v': 0.5, 'alpha': 10, 'max_iterations': 10, 'default_context_1': False}\n"
     ]
    },
    {
     "data": {
      "application/vnd.jupyter.widget-view+json": {
       "model_id": "afc0907ca2cc4f7faab7411109770365",
       "version_major": 2,
       "version_minor": 0
      },
      "text/plain": [
       "  0%|          | 0/10 [00:00<?, ?it/s]"
      ]
     },
     "metadata": {},
     "output_type": "display_data"
    },
    {
     "name": "stdout",
     "output_type": "stream",
     "text": [
      "Evaluating with 2362 users\n",
      "MRR@5 0.021\n",
      "MRR@20 0.027\n",
      "Average Recall@5 0.041\n",
      "Average Recall@20 0.103\n",
      "Training model WTF with hyperparameters {'k': 80, 'l2': 20, 'v': 0.5, 'alpha': 10, 'max_iterations': 10, 'default_context_1': False}\n"
     ]
    },
    {
     "data": {
      "application/vnd.jupyter.widget-view+json": {
       "model_id": "ce0b8f708db24810b59e13ae2684a33f",
       "version_major": 2,
       "version_minor": 0
      },
      "text/plain": [
       "  0%|          | 0/10 [00:00<?, ?it/s]"
      ]
     },
     "metadata": {},
     "output_type": "display_data"
    },
    {
     "name": "stdout",
     "output_type": "stream",
     "text": [
      "Evaluating with 2362 users\n",
      "MRR@5 0.003\n",
      "MRR@20 0.004\n",
      "Average Recall@5 0.01\n",
      "Average Recall@20 0.022\n",
      "Training model WTF with hyperparameters {'k': 80, 'l2': 50, 'v': 0.5, 'alpha': 10, 'max_iterations': 10, 'default_context_1': False}\n"
     ]
    },
    {
     "data": {
      "application/vnd.jupyter.widget-view+json": {
       "model_id": "b9ab5af129164dc8971ae311e08ae360",
       "version_major": 2,
       "version_minor": 0
      },
      "text/plain": [
       "  0%|          | 0/10 [00:00<?, ?it/s]"
      ]
     },
     "metadata": {},
     "output_type": "display_data"
    },
    {
     "name": "stdout",
     "output_type": "stream",
     "text": [
      "Evaluating with 2362 users\n",
      "MRR@5 0.001\n",
      "MRR@20 0.001\n",
      "Average Recall@5 0.002\n",
      "Average Recall@20 0.005\n",
      "Training model WTF with hyperparameters {'k': 80, 'l2': 1, 'v': 0.75, 'alpha': 10, 'max_iterations': 10, 'default_context_1': False}\n"
     ]
    },
    {
     "data": {
      "application/vnd.jupyter.widget-view+json": {
       "model_id": "a6bc3ecf23fd45219a4ec68394b292be",
       "version_major": 2,
       "version_minor": 0
      },
      "text/plain": [
       "  0%|          | 0/10 [00:00<?, ?it/s]"
      ]
     },
     "metadata": {},
     "output_type": "display_data"
    },
    {
     "name": "stdout",
     "output_type": "stream",
     "text": [
      "Evaluating with 2362 users\n",
      "MRR@5 0.021\n",
      "MRR@20 0.026\n",
      "Average Recall@5 0.04\n",
      "Average Recall@20 0.09\n",
      "Training model WTF with hyperparameters {'k': 80, 'l2': 5, 'v': 0.75, 'alpha': 10, 'max_iterations': 10, 'default_context_1': False}\n"
     ]
    },
    {
     "data": {
      "application/vnd.jupyter.widget-view+json": {
       "model_id": "5cb9cbcc098a486e8463bebfc72d4f02",
       "version_major": 2,
       "version_minor": 0
      },
      "text/plain": [
       "  0%|          | 0/10 [00:00<?, ?it/s]"
      ]
     },
     "metadata": {},
     "output_type": "display_data"
    },
    {
     "name": "stdout",
     "output_type": "stream",
     "text": [
      "Evaluating with 2362 users\n",
      "MRR@5 0.022\n",
      "MRR@20 0.028\n",
      "Average Recall@5 0.046\n",
      "Average Recall@20 0.102\n",
      "Training model WTF with hyperparameters {'k': 80, 'l2': 10, 'v': 0.75, 'alpha': 10, 'max_iterations': 10, 'default_context_1': False}\n"
     ]
    },
    {
     "data": {
      "application/vnd.jupyter.widget-view+json": {
       "model_id": "269c92338da14b949f6ac3d6bd01e47d",
       "version_major": 2,
       "version_minor": 0
      },
      "text/plain": [
       "  0%|          | 0/10 [00:00<?, ?it/s]"
      ]
     },
     "metadata": {},
     "output_type": "display_data"
    },
    {
     "name": "stdout",
     "output_type": "stream",
     "text": [
      "Evaluating with 2362 users\n",
      "MRR@5 0.02\n",
      "MRR@20 0.026\n",
      "Average Recall@5 0.041\n",
      "Average Recall@20 0.098\n",
      "Training model WTF with hyperparameters {'k': 80, 'l2': 20, 'v': 0.75, 'alpha': 10, 'max_iterations': 10, 'default_context_1': False}\n"
     ]
    },
    {
     "data": {
      "application/vnd.jupyter.widget-view+json": {
       "model_id": "c05da7d172f54e0d9f5845012dfcfeb3",
       "version_major": 2,
       "version_minor": 0
      },
      "text/plain": [
       "  0%|          | 0/10 [00:00<?, ?it/s]"
      ]
     },
     "metadata": {},
     "output_type": "display_data"
    },
    {
     "name": "stdout",
     "output_type": "stream",
     "text": [
      "Evaluating with 2362 users\n",
      "MRR@5 0.002\n",
      "MRR@20 0.004\n",
      "Average Recall@5 0.004\n",
      "Average Recall@20 0.027\n",
      "Training model WTF with hyperparameters {'k': 80, 'l2': 50, 'v': 0.75, 'alpha': 10, 'max_iterations': 10, 'default_context_1': False}\n"
     ]
    },
    {
     "data": {
      "application/vnd.jupyter.widget-view+json": {
       "model_id": "01c39428021e4f32b4bd3e54a30196e9",
       "version_major": 2,
       "version_minor": 0
      },
      "text/plain": [
       "  0%|          | 0/10 [00:00<?, ?it/s]"
      ]
     },
     "metadata": {},
     "output_type": "display_data"
    },
    {
     "name": "stdout",
     "output_type": "stream",
     "text": [
      "Evaluating with 2362 users\n",
      "MRR@5 0.001\n",
      "MRR@20 0.001\n",
      "Average Recall@5 0.002\n",
      "Average Recall@20 0.005\n",
      "Training model WTF with hyperparameters {'k': 80, 'l2': 1, 'v': 1, 'alpha': 10, 'max_iterations': 10, 'default_context_1': False}\n"
     ]
    },
    {
     "data": {
      "application/vnd.jupyter.widget-view+json": {
       "model_id": "32296adad8d34e869ae2773760ae7ab4",
       "version_major": 2,
       "version_minor": 0
      },
      "text/plain": [
       "  0%|          | 0/10 [00:00<?, ?it/s]"
      ]
     },
     "metadata": {},
     "output_type": "display_data"
    },
    {
     "name": "stdout",
     "output_type": "stream",
     "text": [
      "Evaluating with 2362 users\n",
      "MRR@5 0.021\n",
      "MRR@20 0.026\n",
      "Average Recall@5 0.04\n",
      "Average Recall@20 0.092\n",
      "Training model WTF with hyperparameters {'k': 80, 'l2': 5, 'v': 1, 'alpha': 10, 'max_iterations': 10, 'default_context_1': False}\n"
     ]
    },
    {
     "data": {
      "application/vnd.jupyter.widget-view+json": {
       "model_id": "4af2ac19f94c40818472a0fce1ee2dd8",
       "version_major": 2,
       "version_minor": 0
      },
      "text/plain": [
       "  0%|          | 0/10 [00:00<?, ?it/s]"
      ]
     },
     "metadata": {},
     "output_type": "display_data"
    },
    {
     "name": "stdout",
     "output_type": "stream",
     "text": [
      "Evaluating with 2362 users\n",
      "MRR@5 0.02\n",
      "MRR@20 0.026\n",
      "Average Recall@5 0.039\n",
      "Average Recall@20 0.097\n",
      "Training model WTF with hyperparameters {'k': 80, 'l2': 10, 'v': 1, 'alpha': 10, 'max_iterations': 10, 'default_context_1': False}\n"
     ]
    },
    {
     "data": {
      "application/vnd.jupyter.widget-view+json": {
       "model_id": "6ed52ba020e44c7da09f7a4ae9283b82",
       "version_major": 2,
       "version_minor": 0
      },
      "text/plain": [
       "  0%|          | 0/10 [00:00<?, ?it/s]"
      ]
     },
     "metadata": {},
     "output_type": "display_data"
    },
    {
     "name": "stdout",
     "output_type": "stream",
     "text": [
      "Evaluating with 2362 users\n",
      "MRR@5 0.023\n",
      "MRR@20 0.028\n",
      "Average Recall@5 0.042\n",
      "Average Recall@20 0.1\n",
      "Training model WTF with hyperparameters {'k': 80, 'l2': 20, 'v': 1, 'alpha': 10, 'max_iterations': 10, 'default_context_1': False}\n"
     ]
    },
    {
     "data": {
      "application/vnd.jupyter.widget-view+json": {
       "model_id": "56051246ca02477fba3bf2b6ab6c25d3",
       "version_major": 2,
       "version_minor": 0
      },
      "text/plain": [
       "  0%|          | 0/10 [00:00<?, ?it/s]"
      ]
     },
     "metadata": {},
     "output_type": "display_data"
    },
    {
     "name": "stdout",
     "output_type": "stream",
     "text": [
      "Evaluating with 2362 users\n",
      "MRR@5 0.007\n",
      "MRR@20 0.011\n",
      "Average Recall@5 0.019\n",
      "Average Recall@20 0.062\n",
      "Training model WTF with hyperparameters {'k': 80, 'l2': 50, 'v': 1, 'alpha': 10, 'max_iterations': 10, 'default_context_1': False}\n"
     ]
    },
    {
     "data": {
      "application/vnd.jupyter.widget-view+json": {
       "model_id": "94f5ca529d9d41598fd97e749ae5b1d7",
       "version_major": 2,
       "version_minor": 0
      },
      "text/plain": [
       "  0%|          | 0/10 [00:00<?, ?it/s]"
      ]
     },
     "metadata": {},
     "output_type": "display_data"
    },
    {
     "name": "stdout",
     "output_type": "stream",
     "text": [
      "Evaluating with 2362 users\n",
      "MRR@5 0.001\n",
      "MRR@20 0.001\n",
      "Average Recall@5 0.002\n",
      "Average Recall@20 0.005\n",
      "Training model WTF with hyperparameters {'k': 80, 'l2': 1, 'v': 0.5, 'alpha': 20, 'max_iterations': 10, 'default_context_1': False}\n"
     ]
    },
    {
     "data": {
      "application/vnd.jupyter.widget-view+json": {
       "model_id": "d4997962b6454945888259d74efb3eef",
       "version_major": 2,
       "version_minor": 0
      },
      "text/plain": [
       "  0%|          | 0/10 [00:00<?, ?it/s]"
      ]
     },
     "metadata": {},
     "output_type": "display_data"
    },
    {
     "name": "stdout",
     "output_type": "stream",
     "text": [
      "Evaluating with 2362 users\n",
      "MRR@5 0.022\n",
      "MRR@20 0.026\n",
      "Average Recall@5 0.037\n",
      "Average Recall@20 0.086\n",
      "Training model WTF with hyperparameters {'k': 80, 'l2': 5, 'v': 0.5, 'alpha': 20, 'max_iterations': 10, 'default_context_1': False}\n"
     ]
    },
    {
     "data": {
      "application/vnd.jupyter.widget-view+json": {
       "model_id": "b7a53885a5f04abcb672e1075559f24d",
       "version_major": 2,
       "version_minor": 0
      },
      "text/plain": [
       "  0%|          | 0/10 [00:00<?, ?it/s]"
      ]
     },
     "metadata": {},
     "output_type": "display_data"
    },
    {
     "name": "stdout",
     "output_type": "stream",
     "text": [
      "Evaluating with 2362 users\n",
      "MRR@5 0.019\n",
      "MRR@20 0.023\n",
      "Average Recall@5 0.035\n",
      "Average Recall@20 0.078\n",
      "Training model WTF with hyperparameters {'k': 80, 'l2': 10, 'v': 0.5, 'alpha': 20, 'max_iterations': 10, 'default_context_1': False}\n"
     ]
    },
    {
     "data": {
      "application/vnd.jupyter.widget-view+json": {
       "model_id": "491d3c6cfd2f4cc18f61fc8016bbb7d5",
       "version_major": 2,
       "version_minor": 0
      },
      "text/plain": [
       "  0%|          | 0/10 [00:00<?, ?it/s]"
      ]
     },
     "metadata": {},
     "output_type": "display_data"
    },
    {
     "name": "stdout",
     "output_type": "stream",
     "text": [
      "Evaluating with 2362 users\n",
      "MRR@5 0.018\n",
      "MRR@20 0.022\n",
      "Average Recall@5 0.033\n",
      "Average Recall@20 0.079\n",
      "Training model WTF with hyperparameters {'k': 80, 'l2': 20, 'v': 0.5, 'alpha': 20, 'max_iterations': 10, 'default_context_1': False}\n"
     ]
    },
    {
     "data": {
      "application/vnd.jupyter.widget-view+json": {
       "model_id": "148c0ae413274bd29bb1218e769ae2fc",
       "version_major": 2,
       "version_minor": 0
      },
      "text/plain": [
       "  0%|          | 0/10 [00:00<?, ?it/s]"
      ]
     },
     "metadata": {},
     "output_type": "display_data"
    },
    {
     "name": "stdout",
     "output_type": "stream",
     "text": [
      "Evaluating with 2362 users\n",
      "MRR@5 0.019\n",
      "MRR@20 0.025\n",
      "Average Recall@5 0.035\n",
      "Average Recall@20 0.094\n",
      "Training model WTF with hyperparameters {'k': 80, 'l2': 50, 'v': 0.5, 'alpha': 20, 'max_iterations': 10, 'default_context_1': False}\n"
     ]
    },
    {
     "data": {
      "application/vnd.jupyter.widget-view+json": {
       "model_id": "7b268130aff34d569f05247c4647529f",
       "version_major": 2,
       "version_minor": 0
      },
      "text/plain": [
       "  0%|          | 0/10 [00:00<?, ?it/s]"
      ]
     },
     "metadata": {},
     "output_type": "display_data"
    },
    {
     "name": "stdout",
     "output_type": "stream",
     "text": [
      "Evaluating with 2362 users\n",
      "MRR@5 0.002\n",
      "MRR@20 0.004\n",
      "Average Recall@5 0.007\n",
      "Average Recall@20 0.023\n",
      "Training model WTF with hyperparameters {'k': 80, 'l2': 1, 'v': 0.75, 'alpha': 20, 'max_iterations': 10, 'default_context_1': False}\n"
     ]
    },
    {
     "data": {
      "application/vnd.jupyter.widget-view+json": {
       "model_id": "1bc0fa2568fa4b52b51a27e966498539",
       "version_major": 2,
       "version_minor": 0
      },
      "text/plain": [
       "  0%|          | 0/10 [00:00<?, ?it/s]"
      ]
     },
     "metadata": {},
     "output_type": "display_data"
    },
    {
     "name": "stdout",
     "output_type": "stream",
     "text": [
      "Evaluating with 2362 users\n",
      "MRR@5 0.017\n",
      "MRR@20 0.021\n",
      "Average Recall@5 0.031\n",
      "Average Recall@20 0.083\n",
      "Training model WTF with hyperparameters {'k': 80, 'l2': 5, 'v': 0.75, 'alpha': 20, 'max_iterations': 10, 'default_context_1': False}\n"
     ]
    },
    {
     "data": {
      "application/vnd.jupyter.widget-view+json": {
       "model_id": "24b42423af42479faa676b9b23b49192",
       "version_major": 2,
       "version_minor": 0
      },
      "text/plain": [
       "  0%|          | 0/10 [00:00<?, ?it/s]"
      ]
     },
     "metadata": {},
     "output_type": "display_data"
    },
    {
     "name": "stdout",
     "output_type": "stream",
     "text": [
      "Evaluating with 2362 users\n",
      "MRR@5 0.021\n",
      "MRR@20 0.025\n",
      "Average Recall@5 0.034\n",
      "Average Recall@20 0.087\n",
      "Training model WTF with hyperparameters {'k': 80, 'l2': 10, 'v': 0.75, 'alpha': 20, 'max_iterations': 10, 'default_context_1': False}\n"
     ]
    },
    {
     "data": {
      "application/vnd.jupyter.widget-view+json": {
       "model_id": "3ab4505ab5e24b47bb0e2ed8c10c5ed5",
       "version_major": 2,
       "version_minor": 0
      },
      "text/plain": [
       "  0%|          | 0/10 [00:00<?, ?it/s]"
      ]
     },
     "metadata": {},
     "output_type": "display_data"
    },
    {
     "name": "stdout",
     "output_type": "stream",
     "text": [
      "Evaluating with 2362 users\n",
      "MRR@5 0.018\n",
      "MRR@20 0.023\n",
      "Average Recall@5 0.038\n",
      "Average Recall@20 0.091\n",
      "Training model WTF with hyperparameters {'k': 80, 'l2': 20, 'v': 0.75, 'alpha': 20, 'max_iterations': 10, 'default_context_1': False}\n"
     ]
    },
    {
     "data": {
      "application/vnd.jupyter.widget-view+json": {
       "model_id": "5c24f135c567416299e042c712f58e04",
       "version_major": 2,
       "version_minor": 0
      },
      "text/plain": [
       "  0%|          | 0/10 [00:00<?, ?it/s]"
      ]
     },
     "metadata": {},
     "output_type": "display_data"
    },
    {
     "name": "stdout",
     "output_type": "stream",
     "text": [
      "Evaluating with 2362 users\n",
      "MRR@5 0.02\n",
      "MRR@20 0.026\n",
      "Average Recall@5 0.039\n",
      "Average Recall@20 0.099\n",
      "Training model WTF with hyperparameters {'k': 80, 'l2': 50, 'v': 0.75, 'alpha': 20, 'max_iterations': 10, 'default_context_1': False}\n"
     ]
    },
    {
     "data": {
      "application/vnd.jupyter.widget-view+json": {
       "model_id": "a0ce5f6eeacb4d23a42f9afaf673f1da",
       "version_major": 2,
       "version_minor": 0
      },
      "text/plain": [
       "  0%|          | 0/10 [00:00<?, ?it/s]"
      ]
     },
     "metadata": {},
     "output_type": "display_data"
    },
    {
     "name": "stdout",
     "output_type": "stream",
     "text": [
      "Evaluating with 2362 users\n",
      "MRR@5 0.004\n",
      "MRR@20 0.006\n",
      "Average Recall@5 0.009\n",
      "Average Recall@20 0.029\n",
      "Training model WTF with hyperparameters {'k': 80, 'l2': 1, 'v': 1, 'alpha': 20, 'max_iterations': 10, 'default_context_1': False}\n"
     ]
    },
    {
     "data": {
      "application/vnd.jupyter.widget-view+json": {
       "model_id": "de8768c895b0498a9f9218d49094a499",
       "version_major": 2,
       "version_minor": 0
      },
      "text/plain": [
       "  0%|          | 0/10 [00:00<?, ?it/s]"
      ]
     },
     "metadata": {},
     "output_type": "display_data"
    },
    {
     "name": "stdout",
     "output_type": "stream",
     "text": [
      "Evaluating with 2362 users\n",
      "MRR@5 0.018\n",
      "MRR@20 0.023\n",
      "Average Recall@5 0.034\n",
      "Average Recall@20 0.085\n",
      "Training model WTF with hyperparameters {'k': 80, 'l2': 5, 'v': 1, 'alpha': 20, 'max_iterations': 10, 'default_context_1': False}\n"
     ]
    },
    {
     "data": {
      "application/vnd.jupyter.widget-view+json": {
       "model_id": "734f166894ee435490d770824235e195",
       "version_major": 2,
       "version_minor": 0
      },
      "text/plain": [
       "  0%|          | 0/10 [00:00<?, ?it/s]"
      ]
     },
     "metadata": {},
     "output_type": "display_data"
    },
    {
     "name": "stdout",
     "output_type": "stream",
     "text": [
      "Evaluating with 2362 users\n",
      "MRR@5 0.017\n",
      "MRR@20 0.022\n",
      "Average Recall@5 0.031\n",
      "Average Recall@20 0.08\n",
      "Training model WTF with hyperparameters {'k': 80, 'l2': 10, 'v': 1, 'alpha': 20, 'max_iterations': 10, 'default_context_1': False}\n"
     ]
    },
    {
     "data": {
      "application/vnd.jupyter.widget-view+json": {
       "model_id": "e528630ffd6243beb174a26714bbda0a",
       "version_major": 2,
       "version_minor": 0
      },
      "text/plain": [
       "  0%|          | 0/10 [00:00<?, ?it/s]"
      ]
     },
     "metadata": {},
     "output_type": "display_data"
    },
    {
     "name": "stdout",
     "output_type": "stream",
     "text": [
      "Evaluating with 2362 users\n",
      "MRR@5 0.02\n",
      "MRR@20 0.024\n",
      "Average Recall@5 0.036\n",
      "Average Recall@20 0.084\n",
      "Training model WTF with hyperparameters {'k': 80, 'l2': 20, 'v': 1, 'alpha': 20, 'max_iterations': 10, 'default_context_1': False}\n"
     ]
    },
    {
     "data": {
      "application/vnd.jupyter.widget-view+json": {
       "model_id": "e47648bb7c034c22af94a13422894cf7",
       "version_major": 2,
       "version_minor": 0
      },
      "text/plain": [
       "  0%|          | 0/10 [00:00<?, ?it/s]"
      ]
     },
     "metadata": {},
     "output_type": "display_data"
    },
    {
     "name": "stdout",
     "output_type": "stream",
     "text": [
      "Evaluating with 2362 users\n",
      "MRR@5 0.023\n",
      "MRR@20 0.029\n",
      "Average Recall@5 0.042\n",
      "Average Recall@20 0.107\n",
      "Training model WTF with hyperparameters {'k': 80, 'l2': 50, 'v': 1, 'alpha': 20, 'max_iterations': 10, 'default_context_1': False}\n"
     ]
    },
    {
     "data": {
      "application/vnd.jupyter.widget-view+json": {
       "model_id": "63450ef2c7374f2bb2dda3561482542d",
       "version_major": 2,
       "version_minor": 0
      },
      "text/plain": [
       "  0%|          | 0/10 [00:00<?, ?it/s]"
      ]
     },
     "metadata": {},
     "output_type": "display_data"
    },
    {
     "name": "stdout",
     "output_type": "stream",
     "text": [
      "Evaluating with 2362 users\n",
      "MRR@5 0.0\n",
      "MRR@20 0.001\n",
      "Average Recall@5 0.001\n",
      "Average Recall@20 0.011\n",
      "Training model WTF with hyperparameters {'k': 80, 'l2': 1, 'v': 0.5, 'alpha': 50, 'max_iterations': 10, 'default_context_1': False}\n"
     ]
    },
    {
     "data": {
      "application/vnd.jupyter.widget-view+json": {
       "model_id": "43914851c0524e1ba4427c5a270332c1",
       "version_major": 2,
       "version_minor": 0
      },
      "text/plain": [
       "  0%|          | 0/10 [00:00<?, ?it/s]"
      ]
     },
     "metadata": {},
     "output_type": "display_data"
    },
    {
     "name": "stdout",
     "output_type": "stream",
     "text": [
      "Evaluating with 2362 users\n",
      "MRR@5 0.017\n",
      "MRR@20 0.021\n",
      "Average Recall@5 0.031\n",
      "Average Recall@20 0.072\n",
      "Training model WTF with hyperparameters {'k': 80, 'l2': 5, 'v': 0.5, 'alpha': 50, 'max_iterations': 10, 'default_context_1': False}\n"
     ]
    },
    {
     "data": {
      "application/vnd.jupyter.widget-view+json": {
       "model_id": "2fbfc8589e9a45db9163ee6a34ef12ab",
       "version_major": 2,
       "version_minor": 0
      },
      "text/plain": [
       "  0%|          | 0/10 [00:00<?, ?it/s]"
      ]
     },
     "metadata": {},
     "output_type": "display_data"
    },
    {
     "name": "stdout",
     "output_type": "stream",
     "text": [
      "Evaluating with 2362 users\n",
      "MRR@5 0.014\n",
      "MRR@20 0.019\n",
      "Average Recall@5 0.028\n",
      "Average Recall@20 0.072\n",
      "Training model WTF with hyperparameters {'k': 80, 'l2': 10, 'v': 0.5, 'alpha': 50, 'max_iterations': 10, 'default_context_1': False}\n"
     ]
    },
    {
     "data": {
      "application/vnd.jupyter.widget-view+json": {
       "model_id": "9a2c8150a3724f9eb28c6ca8e2bd418f",
       "version_major": 2,
       "version_minor": 0
      },
      "text/plain": [
       "  0%|          | 0/10 [00:00<?, ?it/s]"
      ]
     },
     "metadata": {},
     "output_type": "display_data"
    },
    {
     "name": "stdout",
     "output_type": "stream",
     "text": [
      "Evaluating with 2362 users\n",
      "MRR@5 0.017\n",
      "MRR@20 0.022\n",
      "Average Recall@5 0.031\n",
      "Average Recall@20 0.083\n",
      "Training model WTF with hyperparameters {'k': 80, 'l2': 20, 'v': 0.5, 'alpha': 50, 'max_iterations': 10, 'default_context_1': False}\n"
     ]
    },
    {
     "data": {
      "application/vnd.jupyter.widget-view+json": {
       "model_id": "bf83b35f71e240d6833521f964e46335",
       "version_major": 2,
       "version_minor": 0
      },
      "text/plain": [
       "  0%|          | 0/10 [00:00<?, ?it/s]"
      ]
     },
     "metadata": {},
     "output_type": "display_data"
    },
    {
     "name": "stdout",
     "output_type": "stream",
     "text": [
      "Evaluating with 2362 users\n",
      "MRR@5 0.016\n",
      "MRR@20 0.021\n",
      "Average Recall@5 0.031\n",
      "Average Recall@20 0.084\n",
      "Training model WTF with hyperparameters {'k': 80, 'l2': 50, 'v': 0.5, 'alpha': 50, 'max_iterations': 10, 'default_context_1': False}\n"
     ]
    },
    {
     "data": {
      "application/vnd.jupyter.widget-view+json": {
       "model_id": "c24d1b51430a44e9be0cc953c9bcc27f",
       "version_major": 2,
       "version_minor": 0
      },
      "text/plain": [
       "  0%|          | 0/10 [00:00<?, ?it/s]"
      ]
     },
     "metadata": {},
     "output_type": "display_data"
    },
    {
     "name": "stdout",
     "output_type": "stream",
     "text": [
      "Evaluating with 2362 users\n",
      "MRR@5 0.02\n",
      "MRR@20 0.025\n",
      "Average Recall@5 0.036\n",
      "Average Recall@20 0.094\n",
      "Training model WTF with hyperparameters {'k': 80, 'l2': 1, 'v': 0.75, 'alpha': 50, 'max_iterations': 10, 'default_context_1': False}\n"
     ]
    },
    {
     "data": {
      "application/vnd.jupyter.widget-view+json": {
       "model_id": "5ccdb2cbe4534bf4bd2ce2552722d3b0",
       "version_major": 2,
       "version_minor": 0
      },
      "text/plain": [
       "  0%|          | 0/10 [00:00<?, ?it/s]"
      ]
     },
     "metadata": {},
     "output_type": "display_data"
    },
    {
     "name": "stdout",
     "output_type": "stream",
     "text": [
      "Evaluating with 2362 users\n",
      "MRR@5 0.015\n",
      "MRR@20 0.019\n",
      "Average Recall@5 0.026\n",
      "Average Recall@20 0.067\n",
      "Training model WTF with hyperparameters {'k': 80, 'l2': 5, 'v': 0.75, 'alpha': 50, 'max_iterations': 10, 'default_context_1': False}\n"
     ]
    },
    {
     "data": {
      "application/vnd.jupyter.widget-view+json": {
       "model_id": "eabe2ac017f745198de5e69cb069b50b",
       "version_major": 2,
       "version_minor": 0
      },
      "text/plain": [
       "  0%|          | 0/10 [00:00<?, ?it/s]"
      ]
     },
     "metadata": {},
     "output_type": "display_data"
    },
    {
     "name": "stdout",
     "output_type": "stream",
     "text": [
      "Evaluating with 2362 users\n",
      "MRR@5 0.014\n",
      "MRR@20 0.019\n",
      "Average Recall@5 0.03\n",
      "Average Recall@20 0.079\n",
      "Training model WTF with hyperparameters {'k': 80, 'l2': 10, 'v': 0.75, 'alpha': 50, 'max_iterations': 10, 'default_context_1': False}\n"
     ]
    },
    {
     "data": {
      "application/vnd.jupyter.widget-view+json": {
       "model_id": "3f7b64e586eb46c3bec904a5763b3955",
       "version_major": 2,
       "version_minor": 0
      },
      "text/plain": [
       "  0%|          | 0/10 [00:00<?, ?it/s]"
      ]
     },
     "metadata": {},
     "output_type": "display_data"
    },
    {
     "name": "stdout",
     "output_type": "stream",
     "text": [
      "Evaluating with 2362 users\n",
      "MRR@5 0.017\n",
      "MRR@20 0.022\n",
      "Average Recall@5 0.036\n",
      "Average Recall@20 0.082\n",
      "Training model WTF with hyperparameters {'k': 80, 'l2': 20, 'v': 0.75, 'alpha': 50, 'max_iterations': 10, 'default_context_1': False}\n"
     ]
    },
    {
     "data": {
      "application/vnd.jupyter.widget-view+json": {
       "model_id": "7c54ce1a38c4470688ef8edbb789c721",
       "version_major": 2,
       "version_minor": 0
      },
      "text/plain": [
       "  0%|          | 0/10 [00:00<?, ?it/s]"
      ]
     },
     "metadata": {},
     "output_type": "display_data"
    },
    {
     "name": "stdout",
     "output_type": "stream",
     "text": [
      "Evaluating with 2362 users\n",
      "MRR@5 0.019\n",
      "MRR@20 0.024\n",
      "Average Recall@5 0.034\n",
      "Average Recall@20 0.082\n",
      "Training model WTF with hyperparameters {'k': 80, 'l2': 50, 'v': 0.75, 'alpha': 50, 'max_iterations': 10, 'default_context_1': False}\n"
     ]
    },
    {
     "data": {
      "application/vnd.jupyter.widget-view+json": {
       "model_id": "a3905ab85a5e49bb8013b1e9b1d173c0",
       "version_major": 2,
       "version_minor": 0
      },
      "text/plain": [
       "  0%|          | 0/10 [00:00<?, ?it/s]"
      ]
     },
     "metadata": {},
     "output_type": "display_data"
    },
    {
     "name": "stdout",
     "output_type": "stream",
     "text": [
      "Evaluating with 2362 users\n",
      "MRR@5 0.022\n",
      "MRR@20 0.027\n",
      "Average Recall@5 0.041\n",
      "Average Recall@20 0.097\n",
      "Training model WTF with hyperparameters {'k': 80, 'l2': 1, 'v': 1, 'alpha': 50, 'max_iterations': 10, 'default_context_1': False}\n"
     ]
    },
    {
     "data": {
      "application/vnd.jupyter.widget-view+json": {
       "model_id": "26ea6636c4904486bb3b67bce9997f35",
       "version_major": 2,
       "version_minor": 0
      },
      "text/plain": [
       "  0%|          | 0/10 [00:00<?, ?it/s]"
      ]
     },
     "metadata": {},
     "output_type": "display_data"
    },
    {
     "name": "stdout",
     "output_type": "stream",
     "text": [
      "Evaluating with 2362 users\n",
      "MRR@5 0.018\n",
      "MRR@20 0.022\n",
      "Average Recall@5 0.03\n",
      "Average Recall@20 0.076\n",
      "Training model WTF with hyperparameters {'k': 80, 'l2': 5, 'v': 1, 'alpha': 50, 'max_iterations': 10, 'default_context_1': False}\n"
     ]
    },
    {
     "data": {
      "application/vnd.jupyter.widget-view+json": {
       "model_id": "e04285511d064940aa6b40b3d8f0dc7a",
       "version_major": 2,
       "version_minor": 0
      },
      "text/plain": [
       "  0%|          | 0/10 [00:00<?, ?it/s]"
      ]
     },
     "metadata": {},
     "output_type": "display_data"
    },
    {
     "name": "stdout",
     "output_type": "stream",
     "text": [
      "Evaluating with 2362 users\n",
      "MRR@5 0.018\n",
      "MRR@20 0.022\n",
      "Average Recall@5 0.032\n",
      "Average Recall@20 0.074\n",
      "Training model WTF with hyperparameters {'k': 80, 'l2': 10, 'v': 1, 'alpha': 50, 'max_iterations': 10, 'default_context_1': False}\n"
     ]
    },
    {
     "data": {
      "application/vnd.jupyter.widget-view+json": {
       "model_id": "032f5d41b1014ca6b37858561af39a0f",
       "version_major": 2,
       "version_minor": 0
      },
      "text/plain": [
       "  0%|          | 0/10 [00:00<?, ?it/s]"
      ]
     },
     "metadata": {},
     "output_type": "display_data"
    },
    {
     "name": "stdout",
     "output_type": "stream",
     "text": [
      "Evaluating with 2362 users\n",
      "MRR@5 0.017\n",
      "MRR@20 0.022\n",
      "Average Recall@5 0.032\n",
      "Average Recall@20 0.083\n",
      "Training model WTF with hyperparameters {'k': 80, 'l2': 20, 'v': 1, 'alpha': 50, 'max_iterations': 10, 'default_context_1': False}\n"
     ]
    },
    {
     "data": {
      "application/vnd.jupyter.widget-view+json": {
       "model_id": "320cf1810f2d4bd080ddbd46bd9b96c2",
       "version_major": 2,
       "version_minor": 0
      },
      "text/plain": [
       "  0%|          | 0/10 [00:00<?, ?it/s]"
      ]
     },
     "metadata": {},
     "output_type": "display_data"
    },
    {
     "name": "stdout",
     "output_type": "stream",
     "text": [
      "Evaluating with 2362 users\n",
      "MRR@5 0.014\n",
      "MRR@20 0.019\n",
      "Average Recall@5 0.03\n",
      "Average Recall@20 0.078\n",
      "Training model WTF with hyperparameters {'k': 80, 'l2': 50, 'v': 1, 'alpha': 50, 'max_iterations': 10, 'default_context_1': False}\n"
     ]
    },
    {
     "data": {
      "application/vnd.jupyter.widget-view+json": {
       "model_id": "884364700bad4339954ac7e67bee17f0",
       "version_major": 2,
       "version_minor": 0
      },
      "text/plain": [
       "  0%|          | 0/10 [00:00<?, ?it/s]"
      ]
     },
     "metadata": {},
     "output_type": "display_data"
    },
    {
     "name": "stdout",
     "output_type": "stream",
     "text": [
      "Evaluating with 2362 users\n",
      "MRR@5 0.019\n",
      "MRR@20 0.024\n",
      "Average Recall@5 0.039\n",
      "Average Recall@20 0.095\n",
      "CPU times: user 14min 24s, sys: 2min 53s, total: 17min 17s\n",
      "Wall time: 37min 4s\n"
     ]
    },
    {
     "data": {
      "text/plain": [
       "\"Best score of 0.029904729943740934 achieved with {'k': 80, 'l2': 1, 'v': 0.75, 'alpha': 1, 'max_iterations': 10, 'default_context_1': False}.\""
      ]
     },
     "execution_count": 8,
     "metadata": {},
     "output_type": "execute_result"
    }
   ],
   "source": [
    "%%time\n",
    "score, best_hyperparams = evaluation.cars.gridsearch(ALG, train, test, HYPERPARAMS, retarget=RETARGET)\n",
    "f\"Best score of {score} achieved with {best_hyperparams}.\""
   ]
  },
  {
   "cell_type": "markdown",
   "id": "e89dad17",
   "metadata": {},
   "source": [
    "## Evaluate model with optimal hyperparams with KFolds Cross validation"
   ]
  },
  {
   "cell_type": "code",
   "execution_count": 9,
   "id": "81674e0b",
   "metadata": {
    "scrolled": true
   },
   "outputs": [
    {
     "data": {
      "application/vnd.jupyter.widget-view+json": {
       "model_id": "9256c86261d646b0975fe9d65a90a93c",
       "version_major": 2,
       "version_minor": 0
      },
      "text/plain": [
       "  0%|          | 0/10 [00:00<?, ?it/s]"
      ]
     },
     "metadata": {},
     "output_type": "display_data"
    },
    {
     "name": "stdout",
     "output_type": "stream",
     "text": [
      "Evaluating with 2362 users\n"
     ]
    },
    {
     "data": {
      "application/vnd.jupyter.widget-view+json": {
       "model_id": "08ead2e9ff2c441c97af8b0c6058f5d6",
       "version_major": 2,
       "version_minor": 0
      },
      "text/plain": [
       "  0%|          | 0/10 [00:00<?, ?it/s]"
      ]
     },
     "metadata": {},
     "output_type": "display_data"
    },
    {
     "name": "stdout",
     "output_type": "stream",
     "text": [
      "Evaluating with 2362 users\n"
     ]
    },
    {
     "data": {
      "application/vnd.jupyter.widget-view+json": {
       "model_id": "aedf30c6190d472a95ce06f3c1a398d2",
       "version_major": 2,
       "version_minor": 0
      },
      "text/plain": [
       "  0%|          | 0/10 [00:00<?, ?it/s]"
      ]
     },
     "metadata": {},
     "output_type": "display_data"
    },
    {
     "name": "stdout",
     "output_type": "stream",
     "text": [
      "Evaluating with 2362 users\n"
     ]
    },
    {
     "data": {
      "application/vnd.jupyter.widget-view+json": {
       "model_id": "16ba28e066b64a5486e8060b4e4d3eae",
       "version_major": 2,
       "version_minor": 0
      },
      "text/plain": [
       "  0%|          | 0/10 [00:00<?, ?it/s]"
      ]
     },
     "metadata": {},
     "output_type": "display_data"
    },
    {
     "name": "stdout",
     "output_type": "stream",
     "text": [
      "Evaluating with 2362 users\n"
     ]
    },
    {
     "data": {
      "application/vnd.jupyter.widget-view+json": {
       "model_id": "20a85d95ec43443eb0014dcc8bd0225b",
       "version_major": 2,
       "version_minor": 0
      },
      "text/plain": [
       "  0%|          | 0/10 [00:00<?, ?it/s]"
      ]
     },
     "metadata": {},
     "output_type": "display_data"
    },
    {
     "name": "stdout",
     "output_type": "stream",
     "text": [
      "Evaluating with 2362 users\n",
      "MRR@5 0.022 (0.002)\n",
      "MRR@20 0.027 (0.001)\n",
      "Average Recall@5 0.039 (0.002)\n",
      "Average Recall@20 0.094 (0.003)\n",
      "CPU times: user 57.7 s, sys: 11.9 s, total: 1min 9s\n",
      "Wall time: 2min 37s\n"
     ]
    }
   ],
   "source": [
    "%%time\n",
    "alg = ALG(**best_hyperparams)\n",
    "results = evaluation.cars.contextKFoldsEval(alg, data, nr_folds=5, seed=SEED2, retarget=RETARGET)"
   ]
  }
 ],
 "metadata": {
  "kernelspec": {
   "display_name": "Python 3 (ipykernel)",
   "language": "python",
   "name": "python3"
  },
  "language_info": {
   "codemirror_mode": {
    "name": "ipython",
    "version": 3
   },
   "file_extension": ".py",
   "mimetype": "text/x-python",
   "name": "python",
   "nbconvert_exporter": "python",
   "pygments_lexer": "ipython3",
   "version": "3.10.6"
  }
 },
 "nbformat": 4,
 "nbformat_minor": 5
}
