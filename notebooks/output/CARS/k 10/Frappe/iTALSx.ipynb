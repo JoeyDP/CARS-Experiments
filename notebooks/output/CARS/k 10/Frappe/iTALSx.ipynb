{
 "cells": [
  {
   "cell_type": "code",
   "execution_count": 1,
   "id": "9ef88bc4",
   "metadata": {},
   "outputs": [],
   "source": [
    "%load_ext autoreload\n",
    "%autoreload 2"
   ]
  },
  {
   "cell_type": "markdown",
   "id": "55bab0c8",
   "metadata": {},
   "source": [
    "# Experiments with iTALSx model"
   ]
  },
  {
   "cell_type": "code",
   "execution_count": 2,
   "id": "ec55d42c",
   "metadata": {},
   "outputs": [],
   "source": [
    "from pathlib import Path\n",
    "\n",
    "import src.io as io\n",
    "import src.evaluation as evaluation\n",
    "import src.evaluation.splits\n",
    "import src.evaluation.cars\n",
    "\n",
    "from src.algorithm.cars.italsx import iTALSx"
   ]
  },
  {
   "cell_type": "markdown",
   "id": "c469b253",
   "metadata": {},
   "source": [
    "## Datasets"
   ]
  },
  {
   "cell_type": "code",
   "execution_count": 3,
   "id": "e0622ed1",
   "metadata": {},
   "outputs": [],
   "source": [
    "## Uncomment corresponding directory.\n",
    "## RETARGET True for Frappe, False for the others\n",
    "\n",
    "DATA_DIR, RETARGET = Path('../../../data/CARS/Mobile_Frappe/'), True\n",
    "# DATA_DIR, RETARGET = Path('../../../data/CARS/Food_com/'), False\n",
    "# DATA_DIR, RETARGET = Path('../../../data/CARS/TripAdvisor/'), False"
   ]
  },
  {
   "cell_type": "code",
   "execution_count": 4,
   "id": "d53bce36",
   "metadata": {},
   "outputs": [],
   "source": [
    "# Shouldn't need to change this info\n",
    "INTERACTIONS = DATA_DIR / 'interactions.csv'\n",
    "\n",
    "SEED = 123456\n",
    "SEED2 = 78910\n",
    "\n",
    "ITEM_ID = 'item'\n",
    "USER_ID = 'user'"
   ]
  },
  {
   "cell_type": "markdown",
   "id": "48457625",
   "metadata": {},
   "source": [
    "## Define algorithm and hyperparameter ranges"
   ]
  },
  {
   "cell_type": "code",
   "execution_count": 5,
   "id": "11a5ac4c",
   "metadata": {},
   "outputs": [
    {
     "data": {
      "text/plain": [
       "{'k': [10],\n",
       " 'l2': [10, 100, 1000, 10000],\n",
       " 'v': [0, 0.5, 1],\n",
       " 'alpha': [0, 1, 10, 100, 1000],\n",
       " 'max_iterations': [10]}"
      ]
     },
     "execution_count": 5,
     "metadata": {},
     "output_type": "execute_result"
    }
   ],
   "source": [
    "ALG = iTALSx\n",
    "\n",
    "\n",
    "K = [10]\n",
    "\n",
    "# K = [80]\n",
    "MAX_IT = [10]\n",
    "\n",
    "L2 = [10, 100, 1000, 10000]\n",
    "V = [0, 0.5, 1]\n",
    "ALPHA = [0, 1, 10, 100, 1000]\n",
    "\n",
    "# L2 = [50000, 10000, 100000]\n",
    "# V = [0.75, 1]\n",
    "# ALPHA = [500, 1000, 10000, 100000]\n",
    "\n",
    "# L2 = [1, 5, 10, 20, 50]\n",
    "# V = [0.75, 1]\n",
    "# ALPHA = [1, 5, 10, 20, 50]\n",
    "\n",
    "HYPERPARAMS = {'k': K, 'l2': L2, 'v': V, 'alpha': ALPHA, 'max_iterations': MAX_IT}\n",
    "HYPERPARAMS"
   ]
  },
  {
   "cell_type": "markdown",
   "id": "32d25f41",
   "metadata": {},
   "source": [
    "## Parse data"
   ]
  },
  {
   "cell_type": "code",
   "execution_count": 6,
   "id": "ce0d0435",
   "metadata": {},
   "outputs": [
    {
     "data": {
      "text/html": [
       "<div>\n",
       "<style scoped>\n",
       "    .dataframe tbody tr th:only-of-type {\n",
       "        vertical-align: middle;\n",
       "    }\n",
       "\n",
       "    .dataframe tbody tr th {\n",
       "        vertical-align: top;\n",
       "    }\n",
       "\n",
       "    .dataframe thead th {\n",
       "        text-align: right;\n",
       "    }\n",
       "</style>\n",
       "<table border=\"1\" class=\"dataframe\">\n",
       "  <thead>\n",
       "    <tr style=\"text-align: right;\">\n",
       "      <th></th>\n",
       "      <th>userId</th>\n",
       "      <th>itemId</th>\n",
       "      <th>daytime</th>\n",
       "      <th>weather</th>\n",
       "      <th>weekday</th>\n",
       "    </tr>\n",
       "  </thead>\n",
       "  <tbody>\n",
       "    <tr>\n",
       "      <th>0</th>\n",
       "      <td>0</td>\n",
       "      <td>0</td>\n",
       "      <td>1</td>\n",
       "      <td>1</td>\n",
       "      <td>1</td>\n",
       "    </tr>\n",
       "    <tr>\n",
       "      <th>1</th>\n",
       "      <td>1</td>\n",
       "      <td>1</td>\n",
       "      <td>2</td>\n",
       "      <td>2</td>\n",
       "      <td>2</td>\n",
       "    </tr>\n",
       "    <tr>\n",
       "      <th>2</th>\n",
       "      <td>2</td>\n",
       "      <td>2</td>\n",
       "      <td>3</td>\n",
       "      <td>2</td>\n",
       "      <td>3</td>\n",
       "    </tr>\n",
       "    <tr>\n",
       "      <th>3</th>\n",
       "      <td>3</td>\n",
       "      <td>3</td>\n",
       "      <td>4</td>\n",
       "      <td>0</td>\n",
       "      <td>4</td>\n",
       "    </tr>\n",
       "    <tr>\n",
       "      <th>4</th>\n",
       "      <td>4</td>\n",
       "      <td>4</td>\n",
       "      <td>5</td>\n",
       "      <td>1</td>\n",
       "      <td>4</td>\n",
       "    </tr>\n",
       "    <tr>\n",
       "      <th>...</th>\n",
       "      <td>...</td>\n",
       "      <td>...</td>\n",
       "      <td>...</td>\n",
       "      <td>...</td>\n",
       "      <td>...</td>\n",
       "    </tr>\n",
       "    <tr>\n",
       "      <th>95997</th>\n",
       "      <td>109</td>\n",
       "      <td>0</td>\n",
       "      <td>3</td>\n",
       "      <td>1</td>\n",
       "      <td>1</td>\n",
       "    </tr>\n",
       "    <tr>\n",
       "      <th>95998</th>\n",
       "      <td>37</td>\n",
       "      <td>16</td>\n",
       "      <td>4</td>\n",
       "      <td>2</td>\n",
       "      <td>1</td>\n",
       "    </tr>\n",
       "    <tr>\n",
       "      <th>95999</th>\n",
       "      <td>180</td>\n",
       "      <td>33</td>\n",
       "      <td>2</td>\n",
       "      <td>2</td>\n",
       "      <td>1</td>\n",
       "    </tr>\n",
       "    <tr>\n",
       "      <th>96000</th>\n",
       "      <td>445</td>\n",
       "      <td>751</td>\n",
       "      <td>3</td>\n",
       "      <td>1</td>\n",
       "      <td>1</td>\n",
       "    </tr>\n",
       "    <tr>\n",
       "      <th>96001</th>\n",
       "      <td>361</td>\n",
       "      <td>380</td>\n",
       "      <td>3</td>\n",
       "      <td>2</td>\n",
       "      <td>4</td>\n",
       "    </tr>\n",
       "  </tbody>\n",
       "</table>\n",
       "<p>96002 rows × 5 columns</p>\n",
       "</div>"
      ],
      "text/plain": [
       "       userId  itemId  daytime  weather  weekday\n",
       "0           0       0        1        1        1\n",
       "1           1       1        2        2        2\n",
       "2           2       2        3        2        3\n",
       "3           3       3        4        0        4\n",
       "4           4       4        5        1        4\n",
       "...       ...     ...      ...      ...      ...\n",
       "95997     109       0        3        1        1\n",
       "95998      37      16        4        2        1\n",
       "95999     180      33        2        2        1\n",
       "96000     445     751        3        1        1\n",
       "96001     361     380        3        2        4\n",
       "\n",
       "[96002 rows x 5 columns]"
      ]
     },
     "execution_count": 6,
     "metadata": {},
     "output_type": "execute_result"
    }
   ],
   "source": [
    "data = io.parse_interactions_with_context(INTERACTIONS, item_id=ITEM_ID, user_id=USER_ID)\n",
    "data.df"
   ]
  },
  {
   "cell_type": "markdown",
   "id": "4bef86fe",
   "metadata": {},
   "source": [
    "## Make train/val split for hyperparam tuning"
   ]
  },
  {
   "cell_type": "code",
   "execution_count": 7,
   "id": "95fe8671",
   "metadata": {},
   "outputs": [],
   "source": [
    "train, test = evaluation.splits.context_leave_one_out_split(data, seed=SEED)"
   ]
  },
  {
   "cell_type": "markdown",
   "id": "fc85ffb4",
   "metadata": {},
   "source": [
    "## Perform gridsearch on validation set"
   ]
  },
  {
   "cell_type": "code",
   "execution_count": 8,
   "id": "36a9347a",
   "metadata": {
    "scrolled": true
   },
   "outputs": [
    {
     "data": {
      "application/vnd.jupyter.widget-view+json": {
       "model_id": "02e8bfbc96b6442aa6a066ff60d5c1de",
       "version_major": 2,
       "version_minor": 0
      },
      "text/plain": [
       "  0%|          | 0/60 [00:00<?, ?it/s]"
      ]
     },
     "metadata": {},
     "output_type": "display_data"
    },
    {
     "name": "stdout",
     "output_type": "stream",
     "text": [
      "Training model iTALSx with hyperparameters {'k': 10, 'l2': 10, 'v': 0, 'alpha': 0, 'max_iterations': 10}\n"
     ]
    },
    {
     "data": {
      "application/vnd.jupyter.widget-view+json": {
       "model_id": "d90df88e104347fabcaa3cc5836f9ede",
       "version_major": 2,
       "version_minor": 0
      },
      "text/plain": [
       "  0%|          | 0/10 [00:00<?, ?it/s]"
      ]
     },
     "metadata": {},
     "output_type": "display_data"
    },
    {
     "name": "stdout",
     "output_type": "stream",
     "text": [
      "Evaluating with 816 users\n",
      "MRR@5 0.185\n",
      "MRR@20 0.196\n",
      "Average Recall@5 0.299\n",
      "Average Recall@20 0.406\n",
      "Training model iTALSx with hyperparameters {'k': 10, 'l2': 100, 'v': 0, 'alpha': 0, 'max_iterations': 10}\n"
     ]
    },
    {
     "data": {
      "application/vnd.jupyter.widget-view+json": {
       "model_id": "c2e45b49582344a685b49d95cccff7f3",
       "version_major": 2,
       "version_minor": 0
      },
      "text/plain": [
       "  0%|          | 0/10 [00:00<?, ?it/s]"
      ]
     },
     "metadata": {},
     "output_type": "display_data"
    },
    {
     "name": "stdout",
     "output_type": "stream",
     "text": [
      "Evaluating with 816 users\n",
      "MRR@5 0.185\n",
      "MRR@20 0.197\n",
      "Average Recall@5 0.295\n",
      "Average Recall@20 0.422\n",
      "Training model iTALSx with hyperparameters {'k': 10, 'l2': 1000, 'v': 0, 'alpha': 0, 'max_iterations': 10}\n"
     ]
    },
    {
     "data": {
      "application/vnd.jupyter.widget-view+json": {
       "model_id": "a6d44eefff0e4d6e9e42396cde7e9ba3",
       "version_major": 2,
       "version_minor": 0
      },
      "text/plain": [
       "  0%|          | 0/10 [00:00<?, ?it/s]"
      ]
     },
     "metadata": {},
     "output_type": "display_data"
    },
    {
     "name": "stdout",
     "output_type": "stream",
     "text": [
      "Evaluating with 816 users\n",
      "MRR@5 0.154\n",
      "MRR@20 0.171\n",
      "Average Recall@5 0.246\n",
      "Average Recall@20 0.414\n",
      "Training model iTALSx with hyperparameters {'k': 10, 'l2': 10000, 'v': 0, 'alpha': 0, 'max_iterations': 10}\n"
     ]
    },
    {
     "data": {
      "application/vnd.jupyter.widget-view+json": {
       "model_id": "5a1b3d32c7464601a04eb09f251b000c",
       "version_major": 2,
       "version_minor": 0
      },
      "text/plain": [
       "  0%|          | 0/10 [00:00<?, ?it/s]"
      ]
     },
     "metadata": {},
     "output_type": "display_data"
    },
    {
     "name": "stdout",
     "output_type": "stream",
     "text": [
      "Evaluating with 816 users\n",
      "MRR@5 0.13\n",
      "MRR@20 0.147\n",
      "Average Recall@5 0.241\n",
      "Average Recall@20 0.396\n",
      "Training model iTALSx with hyperparameters {'k': 10, 'l2': 10, 'v': 0.5, 'alpha': 0, 'max_iterations': 10}\n"
     ]
    },
    {
     "data": {
      "application/vnd.jupyter.widget-view+json": {
       "model_id": "f25ef54b02b54262972665488477f18a",
       "version_major": 2,
       "version_minor": 0
      },
      "text/plain": [
       "  0%|          | 0/10 [00:00<?, ?it/s]"
      ]
     },
     "metadata": {},
     "output_type": "display_data"
    },
    {
     "name": "stdout",
     "output_type": "stream",
     "text": [
      "Evaluating with 816 users\n",
      "MRR@5 0.185\n",
      "MRR@20 0.195\n",
      "Average Recall@5 0.295\n",
      "Average Recall@20 0.403\n",
      "Training model iTALSx with hyperparameters {'k': 10, 'l2': 100, 'v': 0.5, 'alpha': 0, 'max_iterations': 10}\n"
     ]
    },
    {
     "data": {
      "application/vnd.jupyter.widget-view+json": {
       "model_id": "9a30956ffe744e94a69411adae6b0577",
       "version_major": 2,
       "version_minor": 0
      },
      "text/plain": [
       "  0%|          | 0/10 [00:00<?, ?it/s]"
      ]
     },
     "metadata": {},
     "output_type": "display_data"
    },
    {
     "name": "stdout",
     "output_type": "stream",
     "text": [
      "Evaluating with 816 users\n",
      "MRR@5 0.183\n",
      "MRR@20 0.195\n",
      "Average Recall@5 0.294\n",
      "Average Recall@20 0.415\n",
      "Training model iTALSx with hyperparameters {'k': 10, 'l2': 1000, 'v': 0.5, 'alpha': 0, 'max_iterations': 10}\n"
     ]
    },
    {
     "data": {
      "application/vnd.jupyter.widget-view+json": {
       "model_id": "82d01677071642b7bbd1627ad51e4b6c",
       "version_major": 2,
       "version_minor": 0
      },
      "text/plain": [
       "  0%|          | 0/10 [00:00<?, ?it/s]"
      ]
     },
     "metadata": {},
     "output_type": "display_data"
    },
    {
     "name": "stdout",
     "output_type": "stream",
     "text": [
      "Evaluating with 816 users\n",
      "MRR@5 0.145\n",
      "MRR@20 0.162\n",
      "Average Recall@5 0.243\n",
      "Average Recall@20 0.397\n",
      "Training model iTALSx with hyperparameters {'k': 10, 'l2': 10000, 'v': 0.5, 'alpha': 0, 'max_iterations': 10}\n"
     ]
    },
    {
     "data": {
      "application/vnd.jupyter.widget-view+json": {
       "model_id": "8a076c9d544743d28250f478641c08cd",
       "version_major": 2,
       "version_minor": 0
      },
      "text/plain": [
       "  0%|          | 0/10 [00:00<?, ?it/s]"
      ]
     },
     "metadata": {},
     "output_type": "display_data"
    },
    {
     "name": "stdout",
     "output_type": "stream",
     "text": [
      "Evaluating with 816 users\n",
      "MRR@5 0.13\n",
      "MRR@20 0.146\n",
      "Average Recall@5 0.241\n",
      "Average Recall@20 0.396\n",
      "Training model iTALSx with hyperparameters {'k': 10, 'l2': 10, 'v': 1, 'alpha': 0, 'max_iterations': 10}\n"
     ]
    },
    {
     "data": {
      "application/vnd.jupyter.widget-view+json": {
       "model_id": "6a1de85f896e4d1db561bdf959e885e5",
       "version_major": 2,
       "version_minor": 0
      },
      "text/plain": [
       "  0%|          | 0/10 [00:00<?, ?it/s]"
      ]
     },
     "metadata": {},
     "output_type": "display_data"
    },
    {
     "name": "stdout",
     "output_type": "stream",
     "text": [
      "Evaluating with 816 users\n",
      "MRR@5 0.184\n",
      "MRR@20 0.194\n",
      "Average Recall@5 0.301\n",
      "Average Recall@20 0.406\n",
      "Training model iTALSx with hyperparameters {'k': 10, 'l2': 100, 'v': 1, 'alpha': 0, 'max_iterations': 10}\n"
     ]
    },
    {
     "data": {
      "application/vnd.jupyter.widget-view+json": {
       "model_id": "a79ca5a3690540c9b5ab15ec6a360b03",
       "version_major": 2,
       "version_minor": 0
      },
      "text/plain": [
       "  0%|          | 0/10 [00:00<?, ?it/s]"
      ]
     },
     "metadata": {},
     "output_type": "display_data"
    },
    {
     "name": "stdout",
     "output_type": "stream",
     "text": [
      "Evaluating with 816 users\n",
      "MRR@5 0.182\n",
      "MRR@20 0.193\n",
      "Average Recall@5 0.29\n",
      "Average Recall@20 0.403\n",
      "Training model iTALSx with hyperparameters {'k': 10, 'l2': 1000, 'v': 1, 'alpha': 0, 'max_iterations': 10}\n"
     ]
    },
    {
     "data": {
      "application/vnd.jupyter.widget-view+json": {
       "model_id": "05e6b87ebdcd4837a74b881b41f68875",
       "version_major": 2,
       "version_minor": 0
      },
      "text/plain": [
       "  0%|          | 0/10 [00:00<?, ?it/s]"
      ]
     },
     "metadata": {},
     "output_type": "display_data"
    },
    {
     "name": "stdout",
     "output_type": "stream",
     "text": [
      "Evaluating with 816 users\n",
      "MRR@5 0.156\n",
      "MRR@20 0.171\n",
      "Average Recall@5 0.241\n",
      "Average Recall@20 0.392\n",
      "Training model iTALSx with hyperparameters {'k': 10, 'l2': 10000, 'v': 1, 'alpha': 0, 'max_iterations': 10}\n"
     ]
    },
    {
     "data": {
      "application/vnd.jupyter.widget-view+json": {
       "model_id": "cf2494c8baf9443ea3cb9762212ac2eb",
       "version_major": 2,
       "version_minor": 0
      },
      "text/plain": [
       "  0%|          | 0/10 [00:00<?, ?it/s]"
      ]
     },
     "metadata": {},
     "output_type": "display_data"
    },
    {
     "name": "stdout",
     "output_type": "stream",
     "text": [
      "Evaluating with 816 users\n",
      "MRR@5 0.13\n",
      "MRR@20 0.145\n",
      "Average Recall@5 0.241\n",
      "Average Recall@20 0.386\n",
      "Training model iTALSx with hyperparameters {'k': 10, 'l2': 10, 'v': 0, 'alpha': 1, 'max_iterations': 10}\n"
     ]
    },
    {
     "data": {
      "application/vnd.jupyter.widget-view+json": {
       "model_id": "9a2427a8fb234faeb3ab5faee3cca387",
       "version_major": 2,
       "version_minor": 0
      },
      "text/plain": [
       "  0%|          | 0/10 [00:00<?, ?it/s]"
      ]
     },
     "metadata": {},
     "output_type": "display_data"
    },
    {
     "name": "stdout",
     "output_type": "stream",
     "text": [
      "Evaluating with 816 users\n",
      "MRR@5 0.203\n",
      "MRR@20 0.218\n",
      "Average Recall@5 0.324\n",
      "Average Recall@20 0.48\n",
      "Training model iTALSx with hyperparameters {'k': 10, 'l2': 100, 'v': 0, 'alpha': 1, 'max_iterations': 10}\n"
     ]
    },
    {
     "data": {
      "application/vnd.jupyter.widget-view+json": {
       "model_id": "a40a15ecccc74f6c817b1e7cf5fae7e3",
       "version_major": 2,
       "version_minor": 0
      },
      "text/plain": [
       "  0%|          | 0/10 [00:00<?, ?it/s]"
      ]
     },
     "metadata": {},
     "output_type": "display_data"
    },
    {
     "name": "stdout",
     "output_type": "stream",
     "text": [
      "Evaluating with 816 users\n",
      "MRR@5 0.196\n",
      "MRR@20 0.212\n",
      "Average Recall@5 0.32\n",
      "Average Recall@20 0.477\n",
      "Training model iTALSx with hyperparameters {'k': 10, 'l2': 1000, 'v': 0, 'alpha': 1, 'max_iterations': 10}\n"
     ]
    },
    {
     "data": {
      "application/vnd.jupyter.widget-view+json": {
       "model_id": "73b41176674948ad81f35b246a19184e",
       "version_major": 2,
       "version_minor": 0
      },
      "text/plain": [
       "  0%|          | 0/10 [00:00<?, ?it/s]"
      ]
     },
     "metadata": {},
     "output_type": "display_data"
    },
    {
     "name": "stdout",
     "output_type": "stream",
     "text": [
      "Evaluating with 816 users\n",
      "MRR@5 0.15\n",
      "MRR@20 0.166\n",
      "Average Recall@5 0.259\n",
      "Average Recall@20 0.423\n",
      "Training model iTALSx with hyperparameters {'k': 10, 'l2': 10000, 'v': 0, 'alpha': 1, 'max_iterations': 10}\n"
     ]
    },
    {
     "data": {
      "application/vnd.jupyter.widget-view+json": {
       "model_id": "3b5d5e88e94d43b7a7ae67af8d9426e0",
       "version_major": 2,
       "version_minor": 0
      },
      "text/plain": [
       "  0%|          | 0/10 [00:00<?, ?it/s]"
      ]
     },
     "metadata": {},
     "output_type": "display_data"
    },
    {
     "name": "stdout",
     "output_type": "stream",
     "text": [
      "Evaluating with 816 users\n",
      "MRR@5 0.13\n",
      "MRR@20 0.147\n",
      "Average Recall@5 0.241\n",
      "Average Recall@20 0.396\n",
      "Training model iTALSx with hyperparameters {'k': 10, 'l2': 10, 'v': 0.5, 'alpha': 1, 'max_iterations': 10}\n"
     ]
    },
    {
     "data": {
      "application/vnd.jupyter.widget-view+json": {
       "model_id": "f59deaec6499469c830315d35566387f",
       "version_major": 2,
       "version_minor": 0
      },
      "text/plain": [
       "  0%|          | 0/10 [00:00<?, ?it/s]"
      ]
     },
     "metadata": {},
     "output_type": "display_data"
    },
    {
     "name": "stdout",
     "output_type": "stream",
     "text": [
      "Evaluating with 816 users\n",
      "MRR@5 0.201\n",
      "MRR@20 0.216\n",
      "Average Recall@5 0.322\n",
      "Average Recall@20 0.474\n",
      "Training model iTALSx with hyperparameters {'k': 10, 'l2': 100, 'v': 0.5, 'alpha': 1, 'max_iterations': 10}\n"
     ]
    },
    {
     "data": {
      "application/vnd.jupyter.widget-view+json": {
       "model_id": "9813e476505543a38e0214a736467d6a",
       "version_major": 2,
       "version_minor": 0
      },
      "text/plain": [
       "  0%|          | 0/10 [00:00<?, ?it/s]"
      ]
     },
     "metadata": {},
     "output_type": "display_data"
    },
    {
     "name": "stdout",
     "output_type": "stream",
     "text": [
      "Evaluating with 816 users\n",
      "MRR@5 0.194\n",
      "MRR@20 0.21\n",
      "Average Recall@5 0.316\n",
      "Average Recall@20 0.477\n",
      "Training model iTALSx with hyperparameters {'k': 10, 'l2': 1000, 'v': 0.5, 'alpha': 1, 'max_iterations': 10}\n"
     ]
    },
    {
     "data": {
      "application/vnd.jupyter.widget-view+json": {
       "model_id": "c51a476de5d64ef8904261725ad19dba",
       "version_major": 2,
       "version_minor": 0
      },
      "text/plain": [
       "  0%|          | 0/10 [00:00<?, ?it/s]"
      ]
     },
     "metadata": {},
     "output_type": "display_data"
    },
    {
     "name": "stdout",
     "output_type": "stream",
     "text": [
      "Evaluating with 816 users\n",
      "MRR@5 0.14\n",
      "MRR@20 0.156\n",
      "Average Recall@5 0.251\n",
      "Average Recall@20 0.412\n",
      "Training model iTALSx with hyperparameters {'k': 10, 'l2': 10000, 'v': 0.5, 'alpha': 1, 'max_iterations': 10}\n"
     ]
    },
    {
     "data": {
      "application/vnd.jupyter.widget-view+json": {
       "model_id": "81342b4ecca342d28c2bd03dfc2634bb",
       "version_major": 2,
       "version_minor": 0
      },
      "text/plain": [
       "  0%|          | 0/10 [00:00<?, ?it/s]"
      ]
     },
     "metadata": {},
     "output_type": "display_data"
    },
    {
     "name": "stdout",
     "output_type": "stream",
     "text": [
      "Evaluating with 816 users\n",
      "MRR@5 0.13\n",
      "MRR@20 0.145\n",
      "Average Recall@5 0.241\n",
      "Average Recall@20 0.39\n",
      "Training model iTALSx with hyperparameters {'k': 10, 'l2': 10, 'v': 1, 'alpha': 1, 'max_iterations': 10}\n"
     ]
    },
    {
     "data": {
      "application/vnd.jupyter.widget-view+json": {
       "model_id": "a2d6e1d5f848425791628dbd4cdc855f",
       "version_major": 2,
       "version_minor": 0
      },
      "text/plain": [
       "  0%|          | 0/10 [00:00<?, ?it/s]"
      ]
     },
     "metadata": {},
     "output_type": "display_data"
    },
    {
     "name": "stdout",
     "output_type": "stream",
     "text": [
      "Evaluating with 816 users\n",
      "MRR@5 0.194\n",
      "MRR@20 0.21\n",
      "Average Recall@5 0.32\n",
      "Average Recall@20 0.479\n",
      "Training model iTALSx with hyperparameters {'k': 10, 'l2': 100, 'v': 1, 'alpha': 1, 'max_iterations': 10}\n"
     ]
    },
    {
     "data": {
      "application/vnd.jupyter.widget-view+json": {
       "model_id": "7181c78282b04693b214e230376041a2",
       "version_major": 2,
       "version_minor": 0
      },
      "text/plain": [
       "  0%|          | 0/10 [00:00<?, ?it/s]"
      ]
     },
     "metadata": {},
     "output_type": "display_data"
    },
    {
     "name": "stdout",
     "output_type": "stream",
     "text": [
      "Evaluating with 816 users\n",
      "MRR@5 0.193\n",
      "MRR@20 0.21\n",
      "Average Recall@5 0.311\n",
      "Average Recall@20 0.478\n",
      "Training model iTALSx with hyperparameters {'k': 10, 'l2': 1000, 'v': 1, 'alpha': 1, 'max_iterations': 10}\n"
     ]
    },
    {
     "data": {
      "application/vnd.jupyter.widget-view+json": {
       "model_id": "1643e0de29ba40d1b8aaaa7f39cd6679",
       "version_major": 2,
       "version_minor": 0
      },
      "text/plain": [
       "  0%|          | 0/10 [00:00<?, ?it/s]"
      ]
     },
     "metadata": {},
     "output_type": "display_data"
    },
    {
     "name": "stdout",
     "output_type": "stream",
     "text": [
      "Evaluating with 816 users\n",
      "MRR@5 0.152\n",
      "MRR@20 0.168\n",
      "Average Recall@5 0.259\n",
      "Average Recall@20 0.413\n",
      "Training model iTALSx with hyperparameters {'k': 10, 'l2': 10000, 'v': 1, 'alpha': 1, 'max_iterations': 10}\n"
     ]
    },
    {
     "data": {
      "application/vnd.jupyter.widget-view+json": {
       "model_id": "0e0b24b915384aaca1d5b57a5f65f17d",
       "version_major": 2,
       "version_minor": 0
      },
      "text/plain": [
       "  0%|          | 0/10 [00:00<?, ?it/s]"
      ]
     },
     "metadata": {},
     "output_type": "display_data"
    },
    {
     "name": "stdout",
     "output_type": "stream",
     "text": [
      "Evaluating with 816 users\n",
      "MRR@5 0.13\n",
      "MRR@20 0.144\n",
      "Average Recall@5 0.241\n",
      "Average Recall@20 0.386\n",
      "Training model iTALSx with hyperparameters {'k': 10, 'l2': 10, 'v': 0, 'alpha': 10, 'max_iterations': 10}\n"
     ]
    },
    {
     "data": {
      "application/vnd.jupyter.widget-view+json": {
       "model_id": "2f3286a41add432bbb9700136d412c71",
       "version_major": 2,
       "version_minor": 0
      },
      "text/plain": [
       "  0%|          | 0/10 [00:00<?, ?it/s]"
      ]
     },
     "metadata": {},
     "output_type": "display_data"
    },
    {
     "name": "stdout",
     "output_type": "stream",
     "text": [
      "Evaluating with 816 users\n",
      "MRR@5 0.177\n",
      "MRR@20 0.2\n",
      "Average Recall@5 0.31\n",
      "Average Recall@20 0.54\n",
      "Training model iTALSx with hyperparameters {'k': 10, 'l2': 100, 'v': 0, 'alpha': 10, 'max_iterations': 10}\n"
     ]
    },
    {
     "data": {
      "application/vnd.jupyter.widget-view+json": {
       "model_id": "0b978d09aeea40b6ba304160317b2dfb",
       "version_major": 2,
       "version_minor": 0
      },
      "text/plain": [
       "  0%|          | 0/10 [00:00<?, ?it/s]"
      ]
     },
     "metadata": {},
     "output_type": "display_data"
    },
    {
     "name": "stdout",
     "output_type": "stream",
     "text": [
      "Evaluating with 816 users\n",
      "MRR@5 0.158\n",
      "MRR@20 0.183\n",
      "Average Recall@5 0.289\n",
      "Average Recall@20 0.528\n",
      "Training model iTALSx with hyperparameters {'k': 10, 'l2': 1000, 'v': 0, 'alpha': 10, 'max_iterations': 10}\n"
     ]
    },
    {
     "data": {
      "application/vnd.jupyter.widget-view+json": {
       "model_id": "8094e39034c54ed78d1ddb3ecb3a36f1",
       "version_major": 2,
       "version_minor": 0
      },
      "text/plain": [
       "  0%|          | 0/10 [00:00<?, ?it/s]"
      ]
     },
     "metadata": {},
     "output_type": "display_data"
    },
    {
     "name": "stdout",
     "output_type": "stream",
     "text": [
      "Evaluating with 816 users\n",
      "MRR@5 0.151\n",
      "MRR@20 0.172\n",
      "Average Recall@5 0.273\n",
      "Average Recall@20 0.472\n",
      "Training model iTALSx with hyperparameters {'k': 10, 'l2': 10000, 'v': 0, 'alpha': 10, 'max_iterations': 10}\n"
     ]
    },
    {
     "data": {
      "application/vnd.jupyter.widget-view+json": {
       "model_id": "e6d7b0153aba412aa824180bc0c010bf",
       "version_major": 2,
       "version_minor": 0
      },
      "text/plain": [
       "  0%|          | 0/10 [00:00<?, ?it/s]"
      ]
     },
     "metadata": {},
     "output_type": "display_data"
    },
    {
     "name": "stdout",
     "output_type": "stream",
     "text": [
      "Evaluating with 816 users\n",
      "MRR@5 0.13\n",
      "MRR@20 0.147\n",
      "Average Recall@5 0.241\n",
      "Average Recall@20 0.396\n",
      "Training model iTALSx with hyperparameters {'k': 10, 'l2': 10, 'v': 0.5, 'alpha': 10, 'max_iterations': 10}\n"
     ]
    },
    {
     "data": {
      "application/vnd.jupyter.widget-view+json": {
       "model_id": "d1f76a052b9341239aea732df9f9d78b",
       "version_major": 2,
       "version_minor": 0
      },
      "text/plain": [
       "  0%|          | 0/10 [00:00<?, ?it/s]"
      ]
     },
     "metadata": {},
     "output_type": "display_data"
    },
    {
     "name": "stdout",
     "output_type": "stream",
     "text": [
      "Evaluating with 816 users\n",
      "MRR@5 0.171\n",
      "MRR@20 0.196\n",
      "Average Recall@5 0.294\n",
      "Average Recall@20 0.538\n",
      "Training model iTALSx with hyperparameters {'k': 10, 'l2': 100, 'v': 0.5, 'alpha': 10, 'max_iterations': 10}\n"
     ]
    },
    {
     "data": {
      "application/vnd.jupyter.widget-view+json": {
       "model_id": "ffae856271f34bcc8226f9b6a49183ce",
       "version_major": 2,
       "version_minor": 0
      },
      "text/plain": [
       "  0%|          | 0/10 [00:00<?, ?it/s]"
      ]
     },
     "metadata": {},
     "output_type": "display_data"
    },
    {
     "name": "stdout",
     "output_type": "stream",
     "text": [
      "Evaluating with 816 users\n",
      "MRR@5 0.162\n",
      "MRR@20 0.185\n",
      "Average Recall@5 0.298\n",
      "Average Recall@20 0.52\n",
      "Training model iTALSx with hyperparameters {'k': 10, 'l2': 1000, 'v': 0.5, 'alpha': 10, 'max_iterations': 10}\n"
     ]
    },
    {
     "data": {
      "application/vnd.jupyter.widget-view+json": {
       "model_id": "4379f10618a4491db5c1ee610b7dfd5a",
       "version_major": 2,
       "version_minor": 0
      },
      "text/plain": [
       "  0%|          | 0/10 [00:00<?, ?it/s]"
      ]
     },
     "metadata": {},
     "output_type": "display_data"
    },
    {
     "name": "stdout",
     "output_type": "stream",
     "text": [
      "Evaluating with 816 users\n",
      "MRR@5 0.155\n",
      "MRR@20 0.174\n",
      "Average Recall@5 0.281\n",
      "Average Recall@20 0.471\n",
      "Training model iTALSx with hyperparameters {'k': 10, 'l2': 10000, 'v': 0.5, 'alpha': 10, 'max_iterations': 10}\n"
     ]
    },
    {
     "data": {
      "application/vnd.jupyter.widget-view+json": {
       "model_id": "291ac5388f234613a74c56c9c50491c6",
       "version_major": 2,
       "version_minor": 0
      },
      "text/plain": [
       "  0%|          | 0/10 [00:00<?, ?it/s]"
      ]
     },
     "metadata": {},
     "output_type": "display_data"
    },
    {
     "name": "stdout",
     "output_type": "stream",
     "text": [
      "Evaluating with 816 users\n",
      "MRR@5 0.13\n",
      "MRR@20 0.147\n",
      "Average Recall@5 0.241\n",
      "Average Recall@20 0.396\n",
      "Training model iTALSx with hyperparameters {'k': 10, 'l2': 10, 'v': 1, 'alpha': 10, 'max_iterations': 10}\n"
     ]
    },
    {
     "data": {
      "application/vnd.jupyter.widget-view+json": {
       "model_id": "0f5e4a6b985e4b278264b1161cbd66e2",
       "version_major": 2,
       "version_minor": 0
      },
      "text/plain": [
       "  0%|          | 0/10 [00:00<?, ?it/s]"
      ]
     },
     "metadata": {},
     "output_type": "display_data"
    },
    {
     "name": "stdout",
     "output_type": "stream",
     "text": [
      "Evaluating with 816 users\n",
      "MRR@5 0.16\n",
      "MRR@20 0.186\n",
      "Average Recall@5 0.297\n",
      "Average Recall@20 0.545\n",
      "Training model iTALSx with hyperparameters {'k': 10, 'l2': 100, 'v': 1, 'alpha': 10, 'max_iterations': 10}\n"
     ]
    },
    {
     "data": {
      "application/vnd.jupyter.widget-view+json": {
       "model_id": "07e2b1fb98c84522964ff3d91ae5208a",
       "version_major": 2,
       "version_minor": 0
      },
      "text/plain": [
       "  0%|          | 0/10 [00:00<?, ?it/s]"
      ]
     },
     "metadata": {},
     "output_type": "display_data"
    },
    {
     "name": "stdout",
     "output_type": "stream",
     "text": [
      "Evaluating with 816 users\n",
      "MRR@5 0.158\n",
      "MRR@20 0.182\n",
      "Average Recall@5 0.289\n",
      "Average Recall@20 0.529\n",
      "Training model iTALSx with hyperparameters {'k': 10, 'l2': 1000, 'v': 1, 'alpha': 10, 'max_iterations': 10}\n"
     ]
    },
    {
     "data": {
      "application/vnd.jupyter.widget-view+json": {
       "model_id": "e59a0d7b68b041889b61e58b4288ada6",
       "version_major": 2,
       "version_minor": 0
      },
      "text/plain": [
       "  0%|          | 0/10 [00:00<?, ?it/s]"
      ]
     },
     "metadata": {},
     "output_type": "display_data"
    },
    {
     "name": "stdout",
     "output_type": "stream",
     "text": [
      "Evaluating with 816 users\n",
      "MRR@5 0.157\n",
      "MRR@20 0.178\n",
      "Average Recall@5 0.278\n",
      "Average Recall@20 0.473\n",
      "Training model iTALSx with hyperparameters {'k': 10, 'l2': 10000, 'v': 1, 'alpha': 10, 'max_iterations': 10}\n"
     ]
    },
    {
     "data": {
      "application/vnd.jupyter.widget-view+json": {
       "model_id": "ee05fddc68534987ae9bad03a1a59fec",
       "version_major": 2,
       "version_minor": 0
      },
      "text/plain": [
       "  0%|          | 0/10 [00:00<?, ?it/s]"
      ]
     },
     "metadata": {},
     "output_type": "display_data"
    },
    {
     "name": "stdout",
     "output_type": "stream",
     "text": [
      "Evaluating with 816 users\n",
      "MRR@5 0.13\n",
      "MRR@20 0.147\n",
      "Average Recall@5 0.241\n",
      "Average Recall@20 0.396\n",
      "Training model iTALSx with hyperparameters {'k': 10, 'l2': 10, 'v': 0, 'alpha': 100, 'max_iterations': 10}\n"
     ]
    },
    {
     "data": {
      "application/vnd.jupyter.widget-view+json": {
       "model_id": "e85f8340728b4280bfbac76e1985df9a",
       "version_major": 2,
       "version_minor": 0
      },
      "text/plain": [
       "  0%|          | 0/10 [00:00<?, ?it/s]"
      ]
     },
     "metadata": {},
     "output_type": "display_data"
    },
    {
     "name": "stdout",
     "output_type": "stream",
     "text": [
      "Evaluating with 816 users\n",
      "MRR@5 0.099\n",
      "MRR@20 0.128\n",
      "Average Recall@5 0.196\n",
      "Average Recall@20 0.485\n",
      "Training model iTALSx with hyperparameters {'k': 10, 'l2': 100, 'v': 0, 'alpha': 100, 'max_iterations': 10}\n"
     ]
    },
    {
     "data": {
      "application/vnd.jupyter.widget-view+json": {
       "model_id": "b1db256ddef84952a33dbf742261f76f",
       "version_major": 2,
       "version_minor": 0
      },
      "text/plain": [
       "  0%|          | 0/10 [00:00<?, ?it/s]"
      ]
     },
     "metadata": {},
     "output_type": "display_data"
    },
    {
     "name": "stdout",
     "output_type": "stream",
     "text": [
      "Evaluating with 816 users\n",
      "MRR@5 0.113\n",
      "MRR@20 0.139\n",
      "Average Recall@5 0.218\n",
      "Average Recall@20 0.48\n",
      "Training model iTALSx with hyperparameters {'k': 10, 'l2': 1000, 'v': 0, 'alpha': 100, 'max_iterations': 10}\n"
     ]
    },
    {
     "data": {
      "application/vnd.jupyter.widget-view+json": {
       "model_id": "7f43372def2a4e31b033e78745ef1056",
       "version_major": 2,
       "version_minor": 0
      },
      "text/plain": [
       "  0%|          | 0/10 [00:00<?, ?it/s]"
      ]
     },
     "metadata": {},
     "output_type": "display_data"
    },
    {
     "name": "stdout",
     "output_type": "stream",
     "text": [
      "Evaluating with 816 users\n",
      "MRR@5 0.102\n",
      "MRR@20 0.128\n",
      "Average Recall@5 0.214\n",
      "Average Recall@20 0.484\n",
      "Training model iTALSx with hyperparameters {'k': 10, 'l2': 10000, 'v': 0, 'alpha': 100, 'max_iterations': 10}\n"
     ]
    },
    {
     "data": {
      "application/vnd.jupyter.widget-view+json": {
       "model_id": "7b2879d9bc4f488f8c08a2c07ae2ab06",
       "version_major": 2,
       "version_minor": 0
      },
      "text/plain": [
       "  0%|          | 0/10 [00:00<?, ?it/s]"
      ]
     },
     "metadata": {},
     "output_type": "display_data"
    },
    {
     "name": "stdout",
     "output_type": "stream",
     "text": [
      "Evaluating with 816 users\n",
      "MRR@5 0.1\n",
      "MRR@20 0.12\n",
      "Average Recall@5 0.206\n",
      "Average Recall@20 0.411\n",
      "Training model iTALSx with hyperparameters {'k': 10, 'l2': 10, 'v': 0.5, 'alpha': 100, 'max_iterations': 10}\n"
     ]
    },
    {
     "data": {
      "application/vnd.jupyter.widget-view+json": {
       "model_id": "532b373314224dbe8a40626ac4181b77",
       "version_major": 2,
       "version_minor": 0
      },
      "text/plain": [
       "  0%|          | 0/10 [00:00<?, ?it/s]"
      ]
     },
     "metadata": {},
     "output_type": "display_data"
    },
    {
     "name": "stdout",
     "output_type": "stream",
     "text": [
      "Evaluating with 816 users\n",
      "MRR@5 0.116\n",
      "MRR@20 0.142\n",
      "Average Recall@5 0.225\n",
      "Average Recall@20 0.48\n",
      "Training model iTALSx with hyperparameters {'k': 10, 'l2': 100, 'v': 0.5, 'alpha': 100, 'max_iterations': 10}\n"
     ]
    },
    {
     "data": {
      "application/vnd.jupyter.widget-view+json": {
       "model_id": "c8e2427fc0e54e2c82d35d99dc0be45f",
       "version_major": 2,
       "version_minor": 0
      },
      "text/plain": [
       "  0%|          | 0/10 [00:00<?, ?it/s]"
      ]
     },
     "metadata": {},
     "output_type": "display_data"
    },
    {
     "name": "stdout",
     "output_type": "stream",
     "text": [
      "Evaluating with 816 users\n",
      "MRR@5 0.104\n",
      "MRR@20 0.132\n",
      "Average Recall@5 0.205\n",
      "Average Recall@20 0.493\n",
      "Training model iTALSx with hyperparameters {'k': 10, 'l2': 1000, 'v': 0.5, 'alpha': 100, 'max_iterations': 10}\n"
     ]
    },
    {
     "data": {
      "application/vnd.jupyter.widget-view+json": {
       "model_id": "c668e884fa044509a651541b0c905870",
       "version_major": 2,
       "version_minor": 0
      },
      "text/plain": [
       "  0%|          | 0/10 [00:00<?, ?it/s]"
      ]
     },
     "metadata": {},
     "output_type": "display_data"
    },
    {
     "name": "stdout",
     "output_type": "stream",
     "text": [
      "Evaluating with 816 users\n",
      "MRR@5 0.111\n",
      "MRR@20 0.137\n",
      "Average Recall@5 0.218\n",
      "Average Recall@20 0.487\n",
      "Training model iTALSx with hyperparameters {'k': 10, 'l2': 10000, 'v': 0.5, 'alpha': 100, 'max_iterations': 10}\n"
     ]
    },
    {
     "data": {
      "application/vnd.jupyter.widget-view+json": {
       "model_id": "51b6f357def841a68a93af3d2bbf0098",
       "version_major": 2,
       "version_minor": 0
      },
      "text/plain": [
       "  0%|          | 0/10 [00:00<?, ?it/s]"
      ]
     },
     "metadata": {},
     "output_type": "display_data"
    },
    {
     "name": "stdout",
     "output_type": "stream",
     "text": [
      "Evaluating with 816 users\n",
      "MRR@5 0.111\n",
      "MRR@20 0.128\n",
      "Average Recall@5 0.241\n",
      "Average Recall@20 0.411\n",
      "Training model iTALSx with hyperparameters {'k': 10, 'l2': 10, 'v': 1, 'alpha': 100, 'max_iterations': 10}\n"
     ]
    },
    {
     "data": {
      "application/vnd.jupyter.widget-view+json": {
       "model_id": "03c78b6521b04d138b2a6899be30a320",
       "version_major": 2,
       "version_minor": 0
      },
      "text/plain": [
       "  0%|          | 0/10 [00:00<?, ?it/s]"
      ]
     },
     "metadata": {},
     "output_type": "display_data"
    },
    {
     "name": "stdout",
     "output_type": "stream",
     "text": [
      "Evaluating with 816 users\n",
      "MRR@5 0.113\n",
      "MRR@20 0.139\n",
      "Average Recall@5 0.211\n",
      "Average Recall@20 0.477\n",
      "Training model iTALSx with hyperparameters {'k': 10, 'l2': 100, 'v': 1, 'alpha': 100, 'max_iterations': 10}\n"
     ]
    },
    {
     "data": {
      "application/vnd.jupyter.widget-view+json": {
       "model_id": "a3d27f7c8b7c4856bda1e38191efbd4a",
       "version_major": 2,
       "version_minor": 0
      },
      "text/plain": [
       "  0%|          | 0/10 [00:00<?, ?it/s]"
      ]
     },
     "metadata": {},
     "output_type": "display_data"
    },
    {
     "name": "stdout",
     "output_type": "stream",
     "text": [
      "Evaluating with 816 users\n",
      "MRR@5 0.118\n",
      "MRR@20 0.145\n",
      "Average Recall@5 0.216\n",
      "Average Recall@20 0.502\n",
      "Training model iTALSx with hyperparameters {'k': 10, 'l2': 1000, 'v': 1, 'alpha': 100, 'max_iterations': 10}\n"
     ]
    },
    {
     "data": {
      "application/vnd.jupyter.widget-view+json": {
       "model_id": "921385b02e8a4176aa15d92a26d1de9b",
       "version_major": 2,
       "version_minor": 0
      },
      "text/plain": [
       "  0%|          | 0/10 [00:00<?, ?it/s]"
      ]
     },
     "metadata": {},
     "output_type": "display_data"
    },
    {
     "name": "stdout",
     "output_type": "stream",
     "text": [
      "Evaluating with 816 users\n",
      "MRR@5 0.103\n",
      "MRR@20 0.127\n",
      "Average Recall@5 0.221\n",
      "Average Recall@20 0.472\n",
      "Training model iTALSx with hyperparameters {'k': 10, 'l2': 10000, 'v': 1, 'alpha': 100, 'max_iterations': 10}\n"
     ]
    },
    {
     "data": {
      "application/vnd.jupyter.widget-view+json": {
       "model_id": "7e8eb1e6f8f54620a9521c32d6fbffd6",
       "version_major": 2,
       "version_minor": 0
      },
      "text/plain": [
       "  0%|          | 0/10 [00:00<?, ?it/s]"
      ]
     },
     "metadata": {},
     "output_type": "display_data"
    },
    {
     "name": "stdout",
     "output_type": "stream",
     "text": [
      "Evaluating with 816 users\n",
      "MRR@5 0.069\n",
      "MRR@20 0.096\n",
      "Average Recall@5 0.158\n",
      "Average Recall@20 0.418\n",
      "Training model iTALSx with hyperparameters {'k': 10, 'l2': 10, 'v': 0, 'alpha': 1000, 'max_iterations': 10}\n"
     ]
    },
    {
     "data": {
      "application/vnd.jupyter.widget-view+json": {
       "model_id": "4c8c4271441a408b8ee4b270c1ec3d35",
       "version_major": 2,
       "version_minor": 0
      },
      "text/plain": [
       "  0%|          | 0/10 [00:00<?, ?it/s]"
      ]
     },
     "metadata": {},
     "output_type": "display_data"
    },
    {
     "name": "stdout",
     "output_type": "stream",
     "text": [
      "Evaluating with 816 users\n",
      "MRR@5 0.057\n",
      "MRR@20 0.078\n",
      "Average Recall@5 0.103\n",
      "Average Recall@20 0.322\n",
      "Training model iTALSx with hyperparameters {'k': 10, 'l2': 100, 'v': 0, 'alpha': 1000, 'max_iterations': 10}\n"
     ]
    },
    {
     "data": {
      "application/vnd.jupyter.widget-view+json": {
       "model_id": "4cbf433fac8843169355d2e60155d548",
       "version_major": 2,
       "version_minor": 0
      },
      "text/plain": [
       "  0%|          | 0/10 [00:00<?, ?it/s]"
      ]
     },
     "metadata": {},
     "output_type": "display_data"
    },
    {
     "name": "stdout",
     "output_type": "stream",
     "text": [
      "Evaluating with 816 users\n",
      "MRR@5 0.06\n",
      "MRR@20 0.075\n",
      "Average Recall@5 0.098\n",
      "Average Recall@20 0.259\n",
      "Training model iTALSx with hyperparameters {'k': 10, 'l2': 1000, 'v': 0, 'alpha': 1000, 'max_iterations': 10}\n"
     ]
    },
    {
     "data": {
      "application/vnd.jupyter.widget-view+json": {
       "model_id": "fa0959471172455aa759d1aa4dd18fa0",
       "version_major": 2,
       "version_minor": 0
      },
      "text/plain": [
       "  0%|          | 0/10 [00:00<?, ?it/s]"
      ]
     },
     "metadata": {},
     "output_type": "display_data"
    },
    {
     "name": "stdout",
     "output_type": "stream",
     "text": [
      "Evaluating with 816 users\n",
      "MRR@5 0.069\n",
      "MRR@20 0.084\n",
      "Average Recall@5 0.112\n",
      "Average Recall@20 0.283\n",
      "Training model iTALSx with hyperparameters {'k': 10, 'l2': 10000, 'v': 0, 'alpha': 1000, 'max_iterations': 10}\n"
     ]
    },
    {
     "data": {
      "application/vnd.jupyter.widget-view+json": {
       "model_id": "e071d3ce9663409e990e04d479cfe649",
       "version_major": 2,
       "version_minor": 0
      },
      "text/plain": [
       "  0%|          | 0/10 [00:00<?, ?it/s]"
      ]
     },
     "metadata": {},
     "output_type": "display_data"
    },
    {
     "name": "stdout",
     "output_type": "stream",
     "text": [
      "Evaluating with 816 users\n",
      "MRR@5 0.062\n",
      "MRR@20 0.085\n",
      "Average Recall@5 0.115\n",
      "Average Recall@20 0.352\n",
      "Training model iTALSx with hyperparameters {'k': 10, 'l2': 10, 'v': 0.5, 'alpha': 1000, 'max_iterations': 10}\n"
     ]
    },
    {
     "data": {
      "application/vnd.jupyter.widget-view+json": {
       "model_id": "5c4c70be9c234d3e9f5600f046207ffa",
       "version_major": 2,
       "version_minor": 0
      },
      "text/plain": [
       "  0%|          | 0/10 [00:00<?, ?it/s]"
      ]
     },
     "metadata": {},
     "output_type": "display_data"
    },
    {
     "name": "stdout",
     "output_type": "stream",
     "text": [
      "Evaluating with 816 users\n",
      "MRR@5 0.063\n",
      "MRR@20 0.082\n",
      "Average Recall@5 0.108\n",
      "Average Recall@20 0.312\n",
      "Training model iTALSx with hyperparameters {'k': 10, 'l2': 100, 'v': 0.5, 'alpha': 1000, 'max_iterations': 10}\n"
     ]
    },
    {
     "data": {
      "application/vnd.jupyter.widget-view+json": {
       "model_id": "3e47ed5c4ae44d3e81ad0927d3e8e711",
       "version_major": 2,
       "version_minor": 0
      },
      "text/plain": [
       "  0%|          | 0/10 [00:00<?, ?it/s]"
      ]
     },
     "metadata": {},
     "output_type": "display_data"
    },
    {
     "name": "stdout",
     "output_type": "stream",
     "text": [
      "Evaluating with 816 users\n",
      "MRR@5 0.072\n",
      "MRR@20 0.087\n",
      "Average Recall@5 0.12\n",
      "Average Recall@20 0.288\n",
      "Training model iTALSx with hyperparameters {'k': 10, 'l2': 1000, 'v': 0.5, 'alpha': 1000, 'max_iterations': 10}\n"
     ]
    },
    {
     "data": {
      "application/vnd.jupyter.widget-view+json": {
       "model_id": "86a8be69025a4cef9115f96683412d26",
       "version_major": 2,
       "version_minor": 0
      },
      "text/plain": [
       "  0%|          | 0/10 [00:00<?, ?it/s]"
      ]
     },
     "metadata": {},
     "output_type": "display_data"
    },
    {
     "name": "stdout",
     "output_type": "stream",
     "text": [
      "Evaluating with 816 users\n",
      "MRR@5 0.083\n",
      "MRR@20 0.099\n",
      "Average Recall@5 0.136\n",
      "Average Recall@20 0.324\n",
      "Training model iTALSx with hyperparameters {'k': 10, 'l2': 10000, 'v': 0.5, 'alpha': 1000, 'max_iterations': 10}\n"
     ]
    },
    {
     "data": {
      "application/vnd.jupyter.widget-view+json": {
       "model_id": "ecdd00b744b647a988436c828dd87d76",
       "version_major": 2,
       "version_minor": 0
      },
      "text/plain": [
       "  0%|          | 0/10 [00:00<?, ?it/s]"
      ]
     },
     "metadata": {},
     "output_type": "display_data"
    },
    {
     "name": "stdout",
     "output_type": "stream",
     "text": [
      "Evaluating with 816 users\n",
      "MRR@5 0.098\n",
      "MRR@20 0.118\n",
      "Average Recall@5 0.191\n",
      "Average Recall@20 0.396\n",
      "Training model iTALSx with hyperparameters {'k': 10, 'l2': 10, 'v': 1, 'alpha': 1000, 'max_iterations': 10}\n"
     ]
    },
    {
     "data": {
      "application/vnd.jupyter.widget-view+json": {
       "model_id": "296a75a0cd304fc99aaa6e1135e5f7c7",
       "version_major": 2,
       "version_minor": 0
      },
      "text/plain": [
       "  0%|          | 0/10 [00:00<?, ?it/s]"
      ]
     },
     "metadata": {},
     "output_type": "display_data"
    },
    {
     "name": "stdout",
     "output_type": "stream",
     "text": [
      "Evaluating with 816 users\n",
      "MRR@5 0.058\n",
      "MRR@20 0.077\n",
      "Average Recall@5 0.113\n",
      "Average Recall@20 0.324\n",
      "Training model iTALSx with hyperparameters {'k': 10, 'l2': 100, 'v': 1, 'alpha': 1000, 'max_iterations': 10}\n"
     ]
    },
    {
     "data": {
      "application/vnd.jupyter.widget-view+json": {
       "model_id": "67b6e6db26d24e2fb3de00e02decb0a8",
       "version_major": 2,
       "version_minor": 0
      },
      "text/plain": [
       "  0%|          | 0/10 [00:00<?, ?it/s]"
      ]
     },
     "metadata": {},
     "output_type": "display_data"
    },
    {
     "name": "stdout",
     "output_type": "stream",
     "text": [
      "Evaluating with 816 users\n",
      "MRR@5 0.064\n",
      "MRR@20 0.082\n",
      "Average Recall@5 0.103\n",
      "Average Recall@20 0.322\n",
      "Training model iTALSx with hyperparameters {'k': 10, 'l2': 1000, 'v': 1, 'alpha': 1000, 'max_iterations': 10}\n"
     ]
    },
    {
     "data": {
      "application/vnd.jupyter.widget-view+json": {
       "model_id": "5197e99bea124955aed4a57572354529",
       "version_major": 2,
       "version_minor": 0
      },
      "text/plain": [
       "  0%|          | 0/10 [00:00<?, ?it/s]"
      ]
     },
     "metadata": {},
     "output_type": "display_data"
    },
    {
     "name": "stdout",
     "output_type": "stream",
     "text": [
      "Evaluating with 816 users\n",
      "MRR@5 0.072\n",
      "MRR@20 0.092\n",
      "Average Recall@5 0.123\n",
      "Average Recall@20 0.336\n",
      "Training model iTALSx with hyperparameters {'k': 10, 'l2': 10000, 'v': 1, 'alpha': 1000, 'max_iterations': 10}\n"
     ]
    },
    {
     "data": {
      "application/vnd.jupyter.widget-view+json": {
       "model_id": "395677bf2c9c44ecb6ad397cc95aa7d7",
       "version_major": 2,
       "version_minor": 0
      },
      "text/plain": [
       "  0%|          | 0/10 [00:00<?, ?it/s]"
      ]
     },
     "metadata": {},
     "output_type": "display_data"
    },
    {
     "name": "stdout",
     "output_type": "stream",
     "text": [
      "Evaluating with 816 users\n",
      "MRR@5 0.096\n",
      "MRR@20 0.123\n",
      "Average Recall@5 0.188\n",
      "Average Recall@20 0.456\n",
      "CPU times: user 7min 52s, sys: 2min 16s, total: 10min 9s\n",
      "Wall time: 23min 13s\n"
     ]
    },
    {
     "data": {
      "text/plain": [
       "\"Best score of 0.21827802524795334 achieved with {'k': 10, 'l2': 10, 'v': 0, 'alpha': 1, 'max_iterations': 10}.\""
      ]
     },
     "execution_count": 8,
     "metadata": {},
     "output_type": "execute_result"
    }
   ],
   "source": [
    "%%time\n",
    "score, best_hyperparams = evaluation.cars.gridsearch(ALG, train, test, HYPERPARAMS, retarget=RETARGET)\n",
    "f\"Best score of {score} achieved with {best_hyperparams}.\""
   ]
  },
  {
   "cell_type": "markdown",
   "id": "e89dad17",
   "metadata": {},
   "source": [
    "## Evaluate model with optimal hyperparams with KFolds Cross validation"
   ]
  },
  {
   "cell_type": "code",
   "execution_count": 9,
   "id": "81674e0b",
   "metadata": {
    "scrolled": true
   },
   "outputs": [
    {
     "data": {
      "application/vnd.jupyter.widget-view+json": {
       "model_id": "116c4c06fb774f4db4c56e5d5576ba77",
       "version_major": 2,
       "version_minor": 0
      },
      "text/plain": [
       "  0%|          | 0/10 [00:00<?, ?it/s]"
      ]
     },
     "metadata": {},
     "output_type": "display_data"
    },
    {
     "name": "stdout",
     "output_type": "stream",
     "text": [
      "Evaluating with 816 users\n"
     ]
    },
    {
     "data": {
      "application/vnd.jupyter.widget-view+json": {
       "model_id": "06f9d203a41c493c9139d6dc53cf3532",
       "version_major": 2,
       "version_minor": 0
      },
      "text/plain": [
       "  0%|          | 0/10 [00:00<?, ?it/s]"
      ]
     },
     "metadata": {},
     "output_type": "display_data"
    },
    {
     "name": "stdout",
     "output_type": "stream",
     "text": [
      "Evaluating with 816 users\n"
     ]
    },
    {
     "data": {
      "application/vnd.jupyter.widget-view+json": {
       "model_id": "819087f9ddd149c297ce564abe3d7451",
       "version_major": 2,
       "version_minor": 0
      },
      "text/plain": [
       "  0%|          | 0/10 [00:00<?, ?it/s]"
      ]
     },
     "metadata": {},
     "output_type": "display_data"
    },
    {
     "name": "stdout",
     "output_type": "stream",
     "text": [
      "Evaluating with 816 users\n"
     ]
    },
    {
     "data": {
      "application/vnd.jupyter.widget-view+json": {
       "model_id": "a665c3eccfa64cad9fbbfdf08dab4100",
       "version_major": 2,
       "version_minor": 0
      },
      "text/plain": [
       "  0%|          | 0/10 [00:00<?, ?it/s]"
      ]
     },
     "metadata": {},
     "output_type": "display_data"
    },
    {
     "name": "stdout",
     "output_type": "stream",
     "text": [
      "Evaluating with 816 users\n"
     ]
    },
    {
     "data": {
      "application/vnd.jupyter.widget-view+json": {
       "model_id": "0fe1e3d419084bfd9a482521b420d464",
       "version_major": 2,
       "version_minor": 0
      },
      "text/plain": [
       "  0%|          | 0/10 [00:00<?, ?it/s]"
      ]
     },
     "metadata": {},
     "output_type": "display_data"
    },
    {
     "name": "stdout",
     "output_type": "stream",
     "text": [
      "Evaluating with 816 users\n",
      "MRR@5 0.203 (0.01)\n",
      "MRR@20 0.22 (0.009)\n",
      "Average Recall@5 0.327 (0.006)\n",
      "Average Recall@20 0.492 (0.01)\n",
      "CPU times: user 43.3 s, sys: 12.8 s, total: 56.1 s\n",
      "Wall time: 2min 6s\n"
     ]
    }
   ],
   "source": [
    "%%time\n",
    "alg = ALG(**best_hyperparams)\n",
    "results = evaluation.cars.contextKFoldsEval(alg, data, nr_folds=5, seed=SEED2, retarget=RETARGET)"
   ]
  },
  {
   "cell_type": "code",
   "execution_count": null,
   "id": "4b0684e4",
   "metadata": {},
   "outputs": [],
   "source": []
  }
 ],
 "metadata": {
  "kernelspec": {
   "display_name": "Python 3 (ipykernel)",
   "language": "python",
   "name": "python3"
  },
  "language_info": {
   "codemirror_mode": {
    "name": "ipython",
    "version": 3
   },
   "file_extension": ".py",
   "mimetype": "text/x-python",
   "name": "python",
   "nbconvert_exporter": "python",
   "pygments_lexer": "ipython3",
   "version": "3.10.6"
  }
 },
 "nbformat": 4,
 "nbformat_minor": 5
}
