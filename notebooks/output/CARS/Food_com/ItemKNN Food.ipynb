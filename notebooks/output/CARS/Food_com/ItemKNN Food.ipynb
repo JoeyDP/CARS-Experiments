{
 "cells": [
  {
   "cell_type": "code",
   "execution_count": 1,
   "id": "9ef88bc4",
   "metadata": {},
   "outputs": [],
   "source": [
    "%load_ext autoreload\n",
    "%autoreload 2"
   ]
  },
  {
   "cell_type": "markdown",
   "id": "55bab0c8",
   "metadata": {},
   "source": [
    "# Experiments with ItemKNN model"
   ]
  },
  {
   "cell_type": "code",
   "execution_count": 2,
   "id": "ec55d42c",
   "metadata": {},
   "outputs": [],
   "source": [
    "from pathlib import Path\n",
    "\n",
    "import scipy.sparse\n",
    "import numpy as np\n",
    "\n",
    "import src.io as io\n",
    "import src.evaluation as evaluation\n",
    "import src.evaluation.splits\n",
    "import src.evaluation.base\n",
    "\n",
    "from src.algorithm.baseline.iknn import ItemKNN"
   ]
  },
  {
   "cell_type": "markdown",
   "id": "c469b253",
   "metadata": {},
   "source": [
    "## Datasets"
   ]
  },
  {
   "cell_type": "code",
   "execution_count": 3,
   "id": "e0622ed1",
   "metadata": {},
   "outputs": [],
   "source": [
    "## Uncomment corresponding directory.\n",
    "## RETARGET True for Frappe, False for the others\n",
    "\n",
    "# DATA_DIR, RETARGET = Path('../../../data/CARS/Mobile_Frappe/'), True\n",
    "DATA_DIR, RETARGET = Path('../../../data/CARS/Food_com/'), False\n",
    "# DATA_DIR, RETARGET = Path('../../../data/CARS/TripAdvisor/'), False"
   ]
  },
  {
   "cell_type": "code",
   "execution_count": 4,
   "id": "d53bce36",
   "metadata": {},
   "outputs": [],
   "source": [
    "# Shouldn't need to change this info\n",
    "INTERACTIONS = DATA_DIR / 'interactions.csv'\n",
    "\n",
    "SEED = 123456\n",
    "SEED2 = 78910\n",
    "\n",
    "ITEM_ID = 'item'\n",
    "USER_ID = 'user'"
   ]
  },
  {
   "cell_type": "markdown",
   "id": "48457625",
   "metadata": {},
   "source": [
    "## Define algorithm and hyperparameter ranges"
   ]
  },
  {
   "cell_type": "code",
   "execution_count": 5,
   "id": "11a5ac4c",
   "metadata": {},
   "outputs": [
    {
     "data": {
      "text/plain": [
       "{'k': [1, 10, 20, 50, 100, 200, 500, 1000, None], 'normalize': [True, False]}"
      ]
     },
     "execution_count": 5,
     "metadata": {},
     "output_type": "execute_result"
    }
   ],
   "source": [
    "ALG = ItemKNN\n",
    "\n",
    "K = [1, 10, 20, 50, 100, 200, 500, 1000, None]\n",
    "NORMALIZE = [True, False]\n",
    "\n",
    "HYPERPARAMS = {'k': K, 'normalize': NORMALIZE}\n",
    "HYPERPARAMS"
   ]
  },
  {
   "cell_type": "markdown",
   "id": "32d25f41",
   "metadata": {},
   "source": [
    "## Parse data"
   ]
  },
  {
   "cell_type": "code",
   "execution_count": 6,
   "id": "ce0d0435",
   "metadata": {},
   "outputs": [
    {
     "data": {
      "text/html": [
       "<div>\n",
       "<style scoped>\n",
       "    .dataframe tbody tr th:only-of-type {\n",
       "        vertical-align: middle;\n",
       "    }\n",
       "\n",
       "    .dataframe tbody tr th {\n",
       "        vertical-align: top;\n",
       "    }\n",
       "\n",
       "    .dataframe thead th {\n",
       "        text-align: right;\n",
       "    }\n",
       "</style>\n",
       "<table border=\"1\" class=\"dataframe\">\n",
       "  <thead>\n",
       "    <tr style=\"text-align: right;\">\n",
       "      <th></th>\n",
       "      <th>userId</th>\n",
       "      <th>itemId</th>\n",
       "      <th>season</th>\n",
       "      <th>weekday</th>\n",
       "    </tr>\n",
       "  </thead>\n",
       "  <tbody>\n",
       "    <tr>\n",
       "      <th>0</th>\n",
       "      <td>19211</td>\n",
       "      <td>6280</td>\n",
       "      <td>1</td>\n",
       "      <td>1</td>\n",
       "    </tr>\n",
       "    <tr>\n",
       "      <th>1</th>\n",
       "      <td>17684</td>\n",
       "      <td>6280</td>\n",
       "      <td>2</td>\n",
       "      <td>2</td>\n",
       "    </tr>\n",
       "    <tr>\n",
       "      <th>2</th>\n",
       "      <td>12110</td>\n",
       "      <td>6280</td>\n",
       "      <td>3</td>\n",
       "      <td>3</td>\n",
       "    </tr>\n",
       "    <tr>\n",
       "      <th>3</th>\n",
       "      <td>7184</td>\n",
       "      <td>6280</td>\n",
       "      <td>3</td>\n",
       "      <td>1</td>\n",
       "    </tr>\n",
       "    <tr>\n",
       "      <th>4</th>\n",
       "      <td>17837</td>\n",
       "      <td>6280</td>\n",
       "      <td>2</td>\n",
       "      <td>4</td>\n",
       "    </tr>\n",
       "    <tr>\n",
       "      <th>...</th>\n",
       "      <td>...</td>\n",
       "      <td>...</td>\n",
       "      <td>...</td>\n",
       "      <td>...</td>\n",
       "    </tr>\n",
       "    <tr>\n",
       "      <th>388357</th>\n",
       "      <td>895</td>\n",
       "      <td>7799</td>\n",
       "      <td>3</td>\n",
       "      <td>7</td>\n",
       "    </tr>\n",
       "    <tr>\n",
       "      <th>388358</th>\n",
       "      <td>4100</td>\n",
       "      <td>7799</td>\n",
       "      <td>4</td>\n",
       "      <td>2</td>\n",
       "    </tr>\n",
       "    <tr>\n",
       "      <th>388359</th>\n",
       "      <td>2940</td>\n",
       "      <td>7799</td>\n",
       "      <td>1</td>\n",
       "      <td>4</td>\n",
       "    </tr>\n",
       "    <tr>\n",
       "      <th>388360</th>\n",
       "      <td>757</td>\n",
       "      <td>7799</td>\n",
       "      <td>2</td>\n",
       "      <td>2</td>\n",
       "    </tr>\n",
       "    <tr>\n",
       "      <th>388361</th>\n",
       "      <td>2876</td>\n",
       "      <td>7799</td>\n",
       "      <td>4</td>\n",
       "      <td>3</td>\n",
       "    </tr>\n",
       "  </tbody>\n",
       "</table>\n",
       "<p>388362 rows × 4 columns</p>\n",
       "</div>"
      ],
      "text/plain": [
       "        userId  itemId  season  weekday\n",
       "0        19211    6280       1        1\n",
       "1        17684    6280       2        2\n",
       "2        12110    6280       3        3\n",
       "3         7184    6280       3        1\n",
       "4        17837    6280       2        4\n",
       "...        ...     ...     ...      ...\n",
       "388357     895    7799       3        7\n",
       "388358    4100    7799       4        2\n",
       "388359    2940    7799       1        4\n",
       "388360     757    7799       2        2\n",
       "388361    2876    7799       4        3\n",
       "\n",
       "[388362 rows x 4 columns]"
      ]
     },
     "execution_count": 6,
     "metadata": {},
     "output_type": "execute_result"
    }
   ],
   "source": [
    "data = io.parse_interactions_with_context(INTERACTIONS, item_id=ITEM_ID, user_id=USER_ID)\n",
    "data.df"
   ]
  },
  {
   "cell_type": "markdown",
   "id": "36a367d9",
   "metadata": {},
   "source": [
    "## Make train/val split for hyperparam tuning"
   ]
  },
  {
   "cell_type": "code",
   "execution_count": 7,
   "id": "92b4e0a4",
   "metadata": {},
   "outputs": [],
   "source": [
    "Xtrain, Xval_in, Xval_out = evaluation.splits.leave_one_out_split_non_context(data, seed=SEED)"
   ]
  },
  {
   "cell_type": "markdown",
   "id": "fc85ffb4",
   "metadata": {},
   "source": [
    "## Perform gridsearch on validation set"
   ]
  },
  {
   "cell_type": "code",
   "execution_count": 8,
   "id": "36a9347a",
   "metadata": {
    "scrolled": true
   },
   "outputs": [
    {
     "data": {
      "application/vnd.jupyter.widget-view+json": {
       "model_id": "0342bcf460d643b5ae996c7b77eadca1",
       "version_major": 2,
       "version_minor": 0
      },
      "text/plain": [
       "  0%|          | 0/18 [00:00<?, ?it/s]"
      ]
     },
     "metadata": {},
     "output_type": "display_data"
    },
    {
     "name": "stdout",
     "output_type": "stream",
     "text": [
      "Training model ItemKNN with hyperparameters {'k': 1, 'normalize': True}\n",
      "density of model 6.628662335940607e-05\n",
      "Evaluating with 22178 users\n",
      "MRR@5 0.006\n",
      "MRR@20 0.007\n",
      "Average Recall@5 0.009\n",
      "Average Recall@20 0.012\n",
      "Training model ItemKNN with hyperparameters {'k': 10, 'normalize': True}\n",
      "density of model 0.0006628662335940607\n",
      "Evaluating with 22178 users\n",
      "MRR@5 0.011\n",
      "MRR@20 0.012\n",
      "Average Recall@5 0.015\n",
      "Average Recall@20 0.027\n",
      "Training model ItemKNN with hyperparameters {'k': 20, 'normalize': True}\n",
      "density of model 0.0013257324671881213\n",
      "Evaluating with 22178 users\n",
      "MRR@5 0.011\n",
      "MRR@20 0.012\n",
      "Average Recall@5 0.016\n",
      "Average Recall@20 0.029\n",
      "Training model ItemKNN with hyperparameters {'k': 50, 'normalize': True}\n",
      "density of model 0.0033141422295635387\n",
      "Evaluating with 22178 users\n",
      "MRR@5 0.011\n",
      "MRR@20 0.012\n",
      "Average Recall@5 0.016\n",
      "Average Recall@20 0.032\n",
      "Training model ItemKNN with hyperparameters {'k': 100, 'normalize': True}\n",
      "density of model 0.006619470262755675\n",
      "Evaluating with 22178 users\n",
      "MRR@5 0.01\n",
      "MRR@20 0.012\n",
      "Average Recall@5 0.016\n",
      "Average Recall@20 0.032\n",
      "Training model ItemKNN with hyperparameters {'k': 200, 'normalize': True}\n",
      "density of model 0.013223495909237434\n",
      "Evaluating with 22178 users\n",
      "MRR@5 0.01\n",
      "MRR@20 0.012\n",
      "Average Recall@5 0.015\n",
      "Average Recall@20 0.033\n",
      "Training model ItemKNN with hyperparameters {'k': 500, 'normalize': True}\n",
      "density of model 0.032851081085351494\n",
      "Evaluating with 22178 users\n",
      "MRR@5 0.01\n",
      "MRR@20 0.012\n",
      "Average Recall@5 0.015\n",
      "Average Recall@20 0.032\n",
      "Training model ItemKNN with hyperparameters {'k': 1000, 'normalize': True}\n",
      "density of model 0.06370288185906393\n",
      "Evaluating with 22178 users\n",
      "MRR@5 0.01\n",
      "MRR@20 0.011\n",
      "Average Recall@5 0.015\n",
      "Average Recall@20 0.031\n",
      "Training model ItemKNN with hyperparameters {'k': None, 'normalize': True}\n",
      "density of model 0.1835380461930326\n",
      "Evaluating with 22178 users\n",
      "MRR@5 0.008\n",
      "MRR@20 0.009\n",
      "Average Recall@5 0.012\n",
      "Average Recall@20 0.024\n",
      "Training model ItemKNN with hyperparameters {'k': 1, 'normalize': False}\n",
      "density of model 6.628662335940607e-05\n",
      "Evaluating with 22178 users\n",
      "MRR@5 0.007\n",
      "MRR@20 0.008\n",
      "Average Recall@5 0.01\n",
      "Average Recall@20 0.012\n",
      "Training model ItemKNN with hyperparameters {'k': 10, 'normalize': False}\n",
      "density of model 0.0006628662335940607\n",
      "Evaluating with 22178 users\n",
      "MRR@5 0.01\n",
      "MRR@20 0.011\n",
      "Average Recall@5 0.013\n",
      "Average Recall@20 0.024\n",
      "Training model ItemKNN with hyperparameters {'k': 20, 'normalize': False}\n",
      "density of model 0.0013257324671881213\n",
      "Evaluating with 22178 users\n",
      "MRR@5 0.01\n",
      "MRR@20 0.011\n",
      "Average Recall@5 0.014\n",
      "Average Recall@20 0.025\n",
      "Training model ItemKNN with hyperparameters {'k': 50, 'normalize': False}\n",
      "density of model 0.0033141422295635387\n",
      "Evaluating with 22178 users\n",
      "MRR@5 0.009\n",
      "MRR@20 0.011\n",
      "Average Recall@5 0.014\n",
      "Average Recall@20 0.028\n",
      "Training model ItemKNN with hyperparameters {'k': 100, 'normalize': False}\n",
      "density of model 0.006619470262755675\n",
      "Evaluating with 22178 users\n",
      "MRR@5 0.009\n",
      "MRR@20 0.011\n",
      "Average Recall@5 0.014\n",
      "Average Recall@20 0.029\n",
      "Training model ItemKNN with hyperparameters {'k': 200, 'normalize': False}\n",
      "density of model 0.013223495909237434\n",
      "Evaluating with 22178 users\n",
      "MRR@5 0.009\n",
      "MRR@20 0.011\n",
      "Average Recall@5 0.014\n",
      "Average Recall@20 0.028\n",
      "Training model ItemKNN with hyperparameters {'k': 500, 'normalize': False}\n",
      "density of model 0.032851081085351494\n",
      "Evaluating with 22178 users\n",
      "MRR@5 0.009\n",
      "MRR@20 0.011\n",
      "Average Recall@5 0.014\n",
      "Average Recall@20 0.028\n",
      "Training model ItemKNN with hyperparameters {'k': 1000, 'normalize': False}\n",
      "density of model 0.06370288185906393\n",
      "Evaluating with 22178 users\n",
      "MRR@5 0.009\n",
      "MRR@20 0.011\n",
      "Average Recall@5 0.014\n",
      "Average Recall@20 0.029\n",
      "Training model ItemKNN with hyperparameters {'k': None, 'normalize': False}\n",
      "density of model 0.1835380461930326\n",
      "Evaluating with 22178 users\n",
      "MRR@5 0.01\n",
      "MRR@20 0.011\n",
      "Average Recall@5 0.015\n",
      "Average Recall@20 0.032\n",
      "CPU times: user 2min 42s, sys: 39.9 s, total: 3min 22s\n",
      "Wall time: 3min 22s\n"
     ]
    },
    {
     "data": {
      "text/plain": [
       "\"Best score of 0.012342715308944149 achieved with {'k': 20, 'normalize': True}.\""
      ]
     },
     "execution_count": 8,
     "metadata": {},
     "output_type": "execute_result"
    }
   ],
   "source": [
    "%%time\n",
    "score, best_hyperparams = evaluation.base.gridsearch(ALG, Xtrain, Xval_in, Xval_out, HYPERPARAMS, retarget=RETARGET)\n",
    "f\"Best score of {score} achieved with {best_hyperparams}.\""
   ]
  },
  {
   "cell_type": "markdown",
   "id": "e89dad17",
   "metadata": {},
   "source": [
    "## Evaluate model with optimal hyperparams with KFolds Cross validation"
   ]
  },
  {
   "cell_type": "code",
   "execution_count": 9,
   "id": "81674e0b",
   "metadata": {
    "scrolled": true
   },
   "outputs": [
    {
     "name": "stdout",
     "output_type": "stream",
     "text": [
      "density of model 0.0013257324671881213\n",
      "Evaluating with 22178 users\n",
      "density of model 0.0013257324671881213\n",
      "Evaluating with 22178 users\n",
      "density of model 0.0013257324671881213\n",
      "Evaluating with 22178 users\n",
      "density of model 0.0013257324671881213\n",
      "Evaluating with 22178 users\n",
      "density of model 0.0013257324671881213\n",
      "Evaluating with 22178 users\n",
      "MRR@5 0.01 (0.001)\n",
      "MRR@20 0.012 (0.001)\n",
      "Average Recall@5 0.016 (0.001)\n",
      "Average Recall@20 0.03 (0.001)\n",
      "CPU times: user 30.8 s, sys: 10.5 s, total: 41.3 s\n",
      "Wall time: 41.3 s\n"
     ]
    }
   ],
   "source": [
    "%%time\n",
    "alg = ALG(**best_hyperparams)\n",
    "results = evaluation.base.kFoldsEval(alg, data, nr_folds=5, seed=SEED2, retarget=RETARGET)"
   ]
  }
 ],
 "metadata": {
  "kernelspec": {
   "display_name": "Python 3 (ipykernel)",
   "language": "python",
   "name": "python3"
  },
  "language_info": {
   "codemirror_mode": {
    "name": "ipython",
    "version": 3
   },
   "file_extension": ".py",
   "mimetype": "text/x-python",
   "name": "python",
   "nbconvert_exporter": "python",
   "pygments_lexer": "ipython3",
   "version": "3.10.6"
  }
 },
 "nbformat": 4,
 "nbformat_minor": 5
}
