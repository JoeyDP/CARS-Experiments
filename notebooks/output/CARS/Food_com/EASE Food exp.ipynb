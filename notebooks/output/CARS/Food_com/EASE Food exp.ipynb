{
 "cells": [
  {
   "cell_type": "code",
   "execution_count": 1,
   "id": "9ef88bc4",
   "metadata": {},
   "outputs": [],
   "source": [
    "%load_ext autoreload\n",
    "%autoreload 2"
   ]
  },
  {
   "cell_type": "markdown",
   "id": "55bab0c8",
   "metadata": {},
   "source": [
    "# Experiments with EASE model"
   ]
  },
  {
   "cell_type": "code",
   "execution_count": 2,
   "id": "ec55d42c",
   "metadata": {},
   "outputs": [],
   "source": [
    "from pathlib import Path\n",
    "\n",
    "import scipy.sparse\n",
    "import numpy as np\n",
    "\n",
    "import src.io as io\n",
    "import src.evaluation as evaluation\n",
    "import src.evaluation.splits\n",
    "import src.evaluation.base\n",
    "\n",
    "from src.algorithm.baseline.ease import EASE"
   ]
  },
  {
   "cell_type": "markdown",
   "id": "c469b253",
   "metadata": {},
   "source": [
    "## Datasets"
   ]
  },
  {
   "cell_type": "code",
   "execution_count": 3,
   "id": "e0622ed1",
   "metadata": {},
   "outputs": [],
   "source": [
    "## Uncomment corresponding directory.\n",
    "## RETARGET True for Frappe, False for the others\n",
    "\n",
    "# DATA_DIR, RETARGET = Path('../../../data/CARS/Mobile_Frappe/'), True\n",
    "DATA_DIR, RETARGET = Path('../../../data/CARS/Food_com/'), False\n",
    "# DATA_DIR, RETARGET = Path('../../../data/CARS/TripAdvisor/'), False"
   ]
  },
  {
   "cell_type": "code",
   "execution_count": 4,
   "id": "d53bce36",
   "metadata": {},
   "outputs": [],
   "source": [
    "# Shouldn't need to change this info\n",
    "INTERACTIONS = DATA_DIR / 'interactions.csv'\n",
    "\n",
    "SEED = 123456\n",
    "SEED2 = 78910\n",
    "\n",
    "ITEM_ID = 'item'\n",
    "USER_ID = 'user'"
   ]
  },
  {
   "cell_type": "markdown",
   "id": "48457625",
   "metadata": {},
   "source": [
    "## Define algorithm and hyperparameter ranges"
   ]
  },
  {
   "cell_type": "code",
   "execution_count": 5,
   "id": "11a5ac4c",
   "metadata": {},
   "outputs": [
    {
     "data": {
      "text/plain": [
       "{'l2': [10, 100, 1000, 10000]}"
      ]
     },
     "execution_count": 5,
     "metadata": {},
     "output_type": "execute_result"
    }
   ],
   "source": [
    "ALG = EASE\n",
    "\n",
    "L2 = [10**p for p in range(1, 5)]\n",
    "# L2 = [0.1, 0.5, 1, 5, 10, 15, 20, 50]\n",
    "# L2 = [50, 80, 100, 150, 300, 500]\n",
    "\n",
    "HYPERPARAMS = {'l2': L2}\n",
    "HYPERPARAMS"
   ]
  },
  {
   "cell_type": "markdown",
   "id": "32d25f41",
   "metadata": {},
   "source": [
    "## Parse data"
   ]
  },
  {
   "cell_type": "code",
   "execution_count": 6,
   "id": "ce0d0435",
   "metadata": {},
   "outputs": [
    {
     "data": {
      "text/html": [
       "<div>\n",
       "<style scoped>\n",
       "    .dataframe tbody tr th:only-of-type {\n",
       "        vertical-align: middle;\n",
       "    }\n",
       "\n",
       "    .dataframe tbody tr th {\n",
       "        vertical-align: top;\n",
       "    }\n",
       "\n",
       "    .dataframe thead th {\n",
       "        text-align: right;\n",
       "    }\n",
       "</style>\n",
       "<table border=\"1\" class=\"dataframe\">\n",
       "  <thead>\n",
       "    <tr style=\"text-align: right;\">\n",
       "      <th></th>\n",
       "      <th>userId</th>\n",
       "      <th>itemId</th>\n",
       "      <th>season</th>\n",
       "      <th>weekday</th>\n",
       "    </tr>\n",
       "  </thead>\n",
       "  <tbody>\n",
       "    <tr>\n",
       "      <th>0</th>\n",
       "      <td>19211</td>\n",
       "      <td>6280</td>\n",
       "      <td>1</td>\n",
       "      <td>1</td>\n",
       "    </tr>\n",
       "    <tr>\n",
       "      <th>1</th>\n",
       "      <td>17684</td>\n",
       "      <td>6280</td>\n",
       "      <td>2</td>\n",
       "      <td>2</td>\n",
       "    </tr>\n",
       "    <tr>\n",
       "      <th>2</th>\n",
       "      <td>12110</td>\n",
       "      <td>6280</td>\n",
       "      <td>3</td>\n",
       "      <td>3</td>\n",
       "    </tr>\n",
       "    <tr>\n",
       "      <th>3</th>\n",
       "      <td>7184</td>\n",
       "      <td>6280</td>\n",
       "      <td>3</td>\n",
       "      <td>1</td>\n",
       "    </tr>\n",
       "    <tr>\n",
       "      <th>4</th>\n",
       "      <td>17837</td>\n",
       "      <td>6280</td>\n",
       "      <td>2</td>\n",
       "      <td>4</td>\n",
       "    </tr>\n",
       "    <tr>\n",
       "      <th>...</th>\n",
       "      <td>...</td>\n",
       "      <td>...</td>\n",
       "      <td>...</td>\n",
       "      <td>...</td>\n",
       "    </tr>\n",
       "    <tr>\n",
       "      <th>388357</th>\n",
       "      <td>895</td>\n",
       "      <td>7799</td>\n",
       "      <td>3</td>\n",
       "      <td>7</td>\n",
       "    </tr>\n",
       "    <tr>\n",
       "      <th>388358</th>\n",
       "      <td>4100</td>\n",
       "      <td>7799</td>\n",
       "      <td>4</td>\n",
       "      <td>2</td>\n",
       "    </tr>\n",
       "    <tr>\n",
       "      <th>388359</th>\n",
       "      <td>2940</td>\n",
       "      <td>7799</td>\n",
       "      <td>1</td>\n",
       "      <td>4</td>\n",
       "    </tr>\n",
       "    <tr>\n",
       "      <th>388360</th>\n",
       "      <td>757</td>\n",
       "      <td>7799</td>\n",
       "      <td>2</td>\n",
       "      <td>2</td>\n",
       "    </tr>\n",
       "    <tr>\n",
       "      <th>388361</th>\n",
       "      <td>2876</td>\n",
       "      <td>7799</td>\n",
       "      <td>4</td>\n",
       "      <td>3</td>\n",
       "    </tr>\n",
       "  </tbody>\n",
       "</table>\n",
       "<p>388362 rows × 4 columns</p>\n",
       "</div>"
      ],
      "text/plain": [
       "        userId  itemId  season  weekday\n",
       "0        19211    6280       1        1\n",
       "1        17684    6280       2        2\n",
       "2        12110    6280       3        3\n",
       "3         7184    6280       3        1\n",
       "4        17837    6280       2        4\n",
       "...        ...     ...     ...      ...\n",
       "388357     895    7799       3        7\n",
       "388358    4100    7799       4        2\n",
       "388359    2940    7799       1        4\n",
       "388360     757    7799       2        2\n",
       "388361    2876    7799       4        3\n",
       "\n",
       "[388362 rows x 4 columns]"
      ]
     },
     "execution_count": 6,
     "metadata": {},
     "output_type": "execute_result"
    }
   ],
   "source": [
    "data = io.parse_interactions_with_context(INTERACTIONS, item_id=ITEM_ID, user_id=USER_ID)\n",
    "data.df"
   ]
  },
  {
   "cell_type": "markdown",
   "id": "36a367d9",
   "metadata": {},
   "source": [
    "## Make train/val split for hyperparam tuning"
   ]
  },
  {
   "cell_type": "code",
   "execution_count": 7,
   "id": "92b4e0a4",
   "metadata": {},
   "outputs": [],
   "source": [
    "Xtrain, Xval_in, Xval_out = evaluation.splits.leave_one_out_split_non_context(data, seed=SEED)"
   ]
  },
  {
   "cell_type": "markdown",
   "id": "fc85ffb4",
   "metadata": {},
   "source": [
    "## Perform gridsearch on validation set"
   ]
  },
  {
   "cell_type": "code",
   "execution_count": 8,
   "id": "36a9347a",
   "metadata": {},
   "outputs": [
    {
     "data": {
      "application/vnd.jupyter.widget-view+json": {
       "model_id": "e756e5d1f34e4e2c8e9d3de636434e65",
       "version_major": 2,
       "version_minor": 0
      },
      "text/plain": [
       "  0%|          | 0/4 [00:00<?, ?it/s]"
      ]
     },
     "metadata": {},
     "output_type": "display_data"
    },
    {
     "name": "stdout",
     "output_type": "stream",
     "text": [
      "Training model EASE with hyperparameters {'l2': 10}\n",
      "Evaluating with 22178 users\n",
      "MRR@5 0.014\n",
      "MRR@20 0.016\n",
      "Average Recall@5 0.021\n",
      "Average Recall@20 0.041\n",
      "Training model EASE with hyperparameters {'l2': 100}\n",
      "Evaluating with 22178 users\n",
      "MRR@5 0.017\n",
      "MRR@20 0.019\n",
      "Average Recall@5 0.026\n",
      "Average Recall@20 0.051\n",
      "Training model EASE with hyperparameters {'l2': 1000}\n",
      "Evaluating with 22178 users\n",
      "MRR@5 0.017\n",
      "MRR@20 0.02\n",
      "Average Recall@5 0.027\n",
      "Average Recall@20 0.057\n",
      "Training model EASE with hyperparameters {'l2': 10000}\n",
      "Evaluating with 22178 users\n",
      "MRR@5 0.016\n",
      "MRR@20 0.02\n",
      "Average Recall@5 0.027\n",
      "Average Recall@20 0.061\n",
      "CPU times: user 1h 37min 45s, sys: 6min 1s, total: 1h 43min 47s\n",
      "Wall time: 8min 25s\n"
     ]
    },
    {
     "data": {
      "text/plain": [
       "\"Best score of 0.019928540274315322 achieved with {'l2': 1000}.\""
      ]
     },
     "execution_count": 8,
     "metadata": {},
     "output_type": "execute_result"
    }
   ],
   "source": [
    "%%time\n",
    "score, best_hyperparams = evaluation.base.gridsearch(ALG, Xtrain, Xval_in, Xval_out, HYPERPARAMS, retarget=RETARGET)\n",
    "f\"Best score of {score} achieved with {best_hyperparams}.\""
   ]
  },
  {
   "cell_type": "markdown",
   "id": "e89dad17",
   "metadata": {},
   "source": [
    "## Evaluate model with optimal hyperparams with KFolds Cross validation"
   ]
  },
  {
   "cell_type": "code",
   "execution_count": 9,
   "id": "81674e0b",
   "metadata": {
    "scrolled": true
   },
   "outputs": [
    {
     "name": "stdout",
     "output_type": "stream",
     "text": [
      "Evaluating with 22178 users\n",
      "Evaluating with 22178 users\n",
      "Evaluating with 22178 users\n",
      "Evaluating with 22178 users\n",
      "Evaluating with 22178 users\n",
      "MRR@5 0.016 (0.0)\n",
      "MRR@20 0.019 (0.0)\n",
      "Average Recall@5 0.026 (0.001)\n",
      "Average Recall@20 0.058 (0.001)\n",
      "CPU times: user 2h 3min 40s, sys: 6min 57s, total: 2h 10min 37s\n",
      "Wall time: 10min 29s\n"
     ]
    }
   ],
   "source": [
    "%%time\n",
    "alg = ALG(**best_hyperparams)\n",
    "results = evaluation.base.kFoldsEval(alg, data, nr_folds=5, seed=SEED2, retarget=RETARGET)"
   ]
  }
 ],
 "metadata": {
  "kernelspec": {
   "display_name": "Python 3 (ipykernel)",
   "language": "python",
   "name": "python3"
  },
  "language_info": {
   "codemirror_mode": {
    "name": "ipython",
    "version": 3
   },
   "file_extension": ".py",
   "mimetype": "text/x-python",
   "name": "python",
   "nbconvert_exporter": "python",
   "pygments_lexer": "ipython3",
   "version": "3.10.6"
  }
 },
 "nbformat": 4,
 "nbformat_minor": 5
}
