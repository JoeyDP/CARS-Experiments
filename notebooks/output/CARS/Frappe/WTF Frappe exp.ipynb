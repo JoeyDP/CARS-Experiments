{
 "cells": [
  {
   "cell_type": "code",
   "execution_count": 1,
   "id": "9ef88bc4",
   "metadata": {},
   "outputs": [],
   "source": [
    "%load_ext autoreload\n",
    "%autoreload 2"
   ]
  },
  {
   "cell_type": "markdown",
   "id": "55bab0c8",
   "metadata": {},
   "source": [
    "# Experiments with WTF model"
   ]
  },
  {
   "cell_type": "code",
   "execution_count": 2,
   "id": "ec55d42c",
   "metadata": {},
   "outputs": [],
   "source": [
    "from pathlib import Path\n",
    "\n",
    "import src.io as io\n",
    "import src.evaluation as evaluation\n",
    "import src.evaluation.splits\n",
    "import src.evaluation.cars\n",
    "\n",
    "from src.algorithm.cars.wtf import WTF"
   ]
  },
  {
   "cell_type": "markdown",
   "id": "c469b253",
   "metadata": {},
   "source": [
    "## Datasets"
   ]
  },
  {
   "cell_type": "code",
   "execution_count": 3,
   "id": "e0622ed1",
   "metadata": {},
   "outputs": [],
   "source": [
    "## Uncomment corresponding directory.\n",
    "## RETARGET True for Frappe, False for the others\n",
    "\n",
    "DATA_DIR, RETARGET = Path('../../../data/CARS/Mobile_Frappe/'), True\n",
    "# DATA_DIR, RETARGET = Path('../../../data/CARS/Food_com/'), False\n",
    "# DATA_DIR, RETARGET = Path('../../../data/CARS/TripAdvisor/'), False"
   ]
  },
  {
   "cell_type": "code",
   "execution_count": 4,
   "id": "d53bce36",
   "metadata": {},
   "outputs": [],
   "source": [
    "# Shouldn't need to change this info\n",
    "INTERACTIONS = DATA_DIR / 'interactions.csv'\n",
    "\n",
    "SEED = 123456\n",
    "SEED2 = 78910\n",
    "\n",
    "ITEM_ID = 'item'\n",
    "USER_ID = 'user'"
   ]
  },
  {
   "cell_type": "markdown",
   "id": "48457625",
   "metadata": {},
   "source": [
    "## Define algorithm and hyperparameter ranges"
   ]
  },
  {
   "cell_type": "code",
   "execution_count": 5,
   "id": "11a5ac4c",
   "metadata": {},
   "outputs": [
    {
     "data": {
      "text/plain": [
       "{'k': [80],\n",
       " 'l2': [100, 1000, 10000, 100000],\n",
       " 'v': [0, 0.5, 1],\n",
       " 'alpha': [100, 1000, 10000, 100000],\n",
       " 'max_iterations': [10],\n",
       " 'default_context_1': [False]}"
      ]
     },
     "execution_count": 5,
     "metadata": {},
     "output_type": "execute_result"
    }
   ],
   "source": [
    "ALG = WTF\n",
    "\n",
    "K = [80]\n",
    "MAX_IT = [10]\n",
    "DEFAULT_CONTEXT_1 = [False]\n",
    "\n",
    "L2 = [100, 1000, 10000, 100000]\n",
    "V = [0, 0.5, 1]\n",
    "ALPHA = [100, 1000, 10000, 100000]\n",
    "\n",
    "# L2 = [1, 5, 10, 20, 50]\n",
    "# V = [0.5, 0.75, 1]\n",
    "# ALPHA = [1, 5, 10, 20, 50]\n",
    "\n",
    "HYPERPARAMS = {'k': K, 'l2': L2, 'v': V, 'alpha': ALPHA, 'max_iterations': MAX_IT, 'default_context_1': DEFAULT_CONTEXT_1}\n",
    "HYPERPARAMS"
   ]
  },
  {
   "cell_type": "markdown",
   "id": "32d25f41",
   "metadata": {},
   "source": [
    "## Parse data"
   ]
  },
  {
   "cell_type": "code",
   "execution_count": 6,
   "id": "ce0d0435",
   "metadata": {},
   "outputs": [
    {
     "data": {
      "text/html": [
       "<div>\n",
       "<style scoped>\n",
       "    .dataframe tbody tr th:only-of-type {\n",
       "        vertical-align: middle;\n",
       "    }\n",
       "\n",
       "    .dataframe tbody tr th {\n",
       "        vertical-align: top;\n",
       "    }\n",
       "\n",
       "    .dataframe thead th {\n",
       "        text-align: right;\n",
       "    }\n",
       "</style>\n",
       "<table border=\"1\" class=\"dataframe\">\n",
       "  <thead>\n",
       "    <tr style=\"text-align: right;\">\n",
       "      <th></th>\n",
       "      <th>userId</th>\n",
       "      <th>itemId</th>\n",
       "      <th>daytime</th>\n",
       "      <th>weather</th>\n",
       "      <th>weekday</th>\n",
       "    </tr>\n",
       "  </thead>\n",
       "  <tbody>\n",
       "    <tr>\n",
       "      <th>0</th>\n",
       "      <td>0</td>\n",
       "      <td>0</td>\n",
       "      <td>1</td>\n",
       "      <td>1</td>\n",
       "      <td>1</td>\n",
       "    </tr>\n",
       "    <tr>\n",
       "      <th>1</th>\n",
       "      <td>1</td>\n",
       "      <td>1</td>\n",
       "      <td>2</td>\n",
       "      <td>2</td>\n",
       "      <td>2</td>\n",
       "    </tr>\n",
       "    <tr>\n",
       "      <th>2</th>\n",
       "      <td>2</td>\n",
       "      <td>2</td>\n",
       "      <td>3</td>\n",
       "      <td>2</td>\n",
       "      <td>3</td>\n",
       "    </tr>\n",
       "    <tr>\n",
       "      <th>3</th>\n",
       "      <td>3</td>\n",
       "      <td>3</td>\n",
       "      <td>4</td>\n",
       "      <td>0</td>\n",
       "      <td>4</td>\n",
       "    </tr>\n",
       "    <tr>\n",
       "      <th>4</th>\n",
       "      <td>4</td>\n",
       "      <td>4</td>\n",
       "      <td>5</td>\n",
       "      <td>1</td>\n",
       "      <td>4</td>\n",
       "    </tr>\n",
       "    <tr>\n",
       "      <th>...</th>\n",
       "      <td>...</td>\n",
       "      <td>...</td>\n",
       "      <td>...</td>\n",
       "      <td>...</td>\n",
       "      <td>...</td>\n",
       "    </tr>\n",
       "    <tr>\n",
       "      <th>95997</th>\n",
       "      <td>109</td>\n",
       "      <td>0</td>\n",
       "      <td>3</td>\n",
       "      <td>1</td>\n",
       "      <td>1</td>\n",
       "    </tr>\n",
       "    <tr>\n",
       "      <th>95998</th>\n",
       "      <td>37</td>\n",
       "      <td>16</td>\n",
       "      <td>4</td>\n",
       "      <td>2</td>\n",
       "      <td>1</td>\n",
       "    </tr>\n",
       "    <tr>\n",
       "      <th>95999</th>\n",
       "      <td>180</td>\n",
       "      <td>33</td>\n",
       "      <td>2</td>\n",
       "      <td>2</td>\n",
       "      <td>1</td>\n",
       "    </tr>\n",
       "    <tr>\n",
       "      <th>96000</th>\n",
       "      <td>445</td>\n",
       "      <td>751</td>\n",
       "      <td>3</td>\n",
       "      <td>1</td>\n",
       "      <td>1</td>\n",
       "    </tr>\n",
       "    <tr>\n",
       "      <th>96001</th>\n",
       "      <td>361</td>\n",
       "      <td>380</td>\n",
       "      <td>3</td>\n",
       "      <td>2</td>\n",
       "      <td>4</td>\n",
       "    </tr>\n",
       "  </tbody>\n",
       "</table>\n",
       "<p>96002 rows × 5 columns</p>\n",
       "</div>"
      ],
      "text/plain": [
       "       userId  itemId  daytime  weather  weekday\n",
       "0           0       0        1        1        1\n",
       "1           1       1        2        2        2\n",
       "2           2       2        3        2        3\n",
       "3           3       3        4        0        4\n",
       "4           4       4        5        1        4\n",
       "...       ...     ...      ...      ...      ...\n",
       "95997     109       0        3        1        1\n",
       "95998      37      16        4        2        1\n",
       "95999     180      33        2        2        1\n",
       "96000     445     751        3        1        1\n",
       "96001     361     380        3        2        4\n",
       "\n",
       "[96002 rows x 5 columns]"
      ]
     },
     "execution_count": 6,
     "metadata": {},
     "output_type": "execute_result"
    }
   ],
   "source": [
    "data = io.parse_interactions_with_context(INTERACTIONS, item_id=ITEM_ID, user_id=USER_ID)\n",
    "data.df"
   ]
  },
  {
   "cell_type": "markdown",
   "id": "4bef86fe",
   "metadata": {},
   "source": [
    "## Make train/val split for hyperparam tuning"
   ]
  },
  {
   "cell_type": "code",
   "execution_count": 7,
   "id": "95fe8671",
   "metadata": {},
   "outputs": [],
   "source": [
    "train, test = evaluation.splits.context_leave_one_out_split(data, seed=SEED)"
   ]
  },
  {
   "cell_type": "markdown",
   "id": "fc85ffb4",
   "metadata": {},
   "source": [
    "## Perform gridsearch on validation set"
   ]
  },
  {
   "cell_type": "code",
   "execution_count": 8,
   "id": "36a9347a",
   "metadata": {
    "scrolled": true
   },
   "outputs": [
    {
     "data": {
      "application/vnd.jupyter.widget-view+json": {
       "model_id": "68234d44b3164850a4b8efca0b63b7d2",
       "version_major": 2,
       "version_minor": 0
      },
      "text/plain": [
       "  0%|          | 0/48 [00:00<?, ?it/s]"
      ]
     },
     "metadata": {},
     "output_type": "display_data"
    },
    {
     "name": "stdout",
     "output_type": "stream",
     "text": [
      "Training model WTF with hyperparameters {'k': 80, 'l2': 100, 'v': 0, 'alpha': 100, 'max_iterations': 10, 'default_context_1': False}\n"
     ]
    },
    {
     "data": {
      "application/vnd.jupyter.widget-view+json": {
       "model_id": "4d834031ec3f4be4ad38750fd1264065",
       "version_major": 2,
       "version_minor": 0
      },
      "text/plain": [
       "  0%|          | 0/10 [00:00<?, ?it/s]"
      ]
     },
     "metadata": {},
     "output_type": "display_data"
    },
    {
     "name": "stdout",
     "output_type": "stream",
     "text": [
      "Evaluating with 816 users\n",
      "MRR@5 0.152\n",
      "MRR@20 0.181\n",
      "Average Recall@5 0.278\n",
      "Average Recall@20 0.585\n",
      "Training model WTF with hyperparameters {'k': 80, 'l2': 1000, 'v': 0, 'alpha': 100, 'max_iterations': 10, 'default_context_1': False}\n"
     ]
    },
    {
     "data": {
      "application/vnd.jupyter.widget-view+json": {
       "model_id": "d923278129704bbd991ba3a1de1f09cb",
       "version_major": 2,
       "version_minor": 0
      },
      "text/plain": [
       "  0%|          | 0/10 [00:00<?, ?it/s]"
      ]
     },
     "metadata": {},
     "output_type": "display_data"
    },
    {
     "name": "stdout",
     "output_type": "stream",
     "text": [
      "Evaluating with 816 users\n",
      "MRR@5 0.078\n",
      "MRR@20 0.101\n",
      "Average Recall@5 0.174\n",
      "Average Recall@20 0.395\n",
      "Training model WTF with hyperparameters {'k': 80, 'l2': 10000, 'v': 0, 'alpha': 100, 'max_iterations': 10, 'default_context_1': False}\n"
     ]
    },
    {
     "data": {
      "application/vnd.jupyter.widget-view+json": {
       "model_id": "a01785b3027b4a71a0c69e3c4acb3cae",
       "version_major": 2,
       "version_minor": 0
      },
      "text/plain": [
       "  0%|          | 0/10 [00:00<?, ?it/s]"
      ]
     },
     "metadata": {},
     "output_type": "display_data"
    },
    {
     "name": "stdout",
     "output_type": "stream",
     "text": [
      "Evaluating with 816 users\n",
      "MRR@5 0.092\n",
      "MRR@20 0.112\n",
      "Average Recall@5 0.211\n",
      "Average Recall@20 0.402\n",
      "Training model WTF with hyperparameters {'k': 80, 'l2': 100000, 'v': 0, 'alpha': 100, 'max_iterations': 10, 'default_context_1': False}\n"
     ]
    },
    {
     "data": {
      "application/vnd.jupyter.widget-view+json": {
       "model_id": "af07edc4c9724ff78ed779dfd0950fb3",
       "version_major": 2,
       "version_minor": 0
      },
      "text/plain": [
       "  0%|          | 0/10 [00:00<?, ?it/s]"
      ]
     },
     "metadata": {},
     "output_type": "display_data"
    },
    {
     "name": "stdout",
     "output_type": "stream",
     "text": [
      "Evaluating with 816 users\n",
      "MRR@5 0.0\n",
      "MRR@20 0.0\n",
      "Average Recall@5 0.0\n",
      "Average Recall@20 0.0\n",
      "Training model WTF with hyperparameters {'k': 80, 'l2': 100, 'v': 0.5, 'alpha': 100, 'max_iterations': 10, 'default_context_1': False}\n"
     ]
    },
    {
     "data": {
      "application/vnd.jupyter.widget-view+json": {
       "model_id": "9eff31b756834b418ab8fd6c020d7c54",
       "version_major": 2,
       "version_minor": 0
      },
      "text/plain": [
       "  0%|          | 0/10 [00:00<?, ?it/s]"
      ]
     },
     "metadata": {},
     "output_type": "display_data"
    },
    {
     "name": "stdout",
     "output_type": "stream",
     "text": [
      "Evaluating with 816 users\n",
      "MRR@5 0.146\n",
      "MRR@20 0.175\n",
      "Average Recall@5 0.286\n",
      "Average Recall@20 0.576\n",
      "Training model WTF with hyperparameters {'k': 80, 'l2': 1000, 'v': 0.5, 'alpha': 100, 'max_iterations': 10, 'default_context_1': False}\n"
     ]
    },
    {
     "data": {
      "application/vnd.jupyter.widget-view+json": {
       "model_id": "f558bd37ab654bf9bea448f238a8a318",
       "version_major": 2,
       "version_minor": 0
      },
      "text/plain": [
       "  0%|          | 0/10 [00:00<?, ?it/s]"
      ]
     },
     "metadata": {},
     "output_type": "display_data"
    },
    {
     "name": "stdout",
     "output_type": "stream",
     "text": [
      "Evaluating with 816 users\n",
      "MRR@5 0.094\n",
      "MRR@20 0.112\n",
      "Average Recall@5 0.217\n",
      "Average Recall@20 0.409\n",
      "Training model WTF with hyperparameters {'k': 80, 'l2': 10000, 'v': 0.5, 'alpha': 100, 'max_iterations': 10, 'default_context_1': False}\n"
     ]
    },
    {
     "data": {
      "application/vnd.jupyter.widget-view+json": {
       "model_id": "b596d6d826824c118dcea95f377bcc08",
       "version_major": 2,
       "version_minor": 0
      },
      "text/plain": [
       "  0%|          | 0/10 [00:00<?, ?it/s]"
      ]
     },
     "metadata": {},
     "output_type": "display_data"
    },
    {
     "name": "stdout",
     "output_type": "stream",
     "text": [
      "Evaluating with 816 users\n",
      "MRR@5 0.0\n",
      "MRR@20 0.0\n",
      "Average Recall@5 0.0\n",
      "Average Recall@20 0.0\n",
      "Training model WTF with hyperparameters {'k': 80, 'l2': 100000, 'v': 0.5, 'alpha': 100, 'max_iterations': 10, 'default_context_1': False}\n"
     ]
    },
    {
     "data": {
      "application/vnd.jupyter.widget-view+json": {
       "model_id": "f3b60a1faa494e22aa012f394c4e5edc",
       "version_major": 2,
       "version_minor": 0
      },
      "text/plain": [
       "  0%|          | 0/10 [00:00<?, ?it/s]"
      ]
     },
     "metadata": {},
     "output_type": "display_data"
    },
    {
     "name": "stdout",
     "output_type": "stream",
     "text": [
      "Evaluating with 816 users\n",
      "MRR@5 0.0\n",
      "MRR@20 0.0\n",
      "Average Recall@5 0.0\n",
      "Average Recall@20 0.0\n",
      "Training model WTF with hyperparameters {'k': 80, 'l2': 100, 'v': 1, 'alpha': 100, 'max_iterations': 10, 'default_context_1': False}\n"
     ]
    },
    {
     "data": {
      "application/vnd.jupyter.widget-view+json": {
       "model_id": "e95e6c2e95b84017bb48ab97873a777c",
       "version_major": 2,
       "version_minor": 0
      },
      "text/plain": [
       "  0%|          | 0/10 [00:00<?, ?it/s]"
      ]
     },
     "metadata": {},
     "output_type": "display_data"
    },
    {
     "name": "stdout",
     "output_type": "stream",
     "text": [
      "Evaluating with 816 users\n",
      "MRR@5 0.154\n",
      "MRR@20 0.185\n",
      "Average Recall@5 0.293\n",
      "Average Recall@20 0.589\n",
      "Training model WTF with hyperparameters {'k': 80, 'l2': 1000, 'v': 1, 'alpha': 100, 'max_iterations': 10, 'default_context_1': False}\n"
     ]
    },
    {
     "data": {
      "application/vnd.jupyter.widget-view+json": {
       "model_id": "c755f59de73241c9a5a4c641322ac7da",
       "version_major": 2,
       "version_minor": 0
      },
      "text/plain": [
       "  0%|          | 0/10 [00:00<?, ?it/s]"
      ]
     },
     "metadata": {},
     "output_type": "display_data"
    },
    {
     "name": "stdout",
     "output_type": "stream",
     "text": [
      "Evaluating with 816 users\n",
      "MRR@5 0.061\n",
      "MRR@20 0.089\n",
      "Average Recall@5 0.138\n",
      "Average Recall@20 0.411\n",
      "Training model WTF with hyperparameters {'k': 80, 'l2': 10000, 'v': 1, 'alpha': 100, 'max_iterations': 10, 'default_context_1': False}\n"
     ]
    },
    {
     "data": {
      "application/vnd.jupyter.widget-view+json": {
       "model_id": "fadae048588546098b42e5b85fa6d62c",
       "version_major": 2,
       "version_minor": 0
      },
      "text/plain": [
       "  0%|          | 0/10 [00:00<?, ?it/s]"
      ]
     },
     "metadata": {},
     "output_type": "display_data"
    },
    {
     "name": "stdout",
     "output_type": "stream",
     "text": [
      "Evaluating with 816 users\n",
      "MRR@5 0.0\n",
      "MRR@20 0.0\n",
      "Average Recall@5 0.0\n",
      "Average Recall@20 0.0\n",
      "Training model WTF with hyperparameters {'k': 80, 'l2': 100000, 'v': 1, 'alpha': 100, 'max_iterations': 10, 'default_context_1': False}\n"
     ]
    },
    {
     "data": {
      "application/vnd.jupyter.widget-view+json": {
       "model_id": "d261190a41104dd091226b6fce0c23e9",
       "version_major": 2,
       "version_minor": 0
      },
      "text/plain": [
       "  0%|          | 0/10 [00:00<?, ?it/s]"
      ]
     },
     "metadata": {},
     "output_type": "display_data"
    },
    {
     "name": "stdout",
     "output_type": "stream",
     "text": [
      "Evaluating with 816 users\n",
      "MRR@5 0.0\n",
      "MRR@20 0.0\n",
      "Average Recall@5 0.0\n",
      "Average Recall@20 0.0\n",
      "Training model WTF with hyperparameters {'k': 80, 'l2': 100, 'v': 0, 'alpha': 1000, 'max_iterations': 10, 'default_context_1': False}\n"
     ]
    },
    {
     "data": {
      "application/vnd.jupyter.widget-view+json": {
       "model_id": "20964b97f5d54c87aa6663cb31cad524",
       "version_major": 2,
       "version_minor": 0
      },
      "text/plain": [
       "  0%|          | 0/10 [00:00<?, ?it/s]"
      ]
     },
     "metadata": {},
     "output_type": "display_data"
    },
    {
     "name": "stdout",
     "output_type": "stream",
     "text": [
      "Evaluating with 816 users\n",
      "MRR@5 0.071\n",
      "MRR@20 0.094\n",
      "Average Recall@5 0.12\n",
      "Average Recall@20 0.39\n",
      "Training model WTF with hyperparameters {'k': 80, 'l2': 1000, 'v': 0, 'alpha': 1000, 'max_iterations': 10, 'default_context_1': False}\n"
     ]
    },
    {
     "data": {
      "application/vnd.jupyter.widget-view+json": {
       "model_id": "77feb8b91e084e35ae8c6e3ee6ae5f69",
       "version_major": 2,
       "version_minor": 0
      },
      "text/plain": [
       "  0%|          | 0/10 [00:00<?, ?it/s]"
      ]
     },
     "metadata": {},
     "output_type": "display_data"
    },
    {
     "name": "stdout",
     "output_type": "stream",
     "text": [
      "Evaluating with 816 users\n",
      "MRR@5 0.074\n",
      "MRR@20 0.093\n",
      "Average Recall@5 0.158\n",
      "Average Recall@20 0.353\n",
      "Training model WTF with hyperparameters {'k': 80, 'l2': 10000, 'v': 0, 'alpha': 1000, 'max_iterations': 10, 'default_context_1': False}\n"
     ]
    },
    {
     "data": {
      "application/vnd.jupyter.widget-view+json": {
       "model_id": "8a27251dd2fb4b6fbd14fa4b573db460",
       "version_major": 2,
       "version_minor": 0
      },
      "text/plain": [
       "  0%|          | 0/10 [00:00<?, ?it/s]"
      ]
     },
     "metadata": {},
     "output_type": "display_data"
    },
    {
     "name": "stdout",
     "output_type": "stream",
     "text": [
      "Evaluating with 816 users\n",
      "MRR@5 0.062\n",
      "MRR@20 0.076\n",
      "Average Recall@5 0.146\n",
      "Average Recall@20 0.289\n",
      "Training model WTF with hyperparameters {'k': 80, 'l2': 100000, 'v': 0, 'alpha': 1000, 'max_iterations': 10, 'default_context_1': False}\n"
     ]
    },
    {
     "data": {
      "application/vnd.jupyter.widget-view+json": {
       "model_id": "6f78845f34e144fba034bf3c3ae9b34d",
       "version_major": 2,
       "version_minor": 0
      },
      "text/plain": [
       "  0%|          | 0/10 [00:00<?, ?it/s]"
      ]
     },
     "metadata": {},
     "output_type": "display_data"
    },
    {
     "name": "stdout",
     "output_type": "stream",
     "text": [
      "Evaluating with 816 users\n",
      "MRR@5 0.05\n",
      "MRR@20 0.075\n",
      "Average Recall@5 0.137\n",
      "Average Recall@20 0.397\n",
      "Training model WTF with hyperparameters {'k': 80, 'l2': 100, 'v': 0.5, 'alpha': 1000, 'max_iterations': 10, 'default_context_1': False}\n"
     ]
    },
    {
     "data": {
      "application/vnd.jupyter.widget-view+json": {
       "model_id": "3e71f15d02fc436d855846a58ddfa595",
       "version_major": 2,
       "version_minor": 0
      },
      "text/plain": [
       "  0%|          | 0/10 [00:00<?, ?it/s]"
      ]
     },
     "metadata": {},
     "output_type": "display_data"
    },
    {
     "name": "stdout",
     "output_type": "stream",
     "text": [
      "Evaluating with 816 users\n",
      "MRR@5 0.09\n",
      "MRR@20 0.118\n",
      "Average Recall@5 0.161\n",
      "Average Recall@20 0.449\n",
      "Training model WTF with hyperparameters {'k': 80, 'l2': 1000, 'v': 0.5, 'alpha': 1000, 'max_iterations': 10, 'default_context_1': False}\n"
     ]
    },
    {
     "data": {
      "application/vnd.jupyter.widget-view+json": {
       "model_id": "af84a1b97b28467a90eb6a6509d04189",
       "version_major": 2,
       "version_minor": 0
      },
      "text/plain": [
       "  0%|          | 0/10 [00:00<?, ?it/s]"
      ]
     },
     "metadata": {},
     "output_type": "display_data"
    },
    {
     "name": "stdout",
     "output_type": "stream",
     "text": [
      "Evaluating with 816 users\n",
      "MRR@5 0.073\n",
      "MRR@20 0.094\n",
      "Average Recall@5 0.159\n",
      "Average Recall@20 0.381\n",
      "Training model WTF with hyperparameters {'k': 80, 'l2': 10000, 'v': 0.5, 'alpha': 1000, 'max_iterations': 10, 'default_context_1': False}\n"
     ]
    },
    {
     "data": {
      "application/vnd.jupyter.widget-view+json": {
       "model_id": "698ae359edac4188941562080f11b297",
       "version_major": 2,
       "version_minor": 0
      },
      "text/plain": [
       "  0%|          | 0/10 [00:00<?, ?it/s]"
      ]
     },
     "metadata": {},
     "output_type": "display_data"
    },
    {
     "name": "stdout",
     "output_type": "stream",
     "text": [
      "Evaluating with 816 users\n",
      "MRR@5 0.05\n",
      "MRR@20 0.075\n",
      "Average Recall@5 0.137\n",
      "Average Recall@20 0.382\n",
      "Training model WTF with hyperparameters {'k': 80, 'l2': 100000, 'v': 0.5, 'alpha': 1000, 'max_iterations': 10, 'default_context_1': False}\n"
     ]
    },
    {
     "data": {
      "application/vnd.jupyter.widget-view+json": {
       "model_id": "55e86d59c8814166ac601d8998de8e66",
       "version_major": 2,
       "version_minor": 0
      },
      "text/plain": [
       "  0%|          | 0/10 [00:00<?, ?it/s]"
      ]
     },
     "metadata": {},
     "output_type": "display_data"
    },
    {
     "name": "stdout",
     "output_type": "stream",
     "text": [
      "Evaluating with 816 users\n",
      "MRR@5 0.0\n",
      "MRR@20 0.0\n",
      "Average Recall@5 0.0\n",
      "Average Recall@20 0.0\n",
      "Training model WTF with hyperparameters {'k': 80, 'l2': 100, 'v': 1, 'alpha': 1000, 'max_iterations': 10, 'default_context_1': False}\n"
     ]
    },
    {
     "data": {
      "application/vnd.jupyter.widget-view+json": {
       "model_id": "0f071004cec24e7d817347dcaf2bdbfb",
       "version_major": 2,
       "version_minor": 0
      },
      "text/plain": [
       "  0%|          | 0/10 [00:00<?, ?it/s]"
      ]
     },
     "metadata": {},
     "output_type": "display_data"
    },
    {
     "name": "stdout",
     "output_type": "stream",
     "text": [
      "Evaluating with 816 users\n",
      "MRR@5 0.087\n",
      "MRR@20 0.115\n",
      "Average Recall@5 0.174\n",
      "Average Recall@20 0.466\n",
      "Training model WTF with hyperparameters {'k': 80, 'l2': 1000, 'v': 1, 'alpha': 1000, 'max_iterations': 10, 'default_context_1': False}\n"
     ]
    },
    {
     "data": {
      "application/vnd.jupyter.widget-view+json": {
       "model_id": "c3f306d5d7114971babdb45f1a2cc6e3",
       "version_major": 2,
       "version_minor": 0
      },
      "text/plain": [
       "  0%|          | 0/10 [00:00<?, ?it/s]"
      ]
     },
     "metadata": {},
     "output_type": "display_data"
    },
    {
     "name": "stdout",
     "output_type": "stream",
     "text": [
      "Evaluating with 816 users\n",
      "MRR@5 0.099\n",
      "MRR@20 0.124\n",
      "Average Recall@5 0.179\n",
      "Average Recall@20 0.444\n",
      "Training model WTF with hyperparameters {'k': 80, 'l2': 10000, 'v': 1, 'alpha': 1000, 'max_iterations': 10, 'default_context_1': False}\n"
     ]
    },
    {
     "data": {
      "application/vnd.jupyter.widget-view+json": {
       "model_id": "21960391e8b64b968761e12dff55b2e2",
       "version_major": 2,
       "version_minor": 0
      },
      "text/plain": [
       "  0%|          | 0/10 [00:00<?, ?it/s]"
      ]
     },
     "metadata": {},
     "output_type": "display_data"
    },
    {
     "name": "stdout",
     "output_type": "stream",
     "text": [
      "Evaluating with 816 users\n",
      "MRR@5 0.035\n",
      "MRR@20 0.062\n",
      "Average Recall@5 0.076\n",
      "Average Recall@20 0.377\n",
      "Training model WTF with hyperparameters {'k': 80, 'l2': 100000, 'v': 1, 'alpha': 1000, 'max_iterations': 10, 'default_context_1': False}\n"
     ]
    },
    {
     "data": {
      "application/vnd.jupyter.widget-view+json": {
       "model_id": "3f627d0e17b743b8aa099390d85e69c2",
       "version_major": 2,
       "version_minor": 0
      },
      "text/plain": [
       "  0%|          | 0/10 [00:00<?, ?it/s]"
      ]
     },
     "metadata": {},
     "output_type": "display_data"
    },
    {
     "name": "stdout",
     "output_type": "stream",
     "text": [
      "Evaluating with 816 users\n",
      "MRR@5 0.0\n",
      "MRR@20 0.0\n",
      "Average Recall@5 0.0\n",
      "Average Recall@20 0.0\n",
      "Training model WTF with hyperparameters {'k': 80, 'l2': 100, 'v': 0, 'alpha': 10000, 'max_iterations': 10, 'default_context_1': False}\n"
     ]
    },
    {
     "data": {
      "application/vnd.jupyter.widget-view+json": {
       "model_id": "af10f3d83c9147d8ae0f1a2eb1bf49ab",
       "version_major": 2,
       "version_minor": 0
      },
      "text/plain": [
       "  0%|          | 0/10 [00:00<?, ?it/s]"
      ]
     },
     "metadata": {},
     "output_type": "display_data"
    },
    {
     "name": "stdout",
     "output_type": "stream",
     "text": [
      "Evaluating with 816 users\n",
      "MRR@5 0.038\n",
      "MRR@20 0.045\n",
      "Average Recall@5 0.072\n",
      "Average Recall@20 0.135\n",
      "Training model WTF with hyperparameters {'k': 80, 'l2': 1000, 'v': 0, 'alpha': 10000, 'max_iterations': 10, 'default_context_1': False}\n"
     ]
    },
    {
     "data": {
      "application/vnd.jupyter.widget-view+json": {
       "model_id": "2308ba1d28a34be78a37eeffcb894a55",
       "version_major": 2,
       "version_minor": 0
      },
      "text/plain": [
       "  0%|          | 0/10 [00:00<?, ?it/s]"
      ]
     },
     "metadata": {},
     "output_type": "display_data"
    },
    {
     "name": "stdout",
     "output_type": "stream",
     "text": [
      "Evaluating with 816 users\n",
      "MRR@5 0.048\n",
      "MRR@20 0.054\n",
      "Average Recall@5 0.086\n",
      "Average Recall@20 0.141\n",
      "Training model WTF with hyperparameters {'k': 80, 'l2': 10000, 'v': 0, 'alpha': 10000, 'max_iterations': 10, 'default_context_1': False}\n"
     ]
    },
    {
     "data": {
      "application/vnd.jupyter.widget-view+json": {
       "model_id": "e093ee74adf8482b972e80cce3730171",
       "version_major": 2,
       "version_minor": 0
      },
      "text/plain": [
       "  0%|          | 0/10 [00:00<?, ?it/s]"
      ]
     },
     "metadata": {},
     "output_type": "display_data"
    },
    {
     "name": "stdout",
     "output_type": "stream",
     "text": [
      "Evaluating with 816 users\n",
      "MRR@5 0.06\n",
      "MRR@20 0.073\n",
      "Average Recall@5 0.138\n",
      "Average Recall@20 0.265\n",
      "Training model WTF with hyperparameters {'k': 80, 'l2': 100000, 'v': 0, 'alpha': 10000, 'max_iterations': 10, 'default_context_1': False}\n"
     ]
    },
    {
     "data": {
      "application/vnd.jupyter.widget-view+json": {
       "model_id": "24567105422a4bb8b4255a2b622ed798",
       "version_major": 2,
       "version_minor": 0
      },
      "text/plain": [
       "  0%|          | 0/10 [00:00<?, ?it/s]"
      ]
     },
     "metadata": {},
     "output_type": "display_data"
    },
    {
     "name": "stdout",
     "output_type": "stream",
     "text": [
      "Evaluating with 816 users\n",
      "MRR@5 0.058\n",
      "MRR@20 0.07\n",
      "Average Recall@5 0.141\n",
      "Average Recall@20 0.263\n",
      "Training model WTF with hyperparameters {'k': 80, 'l2': 100, 'v': 0.5, 'alpha': 10000, 'max_iterations': 10, 'default_context_1': False}\n"
     ]
    },
    {
     "data": {
      "application/vnd.jupyter.widget-view+json": {
       "model_id": "2a71c5d3b71544d5a79fdc4f62819fb5",
       "version_major": 2,
       "version_minor": 0
      },
      "text/plain": [
       "  0%|          | 0/10 [00:00<?, ?it/s]"
      ]
     },
     "metadata": {},
     "output_type": "display_data"
    },
    {
     "name": "stdout",
     "output_type": "stream",
     "text": [
      "Evaluating with 816 users\n",
      "MRR@5 0.03\n",
      "MRR@20 0.038\n",
      "Average Recall@5 0.056\n",
      "Average Recall@20 0.157\n",
      "Training model WTF with hyperparameters {'k': 80, 'l2': 1000, 'v': 0.5, 'alpha': 10000, 'max_iterations': 10, 'default_context_1': False}\n"
     ]
    },
    {
     "data": {
      "application/vnd.jupyter.widget-view+json": {
       "model_id": "2d3b0e07ccce48cb8032e11ff971299f",
       "version_major": 2,
       "version_minor": 0
      },
      "text/plain": [
       "  0%|          | 0/10 [00:00<?, ?it/s]"
      ]
     },
     "metadata": {},
     "output_type": "display_data"
    },
    {
     "name": "stdout",
     "output_type": "stream",
     "text": [
      "Evaluating with 816 users\n",
      "MRR@5 0.05\n",
      "MRR@20 0.066\n",
      "Average Recall@5 0.085\n",
      "Average Recall@20 0.266\n",
      "Training model WTF with hyperparameters {'k': 80, 'l2': 10000, 'v': 0.5, 'alpha': 10000, 'max_iterations': 10, 'default_context_1': False}\n"
     ]
    },
    {
     "data": {
      "application/vnd.jupyter.widget-view+json": {
       "model_id": "19bc75d75eed462db443fa6071ce9c61",
       "version_major": 2,
       "version_minor": 0
      },
      "text/plain": [
       "  0%|          | 0/10 [00:00<?, ?it/s]"
      ]
     },
     "metadata": {},
     "output_type": "display_data"
    },
    {
     "name": "stdout",
     "output_type": "stream",
     "text": [
      "Evaluating with 816 users\n",
      "MRR@5 0.033\n",
      "MRR@20 0.049\n",
      "Average Recall@5 0.094\n",
      "Average Recall@20 0.256\n",
      "Training model WTF with hyperparameters {'k': 80, 'l2': 100000, 'v': 0.5, 'alpha': 10000, 'max_iterations': 10, 'default_context_1': False}\n"
     ]
    },
    {
     "data": {
      "application/vnd.jupyter.widget-view+json": {
       "model_id": "b4a49a597d5e4d1f92fc80fd4d535b97",
       "version_major": 2,
       "version_minor": 0
      },
      "text/plain": [
       "  0%|          | 0/10 [00:00<?, ?it/s]"
      ]
     },
     "metadata": {},
     "output_type": "display_data"
    },
    {
     "name": "stdout",
     "output_type": "stream",
     "text": [
      "Evaluating with 816 users\n",
      "MRR@5 0.059\n",
      "MRR@20 0.085\n",
      "Average Recall@5 0.173\n",
      "Average Recall@20 0.409\n",
      "Training model WTF with hyperparameters {'k': 80, 'l2': 100, 'v': 1, 'alpha': 10000, 'max_iterations': 10, 'default_context_1': False}\n"
     ]
    },
    {
     "data": {
      "application/vnd.jupyter.widget-view+json": {
       "model_id": "89d65da9212e41da95b1af1c1b9b88c0",
       "version_major": 2,
       "version_minor": 0
      },
      "text/plain": [
       "  0%|          | 0/10 [00:00<?, ?it/s]"
      ]
     },
     "metadata": {},
     "output_type": "display_data"
    },
    {
     "name": "stdout",
     "output_type": "stream",
     "text": [
      "Evaluating with 816 users\n",
      "MRR@5 0.023\n",
      "MRR@20 0.034\n",
      "Average Recall@5 0.054\n",
      "Average Recall@20 0.181\n",
      "Training model WTF with hyperparameters {'k': 80, 'l2': 1000, 'v': 1, 'alpha': 10000, 'max_iterations': 10, 'default_context_1': False}\n"
     ]
    },
    {
     "data": {
      "application/vnd.jupyter.widget-view+json": {
       "model_id": "b101134cdbef4c448e0362ebb589ecc6",
       "version_major": 2,
       "version_minor": 0
      },
      "text/plain": [
       "  0%|          | 0/10 [00:00<?, ?it/s]"
      ]
     },
     "metadata": {},
     "output_type": "display_data"
    },
    {
     "name": "stdout",
     "output_type": "stream",
     "text": [
      "Evaluating with 816 users\n",
      "MRR@5 0.036\n",
      "MRR@20 0.052\n",
      "Average Recall@5 0.069\n",
      "Average Recall@20 0.254\n",
      "Training model WTF with hyperparameters {'k': 80, 'l2': 10000, 'v': 1, 'alpha': 10000, 'max_iterations': 10, 'default_context_1': False}\n"
     ]
    },
    {
     "data": {
      "application/vnd.jupyter.widget-view+json": {
       "model_id": "111c3f1cc85d45d1b2487ffbb8eef8fa",
       "version_major": 2,
       "version_minor": 0
      },
      "text/plain": [
       "  0%|          | 0/10 [00:00<?, ?it/s]"
      ]
     },
     "metadata": {},
     "output_type": "display_data"
    },
    {
     "name": "stdout",
     "output_type": "stream",
     "text": [
      "Evaluating with 816 users\n",
      "MRR@5 0.013\n",
      "MRR@20 0.02\n",
      "Average Recall@5 0.025\n",
      "Average Recall@20 0.104\n",
      "Training model WTF with hyperparameters {'k': 80, 'l2': 100000, 'v': 1, 'alpha': 10000, 'max_iterations': 10, 'default_context_1': False}\n"
     ]
    },
    {
     "data": {
      "application/vnd.jupyter.widget-view+json": {
       "model_id": "85866b70ebba4043b1900970366d0225",
       "version_major": 2,
       "version_minor": 0
      },
      "text/plain": [
       "  0%|          | 0/10 [00:00<?, ?it/s]"
      ]
     },
     "metadata": {},
     "output_type": "display_data"
    },
    {
     "name": "stdout",
     "output_type": "stream",
     "text": [
      "Evaluating with 816 users\n",
      "MRR@5 0.001\n",
      "MRR@20 0.003\n",
      "Average Recall@5 0.002\n",
      "Average Recall@20 0.029\n",
      "Training model WTF with hyperparameters {'k': 80, 'l2': 100, 'v': 0, 'alpha': 100000, 'max_iterations': 10, 'default_context_1': False}\n"
     ]
    },
    {
     "data": {
      "application/vnd.jupyter.widget-view+json": {
       "model_id": "ae491ce57665469da47350ce987693d6",
       "version_major": 2,
       "version_minor": 0
      },
      "text/plain": [
       "  0%|          | 0/10 [00:00<?, ?it/s]"
      ]
     },
     "metadata": {},
     "output_type": "display_data"
    },
    {
     "name": "stdout",
     "output_type": "stream",
     "text": [
      "Evaluating with 816 users\n",
      "MRR@5 0.02\n",
      "MRR@20 0.026\n",
      "Average Recall@5 0.038\n",
      "Average Recall@20 0.096\n",
      "Training model WTF with hyperparameters {'k': 80, 'l2': 1000, 'v': 0, 'alpha': 100000, 'max_iterations': 10, 'default_context_1': False}\n"
     ]
    },
    {
     "data": {
      "application/vnd.jupyter.widget-view+json": {
       "model_id": "8590ddb7362443cd84875051e201b20f",
       "version_major": 2,
       "version_minor": 0
      },
      "text/plain": [
       "  0%|          | 0/10 [00:00<?, ?it/s]"
      ]
     },
     "metadata": {},
     "output_type": "display_data"
    },
    {
     "name": "stdout",
     "output_type": "stream",
     "text": [
      "Evaluating with 816 users\n",
      "MRR@5 0.018\n",
      "MRR@20 0.023\n",
      "Average Recall@5 0.039\n",
      "Average Recall@20 0.091\n",
      "Training model WTF with hyperparameters {'k': 80, 'l2': 10000, 'v': 0, 'alpha': 100000, 'max_iterations': 10, 'default_context_1': False}\n"
     ]
    },
    {
     "data": {
      "application/vnd.jupyter.widget-view+json": {
       "model_id": "f1a8346006bb4386a6013c584ff6ced4",
       "version_major": 2,
       "version_minor": 0
      },
      "text/plain": [
       "  0%|          | 0/10 [00:00<?, ?it/s]"
      ]
     },
     "metadata": {},
     "output_type": "display_data"
    },
    {
     "name": "stdout",
     "output_type": "stream",
     "text": [
      "Evaluating with 816 users\n",
      "MRR@5 0.036\n",
      "MRR@20 0.04\n",
      "Average Recall@5 0.064\n",
      "Average Recall@20 0.104\n",
      "Training model WTF with hyperparameters {'k': 80, 'l2': 100000, 'v': 0, 'alpha': 100000, 'max_iterations': 10, 'default_context_1': False}\n"
     ]
    },
    {
     "data": {
      "application/vnd.jupyter.widget-view+json": {
       "model_id": "460cf98ca79542bf9fc14399b3abaa74",
       "version_major": 2,
       "version_minor": 0
      },
      "text/plain": [
       "  0%|          | 0/10 [00:00<?, ?it/s]"
      ]
     },
     "metadata": {},
     "output_type": "display_data"
    },
    {
     "name": "stdout",
     "output_type": "stream",
     "text": [
      "Evaluating with 816 users\n",
      "MRR@5 0.051\n",
      "MRR@20 0.063\n",
      "Average Recall@5 0.11\n",
      "Average Recall@20 0.229\n",
      "Training model WTF with hyperparameters {'k': 80, 'l2': 100, 'v': 0.5, 'alpha': 100000, 'max_iterations': 10, 'default_context_1': False}\n"
     ]
    },
    {
     "data": {
      "application/vnd.jupyter.widget-view+json": {
       "model_id": "1db29ea74ead4f04b88cf1ecd582a8c9",
       "version_major": 2,
       "version_minor": 0
      },
      "text/plain": [
       "  0%|          | 0/10 [00:00<?, ?it/s]"
      ]
     },
     "metadata": {},
     "output_type": "display_data"
    },
    {
     "name": "stdout",
     "output_type": "stream",
     "text": [
      "Evaluating with 816 users\n",
      "MRR@5 0.013\n",
      "MRR@20 0.017\n",
      "Average Recall@5 0.021\n",
      "Average Recall@20 0.075\n",
      "Training model WTF with hyperparameters {'k': 80, 'l2': 1000, 'v': 0.5, 'alpha': 100000, 'max_iterations': 10, 'default_context_1': False}\n"
     ]
    },
    {
     "data": {
      "application/vnd.jupyter.widget-view+json": {
       "model_id": "abf5c2e482a84ecbb8918afcf867ca3a",
       "version_major": 2,
       "version_minor": 0
      },
      "text/plain": [
       "  0%|          | 0/10 [00:00<?, ?it/s]"
      ]
     },
     "metadata": {},
     "output_type": "display_data"
    },
    {
     "name": "stdout",
     "output_type": "stream",
     "text": [
      "Evaluating with 816 users\n",
      "MRR@5 0.013\n",
      "MRR@20 0.017\n",
      "Average Recall@5 0.022\n",
      "Average Recall@20 0.077\n",
      "Training model WTF with hyperparameters {'k': 80, 'l2': 10000, 'v': 0.5, 'alpha': 100000, 'max_iterations': 10, 'default_context_1': False}\n"
     ]
    },
    {
     "data": {
      "application/vnd.jupyter.widget-view+json": {
       "model_id": "b4dd8030696e48c1897484c1315d17b5",
       "version_major": 2,
       "version_minor": 0
      },
      "text/plain": [
       "  0%|          | 0/10 [00:00<?, ?it/s]"
      ]
     },
     "metadata": {},
     "output_type": "display_data"
    },
    {
     "name": "stdout",
     "output_type": "stream",
     "text": [
      "Evaluating with 816 users\n",
      "MRR@5 0.026\n",
      "MRR@20 0.039\n",
      "Average Recall@5 0.054\n",
      "Average Recall@20 0.206\n",
      "Training model WTF with hyperparameters {'k': 80, 'l2': 100000, 'v': 0.5, 'alpha': 100000, 'max_iterations': 10, 'default_context_1': False}\n"
     ]
    },
    {
     "data": {
      "application/vnd.jupyter.widget-view+json": {
       "model_id": "62e7b5e52cae46c0a1e2ef5c90d01d6a",
       "version_major": 2,
       "version_minor": 0
      },
      "text/plain": [
       "  0%|          | 0/10 [00:00<?, ?it/s]"
      ]
     },
     "metadata": {},
     "output_type": "display_data"
    },
    {
     "name": "stdout",
     "output_type": "stream",
     "text": [
      "Evaluating with 816 users\n",
      "MRR@5 0.018\n",
      "MRR@20 0.031\n",
      "Average Recall@5 0.061\n",
      "Average Recall@20 0.2\n",
      "Training model WTF with hyperparameters {'k': 80, 'l2': 100, 'v': 1, 'alpha': 100000, 'max_iterations': 10, 'default_context_1': False}\n"
     ]
    },
    {
     "data": {
      "application/vnd.jupyter.widget-view+json": {
       "model_id": "e1d6af2d73e741c6a27aae6b84305c51",
       "version_major": 2,
       "version_minor": 0
      },
      "text/plain": [
       "  0%|          | 0/10 [00:00<?, ?it/s]"
      ]
     },
     "metadata": {},
     "output_type": "display_data"
    },
    {
     "name": "stdout",
     "output_type": "stream",
     "text": [
      "Evaluating with 816 users\n",
      "MRR@5 0.006\n",
      "MRR@20 0.008\n",
      "Average Recall@5 0.011\n",
      "Average Recall@20 0.033\n",
      "Training model WTF with hyperparameters {'k': 80, 'l2': 1000, 'v': 1, 'alpha': 100000, 'max_iterations': 10, 'default_context_1': False}\n"
     ]
    },
    {
     "data": {
      "application/vnd.jupyter.widget-view+json": {
       "model_id": "468639a2f643451c9c26dcf13315b192",
       "version_major": 2,
       "version_minor": 0
      },
      "text/plain": [
       "  0%|          | 0/10 [00:00<?, ?it/s]"
      ]
     },
     "metadata": {},
     "output_type": "display_data"
    },
    {
     "name": "stdout",
     "output_type": "stream",
     "text": [
      "Evaluating with 816 users\n",
      "MRR@5 0.006\n",
      "MRR@20 0.008\n",
      "Average Recall@5 0.016\n",
      "Average Recall@20 0.04\n",
      "Training model WTF with hyperparameters {'k': 80, 'l2': 10000, 'v': 1, 'alpha': 100000, 'max_iterations': 10, 'default_context_1': False}\n"
     ]
    },
    {
     "data": {
      "application/vnd.jupyter.widget-view+json": {
       "model_id": "654812a53c694b1a8135eeb3db209169",
       "version_major": 2,
       "version_minor": 0
      },
      "text/plain": [
       "  0%|          | 0/10 [00:00<?, ?it/s]"
      ]
     },
     "metadata": {},
     "output_type": "display_data"
    },
    {
     "name": "stdout",
     "output_type": "stream",
     "text": [
      "Evaluating with 816 users\n",
      "MRR@5 0.007\n",
      "MRR@20 0.01\n",
      "Average Recall@5 0.012\n",
      "Average Recall@20 0.051\n",
      "Training model WTF with hyperparameters {'k': 80, 'l2': 100000, 'v': 1, 'alpha': 100000, 'max_iterations': 10, 'default_context_1': False}\n"
     ]
    },
    {
     "data": {
      "application/vnd.jupyter.widget-view+json": {
       "model_id": "0f623e7526434b4b9f59477ba136d0e0",
       "version_major": 2,
       "version_minor": 0
      },
      "text/plain": [
       "  0%|          | 0/10 [00:00<?, ?it/s]"
      ]
     },
     "metadata": {},
     "output_type": "display_data"
    },
    {
     "name": "stdout",
     "output_type": "stream",
     "text": [
      "Evaluating with 816 users\n",
      "MRR@5 0.001\n",
      "MRR@20 0.002\n",
      "Average Recall@5 0.001\n",
      "Average Recall@20 0.017\n",
      "CPU times: user 7min 53s, sys: 2min 36s, total: 10min 29s\n",
      "Wall time: 2h 10min 50s\n"
     ]
    },
    {
     "data": {
      "text/plain": [
       "\"Best score of 0.18515126468553098 achieved with {'k': 80, 'l2': 100, 'v': 1, 'alpha': 100, 'max_iterations': 10, 'default_context_1': False}.\""
      ]
     },
     "execution_count": 8,
     "metadata": {},
     "output_type": "execute_result"
    }
   ],
   "source": [
    "%%time\n",
    "score, best_hyperparams = evaluation.cars.gridsearch(ALG, train, test, HYPERPARAMS, retarget=RETARGET)\n",
    "f\"Best score of {score} achieved with {best_hyperparams}.\""
   ]
  },
  {
   "cell_type": "markdown",
   "id": "e89dad17",
   "metadata": {},
   "source": [
    "## Evaluate model with optimal hyperparams with KFolds Cross validation"
   ]
  },
  {
   "cell_type": "code",
   "execution_count": 9,
   "id": "81674e0b",
   "metadata": {
    "scrolled": true
   },
   "outputs": [
    {
     "data": {
      "application/vnd.jupyter.widget-view+json": {
       "model_id": "25ad414d7bad482eae2de72a8f3dcf4d",
       "version_major": 2,
       "version_minor": 0
      },
      "text/plain": [
       "  0%|          | 0/10 [00:00<?, ?it/s]"
      ]
     },
     "metadata": {},
     "output_type": "display_data"
    },
    {
     "name": "stdout",
     "output_type": "stream",
     "text": [
      "Evaluating with 816 users\n"
     ]
    },
    {
     "data": {
      "application/vnd.jupyter.widget-view+json": {
       "model_id": "fa0e8dbcedf643b795c104d7605576f6",
       "version_major": 2,
       "version_minor": 0
      },
      "text/plain": [
       "  0%|          | 0/10 [00:00<?, ?it/s]"
      ]
     },
     "metadata": {},
     "output_type": "display_data"
    },
    {
     "name": "stdout",
     "output_type": "stream",
     "text": [
      "Evaluating with 816 users\n"
     ]
    },
    {
     "data": {
      "application/vnd.jupyter.widget-view+json": {
       "model_id": "1373053ea2f74ccda2a4d6d6f6d95748",
       "version_major": 2,
       "version_minor": 0
      },
      "text/plain": [
       "  0%|          | 0/10 [00:00<?, ?it/s]"
      ]
     },
     "metadata": {},
     "output_type": "display_data"
    },
    {
     "name": "stdout",
     "output_type": "stream",
     "text": [
      "Evaluating with 816 users\n"
     ]
    },
    {
     "data": {
      "application/vnd.jupyter.widget-view+json": {
       "model_id": "cb1a0d97b8324bd7903ab2f462215dbd",
       "version_major": 2,
       "version_minor": 0
      },
      "text/plain": [
       "  0%|          | 0/10 [00:00<?, ?it/s]"
      ]
     },
     "metadata": {},
     "output_type": "display_data"
    },
    {
     "name": "stdout",
     "output_type": "stream",
     "text": [
      "Evaluating with 816 users\n"
     ]
    },
    {
     "data": {
      "application/vnd.jupyter.widget-view+json": {
       "model_id": "905c2a63adec4fa496d84a0971703c56",
       "version_major": 2,
       "version_minor": 0
      },
      "text/plain": [
       "  0%|          | 0/10 [00:00<?, ?it/s]"
      ]
     },
     "metadata": {},
     "output_type": "display_data"
    },
    {
     "name": "stdout",
     "output_type": "stream",
     "text": [
      "Evaluating with 816 users\n",
      "MRR@5 0.168 (0.006)\n",
      "MRR@20 0.199 (0.006)\n",
      "Average Recall@5 0.299 (0.007)\n",
      "Average Recall@20 0.591 (0.011)\n",
      "CPU times: user 49 s, sys: 16.5 s, total: 1min 5s\n",
      "Wall time: 13min 56s\n"
     ]
    }
   ],
   "source": [
    "%%time\n",
    "alg = ALG(**best_hyperparams)\n",
    "results = evaluation.cars.contextKFoldsEval(alg, data, nr_folds=5, seed=SEED2, retarget=RETARGET)"
   ]
  }
 ],
 "metadata": {
  "kernelspec": {
   "display_name": "Python 3 (ipykernel)",
   "language": "python",
   "name": "python3"
  },
  "language_info": {
   "codemirror_mode": {
    "name": "ipython",
    "version": 3
   },
   "file_extension": ".py",
   "mimetype": "text/x-python",
   "name": "python",
   "nbconvert_exporter": "python",
   "pygments_lexer": "ipython3",
   "version": "3.10.6"
  }
 },
 "nbformat": 4,
 "nbformat_minor": 5
}
