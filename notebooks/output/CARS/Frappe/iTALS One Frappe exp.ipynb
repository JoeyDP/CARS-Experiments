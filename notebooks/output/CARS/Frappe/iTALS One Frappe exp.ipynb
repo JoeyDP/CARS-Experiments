{
 "cells": [
  {
   "cell_type": "code",
   "execution_count": 1,
   "id": "9ef88bc4",
   "metadata": {},
   "outputs": [],
   "source": [
    "%load_ext autoreload\n",
    "%autoreload 2"
   ]
  },
  {
   "cell_type": "markdown",
   "id": "55bab0c8",
   "metadata": {},
   "source": [
    "# Experiments with iTALS model"
   ]
  },
  {
   "cell_type": "code",
   "execution_count": 2,
   "id": "ec55d42c",
   "metadata": {},
   "outputs": [],
   "source": [
    "from pathlib import Path\n",
    "\n",
    "import src.io as io\n",
    "import src.evaluation as evaluation\n",
    "import src.evaluation.splits\n",
    "import src.evaluation.cars\n",
    "\n",
    "from src.algorithm.cars.itals import iTALS"
   ]
  },
  {
   "cell_type": "markdown",
   "id": "c469b253",
   "metadata": {},
   "source": [
    "## Datasets"
   ]
  },
  {
   "cell_type": "code",
   "execution_count": 3,
   "id": "e0622ed1",
   "metadata": {},
   "outputs": [],
   "source": [
    "## Uncomment corresponding directory.\n",
    "## RETARGET True for Frappe, False for the others\n",
    "\n",
    "DATA_DIR, RETARGET = Path('../../../data/CARS/Mobile_Frappe/'), True\n",
    "# DATA_DIR, RETARGET = Path('../../../data/CARS/Food_com/'), False\n",
    "# DATA_DIR, RETARGET = Path('../../../data/CARS/TripAdvisor/'), False"
   ]
  },
  {
   "cell_type": "code",
   "execution_count": 4,
   "id": "d53bce36",
   "metadata": {},
   "outputs": [],
   "source": [
    "# Shouldn't need to change this info\n",
    "INTERACTIONS = DATA_DIR / 'interactions.csv'\n",
    "\n",
    "SEED = 123456\n",
    "SEED2 = 78910\n",
    "\n",
    "ITEM_ID = 'item'\n",
    "USER_ID = 'user'"
   ]
  },
  {
   "cell_type": "markdown",
   "id": "48457625",
   "metadata": {},
   "source": [
    "## Define algorithm and hyperparameter ranges"
   ]
  },
  {
   "cell_type": "code",
   "execution_count": 5,
   "id": "11a5ac4c",
   "metadata": {},
   "outputs": [
    {
     "data": {
      "text/plain": [
       "{'k': [80],\n",
       " 'l2': [100, 1000, 10000, 100000],\n",
       " 'v': [0, 0.5, 1],\n",
       " 'alpha': [100, 1000, 10000, 100000],\n",
       " 'max_iterations': [10],\n",
       " 'default_context_1': [True]}"
      ]
     },
     "execution_count": 5,
     "metadata": {},
     "output_type": "execute_result"
    }
   ],
   "source": [
    "ALG = iTALS\n",
    "\n",
    "\n",
    "K = [80]\n",
    "MAX_IT = [10]\n",
    "DEFAULT_CONTEXT_1 = [True]\n",
    "\n",
    "L2 = [100, 1000, 10000, 100000]\n",
    "V = [0, 0.5, 1]\n",
    "ALPHA = [100, 1000, 10000, 100000]\n",
    "\n",
    "HYPERPARAMS = {'k': K, 'l2': L2, 'v': V, 'alpha': ALPHA, 'max_iterations': MAX_IT, 'default_context_1': DEFAULT_CONTEXT_1}\n",
    "HYPERPARAMS"
   ]
  },
  {
   "cell_type": "markdown",
   "id": "32d25f41",
   "metadata": {},
   "source": [
    "## Parse data"
   ]
  },
  {
   "cell_type": "code",
   "execution_count": 6,
   "id": "ce0d0435",
   "metadata": {},
   "outputs": [
    {
     "data": {
      "text/html": [
       "<div>\n",
       "<style scoped>\n",
       "    .dataframe tbody tr th:only-of-type {\n",
       "        vertical-align: middle;\n",
       "    }\n",
       "\n",
       "    .dataframe tbody tr th {\n",
       "        vertical-align: top;\n",
       "    }\n",
       "\n",
       "    .dataframe thead th {\n",
       "        text-align: right;\n",
       "    }\n",
       "</style>\n",
       "<table border=\"1\" class=\"dataframe\">\n",
       "  <thead>\n",
       "    <tr style=\"text-align: right;\">\n",
       "      <th></th>\n",
       "      <th>userId</th>\n",
       "      <th>itemId</th>\n",
       "      <th>daytime</th>\n",
       "      <th>weather</th>\n",
       "      <th>weekday</th>\n",
       "    </tr>\n",
       "  </thead>\n",
       "  <tbody>\n",
       "    <tr>\n",
       "      <th>0</th>\n",
       "      <td>0</td>\n",
       "      <td>0</td>\n",
       "      <td>1</td>\n",
       "      <td>1</td>\n",
       "      <td>1</td>\n",
       "    </tr>\n",
       "    <tr>\n",
       "      <th>1</th>\n",
       "      <td>1</td>\n",
       "      <td>1</td>\n",
       "      <td>2</td>\n",
       "      <td>2</td>\n",
       "      <td>2</td>\n",
       "    </tr>\n",
       "    <tr>\n",
       "      <th>2</th>\n",
       "      <td>2</td>\n",
       "      <td>2</td>\n",
       "      <td>3</td>\n",
       "      <td>2</td>\n",
       "      <td>3</td>\n",
       "    </tr>\n",
       "    <tr>\n",
       "      <th>3</th>\n",
       "      <td>3</td>\n",
       "      <td>3</td>\n",
       "      <td>4</td>\n",
       "      <td>0</td>\n",
       "      <td>4</td>\n",
       "    </tr>\n",
       "    <tr>\n",
       "      <th>4</th>\n",
       "      <td>4</td>\n",
       "      <td>4</td>\n",
       "      <td>5</td>\n",
       "      <td>1</td>\n",
       "      <td>4</td>\n",
       "    </tr>\n",
       "    <tr>\n",
       "      <th>...</th>\n",
       "      <td>...</td>\n",
       "      <td>...</td>\n",
       "      <td>...</td>\n",
       "      <td>...</td>\n",
       "      <td>...</td>\n",
       "    </tr>\n",
       "    <tr>\n",
       "      <th>95997</th>\n",
       "      <td>109</td>\n",
       "      <td>0</td>\n",
       "      <td>3</td>\n",
       "      <td>1</td>\n",
       "      <td>1</td>\n",
       "    </tr>\n",
       "    <tr>\n",
       "      <th>95998</th>\n",
       "      <td>37</td>\n",
       "      <td>16</td>\n",
       "      <td>4</td>\n",
       "      <td>2</td>\n",
       "      <td>1</td>\n",
       "    </tr>\n",
       "    <tr>\n",
       "      <th>95999</th>\n",
       "      <td>180</td>\n",
       "      <td>33</td>\n",
       "      <td>2</td>\n",
       "      <td>2</td>\n",
       "      <td>1</td>\n",
       "    </tr>\n",
       "    <tr>\n",
       "      <th>96000</th>\n",
       "      <td>445</td>\n",
       "      <td>751</td>\n",
       "      <td>3</td>\n",
       "      <td>1</td>\n",
       "      <td>1</td>\n",
       "    </tr>\n",
       "    <tr>\n",
       "      <th>96001</th>\n",
       "      <td>361</td>\n",
       "      <td>380</td>\n",
       "      <td>3</td>\n",
       "      <td>2</td>\n",
       "      <td>4</td>\n",
       "    </tr>\n",
       "  </tbody>\n",
       "</table>\n",
       "<p>96002 rows × 5 columns</p>\n",
       "</div>"
      ],
      "text/plain": [
       "       userId  itemId  daytime  weather  weekday\n",
       "0           0       0        1        1        1\n",
       "1           1       1        2        2        2\n",
       "2           2       2        3        2        3\n",
       "3           3       3        4        0        4\n",
       "4           4       4        5        1        4\n",
       "...       ...     ...      ...      ...      ...\n",
       "95997     109       0        3        1        1\n",
       "95998      37      16        4        2        1\n",
       "95999     180      33        2        2        1\n",
       "96000     445     751        3        1        1\n",
       "96001     361     380        3        2        4\n",
       "\n",
       "[96002 rows x 5 columns]"
      ]
     },
     "execution_count": 6,
     "metadata": {},
     "output_type": "execute_result"
    }
   ],
   "source": [
    "data = io.parse_interactions_with_context(INTERACTIONS, item_id=ITEM_ID, user_id=USER_ID)\n",
    "data.df"
   ]
  },
  {
   "cell_type": "markdown",
   "id": "4bef86fe",
   "metadata": {},
   "source": [
    "## Make train/val split for hyperparam tuning"
   ]
  },
  {
   "cell_type": "code",
   "execution_count": 7,
   "id": "95fe8671",
   "metadata": {},
   "outputs": [],
   "source": [
    "train, test = evaluation.splits.context_leave_one_out_split(data, seed=SEED)"
   ]
  },
  {
   "cell_type": "markdown",
   "id": "fc85ffb4",
   "metadata": {},
   "source": [
    "## Perform gridsearch on validation set"
   ]
  },
  {
   "cell_type": "code",
   "execution_count": 8,
   "id": "36a9347a",
   "metadata": {
    "scrolled": true
   },
   "outputs": [
    {
     "data": {
      "application/vnd.jupyter.widget-view+json": {
       "model_id": "306a3b2569f74671a1d9b29fe2b8850a",
       "version_major": 2,
       "version_minor": 0
      },
      "text/plain": [
       "  0%|          | 0/48 [00:00<?, ?it/s]"
      ]
     },
     "metadata": {},
     "output_type": "display_data"
    },
    {
     "name": "stdout",
     "output_type": "stream",
     "text": [
      "Training model iTALS with hyperparameters {'k': 80, 'l2': 100, 'v': 0, 'alpha': 100, 'max_iterations': 10, 'default_context_1': True}\n"
     ]
    },
    {
     "data": {
      "application/vnd.jupyter.widget-view+json": {
       "model_id": "5af2fe73d53b4e4cb754ad43fb7a0607",
       "version_major": 2,
       "version_minor": 0
      },
      "text/plain": [
       "  0%|          | 0/10 [00:00<?, ?it/s]"
      ]
     },
     "metadata": {},
     "output_type": "display_data"
    },
    {
     "name": "stdout",
     "output_type": "stream",
     "text": [
      "Evaluating with 816 users\n",
      "MRR@5 0.26\n",
      "MRR@20 0.28\n",
      "Average Recall@5 0.441\n",
      "Average Recall@20 0.618\n",
      "Training model iTALS with hyperparameters {'k': 80, 'l2': 1000, 'v': 0, 'alpha': 100, 'max_iterations': 10, 'default_context_1': True}\n"
     ]
    },
    {
     "data": {
      "application/vnd.jupyter.widget-view+json": {
       "model_id": "d04c1c9e978540b383932a0d183a0a71",
       "version_major": 2,
       "version_minor": 0
      },
      "text/plain": [
       "  0%|          | 0/10 [00:00<?, ?it/s]"
      ]
     },
     "metadata": {},
     "output_type": "display_data"
    },
    {
     "name": "stdout",
     "output_type": "stream",
     "text": [
      "Evaluating with 816 users\n",
      "MRR@5 0.259\n",
      "MRR@20 0.278\n",
      "Average Recall@5 0.438\n",
      "Average Recall@20 0.608\n",
      "Training model iTALS with hyperparameters {'k': 80, 'l2': 10000, 'v': 0, 'alpha': 100, 'max_iterations': 10, 'default_context_1': True}\n"
     ]
    },
    {
     "data": {
      "application/vnd.jupyter.widget-view+json": {
       "model_id": "aad3a55d4f654a92b76361f483388c5c",
       "version_major": 2,
       "version_minor": 0
      },
      "text/plain": [
       "  0%|          | 0/10 [00:00<?, ?it/s]"
      ]
     },
     "metadata": {},
     "output_type": "display_data"
    },
    {
     "name": "stdout",
     "output_type": "stream",
     "text": [
      "Evaluating with 816 users\n",
      "MRR@5 0.192\n",
      "MRR@20 0.211\n",
      "Average Recall@5 0.312\n",
      "Average Recall@20 0.49\n",
      "Training model iTALS with hyperparameters {'k': 80, 'l2': 100000, 'v': 0, 'alpha': 100, 'max_iterations': 10, 'default_context_1': True}\n"
     ]
    },
    {
     "data": {
      "application/vnd.jupyter.widget-view+json": {
       "model_id": "9c16e730672b433d92045a02a7426db5",
       "version_major": 2,
       "version_minor": 0
      },
      "text/plain": [
       "  0%|          | 0/10 [00:00<?, ?it/s]"
      ]
     },
     "metadata": {},
     "output_type": "display_data"
    },
    {
     "name": "stdout",
     "output_type": "stream",
     "text": [
      "Evaluating with 816 users\n",
      "MRR@5 0.13\n",
      "MRR@20 0.143\n",
      "Average Recall@5 0.241\n",
      "Average Recall@20 0.386\n",
      "Training model iTALS with hyperparameters {'k': 80, 'l2': 100, 'v': 0.5, 'alpha': 100, 'max_iterations': 10, 'default_context_1': True}\n"
     ]
    },
    {
     "data": {
      "application/vnd.jupyter.widget-view+json": {
       "model_id": "4f2ccb38c4bc4f3bbe18434a9d99be12",
       "version_major": 2,
       "version_minor": 0
      },
      "text/plain": [
       "  0%|          | 0/10 [00:00<?, ?it/s]"
      ]
     },
     "metadata": {},
     "output_type": "display_data"
    },
    {
     "name": "stdout",
     "output_type": "stream",
     "text": [
      "Evaluating with 816 users\n",
      "MRR@5 0.268\n",
      "MRR@20 0.289\n",
      "Average Recall@5 0.436\n",
      "Average Recall@20 0.63\n",
      "Training model iTALS with hyperparameters {'k': 80, 'l2': 1000, 'v': 0.5, 'alpha': 100, 'max_iterations': 10, 'default_context_1': True}\n"
     ]
    },
    {
     "data": {
      "application/vnd.jupyter.widget-view+json": {
       "model_id": "4c52ea466a15480a8ae521e434e510bf",
       "version_major": 2,
       "version_minor": 0
      },
      "text/plain": [
       "  0%|          | 0/10 [00:00<?, ?it/s]"
      ]
     },
     "metadata": {},
     "output_type": "display_data"
    },
    {
     "name": "stdout",
     "output_type": "stream",
     "text": [
      "Evaluating with 816 users\n",
      "MRR@5 0.268\n",
      "MRR@20 0.286\n",
      "Average Recall@5 0.434\n",
      "Average Recall@20 0.602\n",
      "Training model iTALS with hyperparameters {'k': 80, 'l2': 10000, 'v': 0.5, 'alpha': 100, 'max_iterations': 10, 'default_context_1': True}\n"
     ]
    },
    {
     "data": {
      "application/vnd.jupyter.widget-view+json": {
       "model_id": "ee89f8046104497b8b41663ca2acfc57",
       "version_major": 2,
       "version_minor": 0
      },
      "text/plain": [
       "  0%|          | 0/10 [00:00<?, ?it/s]"
      ]
     },
     "metadata": {},
     "output_type": "display_data"
    },
    {
     "name": "stdout",
     "output_type": "stream",
     "text": [
      "Evaluating with 816 users\n",
      "MRR@5 0.163\n",
      "MRR@20 0.181\n",
      "Average Recall@5 0.268\n",
      "Average Recall@20 0.439\n",
      "Training model iTALS with hyperparameters {'k': 80, 'l2': 100000, 'v': 0.5, 'alpha': 100, 'max_iterations': 10, 'default_context_1': True}\n"
     ]
    },
    {
     "data": {
      "application/vnd.jupyter.widget-view+json": {
       "model_id": "092aa06ee883469391dce3dc3da37b6d",
       "version_major": 2,
       "version_minor": 0
      },
      "text/plain": [
       "  0%|          | 0/10 [00:00<?, ?it/s]"
      ]
     },
     "metadata": {},
     "output_type": "display_data"
    },
    {
     "name": "stdout",
     "output_type": "stream",
     "text": [
      "Evaluating with 816 users\n",
      "MRR@5 0.128\n",
      "MRR@20 0.141\n",
      "Average Recall@5 0.243\n",
      "Average Recall@20 0.387\n",
      "Training model iTALS with hyperparameters {'k': 80, 'l2': 100, 'v': 1, 'alpha': 100, 'max_iterations': 10, 'default_context_1': True}\n"
     ]
    },
    {
     "data": {
      "application/vnd.jupyter.widget-view+json": {
       "model_id": "43227627439e430992147f31ed619945",
       "version_major": 2,
       "version_minor": 0
      },
      "text/plain": [
       "  0%|          | 0/10 [00:00<?, ?it/s]"
      ]
     },
     "metadata": {},
     "output_type": "display_data"
    },
    {
     "name": "stdout",
     "output_type": "stream",
     "text": [
      "Evaluating with 816 users\n",
      "MRR@5 0.271\n",
      "MRR@20 0.29\n",
      "Average Recall@5 0.446\n",
      "Average Recall@20 0.61\n",
      "Training model iTALS with hyperparameters {'k': 80, 'l2': 1000, 'v': 1, 'alpha': 100, 'max_iterations': 10, 'default_context_1': True}\n"
     ]
    },
    {
     "data": {
      "application/vnd.jupyter.widget-view+json": {
       "model_id": "5b74b3d4a4f34181ba14391da79a0172",
       "version_major": 2,
       "version_minor": 0
      },
      "text/plain": [
       "  0%|          | 0/10 [00:00<?, ?it/s]"
      ]
     },
     "metadata": {},
     "output_type": "display_data"
    },
    {
     "name": "stdout",
     "output_type": "stream",
     "text": [
      "Evaluating with 816 users\n",
      "MRR@5 0.27\n",
      "MRR@20 0.29\n",
      "Average Recall@5 0.438\n",
      "Average Recall@20 0.618\n",
      "Training model iTALS with hyperparameters {'k': 80, 'l2': 10000, 'v': 1, 'alpha': 100, 'max_iterations': 10, 'default_context_1': True}\n"
     ]
    },
    {
     "data": {
      "application/vnd.jupyter.widget-view+json": {
       "model_id": "097b2d6241a8488aac62f0f82826c844",
       "version_major": 2,
       "version_minor": 0
      },
      "text/plain": [
       "  0%|          | 0/10 [00:00<?, ?it/s]"
      ]
     },
     "metadata": {},
     "output_type": "display_data"
    },
    {
     "name": "stdout",
     "output_type": "stream",
     "text": [
      "Evaluating with 816 users\n",
      "MRR@5 0.244\n",
      "MRR@20 0.261\n",
      "Average Recall@5 0.374\n",
      "Average Recall@20 0.532\n",
      "Training model iTALS with hyperparameters {'k': 80, 'l2': 100000, 'v': 1, 'alpha': 100, 'max_iterations': 10, 'default_context_1': True}\n"
     ]
    },
    {
     "data": {
      "application/vnd.jupyter.widget-view+json": {
       "model_id": "c42a60a1648b45c7affc0ce98cdd1c42",
       "version_major": 2,
       "version_minor": 0
      },
      "text/plain": [
       "  0%|          | 0/10 [00:00<?, ?it/s]"
      ]
     },
     "metadata": {},
     "output_type": "display_data"
    },
    {
     "name": "stdout",
     "output_type": "stream",
     "text": [
      "Evaluating with 816 users\n",
      "MRR@5 0.127\n",
      "MRR@20 0.14\n",
      "Average Recall@5 0.24\n",
      "Average Recall@20 0.387\n",
      "Training model iTALS with hyperparameters {'k': 80, 'l2': 100, 'v': 0, 'alpha': 1000, 'max_iterations': 10, 'default_context_1': True}\n"
     ]
    },
    {
     "data": {
      "application/vnd.jupyter.widget-view+json": {
       "model_id": "75e9bc9e2efb4d359ea481c89bdfa663",
       "version_major": 2,
       "version_minor": 0
      },
      "text/plain": [
       "  0%|          | 0/10 [00:00<?, ?it/s]"
      ]
     },
     "metadata": {},
     "output_type": "display_data"
    },
    {
     "name": "stdout",
     "output_type": "stream",
     "text": [
      "Evaluating with 816 users\n",
      "MRR@5 0.24\n",
      "MRR@20 0.266\n",
      "Average Recall@5 0.436\n",
      "Average Recall@20 0.674\n",
      "Training model iTALS with hyperparameters {'k': 80, 'l2': 1000, 'v': 0, 'alpha': 1000, 'max_iterations': 10, 'default_context_1': True}\n"
     ]
    },
    {
     "data": {
      "application/vnd.jupyter.widget-view+json": {
       "model_id": "d9bd1bf8bbd649128b0dd19651cc8efc",
       "version_major": 2,
       "version_minor": 0
      },
      "text/plain": [
       "  0%|          | 0/10 [00:00<?, ?it/s]"
      ]
     },
     "metadata": {},
     "output_type": "display_data"
    },
    {
     "name": "stdout",
     "output_type": "stream",
     "text": [
      "Evaluating with 816 users\n",
      "MRR@5 0.246\n",
      "MRR@20 0.271\n",
      "Average Recall@5 0.449\n",
      "Average Recall@20 0.675\n",
      "Training model iTALS with hyperparameters {'k': 80, 'l2': 10000, 'v': 0, 'alpha': 1000, 'max_iterations': 10, 'default_context_1': True}\n"
     ]
    },
    {
     "data": {
      "application/vnd.jupyter.widget-view+json": {
       "model_id": "0ec648158043439795ae1745fe0e4678",
       "version_major": 2,
       "version_minor": 0
      },
      "text/plain": [
       "  0%|          | 0/10 [00:00<?, ?it/s]"
      ]
     },
     "metadata": {},
     "output_type": "display_data"
    },
    {
     "name": "stdout",
     "output_type": "stream",
     "text": [
      "Evaluating with 816 users\n",
      "MRR@5 0.234\n",
      "MRR@20 0.26\n",
      "Average Recall@5 0.418\n",
      "Average Recall@20 0.662\n",
      "Training model iTALS with hyperparameters {'k': 80, 'l2': 100000, 'v': 0, 'alpha': 1000, 'max_iterations': 10, 'default_context_1': True}\n"
     ]
    },
    {
     "data": {
      "application/vnd.jupyter.widget-view+json": {
       "model_id": "62fed1abc38542899f2ac2fb9033e6c1",
       "version_major": 2,
       "version_minor": 0
      },
      "text/plain": [
       "  0%|          | 0/10 [00:00<?, ?it/s]"
      ]
     },
     "metadata": {},
     "output_type": "display_data"
    },
    {
     "name": "stdout",
     "output_type": "stream",
     "text": [
      "Evaluating with 816 users\n",
      "MRR@5 0.109\n",
      "MRR@20 0.126\n",
      "Average Recall@5 0.246\n",
      "Average Recall@20 0.425\n",
      "Training model iTALS with hyperparameters {'k': 80, 'l2': 100, 'v': 0.5, 'alpha': 1000, 'max_iterations': 10, 'default_context_1': True}\n"
     ]
    },
    {
     "data": {
      "application/vnd.jupyter.widget-view+json": {
       "model_id": "39fef9cf0a884d77afe8c147f0bec221",
       "version_major": 2,
       "version_minor": 0
      },
      "text/plain": [
       "  0%|          | 0/10 [00:00<?, ?it/s]"
      ]
     },
     "metadata": {},
     "output_type": "display_data"
    },
    {
     "name": "stdout",
     "output_type": "stream",
     "text": [
      "Evaluating with 816 users\n",
      "MRR@5 0.244\n",
      "MRR@20 0.271\n",
      "Average Recall@5 0.434\n",
      "Average Recall@20 0.673\n",
      "Training model iTALS with hyperparameters {'k': 80, 'l2': 1000, 'v': 0.5, 'alpha': 1000, 'max_iterations': 10, 'default_context_1': True}\n"
     ]
    },
    {
     "data": {
      "application/vnd.jupyter.widget-view+json": {
       "model_id": "4dd1216d3cbe4e9989483a636d69d100",
       "version_major": 2,
       "version_minor": 0
      },
      "text/plain": [
       "  0%|          | 0/10 [00:00<?, ?it/s]"
      ]
     },
     "metadata": {},
     "output_type": "display_data"
    },
    {
     "name": "stdout",
     "output_type": "stream",
     "text": [
      "Evaluating with 816 users\n",
      "MRR@5 0.262\n",
      "MRR@20 0.286\n",
      "Average Recall@5 0.462\n",
      "Average Recall@20 0.673\n",
      "Training model iTALS with hyperparameters {'k': 80, 'l2': 10000, 'v': 0.5, 'alpha': 1000, 'max_iterations': 10, 'default_context_1': True}\n"
     ]
    },
    {
     "data": {
      "application/vnd.jupyter.widget-view+json": {
       "model_id": "942a59b7b9d84d58b7b5f4ebfed3bf6e",
       "version_major": 2,
       "version_minor": 0
      },
      "text/plain": [
       "  0%|          | 0/10 [00:00<?, ?it/s]"
      ]
     },
     "metadata": {},
     "output_type": "display_data"
    },
    {
     "name": "stdout",
     "output_type": "stream",
     "text": [
      "Evaluating with 816 users\n",
      "MRR@5 0.253\n",
      "MRR@20 0.277\n",
      "Average Recall@5 0.409\n",
      "Average Recall@20 0.626\n",
      "Training model iTALS with hyperparameters {'k': 80, 'l2': 100000, 'v': 0.5, 'alpha': 1000, 'max_iterations': 10, 'default_context_1': True}\n"
     ]
    },
    {
     "data": {
      "application/vnd.jupyter.widget-view+json": {
       "model_id": "1eb453cf2c374ac18a6594116e1254f5",
       "version_major": 2,
       "version_minor": 0
      },
      "text/plain": [
       "  0%|          | 0/10 [00:00<?, ?it/s]"
      ]
     },
     "metadata": {},
     "output_type": "display_data"
    },
    {
     "name": "stdout",
     "output_type": "stream",
     "text": [
      "Evaluating with 816 users\n",
      "MRR@5 0.12\n",
      "MRR@20 0.135\n",
      "Average Recall@5 0.257\n",
      "Average Recall@20 0.397\n",
      "Training model iTALS with hyperparameters {'k': 80, 'l2': 100, 'v': 1, 'alpha': 1000, 'max_iterations': 10, 'default_context_1': True}\n"
     ]
    },
    {
     "data": {
      "application/vnd.jupyter.widget-view+json": {
       "model_id": "94f9c1c64cd44bf0b85fc3483df260db",
       "version_major": 2,
       "version_minor": 0
      },
      "text/plain": [
       "  0%|          | 0/10 [00:00<?, ?it/s]"
      ]
     },
     "metadata": {},
     "output_type": "display_data"
    },
    {
     "name": "stdout",
     "output_type": "stream",
     "text": [
      "Evaluating with 816 users\n",
      "MRR@5 0.259\n",
      "MRR@20 0.282\n",
      "Average Recall@5 0.464\n",
      "Average Recall@20 0.679\n",
      "Training model iTALS with hyperparameters {'k': 80, 'l2': 1000, 'v': 1, 'alpha': 1000, 'max_iterations': 10, 'default_context_1': True}\n"
     ]
    },
    {
     "data": {
      "application/vnd.jupyter.widget-view+json": {
       "model_id": "99ecf505b3e84413991ae0417e50cbd2",
       "version_major": 2,
       "version_minor": 0
      },
      "text/plain": [
       "  0%|          | 0/10 [00:00<?, ?it/s]"
      ]
     },
     "metadata": {},
     "output_type": "display_data"
    },
    {
     "name": "stdout",
     "output_type": "stream",
     "text": [
      "Evaluating with 816 users\n",
      "MRR@5 0.261\n",
      "MRR@20 0.284\n",
      "Average Recall@5 0.471\n",
      "Average Recall@20 0.676\n",
      "Training model iTALS with hyperparameters {'k': 80, 'l2': 10000, 'v': 1, 'alpha': 1000, 'max_iterations': 10, 'default_context_1': True}\n"
     ]
    },
    {
     "data": {
      "application/vnd.jupyter.widget-view+json": {
       "model_id": "280de5b817ae4cf5bc5efb14c6fc5c5d",
       "version_major": 2,
       "version_minor": 0
      },
      "text/plain": [
       "  0%|          | 0/10 [00:00<?, ?it/s]"
      ]
     },
     "metadata": {},
     "output_type": "display_data"
    },
    {
     "name": "stdout",
     "output_type": "stream",
     "text": [
      "Evaluating with 816 users\n",
      "MRR@5 0.273\n",
      "MRR@20 0.296\n",
      "Average Recall@5 0.45\n",
      "Average Recall@20 0.661\n",
      "Training model iTALS with hyperparameters {'k': 80, 'l2': 100000, 'v': 1, 'alpha': 1000, 'max_iterations': 10, 'default_context_1': True}\n"
     ]
    },
    {
     "data": {
      "application/vnd.jupyter.widget-view+json": {
       "model_id": "11e47bccb1574932abcd5b8dd3064d49",
       "version_major": 2,
       "version_minor": 0
      },
      "text/plain": [
       "  0%|          | 0/10 [00:00<?, ?it/s]"
      ]
     },
     "metadata": {},
     "output_type": "display_data"
    },
    {
     "name": "stdout",
     "output_type": "stream",
     "text": [
      "Evaluating with 816 users\n",
      "MRR@5 0.149\n",
      "MRR@20 0.165\n",
      "Average Recall@5 0.272\n",
      "Average Recall@20 0.438\n",
      "Training model iTALS with hyperparameters {'k': 80, 'l2': 100, 'v': 0, 'alpha': 10000, 'max_iterations': 10, 'default_context_1': True}\n"
     ]
    },
    {
     "data": {
      "application/vnd.jupyter.widget-view+json": {
       "model_id": "33a53cc8b1194e98a1c84f0b37000e35",
       "version_major": 2,
       "version_minor": 0
      },
      "text/plain": [
       "  0%|          | 0/10 [00:00<?, ?it/s]"
      ]
     },
     "metadata": {},
     "output_type": "display_data"
    },
    {
     "name": "stdout",
     "output_type": "stream",
     "text": [
      "Evaluating with 816 users\n",
      "MRR@5 0.211\n",
      "MRR@20 0.239\n",
      "Average Recall@5 0.396\n",
      "Average Recall@20 0.657\n",
      "Training model iTALS with hyperparameters {'k': 80, 'l2': 1000, 'v': 0, 'alpha': 10000, 'max_iterations': 10, 'default_context_1': True}\n"
     ]
    },
    {
     "data": {
      "application/vnd.jupyter.widget-view+json": {
       "model_id": "2ac9d6c660cf45e58fbdce0f803da1ac",
       "version_major": 2,
       "version_minor": 0
      },
      "text/plain": [
       "  0%|          | 0/10 [00:00<?, ?it/s]"
      ]
     },
     "metadata": {},
     "output_type": "display_data"
    },
    {
     "name": "stdout",
     "output_type": "stream",
     "text": [
      "Evaluating with 816 users\n",
      "MRR@5 0.214\n",
      "MRR@20 0.242\n",
      "Average Recall@5 0.404\n",
      "Average Recall@20 0.658\n",
      "Training model iTALS with hyperparameters {'k': 80, 'l2': 10000, 'v': 0, 'alpha': 10000, 'max_iterations': 10, 'default_context_1': True}\n"
     ]
    },
    {
     "data": {
      "application/vnd.jupyter.widget-view+json": {
       "model_id": "06128120e27d4d14be5a6ecae414ba75",
       "version_major": 2,
       "version_minor": 0
      },
      "text/plain": [
       "  0%|          | 0/10 [00:00<?, ?it/s]"
      ]
     },
     "metadata": {},
     "output_type": "display_data"
    },
    {
     "name": "stdout",
     "output_type": "stream",
     "text": [
      "Evaluating with 816 users\n",
      "MRR@5 0.235\n",
      "MRR@20 0.262\n",
      "Average Recall@5 0.42\n",
      "Average Recall@20 0.672\n",
      "Training model iTALS with hyperparameters {'k': 80, 'l2': 100000, 'v': 0, 'alpha': 10000, 'max_iterations': 10, 'default_context_1': True}\n"
     ]
    },
    {
     "data": {
      "application/vnd.jupyter.widget-view+json": {
       "model_id": "00fa6a97e91b4e99807d2d86620c0849",
       "version_major": 2,
       "version_minor": 0
      },
      "text/plain": [
       "  0%|          | 0/10 [00:00<?, ?it/s]"
      ]
     },
     "metadata": {},
     "output_type": "display_data"
    },
    {
     "name": "stdout",
     "output_type": "stream",
     "text": [
      "Evaluating with 816 users\n",
      "MRR@5 0.146\n",
      "MRR@20 0.178\n",
      "Average Recall@5 0.265\n",
      "Average Recall@20 0.576\n",
      "Training model iTALS with hyperparameters {'k': 80, 'l2': 100, 'v': 0.5, 'alpha': 10000, 'max_iterations': 10, 'default_context_1': True}\n"
     ]
    },
    {
     "data": {
      "application/vnd.jupyter.widget-view+json": {
       "model_id": "a9205739180147ed92091738b4e3db6f",
       "version_major": 2,
       "version_minor": 0
      },
      "text/plain": [
       "  0%|          | 0/10 [00:00<?, ?it/s]"
      ]
     },
     "metadata": {},
     "output_type": "display_data"
    },
    {
     "name": "stdout",
     "output_type": "stream",
     "text": [
      "Evaluating with 816 users\n",
      "MRR@5 0.214\n",
      "MRR@20 0.239\n",
      "Average Recall@5 0.409\n",
      "Average Recall@20 0.659\n",
      "Training model iTALS with hyperparameters {'k': 80, 'l2': 1000, 'v': 0.5, 'alpha': 10000, 'max_iterations': 10, 'default_context_1': True}\n"
     ]
    },
    {
     "data": {
      "application/vnd.jupyter.widget-view+json": {
       "model_id": "f99a6e3f5f404eeeb44bb167eb062eae",
       "version_major": 2,
       "version_minor": 0
      },
      "text/plain": [
       "  0%|          | 0/10 [00:00<?, ?it/s]"
      ]
     },
     "metadata": {},
     "output_type": "display_data"
    },
    {
     "name": "stdout",
     "output_type": "stream",
     "text": [
      "Evaluating with 816 users\n",
      "MRR@5 0.216\n",
      "MRR@20 0.242\n",
      "Average Recall@5 0.403\n",
      "Average Recall@20 0.643\n",
      "Training model iTALS with hyperparameters {'k': 80, 'l2': 10000, 'v': 0.5, 'alpha': 10000, 'max_iterations': 10, 'default_context_1': True}\n"
     ]
    },
    {
     "data": {
      "application/vnd.jupyter.widget-view+json": {
       "model_id": "827283f9aa5d4c7481793634c0ca64b9",
       "version_major": 2,
       "version_minor": 0
      },
      "text/plain": [
       "  0%|          | 0/10 [00:00<?, ?it/s]"
      ]
     },
     "metadata": {},
     "output_type": "display_data"
    },
    {
     "name": "stdout",
     "output_type": "stream",
     "text": [
      "Evaluating with 816 users\n",
      "MRR@5 0.257\n",
      "MRR@20 0.282\n",
      "Average Recall@5 0.473\n",
      "Average Recall@20 0.707\n",
      "Training model iTALS with hyperparameters {'k': 80, 'l2': 100000, 'v': 0.5, 'alpha': 10000, 'max_iterations': 10, 'default_context_1': True}\n"
     ]
    },
    {
     "data": {
      "application/vnd.jupyter.widget-view+json": {
       "model_id": "d993dcfab24d4c1cbe59fac36a7dce59",
       "version_major": 2,
       "version_minor": 0
      },
      "text/plain": [
       "  0%|          | 0/10 [00:00<?, ?it/s]"
      ]
     },
     "metadata": {},
     "output_type": "display_data"
    },
    {
     "name": "stdout",
     "output_type": "stream",
     "text": [
      "Evaluating with 816 users\n",
      "MRR@5 0.103\n",
      "MRR@20 0.127\n",
      "Average Recall@5 0.2\n",
      "Average Recall@20 0.442\n",
      "Training model iTALS with hyperparameters {'k': 80, 'l2': 100, 'v': 1, 'alpha': 10000, 'max_iterations': 10, 'default_context_1': True}\n"
     ]
    },
    {
     "data": {
      "application/vnd.jupyter.widget-view+json": {
       "model_id": "01de7221d7c7480faa7c345025ccfebe",
       "version_major": 2,
       "version_minor": 0
      },
      "text/plain": [
       "  0%|          | 0/10 [00:00<?, ?it/s]"
      ]
     },
     "metadata": {},
     "output_type": "display_data"
    },
    {
     "name": "stdout",
     "output_type": "stream",
     "text": [
      "Evaluating with 816 users\n",
      "MRR@5 0.225\n",
      "MRR@20 0.254\n",
      "Average Recall@5 0.409\n",
      "Average Recall@20 0.68\n",
      "Training model iTALS with hyperparameters {'k': 80, 'l2': 1000, 'v': 1, 'alpha': 10000, 'max_iterations': 10, 'default_context_1': True}\n"
     ]
    },
    {
     "data": {
      "application/vnd.jupyter.widget-view+json": {
       "model_id": "23e5011bcf8047aeae9ec0fe9ea51ba3",
       "version_major": 2,
       "version_minor": 0
      },
      "text/plain": [
       "  0%|          | 0/10 [00:00<?, ?it/s]"
      ]
     },
     "metadata": {},
     "output_type": "display_data"
    },
    {
     "name": "stdout",
     "output_type": "stream",
     "text": [
      "Evaluating with 816 users\n",
      "MRR@5 0.234\n",
      "MRR@20 0.261\n",
      "Average Recall@5 0.425\n",
      "Average Recall@20 0.679\n",
      "Training model iTALS with hyperparameters {'k': 80, 'l2': 10000, 'v': 1, 'alpha': 10000, 'max_iterations': 10, 'default_context_1': True}\n"
     ]
    },
    {
     "data": {
      "application/vnd.jupyter.widget-view+json": {
       "model_id": "78ce423bdfde487faa08a7b327870d59",
       "version_major": 2,
       "version_minor": 0
      },
      "text/plain": [
       "  0%|          | 0/10 [00:00<?, ?it/s]"
      ]
     },
     "metadata": {},
     "output_type": "display_data"
    },
    {
     "name": "stdout",
     "output_type": "stream",
     "text": [
      "Evaluating with 816 users\n",
      "MRR@5 0.266\n",
      "MRR@20 0.292\n",
      "Average Recall@5 0.472\n",
      "Average Recall@20 0.711\n",
      "Training model iTALS with hyperparameters {'k': 80, 'l2': 100000, 'v': 1, 'alpha': 10000, 'max_iterations': 10, 'default_context_1': True}\n"
     ]
    },
    {
     "data": {
      "application/vnd.jupyter.widget-view+json": {
       "model_id": "92759c43094642d6b5f0c329f651e1a6",
       "version_major": 2,
       "version_minor": 0
      },
      "text/plain": [
       "  0%|          | 0/10 [00:00<?, ?it/s]"
      ]
     },
     "metadata": {},
     "output_type": "display_data"
    },
    {
     "name": "stdout",
     "output_type": "stream",
     "text": [
      "Evaluating with 816 users\n",
      "MRR@5 0.22\n",
      "MRR@20 0.239\n",
      "Average Recall@5 0.39\n",
      "Average Recall@20 0.581\n",
      "Training model iTALS with hyperparameters {'k': 80, 'l2': 100, 'v': 0, 'alpha': 100000, 'max_iterations': 10, 'default_context_1': True}\n"
     ]
    },
    {
     "data": {
      "application/vnd.jupyter.widget-view+json": {
       "model_id": "8fd1c6ce51f34b24929085f7dc68eeb9",
       "version_major": 2,
       "version_minor": 0
      },
      "text/plain": [
       "  0%|          | 0/10 [00:00<?, ?it/s]"
      ]
     },
     "metadata": {},
     "output_type": "display_data"
    },
    {
     "name": "stdout",
     "output_type": "stream",
     "text": [
      "Evaluating with 816 users\n",
      "MRR@5 0.21\n",
      "MRR@20 0.237\n",
      "Average Recall@5 0.365\n",
      "Average Recall@20 0.634\n",
      "Training model iTALS with hyperparameters {'k': 80, 'l2': 1000, 'v': 0, 'alpha': 100000, 'max_iterations': 10, 'default_context_1': True}\n"
     ]
    },
    {
     "data": {
      "application/vnd.jupyter.widget-view+json": {
       "model_id": "ec73010df2d746328d47d5ff1da40909",
       "version_major": 2,
       "version_minor": 0
      },
      "text/plain": [
       "  0%|          | 0/10 [00:00<?, ?it/s]"
      ]
     },
     "metadata": {},
     "output_type": "display_data"
    },
    {
     "name": "stdout",
     "output_type": "stream",
     "text": [
      "Evaluating with 816 users\n",
      "MRR@5 0.192\n",
      "MRR@20 0.221\n",
      "Average Recall@5 0.354\n",
      "Average Recall@20 0.625\n",
      "Training model iTALS with hyperparameters {'k': 80, 'l2': 10000, 'v': 0, 'alpha': 100000, 'max_iterations': 10, 'default_context_1': True}\n"
     ]
    },
    {
     "data": {
      "application/vnd.jupyter.widget-view+json": {
       "model_id": "a108404b422148219252fb9184f85a78",
       "version_major": 2,
       "version_minor": 0
      },
      "text/plain": [
       "  0%|          | 0/10 [00:00<?, ?it/s]"
      ]
     },
     "metadata": {},
     "output_type": "display_data"
    },
    {
     "name": "stdout",
     "output_type": "stream",
     "text": [
      "Evaluating with 816 users\n",
      "MRR@5 0.188\n",
      "MRR@20 0.215\n",
      "Average Recall@5 0.33\n",
      "Average Recall@20 0.589\n",
      "Training model iTALS with hyperparameters {'k': 80, 'l2': 100000, 'v': 0, 'alpha': 100000, 'max_iterations': 10, 'default_context_1': True}\n"
     ]
    },
    {
     "data": {
      "application/vnd.jupyter.widget-view+json": {
       "model_id": "6f326ea9e3b44ac9bc4ea7056ed48623",
       "version_major": 2,
       "version_minor": 0
      },
      "text/plain": [
       "  0%|          | 0/10 [00:00<?, ?it/s]"
      ]
     },
     "metadata": {},
     "output_type": "display_data"
    },
    {
     "name": "stdout",
     "output_type": "stream",
     "text": [
      "Evaluating with 816 users\n",
      "MRR@5 0.184\n",
      "MRR@20 0.212\n",
      "Average Recall@5 0.336\n",
      "Average Recall@20 0.605\n",
      "Training model iTALS with hyperparameters {'k': 80, 'l2': 100, 'v': 0.5, 'alpha': 100000, 'max_iterations': 10, 'default_context_1': True}\n"
     ]
    },
    {
     "data": {
      "application/vnd.jupyter.widget-view+json": {
       "model_id": "25579e9354b94227be0f23e98a890cbb",
       "version_major": 2,
       "version_minor": 0
      },
      "text/plain": [
       "  0%|          | 0/10 [00:00<?, ?it/s]"
      ]
     },
     "metadata": {},
     "output_type": "display_data"
    },
    {
     "name": "stdout",
     "output_type": "stream",
     "text": [
      "Evaluating with 816 users\n",
      "MRR@5 0.21\n",
      "MRR@20 0.235\n",
      "Average Recall@5 0.388\n",
      "Average Recall@20 0.635\n",
      "Training model iTALS with hyperparameters {'k': 80, 'l2': 1000, 'v': 0.5, 'alpha': 100000, 'max_iterations': 10, 'default_context_1': True}\n"
     ]
    },
    {
     "data": {
      "application/vnd.jupyter.widget-view+json": {
       "model_id": "9f1ca3e2bc2e41478aedcdead59cb818",
       "version_major": 2,
       "version_minor": 0
      },
      "text/plain": [
       "  0%|          | 0/10 [00:00<?, ?it/s]"
      ]
     },
     "metadata": {},
     "output_type": "display_data"
    },
    {
     "name": "stdout",
     "output_type": "stream",
     "text": [
      "Evaluating with 816 users\n",
      "MRR@5 0.195\n",
      "MRR@20 0.222\n",
      "Average Recall@5 0.36\n",
      "Average Recall@20 0.629\n",
      "Training model iTALS with hyperparameters {'k': 80, 'l2': 10000, 'v': 0.5, 'alpha': 100000, 'max_iterations': 10, 'default_context_1': True}\n"
     ]
    },
    {
     "data": {
      "application/vnd.jupyter.widget-view+json": {
       "model_id": "92e6e31173ee402592287ea0d7792175",
       "version_major": 2,
       "version_minor": 0
      },
      "text/plain": [
       "  0%|          | 0/10 [00:00<?, ?it/s]"
      ]
     },
     "metadata": {},
     "output_type": "display_data"
    },
    {
     "name": "stdout",
     "output_type": "stream",
     "text": [
      "Evaluating with 816 users\n",
      "MRR@5 0.206\n",
      "MRR@20 0.233\n",
      "Average Recall@5 0.374\n",
      "Average Recall@20 0.626\n",
      "Training model iTALS with hyperparameters {'k': 80, 'l2': 100000, 'v': 0.5, 'alpha': 100000, 'max_iterations': 10, 'default_context_1': True}\n"
     ]
    },
    {
     "data": {
      "application/vnd.jupyter.widget-view+json": {
       "model_id": "fb62fcbaf96744eb917432e6c703b06b",
       "version_major": 2,
       "version_minor": 0
      },
      "text/plain": [
       "  0%|          | 0/10 [00:00<?, ?it/s]"
      ]
     },
     "metadata": {},
     "output_type": "display_data"
    },
    {
     "name": "stdout",
     "output_type": "stream",
     "text": [
      "Evaluating with 816 users\n",
      "MRR@5 0.18\n",
      "MRR@20 0.212\n",
      "Average Recall@5 0.331\n",
      "Average Recall@20 0.642\n",
      "Training model iTALS with hyperparameters {'k': 80, 'l2': 100, 'v': 1, 'alpha': 100000, 'max_iterations': 10, 'default_context_1': True}\n"
     ]
    },
    {
     "data": {
      "application/vnd.jupyter.widget-view+json": {
       "model_id": "836ffd3cb47e4aa49c0896a3f835f148",
       "version_major": 2,
       "version_minor": 0
      },
      "text/plain": [
       "  0%|          | 0/10 [00:00<?, ?it/s]"
      ]
     },
     "metadata": {},
     "output_type": "display_data"
    },
    {
     "name": "stdout",
     "output_type": "stream",
     "text": [
      "Evaluating with 816 users\n",
      "MRR@5 0.207\n",
      "MRR@20 0.233\n",
      "Average Recall@5 0.402\n",
      "Average Recall@20 0.642\n",
      "Training model iTALS with hyperparameters {'k': 80, 'l2': 1000, 'v': 1, 'alpha': 100000, 'max_iterations': 10, 'default_context_1': True}\n"
     ]
    },
    {
     "data": {
      "application/vnd.jupyter.widget-view+json": {
       "model_id": "f2a010ad5c814c1a8169b4601986c556",
       "version_major": 2,
       "version_minor": 0
      },
      "text/plain": [
       "  0%|          | 0/10 [00:00<?, ?it/s]"
      ]
     },
     "metadata": {},
     "output_type": "display_data"
    },
    {
     "name": "stdout",
     "output_type": "stream",
     "text": [
      "Evaluating with 816 users\n",
      "MRR@5 0.203\n",
      "MRR@20 0.23\n",
      "Average Recall@5 0.381\n",
      "Average Recall@20 0.642\n",
      "Training model iTALS with hyperparameters {'k': 80, 'l2': 10000, 'v': 1, 'alpha': 100000, 'max_iterations': 10, 'default_context_1': True}\n"
     ]
    },
    {
     "data": {
      "application/vnd.jupyter.widget-view+json": {
       "model_id": "ccad8a0b17714013a1dcb36c96813091",
       "version_major": 2,
       "version_minor": 0
      },
      "text/plain": [
       "  0%|          | 0/10 [00:00<?, ?it/s]"
      ]
     },
     "metadata": {},
     "output_type": "display_data"
    },
    {
     "name": "stdout",
     "output_type": "stream",
     "text": [
      "Evaluating with 816 users\n",
      "MRR@5 0.202\n",
      "MRR@20 0.232\n",
      "Average Recall@5 0.377\n",
      "Average Recall@20 0.656\n",
      "Training model iTALS with hyperparameters {'k': 80, 'l2': 100000, 'v': 1, 'alpha': 100000, 'max_iterations': 10, 'default_context_1': True}\n"
     ]
    },
    {
     "data": {
      "application/vnd.jupyter.widget-view+json": {
       "model_id": "d6540878c49a491db27519068d5a018a",
       "version_major": 2,
       "version_minor": 0
      },
      "text/plain": [
       "  0%|          | 0/10 [00:00<?, ?it/s]"
      ]
     },
     "metadata": {},
     "output_type": "display_data"
    },
    {
     "name": "stdout",
     "output_type": "stream",
     "text": [
      "Evaluating with 816 users\n",
      "MRR@5 0.209\n",
      "MRR@20 0.239\n",
      "Average Recall@5 0.411\n",
      "Average Recall@20 0.683\n",
      "CPU times: user 9min 35s, sys: 3min, total: 12min 36s\n",
      "Wall time: 19min 25s\n"
     ]
    },
    {
     "data": {
      "text/plain": [
       "\"Best score of 0.2957410806840556 achieved with {'k': 80, 'l2': 10000, 'v': 1, 'alpha': 1000, 'max_iterations': 10, 'default_context_1': True}.\""
      ]
     },
     "execution_count": 8,
     "metadata": {},
     "output_type": "execute_result"
    }
   ],
   "source": [
    "%%time\n",
    "score, best_hyperparams = evaluation.cars.gridsearch(ALG, train, test, HYPERPARAMS, retarget=RETARGET)\n",
    "f\"Best score of {score} achieved with {best_hyperparams}.\""
   ]
  },
  {
   "cell_type": "markdown",
   "id": "e89dad17",
   "metadata": {},
   "source": [
    "## Evaluate model with optimal hyperparams with KFolds Cross validation"
   ]
  },
  {
   "cell_type": "code",
   "execution_count": 9,
   "id": "81674e0b",
   "metadata": {
    "scrolled": true
   },
   "outputs": [
    {
     "data": {
      "application/vnd.jupyter.widget-view+json": {
       "model_id": "ea8d9811d69f4b8a95ed8aa89539a346",
       "version_major": 2,
       "version_minor": 0
      },
      "text/plain": [
       "  0%|          | 0/10 [00:00<?, ?it/s]"
      ]
     },
     "metadata": {},
     "output_type": "display_data"
    },
    {
     "name": "stdout",
     "output_type": "stream",
     "text": [
      "Evaluating with 816 users\n"
     ]
    },
    {
     "data": {
      "application/vnd.jupyter.widget-view+json": {
       "model_id": "53aa672402574d7bb624b10a12545da5",
       "version_major": 2,
       "version_minor": 0
      },
      "text/plain": [
       "  0%|          | 0/10 [00:00<?, ?it/s]"
      ]
     },
     "metadata": {},
     "output_type": "display_data"
    },
    {
     "name": "stdout",
     "output_type": "stream",
     "text": [
      "Evaluating with 816 users\n"
     ]
    },
    {
     "data": {
      "application/vnd.jupyter.widget-view+json": {
       "model_id": "dfe2f9ef5d474391b60610b17a7e2aee",
       "version_major": 2,
       "version_minor": 0
      },
      "text/plain": [
       "  0%|          | 0/10 [00:00<?, ?it/s]"
      ]
     },
     "metadata": {},
     "output_type": "display_data"
    },
    {
     "name": "stdout",
     "output_type": "stream",
     "text": [
      "Evaluating with 816 users\n"
     ]
    },
    {
     "data": {
      "application/vnd.jupyter.widget-view+json": {
       "model_id": "c22c818e63234c56918e540480535cec",
       "version_major": 2,
       "version_minor": 0
      },
      "text/plain": [
       "  0%|          | 0/10 [00:00<?, ?it/s]"
      ]
     },
     "metadata": {},
     "output_type": "display_data"
    },
    {
     "name": "stdout",
     "output_type": "stream",
     "text": [
      "Evaluating with 816 users\n"
     ]
    },
    {
     "data": {
      "application/vnd.jupyter.widget-view+json": {
       "model_id": "38b4f219d515490099daf611e34b231b",
       "version_major": 2,
       "version_minor": 0
      },
      "text/plain": [
       "  0%|          | 0/10 [00:00<?, ?it/s]"
      ]
     },
     "metadata": {},
     "output_type": "display_data"
    },
    {
     "name": "stdout",
     "output_type": "stream",
     "text": [
      "Evaluating with 816 users\n",
      "MRR@5 0.273 (0.005)\n",
      "MRR@20 0.294 (0.004)\n",
      "Average Recall@5 0.439 (0.008)\n",
      "Average Recall@20 0.631 (0.009)\n",
      "CPU times: user 1min 4s, sys: 19.7 s, total: 1min 23s\n",
      "Wall time: 2min 10s\n"
     ]
    }
   ],
   "source": [
    "%%time\n",
    "alg = ALG(**best_hyperparams)\n",
    "results = evaluation.cars.contextKFoldsEval(alg, data, nr_folds=5, seed=SEED2, retarget=RETARGET)"
   ]
  }
 ],
 "metadata": {
  "kernelspec": {
   "display_name": "Python 3 (ipykernel)",
   "language": "python",
   "name": "python3"
  },
  "language_info": {
   "codemirror_mode": {
    "name": "ipython",
    "version": 3
   },
   "file_extension": ".py",
   "mimetype": "text/x-python",
   "name": "python",
   "nbconvert_exporter": "python",
   "pygments_lexer": "ipython3",
   "version": "3.10.6"
  }
 },
 "nbformat": 4,
 "nbformat_minor": 5
}
