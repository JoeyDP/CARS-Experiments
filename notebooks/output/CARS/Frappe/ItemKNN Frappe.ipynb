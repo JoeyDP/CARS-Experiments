{
 "cells": [
  {
   "cell_type": "code",
   "execution_count": 1,
   "id": "9ef88bc4",
   "metadata": {},
   "outputs": [],
   "source": [
    "%load_ext autoreload\n",
    "%autoreload 2"
   ]
  },
  {
   "cell_type": "markdown",
   "id": "55bab0c8",
   "metadata": {},
   "source": [
    "# Experiments with ItemKNN model"
   ]
  },
  {
   "cell_type": "code",
   "execution_count": 2,
   "id": "ec55d42c",
   "metadata": {},
   "outputs": [],
   "source": [
    "from pathlib import Path\n",
    "\n",
    "import scipy.sparse\n",
    "import numpy as np\n",
    "\n",
    "import src.io as io\n",
    "import src.evaluation as evaluation\n",
    "import src.evaluation.splits\n",
    "import src.evaluation.base\n",
    "\n",
    "from src.algorithm.baseline.iknn import ItemKNN"
   ]
  },
  {
   "cell_type": "markdown",
   "id": "c469b253",
   "metadata": {},
   "source": [
    "## Datasets"
   ]
  },
  {
   "cell_type": "code",
   "execution_count": 3,
   "id": "e0622ed1",
   "metadata": {},
   "outputs": [],
   "source": [
    "## Uncomment corresponding directory.\n",
    "## RETARGET True for Frappe, False for the others\n",
    "\n",
    "DATA_DIR, RETARGET = Path('../../../data/CARS/Mobile_Frappe/'), True\n",
    "# DATA_DIR, RETARGET = Path('../../../data/CARS/Food_com/'), False\n",
    "# DATA_DIR, RETARGET = Path('../../../data/CARS/TripAdvisor/'), False"
   ]
  },
  {
   "cell_type": "code",
   "execution_count": 4,
   "id": "d53bce36",
   "metadata": {},
   "outputs": [],
   "source": [
    "# Shouldn't need to change this info\n",
    "INTERACTIONS = DATA_DIR / 'interactions.csv'\n",
    "\n",
    "SEED = 123456\n",
    "SEED2 = 78910\n",
    "\n",
    "ITEM_ID = 'item'\n",
    "USER_ID = 'user'"
   ]
  },
  {
   "cell_type": "markdown",
   "id": "48457625",
   "metadata": {},
   "source": [
    "## Define algorithm and hyperparameter ranges"
   ]
  },
  {
   "cell_type": "code",
   "execution_count": 5,
   "id": "11a5ac4c",
   "metadata": {},
   "outputs": [
    {
     "data": {
      "text/plain": [
       "{'k': [1, 10, 20, 50, 100, 200, 500, 1000, None], 'normalize': [True, False]}"
      ]
     },
     "execution_count": 5,
     "metadata": {},
     "output_type": "execute_result"
    }
   ],
   "source": [
    "ALG = ItemKNN\n",
    "\n",
    "K = [1, 10, 20, 50, 100, 200, 500, 1000, None]\n",
    "NORMALIZE = [True, False]\n",
    "\n",
    "HYPERPARAMS = {'k': K, 'normalize': NORMALIZE}\n",
    "HYPERPARAMS"
   ]
  },
  {
   "cell_type": "markdown",
   "id": "32d25f41",
   "metadata": {},
   "source": [
    "## Parse data"
   ]
  },
  {
   "cell_type": "code",
   "execution_count": 6,
   "id": "ce0d0435",
   "metadata": {},
   "outputs": [
    {
     "data": {
      "text/html": [
       "<div>\n",
       "<style scoped>\n",
       "    .dataframe tbody tr th:only-of-type {\n",
       "        vertical-align: middle;\n",
       "    }\n",
       "\n",
       "    .dataframe tbody tr th {\n",
       "        vertical-align: top;\n",
       "    }\n",
       "\n",
       "    .dataframe thead th {\n",
       "        text-align: right;\n",
       "    }\n",
       "</style>\n",
       "<table border=\"1\" class=\"dataframe\">\n",
       "  <thead>\n",
       "    <tr style=\"text-align: right;\">\n",
       "      <th></th>\n",
       "      <th>userId</th>\n",
       "      <th>itemId</th>\n",
       "      <th>daytime</th>\n",
       "      <th>weather</th>\n",
       "      <th>weekday</th>\n",
       "    </tr>\n",
       "  </thead>\n",
       "  <tbody>\n",
       "    <tr>\n",
       "      <th>0</th>\n",
       "      <td>0</td>\n",
       "      <td>0</td>\n",
       "      <td>1</td>\n",
       "      <td>1</td>\n",
       "      <td>1</td>\n",
       "    </tr>\n",
       "    <tr>\n",
       "      <th>1</th>\n",
       "      <td>1</td>\n",
       "      <td>1</td>\n",
       "      <td>2</td>\n",
       "      <td>2</td>\n",
       "      <td>2</td>\n",
       "    </tr>\n",
       "    <tr>\n",
       "      <th>2</th>\n",
       "      <td>2</td>\n",
       "      <td>2</td>\n",
       "      <td>3</td>\n",
       "      <td>2</td>\n",
       "      <td>3</td>\n",
       "    </tr>\n",
       "    <tr>\n",
       "      <th>3</th>\n",
       "      <td>3</td>\n",
       "      <td>3</td>\n",
       "      <td>4</td>\n",
       "      <td>0</td>\n",
       "      <td>4</td>\n",
       "    </tr>\n",
       "    <tr>\n",
       "      <th>4</th>\n",
       "      <td>4</td>\n",
       "      <td>4</td>\n",
       "      <td>5</td>\n",
       "      <td>1</td>\n",
       "      <td>4</td>\n",
       "    </tr>\n",
       "    <tr>\n",
       "      <th>...</th>\n",
       "      <td>...</td>\n",
       "      <td>...</td>\n",
       "      <td>...</td>\n",
       "      <td>...</td>\n",
       "      <td>...</td>\n",
       "    </tr>\n",
       "    <tr>\n",
       "      <th>95997</th>\n",
       "      <td>109</td>\n",
       "      <td>0</td>\n",
       "      <td>3</td>\n",
       "      <td>1</td>\n",
       "      <td>1</td>\n",
       "    </tr>\n",
       "    <tr>\n",
       "      <th>95998</th>\n",
       "      <td>37</td>\n",
       "      <td>16</td>\n",
       "      <td>4</td>\n",
       "      <td>2</td>\n",
       "      <td>1</td>\n",
       "    </tr>\n",
       "    <tr>\n",
       "      <th>95999</th>\n",
       "      <td>180</td>\n",
       "      <td>33</td>\n",
       "      <td>2</td>\n",
       "      <td>2</td>\n",
       "      <td>1</td>\n",
       "    </tr>\n",
       "    <tr>\n",
       "      <th>96000</th>\n",
       "      <td>445</td>\n",
       "      <td>751</td>\n",
       "      <td>3</td>\n",
       "      <td>1</td>\n",
       "      <td>1</td>\n",
       "    </tr>\n",
       "    <tr>\n",
       "      <th>96001</th>\n",
       "      <td>361</td>\n",
       "      <td>380</td>\n",
       "      <td>3</td>\n",
       "      <td>2</td>\n",
       "      <td>4</td>\n",
       "    </tr>\n",
       "  </tbody>\n",
       "</table>\n",
       "<p>96002 rows × 5 columns</p>\n",
       "</div>"
      ],
      "text/plain": [
       "       userId  itemId  daytime  weather  weekday\n",
       "0           0       0        1        1        1\n",
       "1           1       1        2        2        2\n",
       "2           2       2        3        2        3\n",
       "3           3       3        4        0        4\n",
       "4           4       4        5        1        4\n",
       "...       ...     ...      ...      ...      ...\n",
       "95997     109       0        3        1        1\n",
       "95998      37      16        4        2        1\n",
       "95999     180      33        2        2        1\n",
       "96000     445     751        3        1        1\n",
       "96001     361     380        3        2        4\n",
       "\n",
       "[96002 rows x 5 columns]"
      ]
     },
     "execution_count": 6,
     "metadata": {},
     "output_type": "execute_result"
    }
   ],
   "source": [
    "data = io.parse_interactions_with_context(INTERACTIONS, item_id=ITEM_ID, user_id=USER_ID)\n",
    "data.df"
   ]
  },
  {
   "cell_type": "markdown",
   "id": "36a367d9",
   "metadata": {},
   "source": [
    "## Make train/val split for hyperparam tuning"
   ]
  },
  {
   "cell_type": "code",
   "execution_count": 7,
   "id": "92b4e0a4",
   "metadata": {},
   "outputs": [],
   "source": [
    "Xtrain, Xval_in, Xval_out = evaluation.splits.leave_one_out_split_non_context(data, seed=SEED)"
   ]
  },
  {
   "cell_type": "markdown",
   "id": "fc85ffb4",
   "metadata": {},
   "source": [
    "## Perform gridsearch on validation set"
   ]
  },
  {
   "cell_type": "code",
   "execution_count": 8,
   "id": "36a9347a",
   "metadata": {
    "scrolled": true
   },
   "outputs": [
    {
     "data": {
      "application/vnd.jupyter.widget-view+json": {
       "model_id": "8956be60f13249cb9ab3b2e6e07bb97e",
       "version_major": 2,
       "version_minor": 0
      },
      "text/plain": [
       "  0%|          | 0/18 [00:00<?, ?it/s]"
      ]
     },
     "metadata": {},
     "output_type": "display_data"
    },
    {
     "name": "stdout",
     "output_type": "stream",
     "text": [
      "Training model ItemKNN with hyperparameters {'k': 1, 'normalize': True}\n",
      "density of model 0.00024411921665179684\n",
      "Evaluating with 816 users\n",
      "MRR@5 0.062\n",
      "MRR@20 0.066\n",
      "Average Recall@5 0.109\n",
      "Average Recall@20 0.175\n",
      "Training model ItemKNN with hyperparameters {'k': 10, 'normalize': True}\n",
      "density of model 0.002369717460548027\n",
      "Evaluating with 816 users\n",
      "MRR@5 0.077\n",
      "MRR@20 0.103\n",
      "Average Recall@5 0.162\n",
      "Average Recall@20 0.4\n",
      "Training model ItemKNN with hyperparameters {'k': 20, 'normalize': True}\n",
      "density of model 0.004537277490192115\n",
      "Evaluating with 816 users\n",
      "MRR@5 0.075\n",
      "MRR@20 0.101\n",
      "Average Recall@5 0.162\n",
      "Average Recall@20 0.424\n",
      "Training model ItemKNN with hyperparameters {'k': 50, 'normalize': True}\n",
      "density of model 0.009561639616395192\n",
      "Evaluating with 816 users\n",
      "MRR@5 0.076\n",
      "MRR@20 0.105\n",
      "Average Recall@5 0.157\n",
      "Average Recall@20 0.428\n",
      "Training model ItemKNN with hyperparameters {'k': 100, 'normalize': True}\n",
      "density of model 0.01507721575839339\n",
      "Evaluating with 816 users\n",
      "MRR@5 0.078\n",
      "MRR@20 0.106\n",
      "Average Recall@5 0.159\n",
      "Average Recall@20 0.457\n",
      "Training model ItemKNN with hyperparameters {'k': 200, 'normalize': True}\n",
      "density of model 0.02032802578481899\n",
      "Evaluating with 816 users\n",
      "MRR@5 0.078\n",
      "MRR@20 0.105\n",
      "Average Recall@5 0.159\n",
      "Average Recall@20 0.455\n",
      "Training model ItemKNN with hyperparameters {'k': 500, 'normalize': True}\n",
      "density of model 0.027328660494782286\n",
      "Evaluating with 816 users\n",
      "MRR@5 0.073\n",
      "MRR@20 0.102\n",
      "Average Recall@5 0.142\n",
      "Average Recall@20 0.449\n",
      "Training model ItemKNN with hyperparameters {'k': 1000, 'normalize': True}\n",
      "density of model 0.030947758244731824\n",
      "Evaluating with 816 users\n",
      "MRR@5 0.079\n",
      "MRR@20 0.105\n",
      "Average Recall@5 0.154\n",
      "Average Recall@20 0.428\n",
      "Training model ItemKNN with hyperparameters {'k': None, 'normalize': True}\n",
      "density of model 0.03258287118691249\n",
      "Evaluating with 816 users\n",
      "MRR@5 0.071\n",
      "MRR@20 0.093\n",
      "Average Recall@5 0.143\n",
      "Average Recall@20 0.413\n",
      "Training model ItemKNN with hyperparameters {'k': 1, 'normalize': False}\n",
      "density of model 0.00024411921665179684\n",
      "Evaluating with 816 users\n",
      "MRR@5 0.058\n",
      "MRR@20 0.066\n",
      "Average Recall@5 0.107\n",
      "Average Recall@20 0.175\n",
      "Training model ItemKNN with hyperparameters {'k': 10, 'normalize': False}\n",
      "density of model 0.002369717460548027\n",
      "Evaluating with 816 users\n",
      "MRR@5 0.06\n",
      "MRR@20 0.082\n",
      "Average Recall@5 0.125\n",
      "Average Recall@20 0.342\n",
      "Training model ItemKNN with hyperparameters {'k': 20, 'normalize': False}\n",
      "density of model 0.004537277490192115\n",
      "Evaluating with 816 users\n",
      "MRR@5 0.06\n",
      "MRR@20 0.08\n",
      "Average Recall@5 0.127\n",
      "Average Recall@20 0.35\n",
      "Training model ItemKNN with hyperparameters {'k': 50, 'normalize': False}\n",
      "density of model 0.009561639616395192\n",
      "Evaluating with 816 users\n",
      "MRR@5 0.061\n",
      "MRR@20 0.08\n",
      "Average Recall@5 0.13\n",
      "Average Recall@20 0.346\n",
      "Training model ItemKNN with hyperparameters {'k': 100, 'normalize': False}\n",
      "density of model 0.01507721575839339\n",
      "Evaluating with 816 users\n",
      "MRR@5 0.061\n",
      "MRR@20 0.082\n",
      "Average Recall@5 0.126\n",
      "Average Recall@20 0.35\n",
      "Training model ItemKNN with hyperparameters {'k': 200, 'normalize': False}\n",
      "density of model 0.02032802578481899\n",
      "Evaluating with 816 users\n",
      "MRR@5 0.068\n",
      "MRR@20 0.092\n",
      "Average Recall@5 0.135\n",
      "Average Recall@20 0.36\n",
      "Training model ItemKNN with hyperparameters {'k': 500, 'normalize': False}\n",
      "density of model 0.027328660494782286\n",
      "Evaluating with 816 users\n",
      "MRR@5 0.068\n",
      "MRR@20 0.087\n",
      "Average Recall@5 0.137\n",
      "Average Recall@20 0.37\n",
      "Training model ItemKNN with hyperparameters {'k': 1000, 'normalize': False}\n",
      "density of model 0.030947758244731824\n",
      "Evaluating with 816 users\n",
      "MRR@5 0.071\n",
      "MRR@20 0.09\n",
      "Average Recall@5 0.137\n",
      "Average Recall@20 0.37\n",
      "Training model ItemKNN with hyperparameters {'k': None, 'normalize': False}\n",
      "density of model 0.03258287118691249\n",
      "Evaluating with 816 users\n",
      "MRR@5 0.065\n",
      "MRR@20 0.085\n",
      "Average Recall@5 0.136\n",
      "Average Recall@20 0.373\n",
      "CPU times: user 3.79 s, sys: 1.03 s, total: 4.82 s\n",
      "Wall time: 4.81 s\n"
     ]
    },
    {
     "data": {
      "text/plain": [
       "\"Best score of 0.10632453837513822 achieved with {'k': 100, 'normalize': True}.\""
      ]
     },
     "execution_count": 8,
     "metadata": {},
     "output_type": "execute_result"
    }
   ],
   "source": [
    "%%time\n",
    "score, best_hyperparams = evaluation.base.gridsearch(ALG, Xtrain, Xval_in, Xval_out, HYPERPARAMS, retarget=RETARGET)\n",
    "f\"Best score of {score} achieved with {best_hyperparams}.\""
   ]
  },
  {
   "cell_type": "markdown",
   "id": "e89dad17",
   "metadata": {},
   "source": [
    "## Evaluate model with optimal hyperparams with KFolds Cross validation"
   ]
  },
  {
   "cell_type": "code",
   "execution_count": 9,
   "id": "81674e0b",
   "metadata": {
    "scrolled": true
   },
   "outputs": [
    {
     "name": "stdout",
     "output_type": "stream",
     "text": [
      "density of model 0.015061426953336308\n",
      "Evaluating with 816 users\n",
      "density of model 0.015054321991060621\n",
      "Evaluating with 816 users\n",
      "density of model 0.015065981416333543\n",
      "Evaluating with 816 users\n",
      "density of model 0.015056568859472591\n",
      "Evaluating with 816 users\n",
      "density of model 0.01505760120441863\n",
      "Evaluating with 816 users\n",
      "MRR@5 0.071 (0.006)\n",
      "MRR@20 0.101 (0.009)\n",
      "Average Recall@5 0.155 (0.007)\n",
      "Average Recall@20 0.451 (0.02)\n",
      "CPU times: user 1.04 s, sys: 236 ms, total: 1.28 s\n",
      "Wall time: 1.27 s\n"
     ]
    }
   ],
   "source": [
    "%%time\n",
    "alg = ALG(**best_hyperparams)\n",
    "results = evaluation.base.kFoldsEval(alg, data, nr_folds=5, seed=SEED2, retarget=RETARGET)"
   ]
  }
 ],
 "metadata": {
  "kernelspec": {
   "display_name": "Python 3 (ipykernel)",
   "language": "python",
   "name": "python3"
  },
  "language_info": {
   "codemirror_mode": {
    "name": "ipython",
    "version": 3
   },
   "file_extension": ".py",
   "mimetype": "text/x-python",
   "name": "python",
   "nbconvert_exporter": "python",
   "pygments_lexer": "ipython3",
   "version": "3.10.6"
  }
 },
 "nbformat": 4,
 "nbformat_minor": 5
}
