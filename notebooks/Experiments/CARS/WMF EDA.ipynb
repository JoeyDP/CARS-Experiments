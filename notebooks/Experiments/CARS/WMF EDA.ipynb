{
 "cells": [
  {
   "cell_type": "code",
   "execution_count": 1,
   "id": "9ef88bc4",
   "metadata": {},
   "outputs": [],
   "source": [
    "%load_ext autoreload\n",
    "%autoreload 2"
   ]
  },
  {
   "cell_type": "markdown",
   "id": "55bab0c8",
   "metadata": {},
   "source": [
    "# Experiments with WMF model"
   ]
  },
  {
   "cell_type": "code",
   "execution_count": 2,
   "id": "ec55d42c",
   "metadata": {},
   "outputs": [],
   "source": [
    "from pathlib import Path\n",
    "\n",
    "import scipy.sparse\n",
    "import numpy as np\n",
    "\n",
    "import matplotlib.pyplot as plt\n",
    "\n",
    "import src.io as io\n",
    "import src.evaluation as evaluation\n",
    "import src.evaluation.splits\n",
    "import src.evaluation.base\n",
    "\n",
    "from src.algorithm.baseline.wmf import WMF"
   ]
  },
  {
   "cell_type": "markdown",
   "id": "c469b253",
   "metadata": {},
   "source": [
    "## Datasets"
   ]
  },
  {
   "cell_type": "code",
   "execution_count": 3,
   "id": "e0622ed1",
   "metadata": {},
   "outputs": [],
   "source": [
    "## Uncomment corresponding directory.\n",
    "## RETARGET True for Frappe, False for the others\n",
    "\n",
    "DATA_DIR, RETARGET = Path('../../../data/CARS/Mobile_Frappe/'), True\n",
    "# DATA_DIR, RETARGET = Path('../../../data/CARS/Food_com/'), False\n",
    "# DATA_DIR, RETARGET = Path('../../../data/CARS/TripAdvisor/'), False"
   ]
  },
  {
   "cell_type": "code",
   "execution_count": 4,
   "id": "d53bce36",
   "metadata": {},
   "outputs": [],
   "source": [
    "# Shouldn't need to change this info\n",
    "INTERACTIONS = DATA_DIR / 'interactions.csv'\n",
    "\n",
    "SEED = 123456\n",
    "SEED2 = 78910\n",
    "\n",
    "ITEM_ID = 'item'\n",
    "USER_ID = 'user'"
   ]
  },
  {
   "cell_type": "markdown",
   "id": "32d25f41",
   "metadata": {},
   "source": [
    "## Parse data"
   ]
  },
  {
   "cell_type": "code",
   "execution_count": 5,
   "id": "ce0d0435",
   "metadata": {},
   "outputs": [
    {
     "data": {
      "text/html": [
       "<div>\n",
       "<style scoped>\n",
       "    .dataframe tbody tr th:only-of-type {\n",
       "        vertical-align: middle;\n",
       "    }\n",
       "\n",
       "    .dataframe tbody tr th {\n",
       "        vertical-align: top;\n",
       "    }\n",
       "\n",
       "    .dataframe thead th {\n",
       "        text-align: right;\n",
       "    }\n",
       "</style>\n",
       "<table border=\"1\" class=\"dataframe\">\n",
       "  <thead>\n",
       "    <tr style=\"text-align: right;\">\n",
       "      <th></th>\n",
       "      <th>userId</th>\n",
       "      <th>itemId</th>\n",
       "      <th>daytime</th>\n",
       "      <th>weather</th>\n",
       "      <th>weekday</th>\n",
       "    </tr>\n",
       "  </thead>\n",
       "  <tbody>\n",
       "    <tr>\n",
       "      <th>0</th>\n",
       "      <td>0</td>\n",
       "      <td>0</td>\n",
       "      <td>1</td>\n",
       "      <td>1</td>\n",
       "      <td>1</td>\n",
       "    </tr>\n",
       "    <tr>\n",
       "      <th>1</th>\n",
       "      <td>1</td>\n",
       "      <td>1</td>\n",
       "      <td>2</td>\n",
       "      <td>2</td>\n",
       "      <td>2</td>\n",
       "    </tr>\n",
       "    <tr>\n",
       "      <th>2</th>\n",
       "      <td>2</td>\n",
       "      <td>2</td>\n",
       "      <td>3</td>\n",
       "      <td>2</td>\n",
       "      <td>3</td>\n",
       "    </tr>\n",
       "    <tr>\n",
       "      <th>3</th>\n",
       "      <td>3</td>\n",
       "      <td>3</td>\n",
       "      <td>4</td>\n",
       "      <td>0</td>\n",
       "      <td>4</td>\n",
       "    </tr>\n",
       "    <tr>\n",
       "      <th>4</th>\n",
       "      <td>4</td>\n",
       "      <td>4</td>\n",
       "      <td>5</td>\n",
       "      <td>1</td>\n",
       "      <td>4</td>\n",
       "    </tr>\n",
       "    <tr>\n",
       "      <th>...</th>\n",
       "      <td>...</td>\n",
       "      <td>...</td>\n",
       "      <td>...</td>\n",
       "      <td>...</td>\n",
       "      <td>...</td>\n",
       "    </tr>\n",
       "    <tr>\n",
       "      <th>95997</th>\n",
       "      <td>109</td>\n",
       "      <td>0</td>\n",
       "      <td>3</td>\n",
       "      <td>1</td>\n",
       "      <td>1</td>\n",
       "    </tr>\n",
       "    <tr>\n",
       "      <th>95998</th>\n",
       "      <td>37</td>\n",
       "      <td>16</td>\n",
       "      <td>4</td>\n",
       "      <td>2</td>\n",
       "      <td>1</td>\n",
       "    </tr>\n",
       "    <tr>\n",
       "      <th>95999</th>\n",
       "      <td>180</td>\n",
       "      <td>33</td>\n",
       "      <td>2</td>\n",
       "      <td>2</td>\n",
       "      <td>1</td>\n",
       "    </tr>\n",
       "    <tr>\n",
       "      <th>96000</th>\n",
       "      <td>445</td>\n",
       "      <td>751</td>\n",
       "      <td>3</td>\n",
       "      <td>1</td>\n",
       "      <td>1</td>\n",
       "    </tr>\n",
       "    <tr>\n",
       "      <th>96001</th>\n",
       "      <td>361</td>\n",
       "      <td>380</td>\n",
       "      <td>3</td>\n",
       "      <td>2</td>\n",
       "      <td>4</td>\n",
       "    </tr>\n",
       "  </tbody>\n",
       "</table>\n",
       "<p>96002 rows × 5 columns</p>\n",
       "</div>"
      ],
      "text/plain": [
       "       userId  itemId  daytime  weather  weekday\n",
       "0           0       0        1        1        1\n",
       "1           1       1        2        2        2\n",
       "2           2       2        3        2        3\n",
       "3           3       3        4        0        4\n",
       "4           4       4        5        1        4\n",
       "...       ...     ...      ...      ...      ...\n",
       "95997     109       0        3        1        1\n",
       "95998      37      16        4        2        1\n",
       "95999     180      33        2        2        1\n",
       "96000     445     751        3        1        1\n",
       "96001     361     380        3        2        4\n",
       "\n",
       "[96002 rows x 5 columns]"
      ]
     },
     "execution_count": 5,
     "metadata": {},
     "output_type": "execute_result"
    }
   ],
   "source": [
    "data = io.parse_interactions_with_context(INTERACTIONS, item_id=ITEM_ID, user_id=USER_ID)\n",
    "data.df"
   ]
  },
  {
   "cell_type": "markdown",
   "id": "36a367d9",
   "metadata": {},
   "source": [
    "## Make train/val split for hyperparam tuning"
   ]
  },
  {
   "cell_type": "code",
   "execution_count": 6,
   "id": "92b4e0a4",
   "metadata": {},
   "outputs": [],
   "source": [
    "Xtrain, Xval_in, Xval_out = evaluation.splits.leave_one_out_split_non_context(data, seed=SEED)"
   ]
  },
  {
   "cell_type": "markdown",
   "id": "e05178b5",
   "metadata": {},
   "source": [
    "## Inspect performance per training step"
   ]
  },
  {
   "cell_type": "code",
   "execution_count": 7,
   "id": "00ce5347",
   "metadata": {},
   "outputs": [
    {
     "name": "stdout",
     "output_type": "stream",
     "text": [
      "Evaluating with 816 users\n",
      "init {'MRR@5': 0.13282271241830065, 'MRR@20': 0.141887875337782, 'Average Recall@5': 0.23529411764705882, 'Average Recall@20': 0.3284313725490196}\n"
     ]
    }
   ],
   "source": [
    "alg = WMF(k=80, l2=100, v=1, alpha=200, max_iterations=1)\n",
    "alg.initialize(Xtrain)\n",
    "scores = evaluation.base.eval(alg, Xval_in, Xval_out, retarget=True)\n",
    "print(\"init\", scores)"
   ]
  },
  {
   "cell_type": "code",
   "execution_count": 8,
   "id": "302e60b3",
   "metadata": {
    "scrolled": true
   },
   "outputs": [
    {
     "data": {
      "application/vnd.jupyter.widget-view+json": {
       "model_id": "837eaff7e07f4dcc8ce7ce4744318ec4",
       "version_major": 2,
       "version_minor": 0
      },
      "text/plain": [
       "  0%|          | 0/1 [00:00<?, ?it/s]"
      ]
     },
     "metadata": {},
     "output_type": "display_data"
    },
    {
     "name": "stdout",
     "output_type": "stream",
     "text": [
      "Evaluating with 816 users\n",
      "0 {'MRR@5': 0.1578839869281046, 'MRR@20': 0.18543261534676464, 'Average Recall@5': 0.28921568627450983, 'Average Recall@20': 0.5735294117647058}\n"
     ]
    },
    {
     "data": {
      "application/vnd.jupyter.widget-view+json": {
       "model_id": "2220ef840e954b9d8249e40fef48b574",
       "version_major": 2,
       "version_minor": 0
      },
      "text/plain": [
       "  0%|          | 0/1 [00:00<?, ?it/s]"
      ]
     },
     "metadata": {},
     "output_type": "display_data"
    },
    {
     "name": "stdout",
     "output_type": "stream",
     "text": [
      "Evaluating with 816 users\n",
      "1 {'MRR@5': 0.1795751633986928, 'MRR@20': 0.2095329396438598, 'Average Recall@5': 0.32230392156862747, 'Average Recall@20': 0.6053921568627451}\n"
     ]
    },
    {
     "data": {
      "application/vnd.jupyter.widget-view+json": {
       "model_id": "fb10b6390d994ee3a9d4dcabab4103bc",
       "version_major": 2,
       "version_minor": 0
      },
      "text/plain": [
       "  0%|          | 0/1 [00:00<?, ?it/s]"
      ]
     },
     "metadata": {},
     "output_type": "display_data"
    },
    {
     "name": "stdout",
     "output_type": "stream",
     "text": [
      "Evaluating with 816 users\n",
      "2 {'MRR@5': 0.19334150326797384, 'MRR@20': 0.2226358727632118, 'Average Recall@5': 0.3394607843137255, 'Average Recall@20': 0.616421568627451}\n"
     ]
    },
    {
     "data": {
      "application/vnd.jupyter.widget-view+json": {
       "model_id": "cf93a0f61a174ef5a0a91f7b7b56d787",
       "version_major": 2,
       "version_minor": 0
      },
      "text/plain": [
       "  0%|          | 0/1 [00:00<?, ?it/s]"
      ]
     },
     "metadata": {},
     "output_type": "display_data"
    },
    {
     "name": "stdout",
     "output_type": "stream",
     "text": [
      "Evaluating with 816 users\n",
      "3 {'MRR@5': 0.1985089869281046, 'MRR@20': 0.22550302555467255, 'Average Recall@5': 0.35661764705882354, 'Average Recall@20': 0.6299019607843137}\n"
     ]
    },
    {
     "data": {
      "application/vnd.jupyter.widget-view+json": {
       "model_id": "f8887e53a0e747818df62072991ec6c0",
       "version_major": 2,
       "version_minor": 0
      },
      "text/plain": [
       "  0%|          | 0/1 [00:00<?, ?it/s]"
      ]
     },
     "metadata": {},
     "output_type": "display_data"
    },
    {
     "name": "stdout",
     "output_type": "stream",
     "text": [
      "Evaluating with 816 users\n",
      "4 {'MRR@5': 0.19975490196078433, 'MRR@20': 0.22667671895228922, 'Average Recall@5': 0.36151960784313725, 'Average Recall@20': 0.6372549019607843}\n"
     ]
    },
    {
     "data": {
      "application/vnd.jupyter.widget-view+json": {
       "model_id": "0e124e346bbe482794c8ba76f9e6d013",
       "version_major": 2,
       "version_minor": 0
      },
      "text/plain": [
       "  0%|          | 0/1 [00:00<?, ?it/s]"
      ]
     },
     "metadata": {},
     "output_type": "display_data"
    },
    {
     "name": "stdout",
     "output_type": "stream",
     "text": [
      "Evaluating with 816 users\n",
      "5 {'MRR@5': 0.20247140522875814, 'MRR@20': 0.23014949266798884, 'Average Recall@5': 0.3602941176470588, 'Average Recall@20': 0.6446078431372549}\n"
     ]
    },
    {
     "data": {
      "application/vnd.jupyter.widget-view+json": {
       "model_id": "3c1e878aaadb41a4bf0e5a88de9b2d6f",
       "version_major": 2,
       "version_minor": 0
      },
      "text/plain": [
       "  0%|          | 0/1 [00:00<?, ?it/s]"
      ]
     },
     "metadata": {},
     "output_type": "display_data"
    },
    {
     "name": "stdout",
     "output_type": "stream",
     "text": [
      "Evaluating with 816 users\n",
      "6 {'MRR@5': 0.20447303921568627, 'MRR@20': 0.2318878810211218, 'Average Recall@5': 0.36519607843137253, 'Average Recall@20': 0.6458333333333334}\n"
     ]
    },
    {
     "data": {
      "application/vnd.jupyter.widget-view+json": {
       "model_id": "85eea025f642490cafd2b6f56cd69503",
       "version_major": 2,
       "version_minor": 0
      },
      "text/plain": [
       "  0%|          | 0/1 [00:00<?, ?it/s]"
      ]
     },
     "metadata": {},
     "output_type": "display_data"
    },
    {
     "name": "stdout",
     "output_type": "stream",
     "text": [
      "Evaluating with 816 users\n",
      "7 {'MRR@5': 0.2045955882352941, 'MRR@20': 0.23136762088598045, 'Average Recall@5': 0.36764705882352944, 'Average Recall@20': 0.6421568627450981}\n"
     ]
    },
    {
     "data": {
      "application/vnd.jupyter.widget-view+json": {
       "model_id": "5b7b4d2aff6e4f49867350cf984c980c",
       "version_major": 2,
       "version_minor": 0
      },
      "text/plain": [
       "  0%|          | 0/1 [00:00<?, ?it/s]"
      ]
     },
     "metadata": {},
     "output_type": "display_data"
    },
    {
     "name": "stdout",
     "output_type": "stream",
     "text": [
      "Evaluating with 816 users\n",
      "8 {'MRR@5': 0.20716911764705884, 'MRR@20': 0.23351478080978627, 'Average Recall@5': 0.37254901960784315, 'Average Recall@20': 0.6433823529411765}\n"
     ]
    },
    {
     "data": {
      "application/vnd.jupyter.widget-view+json": {
       "model_id": "9b90754d6965464f944a8bb467823b3d",
       "version_major": 2,
       "version_minor": 0
      },
      "text/plain": [
       "  0%|          | 0/1 [00:00<?, ?it/s]"
      ]
     },
     "metadata": {},
     "output_type": "display_data"
    },
    {
     "name": "stdout",
     "output_type": "stream",
     "text": [
      "Evaluating with 816 users\n",
      "9 {'MRR@5': 0.20571895424836603, 'MRR@20': 0.23267675630377097, 'Average Recall@5': 0.3713235294117647, 'Average Recall@20': 0.6433823529411765}\n"
     ]
    },
    {
     "data": {
      "application/vnd.jupyter.widget-view+json": {
       "model_id": "f44bc95e6d6142c68f57be4df0c08901",
       "version_major": 2,
       "version_minor": 0
      },
      "text/plain": [
       "  0%|          | 0/1 [00:00<?, ?it/s]"
      ]
     },
     "metadata": {},
     "output_type": "display_data"
    },
    {
     "name": "stdout",
     "output_type": "stream",
     "text": [
      "Evaluating with 816 users\n",
      "10 {'MRR@5': 0.20861928104575161, 'MRR@20': 0.23491679007494662, 'Average Recall@5': 0.3713235294117647, 'Average Recall@20': 0.6397058823529411}\n"
     ]
    },
    {
     "data": {
      "application/vnd.jupyter.widget-view+json": {
       "model_id": "dd28072e4d13420aa61406c8edc67510",
       "version_major": 2,
       "version_minor": 0
      },
      "text/plain": [
       "  0%|          | 0/1 [00:00<?, ?it/s]"
      ]
     },
     "metadata": {},
     "output_type": "display_data"
    },
    {
     "name": "stdout",
     "output_type": "stream",
     "text": [
      "Evaluating with 816 users\n",
      "11 {'MRR@5': 0.20829248366013073, 'MRR@20': 0.23433610788885334, 'Average Recall@5': 0.375, 'Average Recall@20': 0.6421568627450981}\n"
     ]
    },
    {
     "data": {
      "application/vnd.jupyter.widget-view+json": {
       "model_id": "5d3cc9e89c924c6b8884a3a28c756552",
       "version_major": 2,
       "version_minor": 0
      },
      "text/plain": [
       "  0%|          | 0/1 [00:00<?, ?it/s]"
      ]
     },
     "metadata": {},
     "output_type": "display_data"
    },
    {
     "name": "stdout",
     "output_type": "stream",
     "text": [
      "Evaluating with 816 users\n",
      "12 {'MRR@5': 0.2077410130718954, 'MRR@20': 0.23363869234640727, 'Average Recall@5': 0.3762254901960784, 'Average Recall@20': 0.6446078431372549}\n"
     ]
    },
    {
     "data": {
      "application/vnd.jupyter.widget-view+json": {
       "model_id": "4b981f74370c445dbe9f7350897d7c3c",
       "version_major": 2,
       "version_minor": 0
      },
      "text/plain": [
       "  0%|          | 0/1 [00:00<?, ?it/s]"
      ]
     },
     "metadata": {},
     "output_type": "display_data"
    },
    {
     "name": "stdout",
     "output_type": "stream",
     "text": [
      "Evaluating with 816 users\n",
      "13 {'MRR@5': 0.20825163398692811, 'MRR@20': 0.23439875239624264, 'Average Recall@5': 0.3737745098039216, 'Average Recall@20': 0.6384803921568627}\n"
     ]
    },
    {
     "data": {
      "application/vnd.jupyter.widget-view+json": {
       "model_id": "df8966b9f4e14855b2dff8837342b7a9",
       "version_major": 2,
       "version_minor": 0
      },
      "text/plain": [
       "  0%|          | 0/1 [00:00<?, ?it/s]"
      ]
     },
     "metadata": {},
     "output_type": "display_data"
    },
    {
     "name": "stdout",
     "output_type": "stream",
     "text": [
      "Evaluating with 816 users\n",
      "14 {'MRR@5': 0.20786356209150328, 'MRR@20': 0.23397784139395414, 'Average Recall@5': 0.3737745098039216, 'Average Recall@20': 0.6384803921568627}\n"
     ]
    },
    {
     "data": {
      "application/vnd.jupyter.widget-view+json": {
       "model_id": "83079dbd7df741cb8dd31c3359ecac3e",
       "version_major": 2,
       "version_minor": 0
      },
      "text/plain": [
       "  0%|          | 0/1 [00:00<?, ?it/s]"
      ]
     },
     "metadata": {},
     "output_type": "display_data"
    },
    {
     "name": "stdout",
     "output_type": "stream",
     "text": [
      "Evaluating with 816 users\n",
      "15 {'MRR@5': 0.20868055555555556, 'MRR@20': 0.23484749845001282, 'Average Recall@5': 0.375, 'Average Recall@20': 0.6397058823529411}\n"
     ]
    },
    {
     "data": {
      "application/vnd.jupyter.widget-view+json": {
       "model_id": "fba40458ee7d47d1862ac5c565b51c06",
       "version_major": 2,
       "version_minor": 0
      },
      "text/plain": [
       "  0%|          | 0/1 [00:00<?, ?it/s]"
      ]
     },
     "metadata": {},
     "output_type": "display_data"
    },
    {
     "name": "stdout",
     "output_type": "stream",
     "text": [
      "Evaluating with 816 users\n",
      "16 {'MRR@5': 0.20931372549019608, 'MRR@20': 0.23550240840693404, 'Average Recall@5': 0.3737745098039216, 'Average Recall@20': 0.6372549019607843}\n"
     ]
    },
    {
     "data": {
      "application/vnd.jupyter.widget-view+json": {
       "model_id": "e4c1f3a2abb04da7ab42997aff936fd1",
       "version_major": 2,
       "version_minor": 0
      },
      "text/plain": [
       "  0%|          | 0/1 [00:00<?, ?it/s]"
      ]
     },
     "metadata": {},
     "output_type": "display_data"
    },
    {
     "name": "stdout",
     "output_type": "stream",
     "text": [
      "Evaluating with 816 users\n",
      "17 {'MRR@5': 0.2091299019607843, 'MRR@20': 0.2358402069506035, 'Average Recall@5': 0.3737745098039216, 'Average Recall@20': 0.6360294117647058}\n"
     ]
    },
    {
     "data": {
      "application/vnd.jupyter.widget-view+json": {
       "model_id": "68dbc741bc3e4edab826e90f8193f68f",
       "version_major": 2,
       "version_minor": 0
      },
      "text/plain": [
       "  0%|          | 0/1 [00:00<?, ?it/s]"
      ]
     },
     "metadata": {},
     "output_type": "display_data"
    },
    {
     "name": "stdout",
     "output_type": "stream",
     "text": [
      "Evaluating with 816 users\n",
      "18 {'MRR@5': 0.20929330065359478, 'MRR@20': 0.23551900283256139, 'Average Recall@5': 0.3737745098039216, 'Average Recall@20': 0.633578431372549}\n"
     ]
    },
    {
     "data": {
      "application/vnd.jupyter.widget-view+json": {
       "model_id": "f1daf9ffb6d84c40bd49235ad3d0a5b8",
       "version_major": 2,
       "version_minor": 0
      },
      "text/plain": [
       "  0%|          | 0/1 [00:00<?, ?it/s]"
      ]
     },
     "metadata": {},
     "output_type": "display_data"
    },
    {
     "name": "stdout",
     "output_type": "stream",
     "text": [
      "Evaluating with 816 users\n",
      "19 {'MRR@5': 0.20904820261437906, 'MRR@20': 0.23596665849684995, 'Average Recall@5': 0.37254901960784315, 'Average Recall@20': 0.6372549019607843}\n"
     ]
    }
   ],
   "source": [
    "for i in range(20):\n",
    "    alg.train(Xtrain)\n",
    "    scores = evaluation.base.eval(alg, Xval_in, Xval_out, retarget=True)\n",
    "    print(i, scores)"
   ]
  },
  {
   "cell_type": "markdown",
   "id": "9f8a6458",
   "metadata": {},
   "source": [
    "## Link between magnitude of factors and popularity"
   ]
  },
  {
   "cell_type": "code",
   "execution_count": 7,
   "id": "57204295",
   "metadata": {},
   "outputs": [
    {
     "data": {
      "application/vnd.jupyter.widget-view+json": {
       "model_id": "1c6e816282a748fb9c21c46e451030ec",
       "version_major": 2,
       "version_minor": 0
      },
      "text/plain": [
       "  0%|          | 0/10 [00:00<?, ?it/s]"
      ]
     },
     "metadata": {},
     "output_type": "display_data"
    },
    {
     "name": "stdout",
     "output_type": "stream",
     "text": [
      "CPU times: user 6.69 s, sys: 1.51 s, total: 8.2 s\n",
      "Wall time: 8.42 s\n"
     ]
    },
    {
     "data": {
      "text/plain": [
       "<src.algorithm.baseline.wmf.WMF at 0x7f1269f8d7e0>"
      ]
     },
     "execution_count": 7,
     "metadata": {},
     "output_type": "execute_result"
    }
   ],
   "source": [
    "%%time\n",
    "alg = WMF(k=80, l2=100, v=0, alpha=200, max_iterations=10)\n",
    "alg.fit(Xtrain)"
   ]
  },
  {
   "cell_type": "code",
   "execution_count": 9,
   "id": "523064e8",
   "metadata": {},
   "outputs": [
    {
     "data": {
      "application/vnd.jupyter.widget-view+json": {
       "model_id": "3a436d4ea6d54113b3ef512a770f46b4",
       "version_major": 2,
       "version_minor": 0
      },
      "text/plain": [
       "  0%|          | 0/10 [00:00<?, ?it/s]"
      ]
     },
     "metadata": {},
     "output_type": "display_data"
    },
    {
     "name": "stdout",
     "output_type": "stream",
     "text": [
      "CPU times: user 2.38 s, sys: 300 ms, total: 2.68 s\n",
      "Wall time: 4.44 s\n"
     ]
    },
    {
     "data": {
      "text/plain": [
       "<src.algorithm.baseline.wmf.WMF at 0x7f73367e7bb0>"
      ]
     },
     "execution_count": 9,
     "metadata": {},
     "output_type": "execute_result"
    }
   ],
   "source": [
    "%%time\n",
    "alg = WMF(k=80, l2=100, v=0, alpha=200, max_iterations=10)\n",
    "alg.fit(Xtrain)"
   ]
  },
  {
   "cell_type": "code",
   "execution_count": 8,
   "id": "b9267f5c",
   "metadata": {},
   "outputs": [
    {
     "name": "stdout",
     "output_type": "stream",
     "text": [
      "Evaluating with 816 users\n",
      "init {'MRR@5': 0.19714052287581701, 'MRR@20': 0.2262838687715759, 'Average Recall@5': 0.37745098039215685, 'Average Recall@20': 0.6617647058823529}\n"
     ]
    }
   ],
   "source": [
    "scores = evaluation.base.eval(alg, Xval_in, Xval_out, retarget=True)\n",
    "print(\"init\", scores)"
   ]
  },
  {
   "cell_type": "code",
   "execution_count": 9,
   "id": "61090c33",
   "metadata": {},
   "outputs": [],
   "source": [
    "# alg.saveUserItemFactors(\"factors.npz\")\n",
    "# P, Q = WMF.loadUserItemFactors(\"factors.npz\")"
   ]
  },
  {
   "cell_type": "markdown",
   "id": "ab90a51b",
   "metadata": {},
   "source": [
    "### Items"
   ]
  },
  {
   "cell_type": "code",
   "execution_count": 44,
   "id": "047aaa89",
   "metadata": {},
   "outputs": [
    {
     "data": {
      "text/plain": [
       "array([0.9278049 , 0.47168764, 0.31645735, ..., 0.17887002, 0.42880528,\n",
       "       0.14997101])"
      ]
     },
     "execution_count": 44,
     "metadata": {},
     "output_type": "execute_result"
    }
   ],
   "source": [
    "Qmagn = np.linalg.norm(alg.Q, axis=1)\n",
    "Qmagn"
   ]
  },
  {
   "cell_type": "code",
   "execution_count": 45,
   "id": "5363f43a",
   "metadata": {},
   "outputs": [
    {
     "data": {
      "text/plain": [
       "array([68,  6,  3, ...,  1,  1,  1])"
      ]
     },
     "execution_count": 45,
     "metadata": {},
     "output_type": "execute_result"
    }
   ],
   "source": [
    "pop = np.asarray(Xtrain.sum(axis=0)).flatten()\n",
    "pop"
   ]
  },
  {
   "cell_type": "code",
   "execution_count": 46,
   "id": "fc0c7451",
   "metadata": {},
   "outputs": [
    {
     "data": {
      "text/plain": [
       "array([  21,   16,   17, ..., 1617, 3942, 2821])"
      ]
     },
     "execution_count": 46,
     "metadata": {},
     "output_type": "execute_result"
    }
   ],
   "source": [
    "indices = np.argsort(-pop)\n",
    "indices"
   ]
  },
  {
   "cell_type": "code",
   "execution_count": 34,
   "id": "c058e4a4",
   "metadata": {},
   "outputs": [
    {
     "data": {
      "text/plain": [
       "array([382, 374, 326, ...,   0,   0,   0])"
      ]
     },
     "execution_count": 34,
     "metadata": {},
     "output_type": "execute_result"
    },
    {
     "data": {
      "image/png": "[encoded data removed]",
      "text/plain": [
       "<Figure size 640x480 with 1 Axes>"
      ]
     },
     "metadata": {},
     "output_type": "display_data"
    }
   ],
   "source": [
    "plt.plot(pop[indices])\n",
    "plt.yscale(\"log\")\n",
    "pop[indices]"
   ]
  },
  {
   "cell_type": "code",
   "execution_count": 31,
   "id": "112010e7",
   "metadata": {},
   "outputs": [
    {
     "data": {
      "text/plain": [
       "array([1.52108475, 1.52147263, 1.51075347, ..., 0.        , 0.        ,\n",
       "       0.        ])"
      ]
     },
     "execution_count": 31,
     "metadata": {},
     "output_type": "execute_result"
    },
    {
     "data": {
      "image/png": "[encoded data removed]",
      "text/plain": [
       "<Figure size 640x480 with 1 Axes>"
      ]
     },
     "metadata": {},
     "output_type": "display_data"
    }
   ],
   "source": [
    "# baseline\n",
    "plt.plot(Qmagn[indices])\n",
    "Qmagn[indices]"
   ]
  },
  {
   "cell_type": "code",
   "execution_count": 41,
   "id": "98788059",
   "metadata": {},
   "outputs": [
    {
     "data": {
      "text/plain": [
       "array([1.49574228, 1.50318075, 1.49701053, ..., 0.        , 0.        ,\n",
       "       0.        ])"
      ]
     },
     "execution_count": 41,
     "metadata": {},
     "output_type": "execute_result"
    },
    {
     "data": {
      "image/png": "[encoded data removed]",
      "text/plain": [
       "<Figure size 640x480 with 1 Axes>"
      ]
     },
     "metadata": {},
     "output_type": "display_data"
    }
   ],
   "source": [
    "# lower l2\n",
    "plt.plot(Qmagn[indices])\n",
    "Qmagn[indices]"
   ]
  },
  {
   "cell_type": "code",
   "execution_count": 47,
   "id": "8af08856",
   "metadata": {},
   "outputs": [
    {
     "data": {
      "text/plain": [
       "array([0.99835925, 0.98017091, 0.94831109, ..., 0.        , 0.        ,\n",
       "       0.        ])"
      ]
     },
     "execution_count": 47,
     "metadata": {},
     "output_type": "execute_result"
    },
    {
     "data": {
      "image/png": "[encoded data removed]",
      "text/plain": [
       "<Figure size 640x480 with 1 Axes>"
      ]
     },
     "metadata": {},
     "output_type": "display_data"
    }
   ],
   "source": [
    "# v = 0\n",
    "plt.plot(Qmagn[indices])\n",
    "Qmagn[indices]"
   ]
  },
  {
   "cell_type": "markdown",
   "id": "82eaa5fb",
   "metadata": {},
   "source": [
    "### Users"
   ]
  },
  {
   "cell_type": "code",
   "execution_count": 57,
   "id": "9f913975",
   "metadata": {},
   "outputs": [],
   "source": [
    "Pmagn = np.linalg.norm(alg.P, axis=1)\n",
    "# Pmagn"
   ]
  },
  {
   "cell_type": "code",
   "execution_count": 58,
   "id": "a45af29d",
   "metadata": {},
   "outputs": [],
   "source": [
    "pop = np.asarray(Xtrain.sum(axis=1)).flatten()\n",
    "# pop"
   ]
  },
  {
   "cell_type": "code",
   "execution_count": 59,
   "id": "eac30d30",
   "metadata": {},
   "outputs": [],
   "source": [
    "indices = np.argsort(-pop)"
   ]
  },
  {
   "cell_type": "code",
   "execution_count": 63,
   "id": "86797616",
   "metadata": {},
   "outputs": [
    {
     "data": {
      "text/plain": [
       "array([190, 159, 150, 148, 145, 131, 126, 118, 116, 114])"
      ]
     },
     "execution_count": 63,
     "metadata": {},
     "output_type": "execute_result"
    },
    {
     "data": {
      "image/png": "[encoded data removed]",
      "text/plain": [
       "<Figure size 640x480 with 1 Axes>"
      ]
     },
     "metadata": {},
     "output_type": "display_data"
    }
   ],
   "source": [
    "plt.plot(pop[indices])\n",
    "plt.yscale(\"log\")\n",
    "pop[indices[:10]]"
   ]
  },
  {
   "cell_type": "code",
   "execution_count": 62,
   "id": "8937a9af",
   "metadata": {},
   "outputs": [
    {
     "data": {
      "text/plain": [
       "[<matplotlib.lines.Line2D at 0x7fc328c3fcd0>]"
      ]
     },
     "execution_count": 62,
     "metadata": {},
     "output_type": "execute_result"
    },
    {
     "data": {
      "image/png": "[encoded data removed]",
      "text/plain": [
       "<Figure size 640x480 with 1 Axes>"
      ]
     },
     "metadata": {},
     "output_type": "display_data"
    }
   ],
   "source": [
    "plt.plot(Pmagn[indices])\n",
    "# Pmagn[indices]"
   ]
  },
  {
   "cell_type": "markdown",
   "id": "eccb7548",
   "metadata": {},
   "source": [
    "### With normalized user factors and no user regularization"
   ]
  },
  {
   "cell_type": "code",
   "execution_count": 81,
   "id": "cc74e64c",
   "metadata": {},
   "outputs": [
    {
     "data": {
      "application/vnd.jupyter.widget-view+json": {
       "model_id": "beef1f7d2eaa4ae796f130f34886034f",
       "version_major": 2,
       "version_minor": 0
      },
      "text/plain": [
       "  0%|          | 0/10 [00:00<?, ?it/s]"
      ]
     },
     "metadata": {},
     "output_type": "display_data"
    },
    {
     "name": "stdout",
     "output_type": "stream",
     "text": [
      "loss 0\n",
      "loss 0\n",
      "loss 0\n",
      "loss 0\n",
      "loss 0\n",
      "loss 0\n",
      "loss 0\n",
      "loss 0\n",
      "loss 0\n",
      "loss 0\n"
     ]
    },
    {
     "data": {
      "text/plain": [
       "<src.algorithm.baseline.wmf.WMF at 0x7fc32878fdf0>"
      ]
     },
     "execution_count": 81,
     "metadata": {},
     "output_type": "execute_result"
    }
   ],
   "source": [
    "alg = WMF(k=80, l2=10, v=1, alpha=200, max_iterations=10)\n",
    "alg.fit(Xtrain)"
   ]
  },
  {
   "cell_type": "code",
   "execution_count": 82,
   "id": "c44d8a80",
   "metadata": {},
   "outputs": [
    {
     "name": "stdout",
     "output_type": "stream",
     "text": [
      "Evaluating with 816 users\n",
      "{'MRR@5': 0.16241830065359478, 'MRR@20': 0.19257423984818814, 'Average Recall@5': 0.29534313725490197, 'Average Recall@20': 0.6041666666666666}\n"
     ]
    }
   ],
   "source": [
    "scores = evaluation.base.eval(alg, Xval_in, Xval_out, retarget=True)\n",
    "print(scores)"
   ]
  },
  {
   "cell_type": "code",
   "execution_count": 80,
   "id": "3df5fd25",
   "metadata": {},
   "outputs": [
    {
     "data": {
      "text/plain": [
       "[<matplotlib.lines.Line2D at 0x7fc3285225f0>]"
      ]
     },
     "execution_count": 80,
     "metadata": {},
     "output_type": "execute_result"
    },
    {
     "data": {
      "image/png": "[encoded data removed]",
      "text/plain": [
       "<Figure size 640x480 with 1 Axes>"
      ]
     },
     "metadata": {},
     "output_type": "display_data"
    }
   ],
   "source": [
    "Pmagn = np.linalg.norm(alg.P, axis=1)\n",
    "plt.plot(Pmagn[indices])"
   ]
  },
  {
   "cell_type": "code",
   "execution_count": null,
   "id": "d991c5c2",
   "metadata": {},
   "outputs": [],
   "source": []
  },
  {
   "cell_type": "code",
   "execution_count": null,
   "id": "5f401a51",
   "metadata": {},
   "outputs": [],
   "source": []
  },
  {
   "cell_type": "code",
   "execution_count": null,
   "id": "b401895a",
   "metadata": {},
   "outputs": [],
   "source": []
  },
  {
   "cell_type": "code",
   "execution_count": null,
   "id": "e92de40d",
   "metadata": {},
   "outputs": [],
   "source": []
  },
  {
   "cell_type": "code",
   "execution_count": null,
   "id": "4f056772",
   "metadata": {},
   "outputs": [],
   "source": []
  },
  {
   "cell_type": "code",
   "execution_count": null,
   "id": "4a30671d",
   "metadata": {},
   "outputs": [],
   "source": []
  },
  {
   "cell_type": "code",
   "execution_count": null,
   "id": "1a1bc936",
   "metadata": {},
   "outputs": [],
   "source": []
  },
  {
   "cell_type": "code",
   "execution_count": null,
   "id": "3aa8d910",
   "metadata": {},
   "outputs": [],
   "source": []
  },
  {
   "cell_type": "code",
   "execution_count": null,
   "id": "83624cf1",
   "metadata": {},
   "outputs": [],
   "source": []
  },
  {
   "cell_type": "code",
   "execution_count": null,
   "id": "74789d59",
   "metadata": {},
   "outputs": [],
   "source": []
  },
  {
   "cell_type": "code",
   "execution_count": null,
   "id": "bf0acb94",
   "metadata": {},
   "outputs": [],
   "source": []
  }
 ],
 "metadata": {
  "kernelspec": {
   "display_name": "Python 3 (ipykernel)",
   "language": "python",
   "name": "python3"
  },
  "language_info": {
   "codemirror_mode": {
    "name": "ipython",
    "version": 3
   },
   "file_extension": ".py",
   "mimetype": "text/x-python",
   "name": "python",
   "nbconvert_exporter": "python",
   "pygments_lexer": "ipython3",
   "version": "3.10.6"
  }
 },
 "nbformat": 4,
 "nbformat_minor": 5
}
