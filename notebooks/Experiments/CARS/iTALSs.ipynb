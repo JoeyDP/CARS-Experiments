{
 "cells": [
  {
   "cell_type": "code",
   "execution_count": 1,
   "id": "9ef88bc4",
   "metadata": {},
   "outputs": [],
   "source": [
    "%load_ext autoreload\n",
    "%autoreload 2"
   ]
  },
  {
   "cell_type": "markdown",
   "id": "55bab0c8",
   "metadata": {},
   "source": [
    "# Experiments with iTALSs model"
   ]
  },
  {
   "cell_type": "code",
   "execution_count": 2,
   "id": "ec55d42c",
   "metadata": {},
   "outputs": [],
   "source": [
    "from pathlib import Path\n",
    "\n",
    "import src.io as io\n",
    "import src.evaluation as evaluation\n",
    "import src.evaluation.splits\n",
    "import src.evaluation.cars\n",
    "\n",
    "from src.algorithm.cars.itals import iTALSs"
   ]
  },
  {
   "cell_type": "markdown",
   "id": "c469b253",
   "metadata": {},
   "source": [
    "## Datasets"
   ]
  },
  {
   "cell_type": "code",
   "execution_count": 3,
   "id": "e0622ed1",
   "metadata": {},
   "outputs": [],
   "source": [
    "## Uncomment corresponding directory.\n",
    "## RETARGET True for Frappe, False for the others\n",
    "\n",
    "DATA_DIR, RETARGET = Path('../../../data/CARS/Mobile_Frappe/'), True\n",
    "# DATA_DIR, RETARGET = Path('../../../data/CARS/Food_com/'), False\n",
    "# DATA_DIR, RETARGET = Path('../../../data/CARS/TripAdvisor/'), False"
   ]
  },
  {
   "cell_type": "code",
   "execution_count": 4,
   "id": "d53bce36",
   "metadata": {},
   "outputs": [],
   "source": [
    "# Shouldn't need to change this info\n",
    "INTERACTIONS = DATA_DIR / 'interactions.csv'\n",
    "\n",
    "SEED = 123456\n",
    "SEED2 = 78910\n",
    "\n",
    "ITEM_ID = 'item'\n",
    "USER_ID = 'user'"
   ]
  },
  {
   "cell_type": "markdown",
   "id": "48457625",
   "metadata": {},
   "source": [
    "## Define algorithm and hyperparameter ranges"
   ]
  },
  {
   "cell_type": "code",
   "execution_count": 5,
   "id": "11a5ac4c",
   "metadata": {},
   "outputs": [
    {
     "data": {
      "text/plain": [
       "{'k': [80],\n",
       " 'l2': [1, 10, 100, 200],\n",
       " 'v': [0, 0.25],\n",
       " 'alpha': [1, 10, 100, 200],\n",
       " 'max_iterations': [10],\n",
       " 'default_context_1': [False]}"
      ]
     },
     "execution_count": 5,
     "metadata": {},
     "output_type": "execute_result"
    }
   ],
   "source": [
    "ALG = iTALSs\n",
    "\n",
    "\n",
    "K = [80]\n",
    "MAX_IT = [10]\n",
    "DEFAULT_CONTEXT_1 = [False]\n",
    "\n",
    "# L2 = [100, 1000, 10000, 100000]\n",
    "# V = [0, 0.5, 1]\n",
    "# ALPHA = [100, 1000, 10000, 100000]\n",
    "\n",
    "L2 = [1, 10, 100, 200]\n",
    "V = [0, 0.25]\n",
    "ALPHA = [1, 10, 100, 200]\n",
    "\n",
    "\n",
    "HYPERPARAMS = {'k': K, 'l2': L2, 'v': V, 'alpha': ALPHA, 'max_iterations': MAX_IT, 'default_context_1': DEFAULT_CONTEXT_1}\n",
    "HYPERPARAMS"
   ]
  },
  {
   "cell_type": "markdown",
   "id": "32d25f41",
   "metadata": {},
   "source": [
    "## Parse data"
   ]
  },
  {
   "cell_type": "code",
   "execution_count": 6,
   "id": "ce0d0435",
   "metadata": {},
   "outputs": [
    {
     "data": {
      "text/html": [
       "<div>\n",
       "<style scoped>\n",
       "    .dataframe tbody tr th:only-of-type {\n",
       "        vertical-align: middle;\n",
       "    }\n",
       "\n",
       "    .dataframe tbody tr th {\n",
       "        vertical-align: top;\n",
       "    }\n",
       "\n",
       "    .dataframe thead th {\n",
       "        text-align: right;\n",
       "    }\n",
       "</style>\n",
       "<table border=\"1\" class=\"dataframe\">\n",
       "  <thead>\n",
       "    <tr style=\"text-align: right;\">\n",
       "      <th></th>\n",
       "      <th>userId</th>\n",
       "      <th>itemId</th>\n",
       "      <th>daytime</th>\n",
       "      <th>weather</th>\n",
       "      <th>weekday</th>\n",
       "    </tr>\n",
       "  </thead>\n",
       "  <tbody>\n",
       "    <tr>\n",
       "      <th>0</th>\n",
       "      <td>0</td>\n",
       "      <td>0</td>\n",
       "      <td>1</td>\n",
       "      <td>1</td>\n",
       "      <td>1</td>\n",
       "    </tr>\n",
       "    <tr>\n",
       "      <th>1</th>\n",
       "      <td>1</td>\n",
       "      <td>1</td>\n",
       "      <td>2</td>\n",
       "      <td>2</td>\n",
       "      <td>2</td>\n",
       "    </tr>\n",
       "    <tr>\n",
       "      <th>2</th>\n",
       "      <td>2</td>\n",
       "      <td>2</td>\n",
       "      <td>3</td>\n",
       "      <td>2</td>\n",
       "      <td>3</td>\n",
       "    </tr>\n",
       "    <tr>\n",
       "      <th>3</th>\n",
       "      <td>3</td>\n",
       "      <td>3</td>\n",
       "      <td>4</td>\n",
       "      <td>0</td>\n",
       "      <td>4</td>\n",
       "    </tr>\n",
       "    <tr>\n",
       "      <th>4</th>\n",
       "      <td>4</td>\n",
       "      <td>4</td>\n",
       "      <td>5</td>\n",
       "      <td>1</td>\n",
       "      <td>4</td>\n",
       "    </tr>\n",
       "    <tr>\n",
       "      <th>...</th>\n",
       "      <td>...</td>\n",
       "      <td>...</td>\n",
       "      <td>...</td>\n",
       "      <td>...</td>\n",
       "      <td>...</td>\n",
       "    </tr>\n",
       "    <tr>\n",
       "      <th>95997</th>\n",
       "      <td>109</td>\n",
       "      <td>0</td>\n",
       "      <td>3</td>\n",
       "      <td>1</td>\n",
       "      <td>1</td>\n",
       "    </tr>\n",
       "    <tr>\n",
       "      <th>95998</th>\n",
       "      <td>37</td>\n",
       "      <td>16</td>\n",
       "      <td>4</td>\n",
       "      <td>2</td>\n",
       "      <td>1</td>\n",
       "    </tr>\n",
       "    <tr>\n",
       "      <th>95999</th>\n",
       "      <td>180</td>\n",
       "      <td>33</td>\n",
       "      <td>2</td>\n",
       "      <td>2</td>\n",
       "      <td>1</td>\n",
       "    </tr>\n",
       "    <tr>\n",
       "      <th>96000</th>\n",
       "      <td>445</td>\n",
       "      <td>751</td>\n",
       "      <td>3</td>\n",
       "      <td>1</td>\n",
       "      <td>1</td>\n",
       "    </tr>\n",
       "    <tr>\n",
       "      <th>96001</th>\n",
       "      <td>361</td>\n",
       "      <td>380</td>\n",
       "      <td>3</td>\n",
       "      <td>2</td>\n",
       "      <td>4</td>\n",
       "    </tr>\n",
       "  </tbody>\n",
       "</table>\n",
       "<p>96002 rows × 5 columns</p>\n",
       "</div>"
      ],
      "text/plain": [
       "       userId  itemId  daytime  weather  weekday\n",
       "0           0       0        1        1        1\n",
       "1           1       1        2        2        2\n",
       "2           2       2        3        2        3\n",
       "3           3       3        4        0        4\n",
       "4           4       4        5        1        4\n",
       "...       ...     ...      ...      ...      ...\n",
       "95997     109       0        3        1        1\n",
       "95998      37      16        4        2        1\n",
       "95999     180      33        2        2        1\n",
       "96000     445     751        3        1        1\n",
       "96001     361     380        3        2        4\n",
       "\n",
       "[96002 rows x 5 columns]"
      ]
     },
     "execution_count": 6,
     "metadata": {},
     "output_type": "execute_result"
    }
   ],
   "source": [
    "data = io.parse_interactions_with_context(INTERACTIONS, item_id=ITEM_ID, user_id=USER_ID)\n",
    "data.df"
   ]
  },
  {
   "cell_type": "markdown",
   "id": "4bef86fe",
   "metadata": {},
   "source": [
    "## Make train/val split for hyperparam tuning"
   ]
  },
  {
   "cell_type": "code",
   "execution_count": 7,
   "id": "95fe8671",
   "metadata": {},
   "outputs": [],
   "source": [
    "train, test = evaluation.splits.context_leave_one_out_split(data, seed=SEED)"
   ]
  },
  {
   "cell_type": "markdown",
   "id": "fc85ffb4",
   "metadata": {},
   "source": [
    "## Perform gridsearch on validation set"
   ]
  },
  {
   "cell_type": "code",
   "execution_count": 8,
   "id": "36a9347a",
   "metadata": {
    "scrolled": true
   },
   "outputs": [
    {
     "data": {
      "application/vnd.jupyter.widget-view+json": {
       "model_id": "3db03afdf51d42a38ff802d1c2ad02b7",
       "version_major": 2,
       "version_minor": 0
      },
      "text/plain": [
       "  0%|          | 0/32 [00:00<?, ?it/s]"
      ]
     },
     "metadata": {},
     "output_type": "display_data"
    },
    {
     "name": "stdout",
     "output_type": "stream",
     "text": [
      "Training model iTALSs with hyperparameters {'k': 80, 'l2': 1, 'v': 0, 'alpha': 1, 'max_iterations': 10, 'default_context_1': False}\n"
     ]
    },
    {
     "data": {
      "application/vnd.jupyter.widget-view+json": {
       "model_id": "60b4ce55b177465ea90622cfd000cf18",
       "version_major": 2,
       "version_minor": 0
      },
      "text/plain": [
       "  0%|          | 0/10 [00:00<?, ?it/s]"
      ]
     },
     "metadata": {},
     "output_type": "display_data"
    },
    {
     "name": "stdout",
     "output_type": "stream",
     "text": [
      "Evaluating with 816 users\n",
      "MRR@5 0.275\n",
      "MRR@20 0.293\n",
      "Average Recall@5 0.45\n",
      "Average Recall@20 0.612\n",
      "Training model iTALSs with hyperparameters {'k': 80, 'l2': 10, 'v': 0, 'alpha': 1, 'max_iterations': 10, 'default_context_1': False}\n"
     ]
    },
    {
     "data": {
      "application/vnd.jupyter.widget-view+json": {
       "model_id": "6dfc9730e58a4010999e0979157c11f4",
       "version_major": 2,
       "version_minor": 0
      },
      "text/plain": [
       "  0%|          | 0/10 [00:00<?, ?it/s]"
      ]
     },
     "metadata": {},
     "output_type": "display_data"
    },
    {
     "name": "stdout",
     "output_type": "stream",
     "text": [
      "Evaluating with 816 users\n",
      "MRR@5 0.261\n",
      "MRR@20 0.277\n",
      "Average Recall@5 0.436\n",
      "Average Recall@20 0.585\n",
      "Training model iTALSs with hyperparameters {'k': 80, 'l2': 100, 'v': 0, 'alpha': 1, 'max_iterations': 10, 'default_context_1': False}\n"
     ]
    },
    {
     "data": {
      "application/vnd.jupyter.widget-view+json": {
       "model_id": "b5b31f842f59433c925fed5f06dc4e10",
       "version_major": 2,
       "version_minor": 0
      },
      "text/plain": [
       "  0%|          | 0/10 [00:00<?, ?it/s]"
      ]
     },
     "metadata": {},
     "output_type": "display_data"
    },
    {
     "name": "stdout",
     "output_type": "stream",
     "text": [
      "Evaluating with 816 users\n",
      "MRR@5 0.0\n",
      "MRR@20 0.0\n",
      "Average Recall@5 0.0\n",
      "Average Recall@20 0.0\n",
      "Training model iTALSs with hyperparameters {'k': 80, 'l2': 200, 'v': 0, 'alpha': 1, 'max_iterations': 10, 'default_context_1': False}\n"
     ]
    },
    {
     "data": {
      "application/vnd.jupyter.widget-view+json": {
       "model_id": "3b492b954a0141dc8847854b1332080d",
       "version_major": 2,
       "version_minor": 0
      },
      "text/plain": [
       "  0%|          | 0/10 [00:00<?, ?it/s]"
      ]
     },
     "metadata": {},
     "output_type": "display_data"
    },
    {
     "name": "stdout",
     "output_type": "stream",
     "text": [
      "Evaluating with 816 users\n",
      "MRR@5 0.0\n",
      "MRR@20 0.0\n",
      "Average Recall@5 0.0\n",
      "Average Recall@20 0.0\n",
      "Training model iTALSs with hyperparameters {'k': 80, 'l2': 1, 'v': 0.25, 'alpha': 1, 'max_iterations': 10, 'default_context_1': False}\n"
     ]
    },
    {
     "data": {
      "application/vnd.jupyter.widget-view+json": {
       "model_id": "2ed16e77fb884d7392a3a6b2611cd57d",
       "version_major": 2,
       "version_minor": 0
      },
      "text/plain": [
       "  0%|          | 0/10 [00:00<?, ?it/s]"
      ]
     },
     "metadata": {},
     "output_type": "display_data"
    },
    {
     "name": "stdout",
     "output_type": "stream",
     "text": [
      "Evaluating with 816 users\n",
      "MRR@5 0.273\n",
      "MRR@20 0.292\n",
      "Average Recall@5 0.447\n",
      "Average Recall@20 0.61\n",
      "Training model iTALSs with hyperparameters {'k': 80, 'l2': 10, 'v': 0.25, 'alpha': 1, 'max_iterations': 10, 'default_context_1': False}\n"
     ]
    },
    {
     "data": {
      "application/vnd.jupyter.widget-view+json": {
       "model_id": "04f668fcb521472d96015d7ee36887bb",
       "version_major": 2,
       "version_minor": 0
      },
      "text/plain": [
       "  0%|          | 0/10 [00:00<?, ?it/s]"
      ]
     },
     "metadata": {},
     "output_type": "display_data"
    },
    {
     "name": "stdout",
     "output_type": "stream",
     "text": [
      "Evaluating with 816 users\n",
      "MRR@5 0.253\n",
      "MRR@20 0.271\n",
      "Average Recall@5 0.4\n",
      "Average Recall@20 0.567\n",
      "Training model iTALSs with hyperparameters {'k': 80, 'l2': 100, 'v': 0.25, 'alpha': 1, 'max_iterations': 10, 'default_context_1': False}\n"
     ]
    },
    {
     "data": {
      "application/vnd.jupyter.widget-view+json": {
       "model_id": "02c0bb38131940879a42ce3ed9335b60",
       "version_major": 2,
       "version_minor": 0
      },
      "text/plain": [
       "  0%|          | 0/10 [00:00<?, ?it/s]"
      ]
     },
     "metadata": {},
     "output_type": "display_data"
    },
    {
     "name": "stdout",
     "output_type": "stream",
     "text": [
      "Evaluating with 816 users\n",
      "MRR@5 0.0\n",
      "MRR@20 0.0\n",
      "Average Recall@5 0.0\n",
      "Average Recall@20 0.0\n",
      "Training model iTALSs with hyperparameters {'k': 80, 'l2': 200, 'v': 0.25, 'alpha': 1, 'max_iterations': 10, 'default_context_1': False}\n"
     ]
    },
    {
     "data": {
      "application/vnd.jupyter.widget-view+json": {
       "model_id": "96e54fcb9b464d4b9764fbe6e5f47ab6",
       "version_major": 2,
       "version_minor": 0
      },
      "text/plain": [
       "  0%|          | 0/10 [00:00<?, ?it/s]"
      ]
     },
     "metadata": {},
     "output_type": "display_data"
    },
    {
     "name": "stdout",
     "output_type": "stream",
     "text": [
      "Evaluating with 816 users\n",
      "MRR@5 0.0\n",
      "MRR@20 0.0\n",
      "Average Recall@5 0.0\n",
      "Average Recall@20 0.0\n",
      "Training model iTALSs with hyperparameters {'k': 80, 'l2': 1, 'v': 0, 'alpha': 10, 'max_iterations': 10, 'default_context_1': False}\n"
     ]
    },
    {
     "data": {
      "application/vnd.jupyter.widget-view+json": {
       "model_id": "00677015105f45a590c9e5d5c2a8b90c",
       "version_major": 2,
       "version_minor": 0
      },
      "text/plain": [
       "  0%|          | 0/10 [00:00<?, ?it/s]"
      ]
     },
     "metadata": {},
     "output_type": "display_data"
    },
    {
     "name": "stdout",
     "output_type": "stream",
     "text": [
      "Evaluating with 816 users\n",
      "MRR@5 0.283\n",
      "MRR@20 0.305\n",
      "Average Recall@5 0.471\n",
      "Average Recall@20 0.673\n",
      "Training model iTALSs with hyperparameters {'k': 80, 'l2': 10, 'v': 0, 'alpha': 10, 'max_iterations': 10, 'default_context_1': False}\n"
     ]
    },
    {
     "data": {
      "application/vnd.jupyter.widget-view+json": {
       "model_id": "e306361aa40a4e83ab2cd98ffe81e6ca",
       "version_major": 2,
       "version_minor": 0
      },
      "text/plain": [
       "  0%|          | 0/10 [00:00<?, ?it/s]"
      ]
     },
     "metadata": {},
     "output_type": "display_data"
    },
    {
     "name": "stdout",
     "output_type": "stream",
     "text": [
      "Evaluating with 816 users\n",
      "MRR@5 0.275\n",
      "MRR@20 0.298\n",
      "Average Recall@5 0.467\n",
      "Average Recall@20 0.669\n",
      "Training model iTALSs with hyperparameters {'k': 80, 'l2': 100, 'v': 0, 'alpha': 10, 'max_iterations': 10, 'default_context_1': False}\n"
     ]
    },
    {
     "data": {
      "application/vnd.jupyter.widget-view+json": {
       "model_id": "5d2fe25437204675a691a6f66485bfd1",
       "version_major": 2,
       "version_minor": 0
      },
      "text/plain": [
       "  0%|          | 0/10 [00:00<?, ?it/s]"
      ]
     },
     "metadata": {},
     "output_type": "display_data"
    },
    {
     "name": "stdout",
     "output_type": "stream",
     "text": [
      "Evaluating with 816 users\n",
      "MRR@5 0.185\n",
      "MRR@20 0.211\n",
      "Average Recall@5 0.32\n",
      "Average Recall@20 0.562\n",
      "Training model iTALSs with hyperparameters {'k': 80, 'l2': 200, 'v': 0, 'alpha': 10, 'max_iterations': 10, 'default_context_1': False}\n"
     ]
    },
    {
     "data": {
      "application/vnd.jupyter.widget-view+json": {
       "model_id": "9632bb5865ec473f8272c5ad35a9a706",
       "version_major": 2,
       "version_minor": 0
      },
      "text/plain": [
       "  0%|          | 0/10 [00:00<?, ?it/s]"
      ]
     },
     "metadata": {},
     "output_type": "display_data"
    },
    {
     "name": "stdout",
     "output_type": "stream",
     "text": [
      "Evaluating with 816 users\n",
      "MRR@5 0.117\n",
      "MRR@20 0.132\n",
      "Average Recall@5 0.257\n",
      "Average Recall@20 0.397\n",
      "Training model iTALSs with hyperparameters {'k': 80, 'l2': 1, 'v': 0.25, 'alpha': 10, 'max_iterations': 10, 'default_context_1': False}\n"
     ]
    },
    {
     "data": {
      "application/vnd.jupyter.widget-view+json": {
       "model_id": "ad804381bfb24880897fe4f08c4809d2",
       "version_major": 2,
       "version_minor": 0
      },
      "text/plain": [
       "  0%|          | 0/10 [00:00<?, ?it/s]"
      ]
     },
     "metadata": {},
     "output_type": "display_data"
    },
    {
     "name": "stdout",
     "output_type": "stream",
     "text": [
      "Evaluating with 816 users\n",
      "MRR@5 0.275\n",
      "MRR@20 0.296\n",
      "Average Recall@5 0.463\n",
      "Average Recall@20 0.659\n",
      "Training model iTALSs with hyperparameters {'k': 80, 'l2': 10, 'v': 0.25, 'alpha': 10, 'max_iterations': 10, 'default_context_1': False}\n"
     ]
    },
    {
     "data": {
      "application/vnd.jupyter.widget-view+json": {
       "model_id": "16cb5549562d4b0595d5e7bb82540bde",
       "version_major": 2,
       "version_minor": 0
      },
      "text/plain": [
       "  0%|          | 0/10 [00:00<?, ?it/s]"
      ]
     },
     "metadata": {},
     "output_type": "display_data"
    },
    {
     "name": "stdout",
     "output_type": "stream",
     "text": [
      "Evaluating with 816 users\n",
      "MRR@5 0.265\n",
      "MRR@20 0.287\n",
      "Average Recall@5 0.464\n",
      "Average Recall@20 0.661\n",
      "Training model iTALSs with hyperparameters {'k': 80, 'l2': 100, 'v': 0.25, 'alpha': 10, 'max_iterations': 10, 'default_context_1': False}\n"
     ]
    },
    {
     "data": {
      "application/vnd.jupyter.widget-view+json": {
       "model_id": "dd713360c36b47008f6011821d8f69d0",
       "version_major": 2,
       "version_minor": 0
      },
      "text/plain": [
       "  0%|          | 0/10 [00:00<?, ?it/s]"
      ]
     },
     "metadata": {},
     "output_type": "display_data"
    },
    {
     "name": "stdout",
     "output_type": "stream",
     "text": [
      "Evaluating with 816 users\n",
      "MRR@5 0.149\n",
      "MRR@20 0.17\n",
      "Average Recall@5 0.267\n",
      "Average Recall@20 0.482\n",
      "Training model iTALSs with hyperparameters {'k': 80, 'l2': 200, 'v': 0.25, 'alpha': 10, 'max_iterations': 10, 'default_context_1': False}\n"
     ]
    },
    {
     "data": {
      "application/vnd.jupyter.widget-view+json": {
       "model_id": "8958e152492b4152bd7432ece065ed24",
       "version_major": 2,
       "version_minor": 0
      },
      "text/plain": [
       "  0%|          | 0/10 [00:00<?, ?it/s]"
      ]
     },
     "metadata": {},
     "output_type": "display_data"
    },
    {
     "name": "stdout",
     "output_type": "stream",
     "text": [
      "Evaluating with 816 users\n",
      "MRR@5 0.0\n",
      "MRR@20 0.0\n",
      "Average Recall@5 0.0\n",
      "Average Recall@20 0.0\n",
      "Training model iTALSs with hyperparameters {'k': 80, 'l2': 1, 'v': 0, 'alpha': 100, 'max_iterations': 10, 'default_context_1': False}\n"
     ]
    },
    {
     "data": {
      "application/vnd.jupyter.widget-view+json": {
       "model_id": "458064aaf6b441f28983bb2c2c92d84d",
       "version_major": 2,
       "version_minor": 0
      },
      "text/plain": [
       "  0%|          | 0/10 [00:00<?, ?it/s]"
      ]
     },
     "metadata": {},
     "output_type": "display_data"
    },
    {
     "name": "stdout",
     "output_type": "stream",
     "text": [
      "Evaluating with 816 users\n",
      "MRR@5 0.239\n",
      "MRR@20 0.268\n",
      "Average Recall@5 0.442\n",
      "Average Recall@20 0.7\n",
      "Training model iTALSs with hyperparameters {'k': 80, 'l2': 10, 'v': 0, 'alpha': 100, 'max_iterations': 10, 'default_context_1': False}\n"
     ]
    },
    {
     "data": {
      "application/vnd.jupyter.widget-view+json": {
       "model_id": "cdf8604ea685435184cd48e97fd056b7",
       "version_major": 2,
       "version_minor": 0
      },
      "text/plain": [
       "  0%|          | 0/10 [00:00<?, ?it/s]"
      ]
     },
     "metadata": {},
     "output_type": "display_data"
    },
    {
     "name": "stdout",
     "output_type": "stream",
     "text": [
      "Evaluating with 816 users\n",
      "MRR@5 0.239\n",
      "MRR@20 0.268\n",
      "Average Recall@5 0.442\n",
      "Average Recall@20 0.694\n",
      "Training model iTALSs with hyperparameters {'k': 80, 'l2': 100, 'v': 0, 'alpha': 100, 'max_iterations': 10, 'default_context_1': False}\n"
     ]
    },
    {
     "data": {
      "application/vnd.jupyter.widget-view+json": {
       "model_id": "62dd9c0761504d6c8f6fd2984d06a68a",
       "version_major": 2,
       "version_minor": 0
      },
      "text/plain": [
       "  0%|          | 0/10 [00:00<?, ?it/s]"
      ]
     },
     "metadata": {},
     "output_type": "display_data"
    },
    {
     "name": "stdout",
     "output_type": "stream",
     "text": [
      "Evaluating with 816 users\n",
      "MRR@5 0.234\n",
      "MRR@20 0.263\n",
      "Average Recall@5 0.43\n",
      "Average Recall@20 0.691\n",
      "Training model iTALSs with hyperparameters {'k': 80, 'l2': 200, 'v': 0, 'alpha': 100, 'max_iterations': 10, 'default_context_1': False}\n"
     ]
    },
    {
     "data": {
      "application/vnd.jupyter.widget-view+json": {
       "model_id": "f0b853cddb3f41f8b1b68991e6dbc093",
       "version_major": 2,
       "version_minor": 0
      },
      "text/plain": [
       "  0%|          | 0/10 [00:00<?, ?it/s]"
      ]
     },
     "metadata": {},
     "output_type": "display_data"
    },
    {
     "name": "stdout",
     "output_type": "stream",
     "text": [
      "Evaluating with 816 users\n",
      "MRR@5 0.226\n",
      "MRR@20 0.254\n",
      "Average Recall@5 0.438\n",
      "Average Recall@20 0.701\n",
      "Training model iTALSs with hyperparameters {'k': 80, 'l2': 1, 'v': 0.25, 'alpha': 100, 'max_iterations': 10, 'default_context_1': False}\n"
     ]
    },
    {
     "data": {
      "application/vnd.jupyter.widget-view+json": {
       "model_id": "103ee8d149f848e08b4103e4548cdbcf",
       "version_major": 2,
       "version_minor": 0
      },
      "text/plain": [
       "  0%|          | 0/10 [00:00<?, ?it/s]"
      ]
     },
     "metadata": {},
     "output_type": "display_data"
    },
    {
     "name": "stdout",
     "output_type": "stream",
     "text": [
      "Evaluating with 816 users\n",
      "MRR@5 0.251\n",
      "MRR@20 0.277\n",
      "Average Recall@5 0.466\n",
      "Average Recall@20 0.692\n",
      "Training model iTALSs with hyperparameters {'k': 80, 'l2': 10, 'v': 0.25, 'alpha': 100, 'max_iterations': 10, 'default_context_1': False}\n"
     ]
    },
    {
     "data": {
      "application/vnd.jupyter.widget-view+json": {
       "model_id": "8c38c18896534b1b8c70a17d36ee3342",
       "version_major": 2,
       "version_minor": 0
      },
      "text/plain": [
       "  0%|          | 0/10 [00:00<?, ?it/s]"
      ]
     },
     "metadata": {},
     "output_type": "display_data"
    },
    {
     "name": "stdout",
     "output_type": "stream",
     "text": [
      "Evaluating with 816 users\n",
      "MRR@5 0.251\n",
      "MRR@20 0.277\n",
      "Average Recall@5 0.461\n",
      "Average Recall@20 0.702\n",
      "Training model iTALSs with hyperparameters {'k': 80, 'l2': 100, 'v': 0.25, 'alpha': 100, 'max_iterations': 10, 'default_context_1': False}\n"
     ]
    },
    {
     "data": {
      "application/vnd.jupyter.widget-view+json": {
       "model_id": "82eb6cda769e44239e8c7c046e1efc4a",
       "version_major": 2,
       "version_minor": 0
      },
      "text/plain": [
       "  0%|          | 0/10 [00:00<?, ?it/s]"
      ]
     },
     "metadata": {},
     "output_type": "display_data"
    },
    {
     "name": "stdout",
     "output_type": "stream",
     "text": [
      "Evaluating with 816 users\n",
      "MRR@5 0.241\n",
      "MRR@20 0.269\n",
      "Average Recall@5 0.44\n",
      "Average Recall@20 0.701\n",
      "Training model iTALSs with hyperparameters {'k': 80, 'l2': 200, 'v': 0.25, 'alpha': 100, 'max_iterations': 10, 'default_context_1': False}\n"
     ]
    },
    {
     "data": {
      "application/vnd.jupyter.widget-view+json": {
       "model_id": "6d2f34c26fe148c3ae4fc82343406613",
       "version_major": 2,
       "version_minor": 0
      },
      "text/plain": [
       "  0%|          | 0/10 [00:00<?, ?it/s]"
      ]
     },
     "metadata": {},
     "output_type": "display_data"
    },
    {
     "name": "stdout",
     "output_type": "stream",
     "text": [
      "Evaluating with 816 users\n",
      "MRR@5 0.172\n",
      "MRR@20 0.209\n",
      "Average Recall@5 0.33\n",
      "Average Recall@20 0.679\n",
      "Training model iTALSs with hyperparameters {'k': 80, 'l2': 1, 'v': 0, 'alpha': 200, 'max_iterations': 10, 'default_context_1': False}\n"
     ]
    },
    {
     "data": {
      "application/vnd.jupyter.widget-view+json": {
       "model_id": "32216e2f409a40e2a5cffedad56214a4",
       "version_major": 2,
       "version_minor": 0
      },
      "text/plain": [
       "  0%|          | 0/10 [00:00<?, ?it/s]"
      ]
     },
     "metadata": {},
     "output_type": "display_data"
    },
    {
     "name": "stdout",
     "output_type": "stream",
     "text": [
      "Evaluating with 816 users\n",
      "MRR@5 0.226\n",
      "MRR@20 0.257\n",
      "Average Recall@5 0.428\n",
      "Average Recall@20 0.707\n",
      "Training model iTALSs with hyperparameters {'k': 80, 'l2': 10, 'v': 0, 'alpha': 200, 'max_iterations': 10, 'default_context_1': False}\n"
     ]
    },
    {
     "data": {
      "application/vnd.jupyter.widget-view+json": {
       "model_id": "129d2b2ff7a141e285367e93c6fca26d",
       "version_major": 2,
       "version_minor": 0
      },
      "text/plain": [
       "  0%|          | 0/10 [00:00<?, ?it/s]"
      ]
     },
     "metadata": {},
     "output_type": "display_data"
    },
    {
     "name": "stdout",
     "output_type": "stream",
     "text": [
      "Evaluating with 816 users\n",
      "MRR@5 0.224\n",
      "MRR@20 0.256\n",
      "Average Recall@5 0.406\n",
      "Average Recall@20 0.694\n",
      "Training model iTALSs with hyperparameters {'k': 80, 'l2': 100, 'v': 0, 'alpha': 200, 'max_iterations': 10, 'default_context_1': False}\n"
     ]
    },
    {
     "data": {
      "application/vnd.jupyter.widget-view+json": {
       "model_id": "7533ec5bdd9a4a33bb82183fc9fa43df",
       "version_major": 2,
       "version_minor": 0
      },
      "text/plain": [
       "  0%|          | 0/10 [00:00<?, ?it/s]"
      ]
     },
     "metadata": {},
     "output_type": "display_data"
    },
    {
     "name": "stdout",
     "output_type": "stream",
     "text": [
      "Evaluating with 816 users\n",
      "MRR@5 0.217\n",
      "MRR@20 0.246\n",
      "Average Recall@5 0.414\n",
      "Average Recall@20 0.688\n",
      "Training model iTALSs with hyperparameters {'k': 80, 'l2': 200, 'v': 0, 'alpha': 200, 'max_iterations': 10, 'default_context_1': False}\n"
     ]
    },
    {
     "data": {
      "application/vnd.jupyter.widget-view+json": {
       "model_id": "dce1c52e216a4594a7a32469f2f5d6a8",
       "version_major": 2,
       "version_minor": 0
      },
      "text/plain": [
       "  0%|          | 0/10 [00:00<?, ?it/s]"
      ]
     },
     "metadata": {},
     "output_type": "display_data"
    },
    {
     "name": "stdout",
     "output_type": "stream",
     "text": [
      "Evaluating with 816 users\n",
      "MRR@5 0.211\n",
      "MRR@20 0.245\n",
      "Average Recall@5 0.396\n",
      "Average Recall@20 0.695\n",
      "Training model iTALSs with hyperparameters {'k': 80, 'l2': 1, 'v': 0.25, 'alpha': 200, 'max_iterations': 10, 'default_context_1': False}\n"
     ]
    },
    {
     "data": {
      "application/vnd.jupyter.widget-view+json": {
       "model_id": "fbba84fe1b26457f8273dd7646772a53",
       "version_major": 2,
       "version_minor": 0
      },
      "text/plain": [
       "  0%|          | 0/10 [00:00<?, ?it/s]"
      ]
     },
     "metadata": {},
     "output_type": "display_data"
    },
    {
     "name": "stdout",
     "output_type": "stream",
     "text": [
      "Evaluating with 816 users\n",
      "MRR@5 0.229\n",
      "MRR@20 0.258\n",
      "Average Recall@5 0.439\n",
      "Average Recall@20 0.688\n",
      "Training model iTALSs with hyperparameters {'k': 80, 'l2': 10, 'v': 0.25, 'alpha': 200, 'max_iterations': 10, 'default_context_1': False}\n"
     ]
    },
    {
     "data": {
      "application/vnd.jupyter.widget-view+json": {
       "model_id": "963acc4ea7fe485f80b7af99ce569c23",
       "version_major": 2,
       "version_minor": 0
      },
      "text/plain": [
       "  0%|          | 0/10 [00:00<?, ?it/s]"
      ]
     },
     "metadata": {},
     "output_type": "display_data"
    },
    {
     "name": "stdout",
     "output_type": "stream",
     "text": [
      "Evaluating with 816 users\n",
      "MRR@5 0.228\n",
      "MRR@20 0.258\n",
      "Average Recall@5 0.424\n",
      "Average Recall@20 0.705\n",
      "Training model iTALSs with hyperparameters {'k': 80, 'l2': 100, 'v': 0.25, 'alpha': 200, 'max_iterations': 10, 'default_context_1': False}\n"
     ]
    },
    {
     "data": {
      "application/vnd.jupyter.widget-view+json": {
       "model_id": "93602cecdbcc49b8a125e39c43eb1705",
       "version_major": 2,
       "version_minor": 0
      },
      "text/plain": [
       "  0%|          | 0/10 [00:00<?, ?it/s]"
      ]
     },
     "metadata": {},
     "output_type": "display_data"
    },
    {
     "name": "stdout",
     "output_type": "stream",
     "text": [
      "Evaluating with 816 users\n",
      "MRR@5 0.22\n",
      "MRR@20 0.252\n",
      "Average Recall@5 0.415\n",
      "Average Recall@20 0.694\n",
      "Training model iTALSs with hyperparameters {'k': 80, 'l2': 200, 'v': 0.25, 'alpha': 200, 'max_iterations': 10, 'default_context_1': False}\n"
     ]
    },
    {
     "data": {
      "application/vnd.jupyter.widget-view+json": {
       "model_id": "fe7a5c6f736e44ac9d4855bccd6d9e37",
       "version_major": 2,
       "version_minor": 0
      },
      "text/plain": [
       "  0%|          | 0/10 [00:00<?, ?it/s]"
      ]
     },
     "metadata": {},
     "output_type": "display_data"
    },
    {
     "name": "stdout",
     "output_type": "stream",
     "text": [
      "Evaluating with 816 users\n",
      "MRR@5 0.2\n",
      "MRR@20 0.233\n",
      "Average Recall@5 0.393\n",
      "Average Recall@20 0.692\n",
      "CPU times: user 3min 34s, sys: 44.9 s, total: 4min 19s\n",
      "Wall time: 10min 4s\n"
     ]
    },
    {
     "data": {
      "text/plain": [
       "\"Best score of 0.3046825172123957 achieved with {'k': 80, 'l2': 1, 'v': 0, 'alpha': 10, 'max_iterations': 10, 'default_context_1': False}.\""
      ]
     },
     "execution_count": 8,
     "metadata": {},
     "output_type": "execute_result"
    }
   ],
   "source": [
    "%%time\n",
    "score, best_hyperparams = evaluation.cars.gridsearch(ALG, train, test, HYPERPARAMS, retarget=RETARGET)\n",
    "f\"Best score of {score} achieved with {best_hyperparams}.\""
   ]
  },
  {
   "cell_type": "markdown",
   "id": "e89dad17",
   "metadata": {},
   "source": [
    "## Evaluate model with optimal hyperparams with KFolds Cross validation"
   ]
  },
  {
   "cell_type": "code",
   "execution_count": 9,
   "id": "81674e0b",
   "metadata": {
    "scrolled": true
   },
   "outputs": [
    {
     "data": {
      "application/vnd.jupyter.widget-view+json": {
       "model_id": "a86807bcbf904df180983d2c6035ade5",
       "version_major": 2,
       "version_minor": 0
      },
      "text/plain": [
       "  0%|          | 0/10 [00:00<?, ?it/s]"
      ]
     },
     "metadata": {},
     "output_type": "display_data"
    },
    {
     "name": "stdout",
     "output_type": "stream",
     "text": [
      "Evaluating with 816 users\n"
     ]
    },
    {
     "data": {
      "application/vnd.jupyter.widget-view+json": {
       "model_id": "f354f8e2afb643348539bc684a8fa6c2",
       "version_major": 2,
       "version_minor": 0
      },
      "text/plain": [
       "  0%|          | 0/10 [00:00<?, ?it/s]"
      ]
     },
     "metadata": {},
     "output_type": "display_data"
    },
    {
     "name": "stdout",
     "output_type": "stream",
     "text": [
      "Evaluating with 816 users\n"
     ]
    },
    {
     "data": {
      "application/vnd.jupyter.widget-view+json": {
       "model_id": "f30dc868199a433ab4e074e0065220c9",
       "version_major": 2,
       "version_minor": 0
      },
      "text/plain": [
       "  0%|          | 0/10 [00:00<?, ?it/s]"
      ]
     },
     "metadata": {},
     "output_type": "display_data"
    },
    {
     "name": "stdout",
     "output_type": "stream",
     "text": [
      "Evaluating with 816 users\n"
     ]
    },
    {
     "data": {
      "application/vnd.jupyter.widget-view+json": {
       "model_id": "fbe88db40fec45c28542d049b6aacd7b",
       "version_major": 2,
       "version_minor": 0
      },
      "text/plain": [
       "  0%|          | 0/10 [00:00<?, ?it/s]"
      ]
     },
     "metadata": {},
     "output_type": "display_data"
    },
    {
     "name": "stdout",
     "output_type": "stream",
     "text": [
      "Evaluating with 816 users\n"
     ]
    },
    {
     "data": {
      "application/vnd.jupyter.widget-view+json": {
       "model_id": "e8a3a8760d7b42bfb065d8a3cd5db8a3",
       "version_major": 2,
       "version_minor": 0
      },
      "text/plain": [
       "  0%|          | 0/10 [00:00<?, ?it/s]"
      ]
     },
     "metadata": {},
     "output_type": "display_data"
    },
    {
     "name": "stdout",
     "output_type": "stream",
     "text": [
      "Evaluating with 816 users\n",
      "MRR@5 0.276 (0.005)\n",
      "MRR@20 0.296 (0.004)\n",
      "Average Recall@5 0.456 (0.006)\n",
      "Average Recall@20 0.638 (0.008)\n",
      "CPU times: user 34.5 s, sys: 7.49 s, total: 42 s\n",
      "Wall time: 1min 37s\n"
     ]
    }
   ],
   "source": [
    "%%time\n",
    "alg = ALG(**best_hyperparams)\n",
    "results = evaluation.cars.contextKFoldsEval(alg, data, nr_folds=5, seed=SEED2, retarget=RETARGET)"
   ]
  }
 ],
 "metadata": {
  "kernelspec": {
   "display_name": "Python 3 (ipykernel)",
   "language": "python",
   "name": "python3"
  },
  "language_info": {
   "codemirror_mode": {
    "name": "ipython",
    "version": 3
   },
   "file_extension": ".py",
   "mimetype": "text/x-python",
   "name": "python",
   "nbconvert_exporter": "python",
   "pygments_lexer": "ipython3",
   "version": "3.10.6"
  }
 },
 "nbformat": 4,
 "nbformat_minor": 5
}
