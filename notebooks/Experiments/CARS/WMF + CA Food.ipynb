{
 "cells": [
  {
   "cell_type": "code",
   "execution_count": 1,
   "id": "9ef88bc4",
   "metadata": {},
   "outputs": [],
   "source": [
    "%load_ext autoreload\n",
    "%autoreload 2"
   ]
  },
  {
   "cell_type": "markdown",
   "id": "55bab0c8",
   "metadata": {},
   "source": [
    "# Experiments with WMF followed by context-aware model\n",
    "First learn user and item factors with WMF (optimal hyperparams known) then learn context factors with CA model."
   ]
  },
  {
   "cell_type": "code",
   "execution_count": 2,
   "id": "ec55d42c",
   "metadata": {},
   "outputs": [],
   "source": [
    "from pathlib import Path\n",
    "from functools import partial\n",
    "\n",
    "from tqdm.auto import tqdm\n",
    "\n",
    "import src.io as io\n",
    "import src.evaluation as evaluation\n",
    "import src.evaluation.splits\n",
    "import src.evaluation.cars\n",
    "\n",
    "from src.algorithm.baseline.wmf import WMF\n",
    "from src.algorithm.cars.itals import iTALS, iTALSs\n",
    "from src.algorithm.cars.wtf import WTF\n",
    "from src.algorithm.cars.italsx import iTALSx"
   ]
  },
  {
   "cell_type": "markdown",
   "id": "c469b253",
   "metadata": {},
   "source": [
    "## Datasets"
   ]
  },
  {
   "cell_type": "code",
   "execution_count": 3,
   "id": "e0622ed1",
   "metadata": {},
   "outputs": [],
   "source": [
    "DATA_DIR, RETARGET = Path('../../../data/CARS/Food_com/'), False"
   ]
  },
  {
   "cell_type": "code",
   "execution_count": 4,
   "id": "d53bce36",
   "metadata": {},
   "outputs": [],
   "source": [
    "# Shouldn't need to change this info\n",
    "INTERACTIONS = DATA_DIR / 'interactions.csv'\n",
    "\n",
    "SEED = 123456\n",
    "SEED2 = 78910\n",
    "\n",
    "ITEM_ID = 'item'\n",
    "USER_ID = 'user'\n",
    "\n",
    "MODELS = {\n",
    "    'iTALS one': partial(iTALS, default_context_1=True, max_iterations=3),\n",
    "    'iTALS': partial(iTALS, default_context_1=False, max_iterations=3),\n",
    "    'iTALSs one': partial(iTALSs, default_context_1=True),\n",
    "    'iTALSs': partial(iTALSs, default_context_1=False),\n",
    "    'WTF one': partial(WTF, default_context_1=True, max_cg_iter=10),\n",
    "    'WTF': partial(WTF, default_context_1=False, max_cg_iter=10),\n",
    "    'iTALSx': iTALSx\n",
    "}"
   ]
  },
  {
   "cell_type": "markdown",
   "id": "a31f2551",
   "metadata": {},
   "source": [
    "## Provider of WMF factors for all models"
   ]
  },
  {
   "cell_type": "code",
   "execution_count": 5,
   "id": "41634664",
   "metadata": {},
   "outputs": [],
   "source": [
    "K = 80\n",
    "WMF_MAX_IT = 10\n",
    "\n",
    "# depends on dataset\n",
    "WMF_L2 = 1000\n",
    "WMF_V = 0.25\n",
    "WMF_ALPHA = 200\n",
    "\n",
    "WMF_HYPERPARAMS = {'k': K, 'l2': WMF_L2, 'v': WMF_V, 'alpha': WMF_ALPHA, 'max_iterations': WMF_MAX_IT}"
   ]
  },
  {
   "cell_type": "code",
   "execution_count": 6,
   "id": "6c2bde24",
   "metadata": {},
   "outputs": [],
   "source": [
    "# map seed to learned factors\n",
    "userItemFactorCache = dict()\n",
    "def userItemFactorSupplier(data, seed):\n",
    "    if seed not in userItemFactorCache:\n",
    "        print(\"Computing factors WMF\")\n",
    "        wmf = WMF(**WMF_HYPERPARAMS)\n",
    "        wmf.fit(data.toCSR())\n",
    "        P, Q = wmf.getUserItemFactors()\n",
    "        userItemFactorCache[seed] = (P, Q)\n",
    "        \n",
    "    return userItemFactorCache[seed]"
   ]
  },
  {
   "cell_type": "markdown",
   "id": "48457625",
   "metadata": {},
   "source": [
    "## Define algorithm and hyperparameter ranges"
   ]
  },
  {
   "cell_type": "code",
   "execution_count": 7,
   "id": "11a5ac4c",
   "metadata": {},
   "outputs": [
    {
     "data": {
      "text/plain": [
       "{'k': 80,\n",
       " 'l2': [10, 100, 1000, 10000, 100000],\n",
       " 'v': [0, 0.25, 0.5, 0.75, 1],\n",
       " 'alpha': [10, 100, 1000, 10000]}"
      ]
     },
     "execution_count": 7,
     "metadata": {},
     "output_type": "execute_result"
    }
   ],
   "source": [
    "L2 = [10, 100, 1000, 10000, 100000]\n",
    "V = [0, 0.25, 0.5, 0.75, 1]\n",
    "ALPHA = [10, 100, 1000, 10000]\n",
    "\n",
    "\n",
    "HYPERPARAMS = {'k': K, 'l2': L2, 'v': V, 'alpha': ALPHA}\n",
    "HYPERPARAMS"
   ]
  },
  {
   "cell_type": "markdown",
   "id": "32d25f41",
   "metadata": {},
   "source": [
    "## Parse data"
   ]
  },
  {
   "cell_type": "code",
   "execution_count": 8,
   "id": "ce0d0435",
   "metadata": {},
   "outputs": [],
   "source": [
    "data = io.parse_interactions_with_context(INTERACTIONS, item_id=ITEM_ID, user_id=USER_ID)"
   ]
  },
  {
   "cell_type": "markdown",
   "id": "4bef86fe",
   "metadata": {},
   "source": [
    "## Make train/val split for hyperparam tuning"
   ]
  },
  {
   "cell_type": "code",
   "execution_count": 9,
   "id": "95fe8671",
   "metadata": {},
   "outputs": [],
   "source": [
    "train, test = evaluation.splits.context_leave_one_out_split(data, seed=SEED)"
   ]
  },
  {
   "cell_type": "markdown",
   "id": "fc85ffb4",
   "metadata": {},
   "source": [
    "## Perform gridsearch on validation set"
   ]
  },
  {
   "cell_type": "code",
   "execution_count": 10,
   "id": "d8d127c7",
   "metadata": {},
   "outputs": [
    {
     "name": "stdout",
     "output_type": "stream",
     "text": [
      "Computing factors WMF\n"
     ]
    },
    {
     "data": {
      "application/vnd.jupyter.widget-view+json": {
       "model_id": "3cdf4d532ee94fa3a25158145c38b96a",
       "version_major": 2,
       "version_minor": 0
      },
      "text/plain": [
       "  0%|          | 0/10 [00:00<?, ?it/s]"
      ]
     },
     "metadata": {},
     "output_type": "display_data"
    }
   ],
   "source": [
    "P, Q = userItemFactorSupplier(train, SEED)"
   ]
  },
  {
   "cell_type": "code",
   "execution_count": 11,
   "id": "36a9347a",
   "metadata": {
    "scrolled": true
   },
   "outputs": [
    {
     "data": {
      "application/vnd.jupyter.widget-view+json": {
       "model_id": "e959de39c78440279e8b54c0ed3f2008",
       "version_major": 2,
       "version_minor": 0
      },
      "text/plain": [
       "  0%|          | 0/7 [00:00<?, ?it/s]"
      ]
     },
     "metadata": {},
     "output_type": "display_data"
    },
    {
     "data": {
      "application/vnd.jupyter.widget-view+json": {
       "model_id": "1db49a4011fc4a33a280f2ec3799138b",
       "version_major": 2,
       "version_minor": 0
      },
      "text/plain": [
       "  0%|          | 0/100 [00:00<?, ?it/s]"
      ]
     },
     "metadata": {},
     "output_type": "display_data"
    },
    {
     "name": "stdout",
     "output_type": "stream",
     "text": [
      "Training model <src.algorithm.cars.itals.iTALS object at 0x7f5a9d404130> with hyperparameters {'k': 80, 'l2': 10, 'v': 0, 'alpha': 10}\n"
     ]
    },
    {
     "data": {
      "application/vnd.jupyter.widget-view+json": {
       "model_id": "3d14f4f7cded4c2e87acd144cf025590",
       "version_major": 2,
       "version_minor": 0
      },
      "text/plain": [
       "  0%|          | 0/3 [00:00<?, ?it/s]"
      ]
     },
     "metadata": {},
     "output_type": "display_data"
    },
    {
     "name": "stdout",
     "output_type": "stream",
     "text": [
      "Evaluating with 22178 users\n",
      "MRR@5 0.009\n",
      "MRR@20 0.012\n",
      "Average Recall@5 0.017\n",
      "Average Recall@20 0.046\n",
      "Training model <src.algorithm.cars.itals.iTALS object at 0x7f5a9d404f70> with hyperparameters {'k': 80, 'l2': 100, 'v': 0, 'alpha': 10}\n"
     ]
    },
    {
     "data": {
      "application/vnd.jupyter.widget-view+json": {
       "model_id": "d5849d241c2347209971d347ed89b4a5",
       "version_major": 2,
       "version_minor": 0
      },
      "text/plain": [
       "  0%|          | 0/3 [00:00<?, ?it/s]"
      ]
     },
     "metadata": {},
     "output_type": "display_data"
    },
    {
     "name": "stdout",
     "output_type": "stream",
     "text": [
      "Evaluating with 22178 users\n",
      "MRR@5 0.011\n",
      "MRR@20 0.013\n",
      "Average Recall@5 0.019\n",
      "Average Recall@20 0.044\n",
      "Training model <src.algorithm.cars.itals.iTALS object at 0x7f5a9d70c070> with hyperparameters {'k': 80, 'l2': 1000, 'v': 0, 'alpha': 10}\n"
     ]
    },
    {
     "data": {
      "application/vnd.jupyter.widget-view+json": {
       "model_id": "e7ce22170f0948dcb5067d340fdf68d8",
       "version_major": 2,
       "version_minor": 0
      },
      "text/plain": [
       "  0%|          | 0/3 [00:00<?, ?it/s]"
      ]
     },
     "metadata": {},
     "output_type": "display_data"
    },
    {
     "name": "stderr",
     "output_type": "stream",
     "text": [
      "\n",
      "KeyboardInterrupt\n",
      "\n"
     ]
    }
   ],
   "source": [
    "%%time\n",
    "modelHyperparams = dict()\n",
    "for modelName, Model in tqdm(MODELS.items()):\n",
    "    score, bestHyperparams = evaluation.cars.gridsearchSetFactors(Model, train, test, P, Q, HYPERPARAMS, retarget=RETARGET)\n",
    "    print(f\"Best score of {score} for model {modelName} achieved with {bestHyperparams}.\")\n",
    "    modelHyperparams[modelName] = bestHyperparams"
   ]
  },
  {
   "cell_type": "markdown",
   "id": "e89dad17",
   "metadata": {},
   "source": [
    "## Evaluate models with optimal hyperparams with KFolds Cross validation"
   ]
  },
  {
   "cell_type": "code",
   "execution_count": 12,
   "id": "81674e0b",
   "metadata": {
    "scrolled": true
   },
   "outputs": [
    {
     "name": "stdout",
     "output_type": "stream",
     "text": [
      "\n"
     ]
    },
    {
     "ename": "KeyError",
     "evalue": "'iTALS one'",
     "output_type": "error",
     "traceback": [
      "\u001b[0;31m---------------------------------------------------------------------------\u001b[0m",
      "\u001b[0;31mKeyError\u001b[0m                                  Traceback (most recent call last)",
      "File \u001b[0;32m<timed exec>:3\u001b[0m\n",
      "\u001b[0;31mKeyError\u001b[0m: 'iTALS one'"
     ]
    }
   ],
   "source": [
    "%%time\n",
    "\n",
    "for modelName, Model in MODELS.items():\n",
    "    print()\n",
    "    bestHyperparams = modelHyperparams[modelName]\n",
    "    alg = Model(**bestHyperparams)\n",
    "    results = evaluation.cars.contextKFoldsSetFactorsEval(alg, data, userItemFactorSupplier, nr_folds=5, seed=SEED2, retarget=RETARGET)\n",
    "    print(\"Model:\", modelName)\n",
    "    print(\"Hyperparams:\", bestHyperparams)\n",
    "    evaluation.cars.printKfoldsMetrics(results)"
   ]
  },
  {
   "cell_type": "code",
   "execution_count": null,
   "id": "b067907a",
   "metadata": {},
   "outputs": [],
   "source": []
  }
 ],
 "metadata": {
  "kernelspec": {
   "display_name": "Python 3 (ipykernel)",
   "language": "python",
   "name": "python3"
  },
  "language_info": {
   "codemirror_mode": {
    "name": "ipython",
    "version": 3
   },
   "file_extension": ".py",
   "mimetype": "text/x-python",
   "name": "python",
   "nbconvert_exporter": "python",
   "pygments_lexer": "ipython3",
   "version": "3.10.6"
  }
 },
 "nbformat": 4,
 "nbformat_minor": 5
}
