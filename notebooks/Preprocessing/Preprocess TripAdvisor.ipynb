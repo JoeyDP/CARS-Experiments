{
 "cells": [
  {
   "cell_type": "code",
   "execution_count": 1,
   "metadata": {},
   "outputs": [],
   "source": [
    "%load_ext autoreload\n",
    "%autoreload 2"
   ]
  },
  {
   "cell_type": "markdown",
   "metadata": {},
   "source": [
    "# TripAdvisor"
   ]
  },
  {
   "cell_type": "code",
   "execution_count": 2,
   "metadata": {},
   "outputs": [],
   "source": [
    "from pathlib import Path\n",
    "import json\n",
    "\n",
    "import pandas as pd\n",
    "import numpy as np\n",
    "import matplotlib.pyplot as plt\n",
    "import scipy\n",
    "import scipy.sparse\n",
    "\n",
    "import src.preprocessing.preprocessing as preprocessing\n",
    "import src.util as util\n",
    "import src.io as io"
   ]
  },
  {
   "cell_type": "code",
   "execution_count": 3,
   "metadata": {},
   "outputs": [],
   "source": [
    "# Configure parameters for processing dataset\n",
    "\n",
    "USER_ID = \"UserID\"\n",
    "ITEM_ID = \"ItemID\"\n",
    "RATING_ID = \"Rating\"\n",
    "\n",
    "MIN_RATING = 3\n",
    "MIN_ITEMS_PER_USER = 3\n",
    "MIN_USERS_PER_ITEM = 1\n",
    "\n",
    "BASE_PATH = Path('../../data/CARS/TripAdvisor/')\n",
    "INPUT_FILENAME = BASE_PATH / 'raw/TripAdvisor.csv'"
   ]
  },
  {
   "cell_type": "code",
   "execution_count": 4,
   "metadata": {},
   "outputs": [],
   "source": [
    "# These shouldn't be changed\n",
    "USER_ID_OUT = \"user\"\n",
    "ITEM_ID_OUT = \"item\""
   ]
  },
  {
   "cell_type": "code",
   "execution_count": 5,
   "metadata": {},
   "outputs": [
    {
     "data": {
      "text/html": [
       "<div>\n",
       "<style scoped>\n",
       "    .dataframe tbody tr th:only-of-type {\n",
       "        vertical-align: middle;\n",
       "    }\n",
       "\n",
       "    .dataframe tbody tr th {\n",
       "        vertical-align: top;\n",
       "    }\n",
       "\n",
       "    .dataframe thead th {\n",
       "        text-align: right;\n",
       "    }\n",
       "</style>\n",
       "<table border=\"1\" class=\"dataframe\">\n",
       "  <thead>\n",
       "    <tr style=\"text-align: right;\">\n",
       "      <th></th>\n",
       "      <th>UserID</th>\n",
       "      <th>ItemID</th>\n",
       "      <th>Rating</th>\n",
       "      <th>UserState</th>\n",
       "      <th>UserTimeZone</th>\n",
       "      <th>ItemCity</th>\n",
       "      <th>ItemState</th>\n",
       "      <th>ItemTimeZone</th>\n",
       "      <th>TripType</th>\n",
       "    </tr>\n",
       "  </thead>\n",
       "  <tbody>\n",
       "    <tr>\n",
       "      <th>0</th>\n",
       "      <td>5C28F393B23BB894523AE7126A7AE445</td>\n",
       "      <td>219668</td>\n",
       "      <td>5</td>\n",
       "      <td>AK</td>\n",
       "      <td>AK</td>\n",
       "      <td>GREENSBORO</td>\n",
       "      <td>NC</td>\n",
       "      <td>EASTERN</td>\n",
       "      <td>SOLO</td>\n",
       "    </tr>\n",
       "    <tr>\n",
       "      <th>1</th>\n",
       "      <td>3FA27F6E8AC712A82C69C4EDD8B912CC</td>\n",
       "      <td>223860</td>\n",
       "      <td>5</td>\n",
       "      <td>AK</td>\n",
       "      <td>AK</td>\n",
       "      <td>PHOENIX</td>\n",
       "      <td>AZ</td>\n",
       "      <td>MOUNTAIN</td>\n",
       "      <td>SOLO</td>\n",
       "    </tr>\n",
       "    <tr>\n",
       "      <th>2</th>\n",
       "      <td>B99CFBB5411EDC8881D13B7A4B313ADA</td>\n",
       "      <td>75680</td>\n",
       "      <td>5</td>\n",
       "      <td>AK</td>\n",
       "      <td>AK</td>\n",
       "      <td>ANAHEIM</td>\n",
       "      <td>CA</td>\n",
       "      <td>PACIFIC</td>\n",
       "      <td>FAMILY</td>\n",
       "    </tr>\n",
       "    <tr>\n",
       "      <th>3</th>\n",
       "      <td>3FA27F6E8AC712A82C69C4EDD8B912CC</td>\n",
       "      <td>224783</td>\n",
       "      <td>5</td>\n",
       "      <td>AK</td>\n",
       "      <td>AK</td>\n",
       "      <td>SEATTLE</td>\n",
       "      <td>WA</td>\n",
       "      <td>PACIFIC</td>\n",
       "      <td>SOLO</td>\n",
       "    </tr>\n",
       "    <tr>\n",
       "      <th>4</th>\n",
       "      <td>7CEFF5C32BA1F3B186E7838C7D3FE25E</td>\n",
       "      <td>222984</td>\n",
       "      <td>5</td>\n",
       "      <td>AK</td>\n",
       "      <td>AK</td>\n",
       "      <td>MIAMI</td>\n",
       "      <td>MI</td>\n",
       "      <td>EASTERN</td>\n",
       "      <td>COUPLES</td>\n",
       "    </tr>\n",
       "    <tr>\n",
       "      <th>...</th>\n",
       "      <td>...</td>\n",
       "      <td>...</td>\n",
       "      <td>...</td>\n",
       "      <td>...</td>\n",
       "      <td>...</td>\n",
       "      <td>...</td>\n",
       "      <td>...</td>\n",
       "      <td>...</td>\n",
       "      <td>...</td>\n",
       "    </tr>\n",
       "    <tr>\n",
       "      <th>14170</th>\n",
       "      <td>C91F0C89C6728994C901BD27C8AB41C5</td>\n",
       "      <td>85377</td>\n",
       "      <td>1</td>\n",
       "      <td>WA</td>\n",
       "      <td>PACIFIC</td>\n",
       "      <td>AURORA</td>\n",
       "      <td>CO</td>\n",
       "      <td>MOUNTAIN</td>\n",
       "      <td>SOLO</td>\n",
       "    </tr>\n",
       "    <tr>\n",
       "      <th>14171</th>\n",
       "      <td>23BF577E80F1020C8D2F62EF1C688D97</td>\n",
       "      <td>1200603</td>\n",
       "      <td>1</td>\n",
       "      <td>WI</td>\n",
       "      <td>CENTRAL</td>\n",
       "      <td>SEATTLE</td>\n",
       "      <td>WA</td>\n",
       "      <td>PACIFIC</td>\n",
       "      <td>SOLO</td>\n",
       "    </tr>\n",
       "    <tr>\n",
       "      <th>14172</th>\n",
       "      <td>7DA3B06F0778389371CB179A388D4CFE</td>\n",
       "      <td>72993</td>\n",
       "      <td>1</td>\n",
       "      <td>WI</td>\n",
       "      <td>CENTRAL</td>\n",
       "      <td>SALT LAKE CITY</td>\n",
       "      <td>UT</td>\n",
       "      <td>MOUNTAIN</td>\n",
       "      <td>FRIENDS</td>\n",
       "    </tr>\n",
       "    <tr>\n",
       "      <th>14173</th>\n",
       "      <td>01ED60735C3F50974C5F774A648FD8B7</td>\n",
       "      <td>1236714</td>\n",
       "      <td>1</td>\n",
       "      <td>WI</td>\n",
       "      <td>CENTRAL</td>\n",
       "      <td>CINCINNATI</td>\n",
       "      <td>OH</td>\n",
       "      <td>EASTERN</td>\n",
       "      <td>FAMILY</td>\n",
       "    </tr>\n",
       "    <tr>\n",
       "      <th>14174</th>\n",
       "      <td>1D9F982DCCCFC080D22F0CC445BD21E1</td>\n",
       "      <td>89361</td>\n",
       "      <td>1</td>\n",
       "      <td>WV</td>\n",
       "      <td>EASTERN</td>\n",
       "      <td>BALTIMORE</td>\n",
       "      <td>MD</td>\n",
       "      <td>EASTERN</td>\n",
       "      <td>BUSINESS</td>\n",
       "    </tr>\n",
       "  </tbody>\n",
       "</table>\n",
       "<p>14175 rows × 9 columns</p>\n",
       "</div>"
      ],
      "text/plain": [
       "                                 UserID   ItemID  Rating UserState  \\\n",
       "0      5C28F393B23BB894523AE7126A7AE445   219668       5        AK   \n",
       "1      3FA27F6E8AC712A82C69C4EDD8B912CC   223860       5        AK   \n",
       "2      B99CFBB5411EDC8881D13B7A4B313ADA    75680       5        AK   \n",
       "3      3FA27F6E8AC712A82C69C4EDD8B912CC   224783       5        AK   \n",
       "4      7CEFF5C32BA1F3B186E7838C7D3FE25E   222984       5        AK   \n",
       "...                                 ...      ...     ...       ...   \n",
       "14170  C91F0C89C6728994C901BD27C8AB41C5    85377       1        WA   \n",
       "14171  23BF577E80F1020C8D2F62EF1C688D97  1200603       1        WI   \n",
       "14172  7DA3B06F0778389371CB179A388D4CFE    72993       1        WI   \n",
       "14173  01ED60735C3F50974C5F774A648FD8B7  1236714       1        WI   \n",
       "14174  1D9F982DCCCFC080D22F0CC445BD21E1    89361       1        WV   \n",
       "\n",
       "      UserTimeZone        ItemCity ItemState ItemTimeZone  TripType  \n",
       "0               AK      GREENSBORO        NC      EASTERN      SOLO  \n",
       "1               AK         PHOENIX        AZ     MOUNTAIN      SOLO  \n",
       "2               AK         ANAHEIM        CA      PACIFIC    FAMILY  \n",
       "3               AK         SEATTLE        WA      PACIFIC      SOLO  \n",
       "4               AK           MIAMI        MI      EASTERN   COUPLES  \n",
       "...            ...             ...       ...          ...       ...  \n",
       "14170      PACIFIC          AURORA        CO     MOUNTAIN      SOLO  \n",
       "14171      CENTRAL         SEATTLE        WA      PACIFIC      SOLO  \n",
       "14172      CENTRAL  SALT LAKE CITY        UT     MOUNTAIN   FRIENDS  \n",
       "14173      CENTRAL      CINCINNATI        OH      EASTERN    FAMILY  \n",
       "14174      EASTERN       BALTIMORE        MD      EASTERN  BUSINESS  \n",
       "\n",
       "[14175 rows x 9 columns]"
      ]
     },
     "execution_count": 5,
     "metadata": {},
     "output_type": "execute_result"
    }
   ],
   "source": [
    "df = pd.read_csv(INPUT_FILENAME, sep=\",\")\n",
    "df"
   ]
  },
  {
   "cell_type": "code",
   "execution_count": 6,
   "metadata": {},
   "outputs": [
    {
     "data": {
      "text/html": [
       "<div>\n",
       "<style scoped>\n",
       "    .dataframe tbody tr th:only-of-type {\n",
       "        vertical-align: middle;\n",
       "    }\n",
       "\n",
       "    .dataframe tbody tr th {\n",
       "        vertical-align: top;\n",
       "    }\n",
       "\n",
       "    .dataframe thead th {\n",
       "        text-align: right;\n",
       "    }\n",
       "</style>\n",
       "<table border=\"1\" class=\"dataframe\">\n",
       "  <thead>\n",
       "    <tr style=\"text-align: right;\">\n",
       "      <th></th>\n",
       "      <th>UserID</th>\n",
       "      <th>ItemID</th>\n",
       "      <th>Rating</th>\n",
       "      <th>UserState</th>\n",
       "      <th>UserTimeZone</th>\n",
       "      <th>ItemCity</th>\n",
       "      <th>ItemState</th>\n",
       "      <th>ItemTimeZone</th>\n",
       "      <th>TripType</th>\n",
       "    </tr>\n",
       "  </thead>\n",
       "  <tbody>\n",
       "    <tr>\n",
       "      <th>0</th>\n",
       "      <td>5C28F393B23BB894523AE7126A7AE445</td>\n",
       "      <td>219668</td>\n",
       "      <td>5</td>\n",
       "      <td>AK</td>\n",
       "      <td>AK</td>\n",
       "      <td>GREENSBORO</td>\n",
       "      <td>NC</td>\n",
       "      <td>EASTERN</td>\n",
       "      <td>SOLO</td>\n",
       "    </tr>\n",
       "    <tr>\n",
       "      <th>1</th>\n",
       "      <td>3FA27F6E8AC712A82C69C4EDD8B912CC</td>\n",
       "      <td>223860</td>\n",
       "      <td>5</td>\n",
       "      <td>AK</td>\n",
       "      <td>AK</td>\n",
       "      <td>PHOENIX</td>\n",
       "      <td>AZ</td>\n",
       "      <td>MOUNTAIN</td>\n",
       "      <td>SOLO</td>\n",
       "    </tr>\n",
       "    <tr>\n",
       "      <th>2</th>\n",
       "      <td>B99CFBB5411EDC8881D13B7A4B313ADA</td>\n",
       "      <td>75680</td>\n",
       "      <td>5</td>\n",
       "      <td>AK</td>\n",
       "      <td>AK</td>\n",
       "      <td>ANAHEIM</td>\n",
       "      <td>CA</td>\n",
       "      <td>PACIFIC</td>\n",
       "      <td>FAMILY</td>\n",
       "    </tr>\n",
       "    <tr>\n",
       "      <th>3</th>\n",
       "      <td>3FA27F6E8AC712A82C69C4EDD8B912CC</td>\n",
       "      <td>224783</td>\n",
       "      <td>5</td>\n",
       "      <td>AK</td>\n",
       "      <td>AK</td>\n",
       "      <td>SEATTLE</td>\n",
       "      <td>WA</td>\n",
       "      <td>PACIFIC</td>\n",
       "      <td>SOLO</td>\n",
       "    </tr>\n",
       "    <tr>\n",
       "      <th>4</th>\n",
       "      <td>7CEFF5C32BA1F3B186E7838C7D3FE25E</td>\n",
       "      <td>222984</td>\n",
       "      <td>5</td>\n",
       "      <td>AK</td>\n",
       "      <td>AK</td>\n",
       "      <td>MIAMI</td>\n",
       "      <td>MI</td>\n",
       "      <td>EASTERN</td>\n",
       "      <td>COUPLES</td>\n",
       "    </tr>\n",
       "    <tr>\n",
       "      <th>...</th>\n",
       "      <td>...</td>\n",
       "      <td>...</td>\n",
       "      <td>...</td>\n",
       "      <td>...</td>\n",
       "      <td>...</td>\n",
       "      <td>...</td>\n",
       "      <td>...</td>\n",
       "      <td>...</td>\n",
       "      <td>...</td>\n",
       "    </tr>\n",
       "    <tr>\n",
       "      <th>13271</th>\n",
       "      <td>84CBA058D71F9F9741BE0E1A390D9C04</td>\n",
       "      <td>75097</td>\n",
       "      <td>3</td>\n",
       "      <td>WV</td>\n",
       "      <td>EASTERN</td>\n",
       "      <td>TEMPE</td>\n",
       "      <td>AZ</td>\n",
       "      <td>MOUNTAIN</td>\n",
       "      <td>COUPLES</td>\n",
       "    </tr>\n",
       "    <tr>\n",
       "      <th>13272</th>\n",
       "      <td>1D9F982DCCCFC080D22F0CC445BD21E1</td>\n",
       "      <td>260963</td>\n",
       "      <td>3</td>\n",
       "      <td>WV</td>\n",
       "      <td>EASTERN</td>\n",
       "      <td>VIRGINIABEACH</td>\n",
       "      <td>VA</td>\n",
       "      <td>EASTERN</td>\n",
       "      <td>COUPLES</td>\n",
       "    </tr>\n",
       "    <tr>\n",
       "      <th>13273</th>\n",
       "      <td>21442E7C01B7AE57B130B670565806EF</td>\n",
       "      <td>120100</td>\n",
       "      <td>3</td>\n",
       "      <td>WY</td>\n",
       "      <td>MOUNTAIN</td>\n",
       "      <td>CENTENNIAL</td>\n",
       "      <td>CO</td>\n",
       "      <td>MOUNTAIN</td>\n",
       "      <td>FAMILY</td>\n",
       "    </tr>\n",
       "    <tr>\n",
       "      <th>13274</th>\n",
       "      <td>399D9B03E2255EBEF6C1E457F1E3E881</td>\n",
       "      <td>1888977</td>\n",
       "      <td>3</td>\n",
       "      <td>WY</td>\n",
       "      <td>MOUNTAIN</td>\n",
       "      <td>NEWYORK</td>\n",
       "      <td>NY</td>\n",
       "      <td>EASTERN</td>\n",
       "      <td>FRIENDS</td>\n",
       "    </tr>\n",
       "    <tr>\n",
       "      <th>13275</th>\n",
       "      <td>21442E7C01B7AE57B130B670565806EF</td>\n",
       "      <td>83040</td>\n",
       "      <td>3</td>\n",
       "      <td>WY</td>\n",
       "      <td>MOUNTAIN</td>\n",
       "      <td>DENVER</td>\n",
       "      <td>CO</td>\n",
       "      <td>MOUNTAIN</td>\n",
       "      <td>FAMILY</td>\n",
       "    </tr>\n",
       "  </tbody>\n",
       "</table>\n",
       "<p>13276 rows × 9 columns</p>\n",
       "</div>"
      ],
      "text/plain": [
       "                                 UserID   ItemID  Rating UserState  \\\n",
       "0      5C28F393B23BB894523AE7126A7AE445   219668       5        AK   \n",
       "1      3FA27F6E8AC712A82C69C4EDD8B912CC   223860       5        AK   \n",
       "2      B99CFBB5411EDC8881D13B7A4B313ADA    75680       5        AK   \n",
       "3      3FA27F6E8AC712A82C69C4EDD8B912CC   224783       5        AK   \n",
       "4      7CEFF5C32BA1F3B186E7838C7D3FE25E   222984       5        AK   \n",
       "...                                 ...      ...     ...       ...   \n",
       "13271  84CBA058D71F9F9741BE0E1A390D9C04    75097       3        WV   \n",
       "13272  1D9F982DCCCFC080D22F0CC445BD21E1   260963       3        WV   \n",
       "13273  21442E7C01B7AE57B130B670565806EF   120100       3        WY   \n",
       "13274  399D9B03E2255EBEF6C1E457F1E3E881  1888977       3        WY   \n",
       "13275  21442E7C01B7AE57B130B670565806EF    83040       3        WY   \n",
       "\n",
       "      UserTimeZone       ItemCity ItemState ItemTimeZone TripType  \n",
       "0               AK     GREENSBORO        NC      EASTERN     SOLO  \n",
       "1               AK        PHOENIX        AZ     MOUNTAIN     SOLO  \n",
       "2               AK        ANAHEIM        CA      PACIFIC   FAMILY  \n",
       "3               AK        SEATTLE        WA      PACIFIC     SOLO  \n",
       "4               AK          MIAMI        MI      EASTERN  COUPLES  \n",
       "...            ...            ...       ...          ...      ...  \n",
       "13271      EASTERN          TEMPE        AZ     MOUNTAIN  COUPLES  \n",
       "13272      EASTERN  VIRGINIABEACH        VA      EASTERN  COUPLES  \n",
       "13273     MOUNTAIN     CENTENNIAL        CO     MOUNTAIN   FAMILY  \n",
       "13274     MOUNTAIN        NEWYORK        NY      EASTERN  FRIENDS  \n",
       "13275     MOUNTAIN         DENVER        CO     MOUNTAIN   FAMILY  \n",
       "\n",
       "[13276 rows x 9 columns]"
      ]
     },
     "execution_count": 6,
     "metadata": {},
     "output_type": "execute_result"
    }
   ],
   "source": [
    "df = df[df[RATING_ID] >= MIN_RATING]\n",
    "df"
   ]
  },
  {
   "cell_type": "code",
   "execution_count": 7,
   "metadata": {},
   "outputs": [
    {
     "data": {
      "text/plain": [
       "UserID          2371\n",
       "ItemID          2223\n",
       "Rating             3\n",
       "UserState         79\n",
       "UserTimeZone      35\n",
       "ItemCity         107\n",
       "ItemState         31\n",
       "ItemTimeZone       4\n",
       "TripType           5\n",
       "dtype: int64"
      ]
     },
     "execution_count": 7,
     "metadata": {},
     "output_type": "execute_result"
    }
   ],
   "source": [
    "df.nunique()"
   ]
  },
  {
   "cell_type": "code",
   "execution_count": 8,
   "metadata": {},
   "outputs": [
    {
     "data": {
      "text/plain": [
       "CA            0.132043\n",
       "TX            0.072462\n",
       "NY            0.057096\n",
       "FL            0.048132\n",
       "IL            0.040600\n",
       "                ...   \n",
       "SPAIN         0.000377\n",
       "VENEZUELA     0.000377\n",
       "VT            0.000377\n",
       "SWEDEN        0.000301\n",
       "HINTERLAND    0.000301\n",
       "Name: UserState, Length: 79, dtype: float64"
      ]
     },
     "execution_count": 8,
     "metadata": {},
     "output_type": "execute_result"
    }
   ],
   "source": [
    "df['UserState'].value_counts(normalize=True)"
   ]
  },
  {
   "cell_type": "code",
   "execution_count": 9,
   "metadata": {},
   "outputs": [
    {
     "data": {
      "text/plain": [
       "COUPLES     0.332103\n",
       "SOLO        0.211509\n",
       "FAMILY      0.206463\n",
       "BUSINESS    0.196897\n",
       "FRIENDS     0.053028\n",
       "Name: TripType, dtype: float64"
      ]
     },
     "execution_count": 9,
     "metadata": {},
     "output_type": "execute_result"
    }
   ],
   "source": [
    "df['TripType'].value_counts(normalize=True)"
   ]
  },
  {
   "cell_type": "code",
   "execution_count": 10,
   "metadata": {},
   "outputs": [
    {
     "name": "stderr",
     "output_type": "stream",
     "text": [
      "/tmp/ipykernel_20588/1142477217.py:3: SettingWithCopyWarning: \n",
      "A value is trying to be set on a copy of a slice from a DataFrame\n",
      "\n",
      "See the caveats in the documentation: https://pandas.pydata.org/pandas-docs/stable/user_guide/indexing.html#returning-a-view-versus-a-copy\n",
      "  df.drop(columns=dropColumns, inplace = True)\n"
     ]
    },
    {
     "data": {
      "text/html": [
       "<div>\n",
       "<style scoped>\n",
       "    .dataframe tbody tr th:only-of-type {\n",
       "        vertical-align: middle;\n",
       "    }\n",
       "\n",
       "    .dataframe tbody tr th {\n",
       "        vertical-align: top;\n",
       "    }\n",
       "\n",
       "    .dataframe thead th {\n",
       "        text-align: right;\n",
       "    }\n",
       "</style>\n",
       "<table border=\"1\" class=\"dataframe\">\n",
       "  <thead>\n",
       "    <tr style=\"text-align: right;\">\n",
       "      <th></th>\n",
       "      <th>UserID</th>\n",
       "      <th>ItemID</th>\n",
       "      <th>UserState</th>\n",
       "      <th>TripType</th>\n",
       "    </tr>\n",
       "  </thead>\n",
       "  <tbody>\n",
       "    <tr>\n",
       "      <th>0</th>\n",
       "      <td>5C28F393B23BB894523AE7126A7AE445</td>\n",
       "      <td>219668</td>\n",
       "      <td>AK</td>\n",
       "      <td>SOLO</td>\n",
       "    </tr>\n",
       "    <tr>\n",
       "      <th>1</th>\n",
       "      <td>3FA27F6E8AC712A82C69C4EDD8B912CC</td>\n",
       "      <td>223860</td>\n",
       "      <td>AK</td>\n",
       "      <td>SOLO</td>\n",
       "    </tr>\n",
       "    <tr>\n",
       "      <th>2</th>\n",
       "      <td>B99CFBB5411EDC8881D13B7A4B313ADA</td>\n",
       "      <td>75680</td>\n",
       "      <td>AK</td>\n",
       "      <td>FAMILY</td>\n",
       "    </tr>\n",
       "    <tr>\n",
       "      <th>3</th>\n",
       "      <td>3FA27F6E8AC712A82C69C4EDD8B912CC</td>\n",
       "      <td>224783</td>\n",
       "      <td>AK</td>\n",
       "      <td>SOLO</td>\n",
       "    </tr>\n",
       "    <tr>\n",
       "      <th>4</th>\n",
       "      <td>7CEFF5C32BA1F3B186E7838C7D3FE25E</td>\n",
       "      <td>222984</td>\n",
       "      <td>AK</td>\n",
       "      <td>COUPLES</td>\n",
       "    </tr>\n",
       "    <tr>\n",
       "      <th>...</th>\n",
       "      <td>...</td>\n",
       "      <td>...</td>\n",
       "      <td>...</td>\n",
       "      <td>...</td>\n",
       "    </tr>\n",
       "    <tr>\n",
       "      <th>13271</th>\n",
       "      <td>84CBA058D71F9F9741BE0E1A390D9C04</td>\n",
       "      <td>75097</td>\n",
       "      <td>WV</td>\n",
       "      <td>COUPLES</td>\n",
       "    </tr>\n",
       "    <tr>\n",
       "      <th>13272</th>\n",
       "      <td>1D9F982DCCCFC080D22F0CC445BD21E1</td>\n",
       "      <td>260963</td>\n",
       "      <td>WV</td>\n",
       "      <td>COUPLES</td>\n",
       "    </tr>\n",
       "    <tr>\n",
       "      <th>13273</th>\n",
       "      <td>21442E7C01B7AE57B130B670565806EF</td>\n",
       "      <td>120100</td>\n",
       "      <td>WY</td>\n",
       "      <td>FAMILY</td>\n",
       "    </tr>\n",
       "    <tr>\n",
       "      <th>13274</th>\n",
       "      <td>399D9B03E2255EBEF6C1E457F1E3E881</td>\n",
       "      <td>1888977</td>\n",
       "      <td>WY</td>\n",
       "      <td>FRIENDS</td>\n",
       "    </tr>\n",
       "    <tr>\n",
       "      <th>13275</th>\n",
       "      <td>21442E7C01B7AE57B130B670565806EF</td>\n",
       "      <td>83040</td>\n",
       "      <td>WY</td>\n",
       "      <td>FAMILY</td>\n",
       "    </tr>\n",
       "  </tbody>\n",
       "</table>\n",
       "<p>13276 rows × 4 columns</p>\n",
       "</div>"
      ],
      "text/plain": [
       "                                 UserID   ItemID UserState TripType\n",
       "0      5C28F393B23BB894523AE7126A7AE445   219668        AK     SOLO\n",
       "1      3FA27F6E8AC712A82C69C4EDD8B912CC   223860        AK     SOLO\n",
       "2      B99CFBB5411EDC8881D13B7A4B313ADA    75680        AK   FAMILY\n",
       "3      3FA27F6E8AC712A82C69C4EDD8B912CC   224783        AK     SOLO\n",
       "4      7CEFF5C32BA1F3B186E7838C7D3FE25E   222984        AK  COUPLES\n",
       "...                                 ...      ...       ...      ...\n",
       "13271  84CBA058D71F9F9741BE0E1A390D9C04    75097        WV  COUPLES\n",
       "13272  1D9F982DCCCFC080D22F0CC445BD21E1   260963        WV  COUPLES\n",
       "13273  21442E7C01B7AE57B130B670565806EF   120100        WY   FAMILY\n",
       "13274  399D9B03E2255EBEF6C1E457F1E3E881  1888977        WY  FRIENDS\n",
       "13275  21442E7C01B7AE57B130B670565806EF    83040        WY   FAMILY\n",
       "\n",
       "[13276 rows x 4 columns]"
      ]
     },
     "execution_count": 10,
     "metadata": {},
     "output_type": "execute_result"
    }
   ],
   "source": [
    "# only keep meaningful context\n",
    "dropColumns = [\"Rating\", \"ItemCity\", \"ItemState\", \"ItemTimeZone\", \"UserTimeZone\"]\n",
    "df.drop(columns=dropColumns, inplace = True)\n",
    "df"
   ]
  },
  {
   "cell_type": "markdown",
   "metadata": {},
   "source": [
    "Remove interactions with users or items that are not present enough in the dataset."
   ]
  },
  {
   "cell_type": "code",
   "execution_count": 11,
   "metadata": {},
   "outputs": [
    {
     "data": {
      "text/plain": [
       "(2362, 2221)"
      ]
     },
     "execution_count": 11,
     "metadata": {},
     "output_type": "execute_result"
    }
   ],
   "source": [
    "df = preprocessing.k_core(df, USER_ID, ITEM_ID, MIN_ITEMS_PER_USER, MIN_USERS_PER_ITEM)\n",
    "df[USER_ID].nunique(), df[ITEM_ID].nunique()"
   ]
  },
  {
   "cell_type": "code",
   "execution_count": 12,
   "metadata": {},
   "outputs": [
    {
     "data": {
      "text/html": [
       "<div>\n",
       "<style scoped>\n",
       "    .dataframe tbody tr th:only-of-type {\n",
       "        vertical-align: middle;\n",
       "    }\n",
       "\n",
       "    .dataframe tbody tr th {\n",
       "        vertical-align: top;\n",
       "    }\n",
       "\n",
       "    .dataframe thead th {\n",
       "        text-align: right;\n",
       "    }\n",
       "</style>\n",
       "<table border=\"1\" class=\"dataframe\">\n",
       "  <thead>\n",
       "    <tr style=\"text-align: right;\">\n",
       "      <th></th>\n",
       "      <th>UserID</th>\n",
       "      <th>ItemID</th>\n",
       "      <th>UserState</th>\n",
       "      <th>TripType</th>\n",
       "    </tr>\n",
       "  </thead>\n",
       "  <tbody>\n",
       "    <tr>\n",
       "      <th>0</th>\n",
       "      <td>1899</td>\n",
       "      <td>1865</td>\n",
       "      <td>AK</td>\n",
       "      <td>SOLO</td>\n",
       "    </tr>\n",
       "    <tr>\n",
       "      <th>1</th>\n",
       "      <td>466</td>\n",
       "      <td>721</td>\n",
       "      <td>AK</td>\n",
       "      <td>SOLO</td>\n",
       "    </tr>\n",
       "    <tr>\n",
       "      <th>2</th>\n",
       "      <td>1992</td>\n",
       "      <td>451</td>\n",
       "      <td>AK</td>\n",
       "      <td>FAMILY</td>\n",
       "    </tr>\n",
       "    <tr>\n",
       "      <th>3</th>\n",
       "      <td>466</td>\n",
       "      <td>1016</td>\n",
       "      <td>AK</td>\n",
       "      <td>SOLO</td>\n",
       "    </tr>\n",
       "    <tr>\n",
       "      <th>4</th>\n",
       "      <td>1441</td>\n",
       "      <td>414</td>\n",
       "      <td>AK</td>\n",
       "      <td>COUPLES</td>\n",
       "    </tr>\n",
       "    <tr>\n",
       "      <th>...</th>\n",
       "      <td>...</td>\n",
       "      <td>...</td>\n",
       "      <td>...</td>\n",
       "      <td>...</td>\n",
       "    </tr>\n",
       "    <tr>\n",
       "      <th>13271</th>\n",
       "      <td>936</td>\n",
       "      <td>341</td>\n",
       "      <td>WV</td>\n",
       "      <td>COUPLES</td>\n",
       "    </tr>\n",
       "    <tr>\n",
       "      <th>13272</th>\n",
       "      <td>1545</td>\n",
       "      <td>1936</td>\n",
       "      <td>WV</td>\n",
       "      <td>COUPLES</td>\n",
       "    </tr>\n",
       "    <tr>\n",
       "      <th>13273</th>\n",
       "      <td>399</td>\n",
       "      <td>1556</td>\n",
       "      <td>WY</td>\n",
       "      <td>FAMILY</td>\n",
       "    </tr>\n",
       "    <tr>\n",
       "      <th>13274</th>\n",
       "      <td>918</td>\n",
       "      <td>1380</td>\n",
       "      <td>WY</td>\n",
       "      <td>FRIENDS</td>\n",
       "    </tr>\n",
       "    <tr>\n",
       "      <th>13275</th>\n",
       "      <td>399</td>\n",
       "      <td>264</td>\n",
       "      <td>WY</td>\n",
       "      <td>FAMILY</td>\n",
       "    </tr>\n",
       "  </tbody>\n",
       "</table>\n",
       "<p>13258 rows × 4 columns</p>\n",
       "</div>"
      ],
      "text/plain": [
       "       UserID  ItemID UserState TripType\n",
       "0        1899    1865        AK     SOLO\n",
       "1         466     721        AK     SOLO\n",
       "2        1992     451        AK   FAMILY\n",
       "3         466    1016        AK     SOLO\n",
       "4        1441     414        AK  COUPLES\n",
       "...       ...     ...       ...      ...\n",
       "13271     936     341        WV  COUPLES\n",
       "13272    1545    1936        WV  COUPLES\n",
       "13273     399    1556        WY   FAMILY\n",
       "13274     918    1380        WY  FRIENDS\n",
       "13275     399     264        WY   FAMILY\n",
       "\n",
       "[13258 rows x 4 columns]"
      ]
     },
     "execution_count": 12,
     "metadata": {},
     "output_type": "execute_result"
    }
   ],
   "source": [
    "df, = util.remap_ids(df, col=ITEM_ID)\n",
    "df, = util.remap_ids(df, col=USER_ID)\n",
    "df"
   ]
  },
  {
   "cell_type": "markdown",
   "metadata": {},
   "source": [
    "## Non-frequent context values"
   ]
  },
  {
   "cell_type": "markdown",
   "metadata": {},
   "source": [
    "Some context values are not much present in the dataset, so we set them on unknown such that we do not use them in the model"
   ]
  },
  {
   "cell_type": "code",
   "execution_count": 13,
   "metadata": {},
   "outputs": [
    {
     "data": {
      "text/plain": [
       "CA            1753\n",
       "TX             962\n",
       "NY             758\n",
       "FL             637\n",
       "IL             539\n",
       "              ... \n",
       "SPAIN            5\n",
       "VENEZUELA        5\n",
       "VT               5\n",
       "SWEDEN           4\n",
       "HINTERLAND       4\n",
       "Name: UserState, Length: 79, dtype: int64"
      ]
     },
     "execution_count": 13,
     "metadata": {},
     "output_type": "execute_result"
    }
   ],
   "source": [
    "state_counts = df[\"UserState\"].value_counts()\n",
    "state_counts"
   ]
  },
  {
   "cell_type": "code",
   "execution_count": 14,
   "metadata": {
    "scrolled": true
   },
   "outputs": [],
   "source": [
    "# Dropping <= 50 leads to sparsity of:\n",
    "# UserState    0.053251\n",
    "\n",
    "# infrequent_states = state_counts[state_counts <= 50]\n",
    "# infrequent_states"
   ]
  },
  {
   "cell_type": "code",
   "execution_count": 15,
   "metadata": {
    "scrolled": true
   },
   "outputs": [],
   "source": [
    "# df.loc[df['UserState'].isin(infrequent_states.index), 'UserState'] = np.nan\n",
    "# df[\"UserState\"].value_counts()"
   ]
  },
  {
   "cell_type": "markdown",
   "metadata": {},
   "source": [
    "## Inspect duplicates"
   ]
  },
  {
   "cell_type": "markdown",
   "metadata": {},
   "source": [
    "### duplicates with same context"
   ]
  },
  {
   "cell_type": "code",
   "execution_count": 16,
   "metadata": {},
   "outputs": [
    {
     "data": {
      "text/plain": [
       "False    12975\n",
       "True       283\n",
       "dtype: int64"
      ]
     },
     "execution_count": 16,
     "metadata": {},
     "output_type": "execute_result"
    }
   ],
   "source": [
    "df.duplicated().value_counts()"
   ]
  },
  {
   "cell_type": "markdown",
   "metadata": {},
   "source": [
    "### duplicates of user-item interactions"
   ]
  },
  {
   "cell_type": "code",
   "execution_count": 17,
   "metadata": {},
   "outputs": [
    {
     "data": {
      "text/plain": [
       "False    12836\n",
       "True       422\n",
       "dtype: int64"
      ]
     },
     "execution_count": 17,
     "metadata": {},
     "output_type": "execute_result"
    }
   ],
   "source": [
    "df.duplicated([USER_ID, ITEM_ID]).value_counts()"
   ]
  },
  {
   "cell_type": "markdown",
   "metadata": {},
   "source": [
    "Very few duplicates -> drop them and don't consider retargetting."
   ]
  },
  {
   "cell_type": "code",
   "execution_count": 18,
   "metadata": {},
   "outputs": [
    {
     "data": {
      "text/plain": [
       "False    12836\n",
       "dtype: int64"
      ]
     },
     "execution_count": 18,
     "metadata": {},
     "output_type": "execute_result"
    }
   ],
   "source": [
    "df.drop_duplicates([USER_ID, ITEM_ID], inplace=True)\n",
    "df.duplicated([USER_ID, ITEM_ID]).value_counts()"
   ]
  },
  {
   "cell_type": "markdown",
   "metadata": {},
   "source": [
    "## Map to int\n",
    "In each column, each unique value gets a unique number. Unknown values get the value 0. We make per context a dictionary with as values each unique value in < colName > and keys the associated integer."
   ]
  },
  {
   "cell_type": "code",
   "execution_count": 19,
   "metadata": {},
   "outputs": [
    {
     "name": "stdout",
     "output_type": "stream",
     "text": [
      "UserState\n",
      "{\"1\": \"AK\", \"2\": \"AL\", \"3\": \"AR\", \"4\": \"ARGENTINA\", \"5\": \"AUSTRALIA\", \"6\": \"AUSTRIA\", \"7\": \"AZ\", \"8\": \"BRAZIL\", \"9\": \"BULGARIA\", \"10\": \"CA\", \"11\": \"CANADA\", \"12\": \"CHILE\", \"13\": \"CHINA\", \"14\": \"CO\", \"15\": \"CT\", \"16\": \"DC\", \"17\": \"DE\", \"18\": \"DENMARK\", \"19\": \"FL\", \"20\": \"FRANCE\", \"21\": \"GA\", \"22\": \"GERMANY\", \"23\": \"HI\", \"24\": \"HINTERLAND\", \"25\": \"IA\", \"26\": \"ID\", \"27\": \"IL\", \"28\": \"IN\", \"29\": \"INDIA\", \"30\": \"IRELAND\", \"31\": \"ISRAEL\", \"32\": \"ITALY\", \"33\": \"JAPAN\", \"34\": \"KS\", \"35\": \"KY\", \"36\": \"LA\", \"37\": \"MA\", \"38\": \"MD\", \"39\": \"ME\", \"40\": \"MEXICO\", \"41\": \"MI\", \"42\": \"MN\", \"43\": \"MO\", \"44\": \"MS\", \"45\": \"MT\", \"46\": \"NB\", \"47\": \"NC\", \"48\": \"NETHERLANDS\", \"49\": \"NEWZEALAND\", \"50\": \"NH\", \"51\": \"NJ\", \"52\": \"NM\", \"53\": \"NORWAY\", \"54\": \"NV\", \"55\": \"NW\", \"56\": \"NY\", \"57\": \"OH\", \"58\": \"OK\", \"59\": \"OR\", \"60\": \"PA\", \"61\": \"PR\", \"62\": \"RI\", \"63\": \"SC\", \"64\": \"SD\", \"65\": \"SINGAPORE\", \"66\": \"SPAIN\", \"67\": \"SWEDEN\", \"68\": \"SWITZERLAND\", \"69\": \"TN\", \"70\": \"TX\", \"71\": \"UK\", \"72\": \"UT\", \"73\": \"VA\", \"74\": \"VENEZUELA\", \"75\": \"VT\", \"76\": \"WA\", \"77\": \"WI\", \"78\": \"WV\", \"79\": \"WY\"}\n",
      "--------------------------\n",
      "TripType\n",
      "{\"1\": \"SOLO\", \"2\": \"FAMILY\", \"3\": \"COUPLES\", \"4\": \"BUSINESS\", \"5\": \"FRIENDS\"}\n",
      "--------------------------\n"
     ]
    },
    {
     "data": {
      "text/html": [
       "<div>\n",
       "<style scoped>\n",
       "    .dataframe tbody tr th:only-of-type {\n",
       "        vertical-align: middle;\n",
       "    }\n",
       "\n",
       "    .dataframe tbody tr th {\n",
       "        vertical-align: top;\n",
       "    }\n",
       "\n",
       "    .dataframe thead th {\n",
       "        text-align: right;\n",
       "    }\n",
       "</style>\n",
       "<table border=\"1\" class=\"dataframe\">\n",
       "  <thead>\n",
       "    <tr style=\"text-align: right;\">\n",
       "      <th></th>\n",
       "      <th>UserID</th>\n",
       "      <th>ItemID</th>\n",
       "      <th>UserState</th>\n",
       "      <th>TripType</th>\n",
       "    </tr>\n",
       "  </thead>\n",
       "  <tbody>\n",
       "    <tr>\n",
       "      <th>0</th>\n",
       "      <td>1899</td>\n",
       "      <td>1865</td>\n",
       "      <td>1</td>\n",
       "      <td>1</td>\n",
       "    </tr>\n",
       "    <tr>\n",
       "      <th>1</th>\n",
       "      <td>466</td>\n",
       "      <td>721</td>\n",
       "      <td>1</td>\n",
       "      <td>1</td>\n",
       "    </tr>\n",
       "    <tr>\n",
       "      <th>2</th>\n",
       "      <td>1992</td>\n",
       "      <td>451</td>\n",
       "      <td>1</td>\n",
       "      <td>2</td>\n",
       "    </tr>\n",
       "    <tr>\n",
       "      <th>3</th>\n",
       "      <td>466</td>\n",
       "      <td>1016</td>\n",
       "      <td>1</td>\n",
       "      <td>1</td>\n",
       "    </tr>\n",
       "    <tr>\n",
       "      <th>4</th>\n",
       "      <td>1441</td>\n",
       "      <td>414</td>\n",
       "      <td>1</td>\n",
       "      <td>3</td>\n",
       "    </tr>\n",
       "    <tr>\n",
       "      <th>...</th>\n",
       "      <td>...</td>\n",
       "      <td>...</td>\n",
       "      <td>...</td>\n",
       "      <td>...</td>\n",
       "    </tr>\n",
       "    <tr>\n",
       "      <th>13271</th>\n",
       "      <td>936</td>\n",
       "      <td>341</td>\n",
       "      <td>78</td>\n",
       "      <td>3</td>\n",
       "    </tr>\n",
       "    <tr>\n",
       "      <th>13272</th>\n",
       "      <td>1545</td>\n",
       "      <td>1936</td>\n",
       "      <td>78</td>\n",
       "      <td>3</td>\n",
       "    </tr>\n",
       "    <tr>\n",
       "      <th>13273</th>\n",
       "      <td>399</td>\n",
       "      <td>1556</td>\n",
       "      <td>79</td>\n",
       "      <td>2</td>\n",
       "    </tr>\n",
       "    <tr>\n",
       "      <th>13274</th>\n",
       "      <td>918</td>\n",
       "      <td>1380</td>\n",
       "      <td>79</td>\n",
       "      <td>5</td>\n",
       "    </tr>\n",
       "    <tr>\n",
       "      <th>13275</th>\n",
       "      <td>399</td>\n",
       "      <td>264</td>\n",
       "      <td>79</td>\n",
       "      <td>2</td>\n",
       "    </tr>\n",
       "  </tbody>\n",
       "</table>\n",
       "<p>12836 rows × 4 columns</p>\n",
       "</div>"
      ],
      "text/plain": [
       "       UserID  ItemID  UserState  TripType\n",
       "0        1899    1865          1         1\n",
       "1         466     721          1         1\n",
       "2        1992     451          1         2\n",
       "3         466    1016          1         1\n",
       "4        1441     414          1         3\n",
       "...       ...     ...        ...       ...\n",
       "13271     936     341         78         3\n",
       "13272    1545    1936         78         3\n",
       "13273     399    1556         79         2\n",
       "13274     918    1380         79         5\n",
       "13275     399     264         79         2\n",
       "\n",
       "[12836 rows x 4 columns]"
      ]
     },
     "execution_count": 19,
     "metadata": {},
     "output_type": "execute_result"
    }
   ],
   "source": [
    "for col in df.columns:\n",
    "    if col in {USER_ID, ITEM_ID}:\n",
    "        continue\n",
    "    df[col], uniques = pd.factorize(df[col], na_sentinel = -1 )\n",
    "    df[col] = df[col] + 1\n",
    "     \n",
    "    int2category_d = json.dumps({v+1: k for v, k in enumerate(uniques)})\n",
    "    # open file for writing, \"w\" \n",
    "    f = open(BASE_PATH / f\"int2category_{col}.json\",\"w\")\n",
    "\n",
    "    # write json object to file\n",
    "    f.write(int2category_d)\n",
    "\n",
    "    # close file\n",
    "    f.close()\n",
    "    \n",
    "    print(col)\n",
    "    print( int2category_d)\n",
    "    print( '--------------------------')\n",
    "df"
   ]
  },
  {
   "cell_type": "code",
   "execution_count": 20,
   "metadata": {},
   "outputs": [],
   "source": [
    "dfContext = df.loc[:, ~df.columns.isin([USER_ID, ITEM_ID])]\n",
    "nbrContextFeatures = dfContext.nunique()"
   ]
  },
  {
   "cell_type": "code",
   "execution_count": 21,
   "metadata": {},
   "outputs": [
    {
     "name": "stdout",
     "output_type": "stream",
     "text": [
      "Entries: 12836\n",
      "Users: 2362\n",
      "Items: 2221\n",
      "Context variables: 2\n",
      "Context features:\n",
      "UserState    79\n",
      "TripType      5\n",
      "dtype: int64\n"
     ]
    }
   ],
   "source": [
    "print(\"\\n\".join([\n",
    "    f\"Entries: {len(df)}\",\n",
    "    f\"Users: {df[USER_ID].nunique()}\",\n",
    "    f\"Items: {df[ITEM_ID].nunique()}\",\n",
    "    f\"Context variables: {len(df.columns)-2}\",\n",
    "    f\"Context features:\\n{nbrContextFeatures}\"\n",
    "]))"
   ]
  },
  {
   "cell_type": "markdown",
   "metadata": {},
   "source": [
    "## Sparsity pattern per context"
   ]
  },
  {
   "cell_type": "markdown",
   "metadata": {},
   "source": [
    "Check percentage of interactions with unknown context attribute per context"
   ]
  },
  {
   "cell_type": "code",
   "execution_count": 22,
   "metadata": {},
   "outputs": [
    {
     "data": {
      "text/plain": [
       "UserState    0.0\n",
       "TripType     0.0\n",
       "dtype: float64"
      ]
     },
     "execution_count": 22,
     "metadata": {},
     "output_type": "execute_result"
    }
   ],
   "source": [
    "dfContext.apply( lambda x: sum(x == 0)/len(x))"
   ]
  },
  {
   "cell_type": "markdown",
   "metadata": {},
   "source": [
    "## save dataframe"
   ]
  },
  {
   "cell_type": "code",
   "execution_count": 23,
   "metadata": {},
   "outputs": [],
   "source": [
    "df.rename(columns = {USER_ID: USER_ID_OUT, ITEM_ID: ITEM_ID_OUT}, inplace = True)\n",
    "df.to_csv( BASE_PATH / f\"interactions.csv\", index = False)"
   ]
  }
 ],
 "metadata": {
  "kernelspec": {
   "display_name": "Python 3 (ipykernel)",
   "language": "python",
   "name": "python3"
  },
  "language_info": {
   "codemirror_mode": {
    "name": "ipython",
    "version": 3
   },
   "file_extension": ".py",
   "mimetype": "text/x-python",
   "name": "python",
   "nbconvert_exporter": "python",
   "pygments_lexer": "ipython3",
   "version": "3.10.6"
  }
 },
 "nbformat": 4,
 "nbformat_minor": 1
}
